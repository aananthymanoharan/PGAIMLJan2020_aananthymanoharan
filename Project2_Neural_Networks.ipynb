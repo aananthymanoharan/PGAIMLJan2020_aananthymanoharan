{
 "cells": [
  {
   "cell_type": "code",
   "execution_count": null,
   "metadata": {
    "id": "lAdal2dPopyk"
   },
   "outputs": [],
   "source": [
    "# Initialize the random number generator\n",
    "import random\n",
    "random.seed(0)\n",
    "\n",
    "# Ignore the warnings\n",
    "import warnings\n",
    "warnings.filterwarnings(\"ignore\")"
   ]
  },
  {
   "cell_type": "code",
   "execution_count": null,
   "metadata": {
    "colab": {
     "base_uri": "https://localhost:8080/"
    },
    "id": "UKQxvBpuox0p",
    "outputId": "08d09f33-fe1a-48ca-9a92-dbf9bd728fb4"
   },
   "outputs": [
    {
     "name": "stdout",
     "output_type": "stream",
     "text": [
      "Drive already mounted at /content/drive/; to attempt to forcibly remount, call drive.mount(\"/content/drive/\", force_remount=True).\n"
     ]
    }
   ],
   "source": [
    "from google.colab import drive\n",
    "drive.mount('/content/drive/')"
   ]
  },
  {
   "cell_type": "code",
   "execution_count": null,
   "metadata": {
    "id": "0eHf3NxFnXC6"
   },
   "outputs": [],
   "source": [
    "#Opening the file as read only\n",
    "import h5py\n",
    "h5f=h5py.File('/content/drive/My Drive/Database/SVHN_single_grey1.h5','r')"
   ]
  },
  {
   "cell_type": "code",
   "execution_count": null,
   "metadata": {
    "colab": {
     "base_uri": "https://localhost:8080/"
    },
    "id": "zu3ohgRzoLeq",
    "outputId": "6235661b-2e3a-42dd-a9ec-05475a173225"
   },
   "outputs": [
    {
     "data": {
      "text/plain": [
       "<KeysViewHDF5 ['X_test', 'X_train', 'X_val', 'y_test', 'y_train', 'y_val']>"
      ]
     },
     "execution_count": 4,
     "metadata": {
      "tags": []
     },
     "output_type": "execute_result"
    }
   ],
   "source": [
    "h5f.keys()"
   ]
  },
  {
   "cell_type": "code",
   "execution_count": null,
   "metadata": {
    "id": "J9nxWFTa8wUI"
   },
   "outputs": [],
   "source": [
    "# Load the training, test and validation set\n",
    "\n",
    "X_train = h5f['X_train'][:]\n",
    "y_train = h5f['y_train'][:]\n",
    "X_test = h5f['X_test'][:]\n",
    "y_test = h5f['y_test'][:]"
   ]
  },
  {
   "cell_type": "code",
   "execution_count": null,
   "metadata": {
    "colab": {
     "base_uri": "https://localhost:8080/"
    },
    "id": "Z_sYPjWY86UH",
    "outputId": "8bd70dc0-58fe-47d4-cf0a-8a9be6731962"
   },
   "outputs": [
    {
     "data": {
      "text/plain": [
       "numpy.ndarray"
      ]
     },
     "execution_count": 6,
     "metadata": {
      "tags": []
     },
     "output_type": "execute_result"
    }
   ],
   "source": [
    "type(X_train)"
   ]
  },
  {
   "cell_type": "code",
   "execution_count": null,
   "metadata": {
    "colab": {
     "base_uri": "https://localhost:8080/"
    },
    "id": "MSlHNI1UTzcM",
    "outputId": "b898f7d2-deaa-4a84-d43a-7af21b2bd719"
   },
   "outputs": [
    {
     "data": {
      "text/plain": [
       "array([[[ 33.0704,  30.2601,  26.852 , ...,  71.4471,  58.2204,\n",
       "          42.9939],\n",
       "        [ 25.2283,  25.5533,  29.9765, ..., 113.0209, 103.3639,\n",
       "          84.2949],\n",
       "        [ 26.2775,  22.6137,  40.4763, ..., 113.3028, 121.775 ,\n",
       "         115.4228],\n",
       "        ...,\n",
       "        [ 28.5502,  36.212 ,  45.0801, ...,  24.1359,  25.0927,\n",
       "          26.0603],\n",
       "        [ 38.4352,  26.4733,  23.2717, ...,  28.1094,  29.4683,\n",
       "          30.0661],\n",
       "        [ 50.2984,  26.0773,  24.0389, ...,  49.6682,  50.853 ,\n",
       "          53.0377]],\n",
       "\n",
       "       [[ 86.9591,  87.0685,  88.3735, ...,  91.8014,  89.7477,\n",
       "          92.5302],\n",
       "        [ 86.688 ,  86.9114,  87.4337, ...,  90.7306,  87.204 ,\n",
       "          88.5629],\n",
       "        [ 85.9654,  85.8145,  85.9239, ...,  63.8626,  59.8199,\n",
       "          54.8805],\n",
       "        ...,\n",
       "        [ 90.2236,  91.0448,  93.4637, ...,  55.3535,  48.5822,\n",
       "          44.0557],\n",
       "        [ 90.6427,  90.4039,  90.937 , ...,  78.2696,  77.4977,\n",
       "          74.27  ],\n",
       "        [ 88.0236,  88.1977,  86.6709, ...,  75.2206,  76.6396,\n",
       "          79.2865]],\n",
       "\n",
       "       [[123.125 , 125.8581, 122.0757, ..., 123.5747, 124.1186,\n",
       "         123.3144],\n",
       "        [121.1683, 124.1294, 117.4613, ..., 115.6078, 119.5751,\n",
       "         122.8306],\n",
       "        [124.6132, 121.1019, 109.6623, ..., 111.1783, 119.7923,\n",
       "         124.7595],\n",
       "        ...,\n",
       "        [135.1391, 127.3679, 117.754 , ...,  95.0919, 105.5917,\n",
       "         114.9283],\n",
       "        [134.8402, 131.9545, 124.0415, ...,  93.864 , 105.3036,\n",
       "         115.1132],\n",
       "        [134.8402, 132.0685, 128.34  , ...,  93.9349, 104.7875,\n",
       "         113.8252]],\n",
       "\n",
       "       ...,\n",
       "\n",
       "       [[154.094 , 155.8057, 156.8164, ..., 138.9322, 136.1605,\n",
       "         133.0468],\n",
       "        [145.725 , 147.4367, 150.0343, ..., 145.4477, 140.9751,\n",
       "         136.9647],\n",
       "        [144.9531, 144.8391, 143.85  , ..., 143.263 , 143.263 ,\n",
       "         146.4799],\n",
       "        ...,\n",
       "        [150.2237, 150.8107, 150.1097, ...,  96.8207,  96.9239,\n",
       "          97.2228],\n",
       "        [151.6365, 152.2235, 151.1096, ..., 120.8892, 121.8891,\n",
       "         123.1771],\n",
       "        [146.5769, 147.9358, 147.9358, ..., 135.1328, 136.6596,\n",
       "         137.6595]],\n",
       "\n",
       "       [[207.4954, 208.4953, 213.0218, ..., 210.1361, 208.4244,\n",
       "         203.4357],\n",
       "        [204.4957, 207.6094, 213.6088, ..., 209.4243, 207.8374,\n",
       "         202.5498],\n",
       "        [204.3216, 208.3212, 212.9078, ..., 209.0222, 207.1364,\n",
       "         201.4359],\n",
       "        ...,\n",
       "        [199.1372, 202.083 , 207.4523, ..., 212.8477, 211.8478,\n",
       "         209.5491],\n",
       "        [201.137 , 201.61  , 205.2676, ..., 213.9616, 213.5487,\n",
       "         209.1362],\n",
       "        [202.9088, 202.9088, 206.9084, ..., 214.1357, 212.1359,\n",
       "         209.1362]],\n",
       "\n",
       "       [[ 95.0784,  96.0783, 100.0779, ..., 122.7551, 122.8691,\n",
       "         122.8691],\n",
       "        [ 95.0784,  96.0783, 100.0779, ..., 122.8691, 122.9831,\n",
       "         122.9831],\n",
       "        [ 95.0784,  96.0783, 101.0778, ..., 126.5698, 126.9827,\n",
       "         126.9827],\n",
       "        ...,\n",
       "        [ 98.833 ,  99.8329, 103.8325, ..., 129.8962, 131.896 ,\n",
       "         131.896 ],\n",
       "        [ 98.833 ,  99.8329, 103.8325, ..., 136.0805, 138.1943,\n",
       "         138.1943],\n",
       "        [ 98.833 ,  99.8329, 103.8325, ..., 138.0803, 140.493 ,\n",
       "         140.493 ]]], dtype=float32)"
      ]
     },
     "execution_count": 7,
     "metadata": {
      "tags": []
     },
     "output_type": "execute_result"
    }
   ],
   "source": [
    "X_train"
   ]
  },
  {
   "cell_type": "code",
   "execution_count": null,
   "metadata": {
    "colab": {
     "base_uri": "https://localhost:8080/"
    },
    "id": "VQWx_aB3-WLQ",
    "outputId": "2c87f03c-5827-4ec2-a540-2750be98bee1"
   },
   "outputs": [
    {
     "data": {
      "text/plain": [
       "(42000, 32, 32)"
      ]
     },
     "execution_count": 8,
     "metadata": {
      "tags": []
     },
     "output_type": "execute_result"
    }
   ],
   "source": [
    "X_train.shape"
   ]
  },
  {
   "cell_type": "code",
   "execution_count": null,
   "metadata": {
    "colab": {
     "base_uri": "https://localhost:8080/"
    },
    "id": "-uH1sVoRUlnD",
    "outputId": "67cb0acd-3289-4c57-e000-02c1be28765c"
   },
   "outputs": [
    {
     "data": {
      "text/plain": [
       "(18000, 32, 32)"
      ]
     },
     "execution_count": 9,
     "metadata": {
      "tags": []
     },
     "output_type": "execute_result"
    }
   ],
   "source": [
    "X_test.shape"
   ]
  },
  {
   "cell_type": "markdown",
   "metadata": {
    "id": "2llA4rDeU4BM"
   },
   "source": [
    "We see the train test split is in 70:30 ratio. Out of the 60000 records, 70%(42000 records) of the data is given for training and remaining 30% (18000 records) contribute test set"
   ]
  },
  {
   "cell_type": "code",
   "execution_count": null,
   "metadata": {
    "colab": {
     "base_uri": "https://localhost:8080/"
    },
    "id": "Rqp_yjDE9u7o",
    "outputId": "19052de0-0096-481c-c2c5-4bf64665c334"
   },
   "outputs": [
    {
     "data": {
      "text/plain": [
       "numpy.ndarray"
      ]
     },
     "execution_count": 10,
     "metadata": {
      "tags": []
     },
     "output_type": "execute_result"
    }
   ],
   "source": [
    "type(y_train)"
   ]
  },
  {
   "cell_type": "code",
   "execution_count": null,
   "metadata": {
    "colab": {
     "base_uri": "https://localhost:8080/"
    },
    "id": "NJsFq8uxTBUk",
    "outputId": "1a786ce7-5ad3-43a7-d64b-5f5a4b5bdd9f"
   },
   "outputs": [
    {
     "data": {
      "text/plain": [
       "array([2, 6, 7, ..., 7, 0, 4], dtype=uint8)"
      ]
     },
     "execution_count": 11,
     "metadata": {
      "tags": []
     },
     "output_type": "execute_result"
    }
   ],
   "source": [
    "y_train"
   ]
  },
  {
   "cell_type": "code",
   "execution_count": null,
   "metadata": {
    "colab": {
     "base_uri": "https://localhost:8080/"
    },
    "id": "pJqtVezBTZEX",
    "outputId": "a67fc697-2b58-41b9-f62f-40242959de9b"
   },
   "outputs": [
    {
     "data": {
      "text/plain": [
       "array([0, 1, 2, 3, 4, 5, 6, 7, 8, 9], dtype=uint8)"
      ]
     },
     "execution_count": 12,
     "metadata": {
      "tags": []
     },
     "output_type": "execute_result"
    }
   ],
   "source": [
    "import numpy as np\n",
    "np.unique(y_train, return_index=False, return_inverse=False, return_counts=False, axis=None)"
   ]
  },
  {
   "cell_type": "markdown",
   "metadata": {
    "id": "Djh1GDlhgrvT"
   },
   "source": [
    "Labels denote the digits 1 to 10, For example Label '2' for digit 2 and '10' for digit 0. and hence has 10 classes. The features include the values of 32-by-32 images centered for each single character in the labels(0,1,2,3,4,5,6,7,8,9)"
   ]
  },
  {
   "cell_type": "code",
   "execution_count": null,
   "metadata": {
    "colab": {
     "base_uri": "https://localhost:8080/"
    },
    "id": "S-luzY4FTlVd",
    "outputId": "7a6cf908-115b-4eb9-e9e8-7fff8320c390"
   },
   "outputs": [
    {
     "data": {
      "text/plain": [
       "array([0, 1, 2, 3, 4, 5, 6, 7, 8, 9], dtype=uint8)"
      ]
     },
     "execution_count": 13,
     "metadata": {
      "tags": []
     },
     "output_type": "execute_result"
    }
   ],
   "source": [
    "np.unique(y_test, return_index=False, return_inverse=False, return_counts=False, axis=None)"
   ]
  },
  {
   "cell_type": "code",
   "execution_count": null,
   "metadata": {
    "colab": {
     "base_uri": "https://localhost:8080/"
    },
    "id": "KUmnQYD391ng",
    "outputId": "f292384c-fd2a-47c0-c511-71813e15b14e"
   },
   "outputs": [
    {
     "data": {
      "text/plain": [
       "numpy.ndarray"
      ]
     },
     "execution_count": 14,
     "metadata": {
      "tags": []
     },
     "output_type": "execute_result"
    }
   ],
   "source": [
    "type(X_test)"
   ]
  },
  {
   "cell_type": "code",
   "execution_count": null,
   "metadata": {
    "colab": {
     "base_uri": "https://localhost:8080/"
    },
    "id": "9954tg2a93aP",
    "outputId": "278565fb-5e63-4b1c-9a37-d40ac5c27e73"
   },
   "outputs": [
    {
     "data": {
      "text/plain": [
       "numpy.ndarray"
      ]
     },
     "execution_count": 15,
     "metadata": {
      "tags": []
     },
     "output_type": "execute_result"
    }
   ],
   "source": [
    "type(y_test)"
   ]
  },
  {
   "cell_type": "code",
   "execution_count": null,
   "metadata": {
    "id": "jC68B6DK97y3"
   },
   "outputs": [],
   "source": [
    "# Reshape and normalize the input data\n",
    "import tensorflow as tf\n",
    "model = tf.keras.models.Sequential()\n",
    "model.add(tf.keras.layers.Reshape((1024,),input_shape=(32,32)))\n",
    "model.add(tf.keras.layers.BatchNormalization())"
   ]
  },
  {
   "cell_type": "code",
   "execution_count": null,
   "metadata": {
    "id": "_yDBaShJ-d0h"
   },
   "outputs": [],
   "source": [
    "#One hot encoding the labels for train and test data\n",
    "# Since there are 10 numbers in the labels(0 to 9), we give the number of classes as 10\n",
    "y_train = tf.keras.utils.to_categorical(y_train,num_classes=10)\n",
    "y_test = tf.keras.utils.to_categorical(y_test,num_classes=10)"
   ]
  },
  {
   "cell_type": "code",
   "execution_count": null,
   "metadata": {
    "id": "CRFn9dcXMya8"
   },
   "outputs": [],
   "source": [
    "#Flattening following by addition of Dense layers(Relu and Softmax)\n",
    "model.add(tf.keras.layers.Flatten())\n",
    "model.add(tf.keras.layers.Dense(200, activation='relu'))\n",
    "model.add(tf.keras.layers.Dense(10, activation='softmax'))"
   ]
  },
  {
   "cell_type": "code",
   "execution_count": null,
   "metadata": {
    "id": "5X18dCBROuAd"
   },
   "outputs": [],
   "source": [
    "#Compiling the model with loss as Categorical Cross Entropy and Adam optimizers\n",
    "model.compile(optimizer='adam',loss='categorical_crossentropy',metrics=['accuracy'])"
   ]
  },
  {
   "cell_type": "code",
   "execution_count": null,
   "metadata": {
    "colab": {
     "base_uri": "https://localhost:8080/"
    },
    "id": "nRv0JjrPPMTY",
    "outputId": "7e6c2d8d-095f-4d9c-c273-a6c5c7471c11"
   },
   "outputs": [
    {
     "name": "stdout",
     "output_type": "stream",
     "text": [
      "Epoch 1/10\n",
      "1400/1400 [==============================] - 6s 4ms/step - loss: 0.6192 - accuracy: 0.8104 - val_loss: 0.6123 - val_accuracy: 0.8337\n",
      "Epoch 2/10\n",
      "1400/1400 [==============================] - 7s 5ms/step - loss: 0.5986 - accuracy: 0.8173 - val_loss: 0.6163 - val_accuracy: 0.8324\n",
      "Epoch 3/10\n",
      "1400/1400 [==============================] - 7s 5ms/step - loss: 0.5830 - accuracy: 0.8221 - val_loss: 0.5888 - val_accuracy: 0.8415\n",
      "Epoch 4/10\n",
      "1400/1400 [==============================] - 7s 5ms/step - loss: 0.5678 - accuracy: 0.8280 - val_loss: 0.6105 - val_accuracy: 0.8379\n",
      "Epoch 5/10\n",
      "1400/1400 [==============================] - 7s 5ms/step - loss: 0.5596 - accuracy: 0.8297 - val_loss: 0.5788 - val_accuracy: 0.8476\n",
      "Epoch 6/10\n",
      "1400/1400 [==============================] - 6s 4ms/step - loss: 0.5472 - accuracy: 0.8347 - val_loss: 0.5703 - val_accuracy: 0.8480\n",
      "Epoch 7/10\n",
      "1400/1400 [==============================] - 6s 5ms/step - loss: 0.5398 - accuracy: 0.8354 - val_loss: 0.6131 - val_accuracy: 0.8382\n",
      "Epoch 8/10\n",
      "1400/1400 [==============================] - 7s 5ms/step - loss: 0.5304 - accuracy: 0.8356 - val_loss: 0.5742 - val_accuracy: 0.8531\n",
      "Epoch 9/10\n",
      "1400/1400 [==============================] - 7s 5ms/step - loss: 0.5294 - accuracy: 0.8364 - val_loss: 0.6038 - val_accuracy: 0.8437\n",
      "Epoch 10/10\n",
      "1400/1400 [==============================] - 7s 5ms/step - loss: 0.5182 - accuracy: 0.8429 - val_loss: 0.6051 - val_accuracy: 0.8446\n"
     ]
    },
    {
     "data": {
      "text/plain": [
       "<tensorflow.python.keras.callbacks.History at 0x7f3c01ac8518>"
      ]
     },
     "execution_count": 28,
     "metadata": {
      "tags": []
     },
     "output_type": "execute_result"
    }
   ],
   "source": [
    "#Fitting the model\n",
    "model.fit(X_train, y_train, validation_data=(X_test,y_test),epochs=10,batch_size=30)"
   ]
  },
  {
   "cell_type": "code",
   "execution_count": null,
   "metadata": {
    "colab": {
     "base_uri": "https://localhost:8080/"
    },
    "id": "ZpyHnwpfPR0J",
    "outputId": "e45ab89f-f195-436b-cebb-a9d966272315"
   },
   "outputs": [
    {
     "name": "stdout",
     "output_type": "stream",
     "text": [
      "563/563 [==============================] - 1s 2ms/step - loss: 0.6194 - accuracy: 0.8366\n"
     ]
    }
   ],
   "source": [
    "test_loss,test_acc = model.evaluate(X_test,y_test)"
   ]
  },
  {
   "cell_type": "code",
   "execution_count": null,
   "metadata": {
    "colab": {
     "base_uri": "https://localhost:8080/"
    },
    "id": "NsaW-iiNbVfA",
    "outputId": "6d7c0c96-e357-4b08-e53b-144512351dc8"
   },
   "outputs": [
    {
     "name": "stdout",
     "output_type": "stream",
     "text": [
      "\n",
      "Test accuracy 0.8366110920906067\n",
      "\n",
      "Loss of the test data 0.619357168674469\n"
     ]
    }
   ],
   "source": [
    "print('\\nTest accuracy', test_acc)\n",
    "print('\\nLoss of the test data', test_loss)"
   ]
  },
  {
   "cell_type": "code",
   "execution_count": null,
   "metadata": {
    "id": "Cj_fFC1IPnVF"
   },
   "outputs": [],
   "source": [
    "predictions = model.predict(X_test)"
   ]
  },
  {
   "cell_type": "code",
   "execution_count": null,
   "metadata": {
    "colab": {
     "base_uri": "https://localhost:8080/"
    },
    "id": "Ra0nXzTzPqGv",
    "outputId": "75535dff-906f-4ddb-d411-52ebbb18065c"
   },
   "outputs": [
    {
     "data": {
      "text/plain": [
       "array([1.85563962e-07, 1.67714155e-04, 1.41026393e-01, 8.30944657e-07,\n",
       "       3.79057461e-08, 1.31582851e-06, 4.48808605e-05, 8.58730912e-01,\n",
       "       1.18497546e-07, 2.75745060e-05], dtype=float32)"
      ]
     },
     "execution_count": 24,
     "metadata": {
      "tags": []
     },
     "output_type": "execute_result"
    }
   ],
   "source": [
    "predictions[1]"
   ]
  },
  {
   "cell_type": "code",
   "execution_count": null,
   "metadata": {
    "colab": {
     "base_uri": "https://localhost:8080/"
    },
    "id": "Rt_GbiVFPryN",
    "outputId": "de041440-e979-41f6-8be5-b20c25b5f267"
   },
   "outputs": [
    {
     "data": {
      "text/plain": [
       "7"
      ]
     },
     "execution_count": 25,
     "metadata": {
      "tags": []
     },
     "output_type": "execute_result"
    }
   ],
   "source": [
    "np.argmax(predictions[1])"
   ]
  },
  {
   "cell_type": "code",
   "execution_count": null,
   "metadata": {
    "colab": {
     "base_uri": "https://localhost:8080/"
    },
    "id": "vy6z908nP8xA",
    "outputId": "8455710c-9935-45b2-b3c5-1f497ce670b1"
   },
   "outputs": [
    {
     "data": {
      "text/plain": [
       "array([0., 0., 0., 0., 0., 0., 0., 1., 0., 0.], dtype=float32)"
      ]
     },
     "execution_count": 26,
     "metadata": {
      "tags": []
     },
     "output_type": "execute_result"
    }
   ],
   "source": [
    "y_test[1]"
   ]
  },
  {
   "cell_type": "code",
   "execution_count": null,
   "metadata": {
    "colab": {
     "base_uri": "https://localhost:8080/",
     "height": 266
    },
    "id": "dTbeGLTnQDRy",
    "outputId": "6c8017a9-c3f8-400f-9b77-80ec1340bbb3"
   },
   "outputs": [
    {
     "data": {
      "image/png": "[encoded data removed]",
      "text/plain": [
       "<Figure size 432x288 with 2 Axes>"
      ]
     },
     "metadata": {
      "needs_background": "light",
      "tags": []
     },
     "output_type": "display_data"
    }
   ],
   "source": [
    "import matplotlib.pyplot as plt\n",
    "\n",
    "plt.figure()\n",
    "plt.imshow(X_test[1])\n",
    "plt.colorbar()\n",
    "plt.grid(False)\n",
    "plt.show()"
   ]
  },
  {
   "cell_type": "markdown",
   "metadata": {
    "id": "0DhITTB5ZJRx"
   },
   "source": [
    "We see 7 is predicted correctly based on the image"
   ]
  }
 ],
 "metadata": {
  "colab": {
   "name": "Project2_Neural Networks.ipynb",
   "provenance": []
  },
  "kernelspec": {
   "display_name": "Python 3",
   "language": "python",
   "name": "python3"
  },
  "language_info": {
   "codemirror_mode": {
    "name": "ipython",
    "version": 3
   },
   "file_extension": ".py",
   "mimetype": "text/x-python",
   "name": "python",
   "nbconvert_exporter": "python",
   "pygments_lexer": "ipython3",
   "version": "3.7.4"
  }
 },
 "nbformat": 4,
 "nbformat_minor": 1
}
