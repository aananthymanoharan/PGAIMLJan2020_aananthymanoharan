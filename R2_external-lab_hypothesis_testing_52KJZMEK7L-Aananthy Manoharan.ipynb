{
 "cells": [
  {
   "cell_type": "markdown",
   "metadata": {
    "colab_type": "text",
    "id": "xx5CxeVubU3W"
   },
   "source": [
    "# Hypothesis Testing"
   ]
  },
  {
   "cell_type": "markdown",
   "metadata": {
    "colab_type": "text",
    "id": "6OR23eWKbU3X"
   },
   "source": [
    "The purpose of the test is to tell if there is any significant difference between two data sets.\n",
    "\n"
   ]
  },
  {
   "cell_type": "markdown",
   "metadata": {
    "colab_type": "text",
    "id": "604OoWnTbU3Z"
   },
   "source": [
    "## Overview"
   ]
  },
  {
   "cell_type": "markdown",
   "metadata": {
    "colab_type": "text",
    "id": "o-il1iBSbU3b"
   },
   "source": [
    "This module covers,\n",
    "\n",
    "1) One sample and Two sample t-tests\n",
    "\n",
    "2) ANOVA\n",
    "\n",
    "3) Type I and Type II errors\n",
    "\n",
    "4) Chi-Squared Tests"
   ]
  },
  {
   "cell_type": "markdown",
   "metadata": {
    "colab_type": "text",
    "id": "G2yYl5cvbU3c"
   },
   "source": [
    "## Question 1 \n",
    "\n",
    "*A student is trying to decide between two GPUs. He want to use the GPU for his research to run Deep learning algorithms, so the only thing he is concerned with is speed.*\n",
    "\n",
    "*He picks a Deep Learning algorithm on a large data set and runs it on both GPUs 15 times, timing each run in hours. Results are given in the below lists GPU1 and GPU2.*"
   ]
  },
  {
   "cell_type": "code",
   "execution_count": 3,
   "metadata": {
    "colab": {},
    "colab_type": "code",
    "id": "ohh5XJ4ZbU3d"
   },
   "outputs": [],
   "source": [
    "from scipy import stats \n",
    "import numpy as np"
   ]
  },
  {
   "cell_type": "code",
   "execution_count": 4,
   "metadata": {
    "colab": {},
    "colab_type": "code",
    "id": "6yGkYI6EbU3i"
   },
   "outputs": [],
   "source": [
    "GPU1 = np.array([11,9,10,11,10,12,9,11,12,9,11,12,9,10,9])\n",
    "GPU2 = np.array([11,13,10,13,12,9,11,12,12,11,12,12,10,11,13])\n",
    "\n",
    "#Assumption: Both the datasets (GPU1 & GPU 2) are random, independent, parametric & normally distributed"
   ]
  },
  {
   "cell_type": "markdown",
   "metadata": {
    "colab_type": "text",
    "id": "L55jqmIXbU3m"
   },
   "source": [
    "Hint: You can import ttest function from scipy to perform t tests "
   ]
  },
  {
   "cell_type": "markdown",
   "metadata": {
    "colab_type": "text",
    "id": "v8fsIhPFbU3n"
   },
   "source": [
    "**First T test**\n",
    "\n",
    "*One sample t-test*\n",
    "\n",
    "Check if the mean of the GPU1 is equal to zero.\n",
    "- Null Hypothesis is that mean is equal to zero.\n",
    "- Alternate hypothesis is that it is not equal to zero."
   ]
  },
  {
   "cell_type": "code",
   "execution_count": 5,
   "metadata": {
    "colab": {},
    "colab_type": "code",
    "id": "wgMSWwApbU3o"
   },
   "outputs": [
    {
     "name": "stdout",
     "output_type": "stream",
     "text": [
      "Sample mean 10.333333333333334\n",
      "Critical Values:  0.6507704546500327 & -0.6507704546500326\n"
     ]
    }
   ],
   "source": [
    "#H0 : μ = 0\n",
    "#𝐻𝐴 : μ not equal to 0\n",
    "from scipy.stats             import ttest_1samp,ttest_ind, wilcoxon\n",
    "from statsmodels.stats.power import ttest_power\n",
    "import matplotlib.pyplot     as     plt\n",
    "n = len(GPU1)\n",
    "mu=0\n",
    "xbar=GPU1.mean()\n",
    "print(\"Sample mean\",np.mean(GPU1))\n",
    "s = np.std(GPU1, ddof = 1)\n",
    "se = s/np.sqrt(n)\n",
    "print(\"Critical Values: \", stats.t.isf(0.025,df=n-1,loc=mu,scale=se), \"&\", stats.t.isf(0.975,df=n-1,loc=mu,scale=se))"
   ]
  },
  {
   "cell_type": "code",
   "execution_count": 6,
   "metadata": {},
   "outputs": [
    {
     "name": "stdout",
     "output_type": "stream",
     "text": [
      "Observed sample mean is in the Critical Region. Hence reject Null\n"
     ]
    }
   ],
   "source": [
    "print(\"Observed sample mean is in the Critical Region. Hence reject Null\")"
   ]
  },
  {
   "cell_type": "code",
   "execution_count": 7,
   "metadata": {},
   "outputs": [
    {
     "name": "stdout",
     "output_type": "stream",
     "text": [
      "xbar 10.333333333333334\n",
      "n 15\n",
      "mu 0\n",
      "se 0.3034196632775998\n"
     ]
    }
   ],
   "source": [
    "print(\"xbar\", xbar)\n",
    "print(\"n\",n)\n",
    "print(\"mu\",mu)\n",
    "print(\"se\",se)\n",
    "#print(\"P Value: \", stats.t.cdf(xbar,df=n-1,loc=mu,scale=se)*2)"
   ]
  },
  {
   "cell_type": "code",
   "execution_count": 8,
   "metadata": {},
   "outputs": [
    {
     "name": "stdout",
     "output_type": "stream",
     "text": [
      "T-Statistic\n",
      "34.056241516158195\n",
      "Using functions\n",
      "Ttest_1sampResult(statistic=34.056241516158195, pvalue=7.228892044970457e-15)\n"
     ]
    }
   ],
   "source": [
    "print(\"T-Statistic\")\n",
    "print((xbar-mu)/se)\n",
    "print(\"Using functions\")\n",
    "print(ttest_1samp(GPU1, 0))"
   ]
  },
  {
   "cell_type": "markdown",
   "metadata": {},
   "source": [
    "P value is 7.22e-15 which is less than 5% level of significance\n",
    "So the statistical decision is to reject the null hypothesis at 5% level of significance.\n",
    "So there is sufficient evidence to prove that the mean is higher than zero"
   ]
  },
  {
   "cell_type": "markdown",
   "metadata": {
    "colab_type": "text",
    "id": "byu8iw46bU3v"
   },
   "source": [
    "## Question 2"
   ]
  },
  {
   "cell_type": "markdown",
   "metadata": {
    "colab_type": "text",
    "id": "E65pzWcJbU3w"
   },
   "source": [
    "Given,\n",
    "\n",
    "Null Hypothesis : There is no significant difference between data sets\n",
    "\n",
    "Alternate Hypothesis : There is a significant difference\n",
    "\n",
    "*Do two-sample testing and check whether to reject Null Hypothesis or not.*"
   ]
  },
  {
   "cell_type": "markdown",
   "metadata": {
    "colab_type": "text",
    "id": "N-zpWvyXbU32"
   },
   "source": [
    "https://docs.scipy.org/doc/scipy/reference/generated/scipy.stats.ttest_ind.html"
   ]
  },
  {
   "cell_type": "markdown",
   "metadata": {
    "colab": {},
    "colab_type": "code",
    "id": "UDDkuOtObU3x"
   },
   "source": [
    "* $H_0$: $\\mu1$        = $\\mu2$ \n",
    "* $H_a$: $\\mu1$ $\\neq$ $\\mu2$ "
   ]
  },
  {
   "cell_type": "code",
   "execution_count": 9,
   "metadata": {},
   "outputs": [
    {
     "name": "stdout",
     "output_type": "stream",
     "text": [
      "P Value 0.014\n"
     ]
    }
   ],
   "source": [
    "t_statistic, p_value  =  stats.ttest_ind(GPU1,GPU2)\n",
    "print('P Value %1.3f' % p_value)  "
   ]
  },
  {
   "cell_type": "markdown",
   "metadata": {},
   "source": [
    "Here the P value is 1.4% which is less than 5% level of significance\n",
    "So the statistical decision is to reject the null hypothesis at 5% level of signance. We conclude there is a significant difference between the two datasets GPU1 and GPU2"
   ]
  },
  {
   "cell_type": "markdown",
   "metadata": {
    "colab_type": "text",
    "id": "MbXv5aZvbU33"
   },
   "source": [
    "## Question 3\n",
    "\n",
    "He is trying a third GPU - GPU3."
   ]
  },
  {
   "cell_type": "code",
   "execution_count": 10,
   "metadata": {
    "colab": {},
    "colab_type": "code",
    "id": "kkh_sQl4bU34"
   },
   "outputs": [],
   "source": [
    "GPU3 = np.array([9,10,9,11,10,13,12,9,12,12,13,12,13,10,11])\n",
    "\n",
    "#Assumption: Both the datasets (GPU1 & GPU 3) are random, independent, parametric & normally distributed"
   ]
  },
  {
   "cell_type": "markdown",
   "metadata": {
    "colab_type": "text",
    "id": "WoYNz3g7bU37"
   },
   "source": [
    "*Do two-sample testing and check whether there is significant differene between speeds of two GPUs GPU1 and GPU3.*\n",
    "\n",
    "#### Answer:"
   ]
  },
  {
   "cell_type": "code",
   "execution_count": 11,
   "metadata": {
    "colab": {},
    "colab_type": "code",
    "id": "X4N11XArbU38"
   },
   "outputs": [
    {
     "name": "stdout",
     "output_type": "stream",
     "text": [
      "P Value 0.145\n"
     ]
    }
   ],
   "source": [
    "t_statistic, p_value  =  stats.ttest_ind(GPU1,GPU3)\n",
    "print('P Value %1.3f' % p_value)  "
   ]
  },
  {
   "cell_type": "markdown",
   "metadata": {},
   "source": [
    "Here the P value is 1.45% which is less than 5% level of significance\n",
    "So the statistical decision is to reject the null hypothesis at 5% level of signance. We conclude there is a significant difference between the two datasets GPU1 and GPU3"
   ]
  },
  {
   "cell_type": "markdown",
   "metadata": {
    "colab_type": "text",
    "id": "oyDFS4WZbU4A"
   },
   "source": [
    "## ANOVA"
   ]
  },
  {
   "cell_type": "markdown",
   "metadata": {
    "colab_type": "text",
    "id": "wknPzstFbU4B"
   },
   "source": [
    "## Question 4 \n",
    "\n",
    "If you need to compare more than two data sets at a time, an ANOVA is your best bet. \n",
    "\n",
    "*The results from three experiments with overlapping 95% confidence intervals are given below, and we want to confirm that the results for all three experiments are not significantly different.*\n",
    "\n",
    "But before conducting ANOVA, test equality of variances (using Levene's test) is satisfied or not. If not, then mention that we cannot depend on the result of ANOVA"
   ]
  },
  {
   "cell_type": "code",
   "execution_count": 12,
   "metadata": {
    "colab": {},
    "colab_type": "code",
    "id": "kGb0GeK8bU4C"
   },
   "outputs": [
    {
     "name": "stdout",
     "output_type": "stream",
     "text": [
      "Count, Mean, standard deviation and Variance for e1:   4, 0.75, 0.87 and 0.57\n",
      "Count, Mean, standard deviation and Variance for e2:   4, 1.70, 0.67 and 0.33\n",
      "Count, Mean, standard deviation and Variance for e3:   4, 0.74, 0.47 and 0.17\n"
     ]
    }
   ],
   "source": [
    "import numpy as np\n",
    "import pandas as  pd\n",
    "\n",
    "e1 = np.array([1.595440,1.419730,0.000000,0.000000])\n",
    "e2 = np.array([1.433800,2.079700,0.892139,2.384740])\n",
    "e3 = np.array([0.036930,0.938018,0.995956,1.006970])\n",
    "\n",
    "#Assumption: All the 3 datasets (e1,e2 & e3) are random, independent, parametric & normally distributed"
   ]
  },
  {
   "cell_type": "markdown",
   "metadata": {},
   "source": [
    "#### Answer:"
   ]
  },
  {
   "cell_type": "code",
   "execution_count": 17,
   "metadata": {},
   "outputs": [
    {
     "name": "stdout",
     "output_type": "stream",
     "text": [
      "Count, Mean, standard deviation and Variance for e1:   4, 0.75, 0.87 and 0.57\n",
      "Count, Mean, standard deviation and Variance for e2:   4, 1.70, 0.67 and 0.33\n",
      "Count, Mean, standard deviation and Variance for e3:   4, 0.74, 0.47 and 0.17\n"
     ]
    }
   ],
   "source": [
    "\n",
    "print('Count, Mean, standard deviation and Variance for e1: %3d, %3.2f, %3.2f and %3.2f' % (len(e1), e1.mean(),np.std(e1,ddof =1),np.var(e1)))\n",
    "print('Count, Mean, standard deviation and Variance for e2: %3d, %3.2f, %3.2f and %3.2f' % (len(e2), e2.mean(),np.std(e2,ddof =1),np.var(e2)))\n",
    "print('Count, Mean, standard deviation and Variance for e3: %3d, %3.2f, %3.2f and %3.2f' % (len(e3), e3.mean(),np.std(e3,ddof =1),np.var(e3)))\n",
    "\n",
    "mean_e = pd.DataFrame()\n",
    "\n",
    "df1            = pd.DataFrame({'Exp': 'e1', 'Result':e1})\n",
    "df2            = pd.DataFrame({'Exp': 'e2', 'Result':e2})\n",
    "df3            = pd.DataFrame({'Exp': 'e3', 'Result':e3})\n",
    "\n",
    "mean_e = mean_e.append(df1) \n",
    "mean_e = mean_e.append(df2) \n",
    "mean_e = mean_e.append(df3) "
   ]
  },
  {
   "cell_type": "code",
   "execution_count": 14,
   "metadata": {},
   "outputs": [
    {
     "data": {
      "text/html": [
       "<div>\n",
       "<style scoped>\n",
       "    .dataframe tbody tr th:only-of-type {\n",
       "        vertical-align: middle;\n",
       "    }\n",
       "\n",
       "    .dataframe tbody tr th {\n",
       "        vertical-align: top;\n",
       "    }\n",
       "\n",
       "    .dataframe thead th {\n",
       "        text-align: right;\n",
       "    }\n",
       "</style>\n",
       "<table border=\"1\" class=\"dataframe\">\n",
       "  <thead>\n",
       "    <tr style=\"text-align: right;\">\n",
       "      <th></th>\n",
       "      <th>Exp</th>\n",
       "      <th>Result</th>\n",
       "    </tr>\n",
       "  </thead>\n",
       "  <tbody>\n",
       "    <tr>\n",
       "      <td>0</td>\n",
       "      <td>e1</td>\n",
       "      <td>1.595440</td>\n",
       "    </tr>\n",
       "    <tr>\n",
       "      <td>1</td>\n",
       "      <td>e1</td>\n",
       "      <td>1.419730</td>\n",
       "    </tr>\n",
       "    <tr>\n",
       "      <td>2</td>\n",
       "      <td>e1</td>\n",
       "      <td>0.000000</td>\n",
       "    </tr>\n",
       "    <tr>\n",
       "      <td>3</td>\n",
       "      <td>e1</td>\n",
       "      <td>0.000000</td>\n",
       "    </tr>\n",
       "    <tr>\n",
       "      <td>0</td>\n",
       "      <td>e2</td>\n",
       "      <td>1.433800</td>\n",
       "    </tr>\n",
       "    <tr>\n",
       "      <td>1</td>\n",
       "      <td>e2</td>\n",
       "      <td>2.079700</td>\n",
       "    </tr>\n",
       "    <tr>\n",
       "      <td>2</td>\n",
       "      <td>e2</td>\n",
       "      <td>0.892139</td>\n",
       "    </tr>\n",
       "    <tr>\n",
       "      <td>3</td>\n",
       "      <td>e2</td>\n",
       "      <td>2.384740</td>\n",
       "    </tr>\n",
       "    <tr>\n",
       "      <td>0</td>\n",
       "      <td>e3</td>\n",
       "      <td>0.036930</td>\n",
       "    </tr>\n",
       "    <tr>\n",
       "      <td>1</td>\n",
       "      <td>e3</td>\n",
       "      <td>0.938018</td>\n",
       "    </tr>\n",
       "    <tr>\n",
       "      <td>2</td>\n",
       "      <td>e3</td>\n",
       "      <td>0.995956</td>\n",
       "    </tr>\n",
       "    <tr>\n",
       "      <td>3</td>\n",
       "      <td>e3</td>\n",
       "      <td>1.006970</td>\n",
       "    </tr>\n",
       "  </tbody>\n",
       "</table>\n",
       "</div>"
      ],
      "text/plain": [
       "  Exp    Result\n",
       "0  e1  1.595440\n",
       "1  e1  1.419730\n",
       "2  e1  0.000000\n",
       "3  e1  0.000000\n",
       "0  e2  1.433800\n",
       "1  e2  2.079700\n",
       "2  e2  0.892139\n",
       "3  e2  2.384740\n",
       "0  e3  0.036930\n",
       "1  e3  0.938018\n",
       "2  e3  0.995956\n",
       "3  e3  1.006970"
      ]
     },
     "execution_count": 14,
     "metadata": {},
     "output_type": "execute_result"
    }
   ],
   "source": [
    "mean_e"
   ]
  },
  {
   "cell_type": "code",
   "execution_count": 15,
   "metadata": {},
   "outputs": [
    {
     "data": {
      "image/png": "[encoded data removed]",
      "text/plain": [
       "<Figure size 228.5x180 with 2 Axes>"
      ]
     },
     "metadata": {
      "needs_background": "light"
     },
     "output_type": "display_data"
    }
   ],
   "source": [
    "import seaborn as sns\n",
    "sns.pairplot(mean_e,diag_kind='kde',hue='Exp')\n",
    "plt.show()"
   ]
  },
  {
   "cell_type": "code",
   "execution_count": 20,
   "metadata": {},
   "outputs": [
    {
     "data": {
      "image/png": "[encoded data removed]",
      "text/plain": [
       "<Figure size 432x288 with 1 Axes>"
      ]
     },
     "metadata": {
      "needs_background": "light"
     },
     "output_type": "display_data"
    }
   ],
   "source": [
    "sns.boxplot(x = \"Exp\", y = \"Result\", data = mean_e)\n",
    "plt.title('Exp vs. Result')\n",
    "plt.show()"
   ]
  },
  {
   "cell_type": "markdown",
   "metadata": {
    "colab_type": "text",
    "id": "_xiYN6gVbU4G"
   },
   "source": [
    "Perform levene test on the data\n",
    "\n",
    "The Levene test tests the null hypothesis that all input samples are from populations with equal variances. Levene’s test is an alternative to Bartlett’s test bartlett in the case where there are significant deviations from normality.\n",
    "\n",
    "source: scipy.org"
   ]
  },
  {
   "cell_type": "markdown",
   "metadata": {},
   "source": [
    "Levene's  test\n",
    "* $H_0$: Variances  are  equal\n",
    "* $H_A$: Variances are different \n",
    "\n",
    "    we select 𝛼 = 0.05 "
   ]
  },
  {
   "cell_type": "code",
   "execution_count": 18,
   "metadata": {},
   "outputs": [
    {
     "data": {
      "text/plain": [
       "LeveneResult(statistic=2.6741725711150446, pvalue=0.12259792666001798)"
      ]
     },
     "execution_count": 18,
     "metadata": {},
     "output_type": "execute_result"
    }
   ],
   "source": [
    "from scipy.stats import levene\n",
    "levene(e1,e2,e3)"
   ]
  },
  {
   "cell_type": "markdown",
   "metadata": {},
   "source": [
    "P value 0.1225 is greater than $\\alpha$ which means the Hull hypothesis  cannot be rejected.So we accept the null hypothesis that the variances are equal."
   ]
  },
  {
   "cell_type": "markdown",
   "metadata": {
    "colab": {},
    "colab_type": "code",
    "id": "VUJP_GGQbU4R"
   },
   "source": [
    "ANOVA test\n",
    "* $H_0$: $\\mu1$ = $\\mu2$ = $\\mu3$\n",
    "* $H_A$: At least one $\\mu$ differs \n",
    "\n",
    "    we select 𝛼 = 0.05 "
   ]
  },
  {
   "cell_type": "code",
   "execution_count": 19,
   "metadata": {},
   "outputs": [
    {
     "name": "stdout",
     "output_type": "stream",
     "text": [
      "            sum_sq   df         F    PR(>F)\n",
      "Exp       2.399066  2.0  2.513576  0.135746\n",
      "Residual  4.294994  9.0       NaN       NaN\n"
     ]
    }
   ],
   "source": [
    "import statsmodels.api         as     sm\n",
    "from   statsmodels.formula.api import ols\n",
    " \n",
    "mod = ols('Result ~ Exp', data = mean_e).fit()\n",
    "aov_table = sm.stats.anova_lm(mod, typ=2)\n",
    "print(aov_table)"
   ]
  },
  {
   "cell_type": "markdown",
   "metadata": {},
   "source": [
    "Sice P Value is 13.5% which is very higher than 𝛼(5%), we  fail to  reject the null hypothesis which means we statistically conclude the 3 experiments are significantly similiar"
   ]
  },
  {
   "cell_type": "markdown",
   "metadata": {
    "colab_type": "text",
    "id": "FigxGCQtbU4Y"
   },
   "source": [
    "## Question 5\n",
    "\n",
    "The one-way ANOVA tests the null hypothesis that two or more groups have the same population mean. The test is applied to samples from two or more groups, possibly with differing sizes.\n",
    "\n",
    "use stats.f_oneway() module to perform one-way ANOVA test"
   ]
  },
  {
   "cell_type": "code",
   "execution_count": 21,
   "metadata": {
    "colab": {},
    "colab_type": "code",
    "id": "P3bPYPCbbU4Z"
   },
   "outputs": [
    {
     "name": "stdout",
     "output_type": "stream",
     "text": [
      "stat=2.514, p=0.136\n",
      "Probably the same distribution\n"
     ]
    }
   ],
   "source": [
    "from scipy.stats import f_oneway\n",
    "stat, p = f_oneway(e1, e2, e3)\n",
    "print('stat=%.3f, p=%.3f' % (stat, p))\n",
    "if p > 0.05:\n",
    "    print('Probably the same distribution')\n",
    "else:\n",
    "    print('Probably different distributions')"
   ]
  },
  {
   "cell_type": "markdown",
   "metadata": {
    "colab_type": "text",
    "id": "yrMK1qb7bU4j"
   },
   "source": [
    "## Question 6\n",
    "\n",
    "*In one or two sentences explain about **TypeI** and **TypeII** errors.*\n",
    "\n",
    "#### Answer:"
   ]
  },
  {
   "attachments": {
    "image.png": {
     "image/png": "[encoded data removed]"
    }
   },
   "cell_type": "markdown",
   "metadata": {},
   "source": [
    "![image.png](attachment:image.png)"
   ]
  },
  {
   "cell_type": "markdown",
   "metadata": {
    "colab_type": "text",
    "id": "H08OGwdIbU4k"
   },
   "source": [
    "Type I Error:\n",
    "\n",
    "> Rejection of a null hypothesis that is actually true\n",
    "\n",
    "> This is equivalent to false positive\n",
    "\n",
    "> Error  of  first kind\n",
    "\n",
    "> Alpha is the maximum probability that we have type I error\n",
    "\n",
    "Type II Error:\n",
    "\n",
    "> This type of error occurs when do not reject a null hypothesis that is false\n",
    "\n",
    "> This is equivalent to false negative\n",
    "\n",
    "> Error of second kind\n",
    "\n",
    "> Probability of Type II error is denoted by Beta. This number is related to the power or sensitivity of the hypothesis test, denoted by 1 – beta."
   ]
  },
  {
   "cell_type": "markdown",
   "metadata": {
    "colab_type": "text",
    "id": "hm7v3pcIbU4m"
   },
   "source": [
    "## Question 7 \n",
    "\n",
    "You are a manager of a chinese restaurant. You want to determine whether the waiting time to place an order has changed in the past month from its previous population mean value of 4.5 minutes. \n",
    "State the null and alternative hypothesis.\n",
    "\n",
    "#### Answer:\n"
   ]
  },
  {
   "cell_type": "markdown",
   "metadata": {
    "colab_type": "text",
    "id": "pbbaU2I4bU4n"
   },
   "source": [
    "Null Hypothesis: Waiting time to place order has not changed significantly in the past month\n",
    "\n",
    "Alternate Hypothesis: Waiting time has changes significantly\n",
    "* $\\mu0$ = 4.5 ---> previous population mean\n",
    "* $\\mu1$ ---> new mean\n",
    "* $H_0$: $\\mu1$ = 4.5\n",
    "* $H_A$: $\\mu1$ != 4.5"
   ]
  },
  {
   "cell_type": "markdown",
   "metadata": {
    "colab_type": "text",
    "id": "1SGpq-dKbU4r"
   },
   "source": [
    "## Chi square test"
   ]
  },
  {
   "cell_type": "markdown",
   "metadata": {
    "colab_type": "text",
    "id": "WlxmIu_rdgpc"
   },
   "source": [
    "## Question 8"
   ]
  },
  {
   "cell_type": "markdown",
   "metadata": {
    "colab_type": "text",
    "id": "8J3V015PbU4s"
   },
   "source": [
    "Let's create a small dataset for dice rolls of four players"
   ]
  },
  {
   "cell_type": "code",
   "execution_count": 22,
   "metadata": {
    "colab": {},
    "colab_type": "code",
    "id": "xrO5BbIEbU4t"
   },
   "outputs": [],
   "source": [
    "import numpy as np\n",
    "\n",
    "d1 = [5, 8, 3, 8]\n",
    "d2 = [9, 6, 8, 5]\n",
    "d3 = [8, 12, 7, 2]\n",
    "d4 = [4, 16, 7, 3]\n",
    "d5 = [3, 9, 6, 5]\n",
    "d6 = [7, 2, 5, 7]\n",
    "\n",
    "dice = np.array([d1, d2, d3, d4, d5, d6])"
   ]
  },
  {
   "cell_type": "markdown",
   "metadata": {
    "colab_type": "text",
    "id": "uF7GRMChbU4x"
   },
   "source": [
    "run the test using SciPy Stats library\n",
    "\n",
    "Depending on the test, we are generally looking for a threshold at either 0.05 or 0.01. Our test is significant (i.e. we reject the null hypothesis) if we get a p-value below our threshold.\n",
    "\n",
    "For our purposes, we’ll use 0.01 as the threshold.\n",
    "\n",
    "use stats.chi2_contingency() module \n",
    "\n",
    "This function computes the chi-square statistic and p-value for the hypothesis test of independence of the observed frequencies in the contingency table\n",
    "\n",
    "Print the following:\n",
    "\n",
    "- chi2 stat\n",
    "- p-value\n",
    "- degree of freedom\n",
    "- contingency\n",
    "\n"
   ]
  },
  {
   "cell_type": "code",
   "execution_count": 37,
   "metadata": {
    "colab": {},
    "colab_type": "code",
    "id": "vqaTIKmgbU4y"
   },
   "outputs": [
    {
     "name": "stdout",
     "output_type": "stream",
     "text": [
      "Chi-square statistic: 23.31567 \n",
      "P value: 0.077664 \n",
      "Degrees of freedom: 15\n",
      "Contingency\n",
      "[[ 5.57419355  8.20645161  5.57419355  4.64516129]\n",
      " [ 6.50322581  9.57419355  6.50322581  5.41935484]\n",
      " [ 6.73548387  9.91612903  6.73548387  5.61290323]\n",
      " [ 6.96774194 10.25806452  6.96774194  5.80645161]\n",
      " [ 5.34193548  7.86451613  5.34193548  4.4516129 ]\n",
      " [ 4.87741935  7.18064516  4.87741935  4.06451613]]\n"
     ]
    }
   ],
   "source": [
    "chi_sq_Stat, p_value, deg_freedom, exp_freq = stats.chi2_contingency(dice)\n",
    "\n",
    "print('Chi-square statistic: %3.5f \\nP value: %1.6f \\nDegrees of freedom: %d' %(chi_sq_Stat, p_value,deg_freedom))\n",
    "print('Contingency')\n",
    "print(exp_freq)"
   ]
  },
  {
   "cell_type": "code",
   "execution_count": 51,
   "metadata": {},
   "outputs": [
    {
     "name": "stdout",
     "output_type": "stream",
     "text": [
      "P value is 7.76% which is way higher than the alpha which is 1%, so we accept the Null Hypothesis.\n"
     ]
    }
   ],
   "source": [
    "print(\"P value is 7.76% which is way higher than the alpha which is 1%, so we accept the Null Hypothesis.\")"
   ]
  },
  {
   "cell_type": "markdown",
   "metadata": {
    "colab_type": "text",
    "id": "VzyfaNoabU42"
   },
   "source": [
    "## Question 9\n",
    "\n",
    "### Z-test\n",
    "\n",
    "Get zscore on the above dice data using stats.zscore module from scipy. Convert zscore values to p-value and take mean of the array."
   ]
  },
  {
   "cell_type": "code",
   "execution_count": 41,
   "metadata": {
    "colab": {},
    "colab_type": "code",
    "id": "Sd5xPCuRbU43"
   },
   "outputs": [
    {
     "name": "stdout",
     "output_type": "stream",
     "text": [
      "[[-0.46291005 -0.18884739 -1.83711731  1.44115338]\n",
      " [ 1.38873015 -0.64208114  1.22474487  0.        ]\n",
      " [ 0.9258201   0.7176201   0.61237244 -1.44115338]\n",
      " [-0.9258201   1.62408759  0.61237244 -0.96076892]\n",
      " [-1.38873015  0.03776948  0.          0.        ]\n",
      " [ 0.46291005 -1.54854863 -0.61237244  0.96076892]]\n"
     ]
    }
   ],
   "source": [
    "z_array = stats.zscore(dice)\n",
    "print(z_array)"
   ]
  },
  {
   "cell_type": "code",
   "execution_count": 49,
   "metadata": {},
   "outputs": [
    {
     "name": "stdout",
     "output_type": "stream",
     "text": [
      "P-values: \n",
      " [[0.32171442 0.42510621 0.03309629 0.92522932]\n",
      " [0.91754259 0.26041025 0.88966432 0.5       ]\n",
      " [0.82273026 0.76350422 0.72985431 0.07477068]\n",
      " [0.17726974 0.94782144 0.72985431 0.16833418]\n",
      " [0.08245741 0.51506426 0.5        0.5       ]\n",
      " [0.67828558 0.06074513 0.27014569 0.83166582]]\n",
      "Mean of the p-value array :\n",
      "0.505219434874248\n"
     ]
    }
   ],
   "source": [
    "p_value_array = stats.norm.cdf(z_array)\n",
    "print(\"P-values: \\n\", p_value_array)\n",
    "print(\"Mean of the p-value array :\")\n",
    "print(p_value_array.mean())"
   ]
  },
  {
   "cell_type": "code",
   "execution_count": 50,
   "metadata": {},
   "outputs": [
    {
     "name": "stdout",
     "output_type": "stream",
     "text": [
      "P value 0.5052  is greater than the alpha value 0.01 hence we accept the Null hypothesis\n"
     ]
    }
   ],
   "source": [
    "print(\"P value 0.5052  is greater than the alpha value 0.01 hence we accept the Null hypothesis\")"
   ]
  },
  {
   "cell_type": "markdown",
   "metadata": {
    "colab_type": "text",
    "id": "OyoFUxf5bU47"
   },
   "source": [
    "## Question 10\n",
    "\n",
    "A Paired sample t-test compares means from the same group at different times.\n",
    "\n",
    "The basic two sample t-test is designed for testing differences between independent groups. \n",
    "In some cases, you might be interested in testing differences between samples of the same group at different points in time. \n",
    "We can conduct a paired t-test using the scipy function stats.ttest_rel(). "
   ]
  },
  {
   "cell_type": "code",
   "execution_count": 61,
   "metadata": {
    "colab": {},
    "colab_type": "code",
    "id": "SwVmQ1gRbU48"
   },
   "outputs": [
    {
     "name": "stdout",
     "output_type": "stream",
     "text": [
      "before: \n",
      "[ 71.97267373 144.46485144 108.38727924 138.12156381 134.02302185\n",
      "  79.50709284 109.50737057 106.22420032  86.40699463 123.80771951\n",
      "  94.17713034 110.03324076 110.86323799  89.91639048  54.62688323\n",
      " 128.80067856 111.09831068  58.11920831 113.14878157  61.21892606\n",
      " 101.7786211  107.47006059  18.32820512 105.95326646  84.31208784\n",
      "  92.85497197  50.75795792  85.39925559 107.67127991 106.30395235\n",
      "  39.39767411  72.69364832 113.52057125 102.08755717 119.7099271\n",
      " 139.84117293  66.68309918  77.22944811 173.6639425  174.3546779\n",
      " 103.6086664   89.26928184 122.05692903 116.54594671 134.82478028\n",
      "  81.52990654  61.2698747   85.12577426 128.65923762 115.94889872\n",
      "  68.79801685 133.0318796  112.26778064 119.34887594 126.53516682\n",
      " 131.62778567 105.60716422  72.46205847 136.91157888 162.54717006\n",
      "  94.56787189  58.8506452  142.38715656 107.27663379  50.22220901\n",
      "  99.94217872  49.93156117  59.30441152  87.8593045  115.10551626\n",
      "  91.07294487  87.33905133 180.31264976 144.2908555  177.4795658\n",
      " 138.60326264  84.12486388  82.73326508  66.07714845 102.49585659\n",
      "  62.10466111  93.71250483 112.7951213   76.34777648  56.17186594\n",
      " 102.38379205 103.28238945 120.70153213  96.14703853  85.88424974\n",
      "  93.13655629 127.37347883 101.20038177 126.8999664  115.75343951\n",
      " 104.51163753 109.29284187  61.65864549 132.79615208  52.13396941\n",
      "  81.2367498   52.24271779  96.48112925  50.80935313  88.58820217\n",
      " 120.11508127  88.92454697  96.43416705 173.07665612 103.15942202\n",
      "  84.56012587  80.89570818 111.22282971 103.91190217 128.84032242\n",
      " 147.96637671  45.50950747  80.69255642 130.13358209 149.68020301\n",
      " 101.38448332  71.21832652  82.6393466   50.89500308 149.20397316\n",
      " 145.481094   100.84184724 108.24660306  77.27284632 136.98564916\n",
      "  86.72254424  42.34924781  72.45881455 117.10490845 100.87595079\n",
      "  93.13529842  62.3000675  126.22886137 106.15944023 117.08854888\n",
      " 129.02566251  46.06817906  82.767993    62.55534132  81.68040465\n",
      "  92.8830735  162.48078313  79.60645933 125.03522037 114.82197713\n",
      " 110.28734158 118.99958477  99.39959581  47.57684358  84.10649437\n",
      "  68.84572278  98.44225232  87.07723306  95.80967434 129.06760777\n",
      "  79.2663752   67.47531165  82.83446532  86.25407564  86.51429481\n",
      "  82.68698201 101.29928103  97.34257293  91.85471864  60.01883105\n",
      "  94.59485003  51.93681891  70.11576477 101.82040111 120.04605013\n",
      " 113.11896254  22.67032376  87.55176086 116.49975605 173.42497832\n",
      "  86.68857071  66.79548951 157.22398306  91.87201903  70.10250387\n",
      "  73.386126   110.86387307  87.86140446 137.24212671 110.99292164\n",
      " 103.49780999 132.54451458  63.88251219 112.72281966 170.31915458\n",
      "  86.11702876  67.6610306  105.8475205  116.73841725 111.339596\n",
      "  71.82730946  66.62914313 118.64535118 104.53071244 135.20956296\n",
      " 103.85367214  76.66155106  92.38268368   1.901209   100.00413549\n",
      " 113.54247276 115.29477105  95.47635767 109.92003989  97.00491079\n",
      " 127.05874073  77.92285329 113.85160205 110.1451465  134.61306557\n",
      "  91.15371851  21.16607448  91.1452675  124.73680609  67.03869826\n",
      " 139.50360891 116.80341696  33.10211774 123.13663105 105.86610924\n",
      " 110.90998547 104.97731594  78.74546003 111.49013854 120.61834433\n",
      "  83.92859823 100.70597052  99.60357108  69.37119396 104.62202231\n",
      "  99.10065694  94.30700274  53.63792109 120.57903179 103.66636153\n",
      "  88.93159278 146.75246208 106.94650521  79.95809946 163.69791588\n",
      "  57.68089607 -11.91728362 146.86078324 131.89111197  56.47018137\n",
      "  74.36469509  90.49352725 101.94713542  93.19801265  85.7843903\n",
      " 103.21521179  89.00911781 132.79321593  98.15670776 128.84417939\n",
      " 107.64012665 113.38070203  62.10663805  59.00455731  78.2830726\n",
      " 144.84635429  97.92834092 100.11355057 114.1671064  101.73996279\n",
      "  49.79484173 129.41902843 115.11745953 119.54449295 123.62352723\n",
      " 126.5364988  100.55856887  81.11980039 107.00090966  92.79021525\n",
      "  20.84818297 136.29132545  80.84843324  80.7510376   90.30408634\n",
      " 118.81132862  27.03561788  73.06599183 136.95266043 127.49565823\n",
      "  95.77961823 104.51292678 102.08984831  97.57594761 109.58769744\n",
      " 105.05426421  86.4803387  150.51765454  78.64508868  58.64789896\n",
      "  37.4110828   60.86790176  57.53140128  94.65000864 106.63891588\n",
      " 118.81526352  81.80115364 120.63135223  94.25605387 115.41859869\n",
      "  75.68624835  78.42674934  81.64576316  85.57923272 129.05409534\n",
      " 131.61858585 119.60815504 101.62158402  75.44248254 119.52146566\n",
      "  69.04688209 118.98306755 141.9576884   36.76451932 111.65351289\n",
      " 126.56677707 112.93977792 121.86589272  98.55288176 100.18450148\n",
      " 112.79500824 117.22286568 140.7548784   91.34659081 132.46844547\n",
      "  94.94895456  75.3326431   28.05422095  61.37184168 105.25986521\n",
      "  80.78153965 125.64799951  78.36457122  61.34347267  64.69147962\n",
      " 121.40361144  80.54215871  74.98871737  40.09125777 111.23056728\n",
      " 152.155353    73.15712783 110.5532965  135.38081229  88.19457228\n",
      "  66.39946983 131.66407043 148.3896037   56.65980889 104.93017368\n",
      " 167.48994509  82.50977769 118.51876348 112.45095223 140.91519481\n",
      " 106.32690212  83.13108713 109.84605328 108.75934605  80.93991363\n",
      " 127.97378494  46.9973995   90.37429968  56.17517766  68.0135\n",
      "  50.62662924  69.65799131  93.4661286  112.2872001  108.21739104\n",
      "  72.3596438   72.96914598  71.64649086  80.20709298  88.22361655\n",
      " 107.10753366  91.70027404 118.78452747  80.2385642   78.33931589\n",
      " 123.09936439 117.46431753 109.62380603 101.38290546 191.20677713\n",
      " 134.65315583 186.86856138  91.16441425 111.56764182 144.7911721\n",
      "  89.66420193 108.69423523  98.72895692 141.8097329   78.93668276\n",
      "  99.54180204  56.22261971 119.22027584 101.50308462 110.70631507\n",
      "  72.68270121  72.0500963   83.82570245 116.5794275   96.54362903\n",
      " 135.49635495 165.19735307  88.02525597  54.87097497  74.04318375\n",
      "  80.87030609  92.05536784 128.42961183  85.54605872  65.57997802\n",
      "  77.65526572  83.39956188  46.05755806 105.91195174 166.68297862\n",
      " 135.07566733 117.33694361  99.85367823 121.39245645  77.42778873\n",
      "  66.81680964  70.01504251  81.5692776   60.53587385 154.58386076\n",
      "  77.71842335 108.18113911 137.43769194 126.13772257 129.08374232\n",
      " 108.19584415 115.14588673 113.60902029  98.05670357  85.45592721\n",
      "  90.46892173 113.09111876  91.06695044  91.84692189 102.23931295\n",
      "  99.05475168  97.08235517  38.24436161 124.66097033  86.85878051\n",
      "  98.66194122  63.94894461  87.57551934  71.33110201 106.60890866\n",
      "  90.49716798 135.80494169  61.98217081 161.71975181  82.5220932\n",
      "  96.14879049  55.93335027  37.21237126  42.62337201 112.15610935\n",
      " 147.6825968  120.07083179  63.27625369 100.98343787  93.86982105\n",
      " 147.86986586  76.63252924 102.27150352  91.53057984  77.81213974\n",
      "  97.28590069 134.09217944 109.41472845 110.72628375 137.53783808\n",
      " 103.36393343 117.06905349  77.15185915 110.5661633   70.68873254] \n",
      "\n",
      "after: \n",
      "[ 68.05142411 141.44606148 102.54855527 143.52756585 130.11469468\n",
      "  87.45982151 112.52860705 100.98871653  89.56128746 130.93676313\n",
      "  93.13805517 114.43134031 114.18924052  95.97243583  47.56518944\n",
      " 125.67629801 103.5743573   57.5984919  104.22689361  57.19192621\n",
      " 103.94047919 105.34788754  13.96929904 103.8809678   91.05773172\n",
      "  96.63071614  43.64888163  72.45746312 113.14122061 105.8459646\n",
      "  39.28423223  64.85613738 110.88103562 104.8203383  116.26870097\n",
      " 139.11424675  62.17859768  78.21742854 172.12746321 173.25390828\n",
      "  97.54983251  92.20300041 126.81286821 124.97548336 124.30230209\n",
      "  81.32064475  54.24974288  82.27948675 125.74089752 113.59945915\n",
      "  70.09556703 127.3353514  112.37320751 109.65241649 124.02748424\n",
      " 126.77844118 101.03479447  66.1135944  139.95824848 158.90759548\n",
      "  93.85138703  64.8726017  143.74119085 105.78866139  49.17002071\n",
      "  96.08629851  48.04059633  59.89289757  80.23990896 111.94364304\n",
      "  92.3999778   84.0302507  175.71309581 145.63209824 163.98533501\n",
      " 137.39912506  90.31024097  83.11190919  66.36023335  98.74664772\n",
      "  54.39378543  88.49815246 110.97150938  76.7520812   50.41447698\n",
      " 100.09902449 109.63616052 117.01866511  92.97045132  90.89029519\n",
      "  95.01037139 132.27255895  98.73447884 123.79020135 108.0679472\n",
      " 100.09167281 100.19899163  54.08664373 135.74449714  46.42241283\n",
      "  76.16816694  57.46318406  90.58403369  49.06649434  89.7557944\n",
      " 120.34155075  92.43937007  99.64564665 174.63657738 114.19684552\n",
      "  84.88702094  81.05056266 111.39499393 103.38328663 131.28935495\n",
      " 144.53774053  54.76386335  75.35961278 128.98810606 146.24887333\n",
      "  97.15095192  73.5983466   88.5874147   49.55571737 155.20513701\n",
      " 147.16360127 110.11192044 109.25879133  67.99548957 133.40655125\n",
      "  81.34524355  45.80085965  71.30693416 109.44044026 102.8523789\n",
      "  90.5505986   61.73033795 120.01541623 103.60236064 115.97447509\n",
      " 127.02937532  46.77085911  86.11842695  56.11460078  76.37016147\n",
      "  93.73146383 163.74897572  69.24365541 119.61548272 121.84946635\n",
      " 111.76583838 114.26533002  95.52761853  50.49857898  77.52444848\n",
      "  69.7713251   96.94845614  82.17106947  98.47814131 136.41036789\n",
      "  81.76458449  68.6104173   84.83401542  90.49347821  80.45923028\n",
      "  84.62225276  93.90327402 110.30291489  96.29576859  55.08906739\n",
      "  89.85118936  48.53910406  73.61441104 101.52720865 122.4097467\n",
      " 113.755668    26.72630747  83.45913601 107.75907086 171.2493328\n",
      "  83.25003024  60.2552916  157.3577694   93.08140261  71.57461007\n",
      "  67.04797192 108.57110408  80.83311232 127.30581868 110.41819412\n",
      "  93.00613745 136.80179829  61.01850556 113.16101106 171.40629308\n",
      "  78.24877171  71.9640917  103.9239889  118.53338009 108.02196578\n",
      "  81.08524926  64.35246365 116.1139656   95.38366001 139.04290337\n",
      " 100.92270983  83.61997911  93.96015831  -8.04656524 107.6600171\n",
      " 114.66436733 109.39965344  98.02172552  97.84582151 107.16643898\n",
      " 122.76438425  71.05779214 104.87536248 109.80112947 141.39113875\n",
      "  83.68731213  18.28583868  89.69737161 114.26698787  58.73372118\n",
      " 141.1707929  117.35063761  34.41301588 129.08707121 106.98438068\n",
      " 115.52941993 105.19792792  78.87110055 113.64158796 108.7242165\n",
      "  82.8196778  101.72954548 107.66294073  55.8862611   98.89321643\n",
      " 100.94836785  92.31683105  43.43800561 129.87499753  99.80960868\n",
      "  92.17999239 140.27837288 110.85170153  74.3176211  163.38756858\n",
      "  53.75278826 -26.41446727 150.44913953 133.69419823  54.56981074\n",
      "  69.85402548  77.59044532  99.12605179  93.84607098  78.08518461\n",
      " 103.13742388  89.76991605 116.50657504 102.35448502 132.21467469\n",
      " 106.38725862 116.51032594  64.79656353  55.53272768  83.45814048\n",
      " 143.19285805 107.10951003  96.91631583 109.88638412 103.23528258\n",
      "  48.7567281  130.09238999 112.38398562 117.23848088 112.5631985\n",
      " 129.45290669 101.48765026  77.45782075  92.63043333  92.35695756\n",
      "  18.26930583 130.4687499   77.63057626  69.87966668  89.57488864\n",
      " 119.08865245  17.44142012  63.27792771 138.87238014 120.21635219\n",
      "  95.28590966  99.48385558  92.37125303  95.4164997  107.47071118\n",
      "  90.14357747  93.88336264 160.12254138  80.05784754  60.14842611\n",
      "  35.86587768  66.26869319  46.37354712  91.120201   108.51595793\n",
      " 121.489585    79.08219658 115.21690895  80.47187689 119.50384604\n",
      "  71.62570572  77.87661326  78.91416636  76.04620029 129.97578027\n",
      " 128.25601417 121.50281565  97.36107393  70.36797795 113.94667509\n",
      "  62.5905837  108.84219688 144.36099882  35.5578547  112.80438749\n",
      " 131.8118513  107.33759138 121.23988425  98.75717943  96.49794319\n",
      " 109.3303963  119.64557813 129.06776971  86.90281192 131.90092128\n",
      "  89.19549487  73.8215148   27.00133655  65.85702594  99.8889163\n",
      "  74.79900455 125.27657508  76.2270205   58.30541963  57.36987449\n",
      " 118.39459836  85.57138903  74.01222765  37.62109284 108.02216002\n",
      " 149.0726039   62.08829267 117.65407992 136.63143364  88.45649284\n",
      "  72.94725382 122.75098693 143.76653944  47.4870681   98.33577051\n",
      " 161.71246041  84.04651188 107.5635717  105.60197511 141.62848385\n",
      " 104.35265233  83.16755647  99.22778391 102.22320528  74.57720518\n",
      " 126.92437397  40.03139156  93.42373163  52.11317477  67.31056855\n",
      "  52.52407198  69.69102287  90.01276941 112.81000458 109.72064368\n",
      "  69.96633406  68.01946691  81.99916761  90.85158257  81.28018778\n",
      " 102.76430289  95.81755746 116.34333373  79.19548172  79.43112781\n",
      " 124.07285234 117.83313368 112.8465221   97.55070315 191.94377596\n",
      " 140.92541865 189.99147961 100.78580838 111.99458329 135.61373573\n",
      "  89.6160784  101.18600583  90.44430991 143.11185002  79.82874597\n",
      "  92.30675574  48.10472786 128.94476651  95.08657937 109.21889296\n",
      "  71.04395649  69.40103781  77.94211602 111.77636012  88.48611152\n",
      " 133.82964248 162.26123493  74.69931544  46.41756723  70.30763224\n",
      "  79.19598231  92.23013939 126.56685348  82.71100739  71.55866984\n",
      "  73.93071108  80.09607348  43.07853267  95.33616595 158.71981526\n",
      " 139.44617182 114.79564147  94.99607422 129.26573376  76.97193487\n",
      "  72.63384619  62.50221288  75.37860747  53.47239264 154.99405369\n",
      "  80.11361924 114.95665889 126.25084276 123.40207103 133.47815497\n",
      " 104.99546219 113.25826352 110.14932526  98.53873124  88.14842821\n",
      "  96.07318107 107.77141812  93.68482001  83.39596737  92.58802231\n",
      " 101.76419851  87.22444184  43.59257237 123.23396937  90.77215642\n",
      "  98.17066838  57.05732029  92.44035557  68.03812665 102.34289565\n",
      "  94.28029313 132.79648497  62.17647657 166.59407234  83.5301014\n",
      "  91.63556968  53.24390481  31.9512486   45.3132087  111.93343546\n",
      " 139.7341514  120.3093513   65.33215423  96.86265016  91.85064509\n",
      " 145.24195774  69.79495679  93.47144342  81.34970181  77.56472066\n",
      " 100.04349161 125.32306028 110.64998916 117.28046516 135.21000094\n",
      " 106.01990932 125.07555336  75.12489468 111.49876952  69.17691701]\n"
     ]
    }
   ],
   "source": [
    "before= stats.norm.rvs(scale=30, loc=100, size=500) ## Creates a normal distribution with a mean value of 100 and std of 30\n",
    "after = before + stats.norm.rvs(scale=5, loc=-1.25, size=500)\n",
    "print(\"before: \")\n",
    "print(before, \"\\n\")\n",
    "print(\"after: \")\n",
    "print(after)"
   ]
  },
  {
   "cell_type": "markdown",
   "metadata": {
    "colab_type": "text",
    "id": "rB_os5FjbU4_"
   },
   "source": [
    "Test whether a weight-loss drug works by checking the weights of the same group patients before and after treatment using above data."
   ]
  },
  {
   "cell_type": "markdown",
   "metadata": {
    "colab": {},
    "colab_type": "code",
    "id": "Fq2wyEqlbU5A"
   },
   "source": [
    "* $H_0$: $\\mu{After}$ - $\\mu{Before}$ =  0\n",
    "* $H_A$: $\\mu{After}$ - $\\mu{Before}$ $\\neq$  0"
   ]
  },
  {
   "cell_type": "code",
   "execution_count": 63,
   "metadata": {},
   "outputs": [
    {
     "name": "stdout",
     "output_type": "stream",
     "text": [
      "mean of before:  98.56627499276424\n",
      "mean of after:  96.92596030687028\n"
     ]
    }
   ],
   "source": [
    "print(\"mean of before: \", before.mean())\n",
    "print(\"mean of after: \", after.mean())"
   ]
  },
  {
   "cell_type": "code",
   "execution_count": 64,
   "metadata": {},
   "outputs": [
    {
     "name": "stdout",
     "output_type": "stream",
     "text": [
      "P Value 0.000\n"
     ]
    }
   ],
   "source": [
    "t_statistic, p_value  =  stats.ttest_rel(after, before )\n",
    "print('P Value %1.3f' % p_value)  "
   ]
  },
  {
   "cell_type": "markdown",
   "metadata": {},
   "source": [
    "P-value is 0% which is very less than alpha 5% hence we reject Null hypothesis and we say the samples are significantly different"
   ]
  }
 ],
 "metadata": {
  "colab": {
   "collapsed_sections": [],
   "name": "R2_external-lab_hypothesis_testing_questions.ipynb",
   "provenance": [],
   "version": "0.3.2"
  },
  "kernelspec": {
   "display_name": "Python 3",
   "language": "python",
   "name": "python3"
  },
  "language_info": {
   "codemirror_mode": {
    "name": "ipython",
    "version": 3
   },
   "file_extension": ".py",
   "mimetype": "text/x-python",
   "name": "python",
   "nbconvert_exporter": "python",
   "pygments_lexer": "ipython3",
   "version": "3.7.4"
  }
 },
 "nbformat": 4,
 "nbformat_minor": 1
}
