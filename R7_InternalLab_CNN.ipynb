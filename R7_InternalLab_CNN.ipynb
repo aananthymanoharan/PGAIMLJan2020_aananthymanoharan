{
 "cells": [
  {
   "cell_type": "markdown",
   "metadata": {
    "id": "MyfMmMnPJjvn"
   },
   "source": [
    "## Train a simple convnet on the Fashion MNIST dataset"
   ]
  },
  {
   "cell_type": "markdown",
   "metadata": {
    "id": "zjcGOJhcJjvp"
   },
   "source": [
    "In this, we will see how to deal with image data and train a convnet for image classification task."
   ]
  },
  {
   "cell_type": "markdown",
   "metadata": {
    "id": "jR0Pl2XjJjvq"
   },
   "source": [
    "### Load the  `fashion_mnist`  dataset\n",
    "\n",
    "** Use keras.datasets to load the dataset **"
   ]
  },
  {
   "cell_type": "code",
   "execution_count": 1,
   "metadata": {
    "id": "Qr75v_UYJjvs"
   },
   "outputs": [],
   "source": [
    "from keras.datasets import fashion_mnist\n",
    "(x_train, y_train), (x_test, y_test) = fashion_mnist.load_data()"
   ]
  },
  {
   "cell_type": "markdown",
   "metadata": {
    "id": "hTI42-0qJjvw"
   },
   "source": [
    "### Find no.of samples are there in training and test datasets"
   ]
  },
  {
   "cell_type": "markdown",
   "metadata": {
    "id": "bApgva4QtXvD"
   },
   "source": [
    "Number of samples in the training dataset"
   ]
  },
  {
   "cell_type": "code",
   "execution_count": 2,
   "metadata": {
    "colab": {
     "base_uri": "https://localhost:8080/"
    },
    "id": "g2sf67VoJjvx",
    "outputId": "b2d5a146-a9a3-4e64-d6b7-6097a204f93b"
   },
   "outputs": [
    {
     "data": {
      "text/plain": [
       "60000"
      ]
     },
     "execution_count": 2,
     "metadata": {
      "tags": []
     },
     "output_type": "execute_result"
    }
   ],
   "source": [
    "x_train.shape[0]"
   ]
  },
  {
   "cell_type": "markdown",
   "metadata": {
    "id": "bkbcnqqttkhp"
   },
   "source": [
    "Number of samples in the test dataset"
   ]
  },
  {
   "cell_type": "code",
   "execution_count": 3,
   "metadata": {
    "colab": {
     "base_uri": "https://localhost:8080/"
    },
    "id": "zewyDcBlJjv1",
    "outputId": "4cfec82a-805f-45b4-b3b4-168b407c4f6d"
   },
   "outputs": [
    {
     "data": {
      "text/plain": [
       "10000"
      ]
     },
     "execution_count": 3,
     "metadata": {
      "tags": []
     },
     "output_type": "execute_result"
    }
   ],
   "source": [
    "x_test.shape[0]"
   ]
  },
  {
   "cell_type": "markdown",
   "metadata": {
    "id": "WytT2eRnJjv4"
   },
   "source": [
    "### Find dimensions of an image in the dataset"
   ]
  },
  {
   "cell_type": "markdown",
   "metadata": {
    "id": "jPfVhwSOtryJ"
   },
   "source": [
    "Height and width of the image in pixels:"
   ]
  },
  {
   "cell_type": "code",
   "execution_count": 4,
   "metadata": {
    "colab": {
     "base_uri": "https://localhost:8080/"
    },
    "id": "XycQGBSGJjv5",
    "outputId": "c9c01a63-4157-4bf6-e323-61289f5cd364"
   },
   "outputs": [
    {
     "data": {
      "text/plain": [
       "(28, 28)"
      ]
     },
     "execution_count": 4,
     "metadata": {
      "tags": []
     },
     "output_type": "execute_result"
    }
   ],
   "source": [
    "x_train.shape[1:3]"
   ]
  },
  {
   "cell_type": "markdown",
   "metadata": {
    "id": "5jtdZ7RqJjv8"
   },
   "source": [
    "### Convert train and test labels to one hot vectors\n",
    "\n",
    "** check `keras.utils.to_categorical()` **"
   ]
  },
  {
   "cell_type": "code",
   "execution_count": 5,
   "metadata": {
    "id": "sAD3q5I6Jjv9"
   },
   "outputs": [],
   "source": [
    "import keras\n",
    "y_train = keras.utils.to_categorical(y_train,10)\n",
    "y_test = keras.utils.to_categorical(y_test,10)"
   ]
  },
  {
   "cell_type": "code",
   "execution_count": 6,
   "metadata": {
    "colab": {
     "base_uri": "https://localhost:8080/"
    },
    "id": "mgHSCXy3JjwA",
    "outputId": "c165f137-0288-415c-d05b-9d9583015387"
   },
   "outputs": [
    {
     "data": {
      "text/plain": [
       "array([[0., 0., 0., ..., 0., 0., 1.],\n",
       "       [1., 0., 0., ..., 0., 0., 0.],\n",
       "       [1., 0., 0., ..., 0., 0., 0.],\n",
       "       ...,\n",
       "       [0., 0., 0., ..., 0., 0., 0.],\n",
       "       [1., 0., 0., ..., 0., 0., 0.],\n",
       "       [0., 0., 0., ..., 0., 0., 0.]], dtype=float32)"
      ]
     },
     "execution_count": 6,
     "metadata": {
      "tags": []
     },
     "output_type": "execute_result"
    }
   ],
   "source": [
    "y_train"
   ]
  },
  {
   "cell_type": "code",
   "execution_count": 7,
   "metadata": {
    "colab": {
     "base_uri": "https://localhost:8080/"
    },
    "id": "idPrNV2IueJX",
    "outputId": "0c464ae0-c75f-4687-d76e-a97daa977e20"
   },
   "outputs": [
    {
     "data": {
      "text/plain": [
       "(60000, 10)"
      ]
     },
     "execution_count": 7,
     "metadata": {
      "tags": []
     },
     "output_type": "execute_result"
    }
   ],
   "source": [
    "y_train.shape"
   ]
  },
  {
   "cell_type": "markdown",
   "metadata": {
    "id": "xO5BRBzBJjwD"
   },
   "source": [
    "### Normalize both the train and test image data from 0-255 to 0-1"
   ]
  },
  {
   "cell_type": "code",
   "execution_count": 8,
   "metadata": {
    "id": "3fUQpMHxJjwE"
   },
   "outputs": [],
   "source": [
    "# pixel value 0 indicates black and pixel value 255 indicates white color\n",
    "x_train = x_train.astype('float32')\n",
    "x_test = x_test.astype('float32')\n",
    "x_train /=255\n",
    "x_test /=255"
   ]
  },
  {
   "cell_type": "markdown",
   "metadata": {
    "id": "da5-DwgrJjwM"
   },
   "source": [
    "### Reshape the data from 28x28 to 28x28x1 to match input dimensions in Conv2D layer in keras"
   ]
  },
  {
   "cell_type": "code",
   "execution_count": 9,
   "metadata": {
    "id": "LPGVQ-JJJjwN"
   },
   "outputs": [],
   "source": [
    "# (number of samples / batch_size, image_height, image_width, number of channels)\n",
    "x_train = x_train.reshape(x_train.shape[0],28,28,1)\n",
    "x_test = x_test.reshape(x_test.shape[0],28,28,1)"
   ]
  },
  {
   "cell_type": "code",
   "execution_count": 10,
   "metadata": {
    "colab": {
     "base_uri": "https://localhost:8080/"
    },
    "id": "MX7VlNhHvtbe",
    "outputId": "49775986-7938-41d8-cef9-1b8058234e9a"
   },
   "outputs": [
    {
     "data": {
      "text/plain": [
       "(60000, 28, 28, 1)"
      ]
     },
     "execution_count": 10,
     "metadata": {
      "tags": []
     },
     "output_type": "execute_result"
    }
   ],
   "source": [
    "x_train.shape"
   ]
  },
  {
   "cell_type": "code",
   "execution_count": 11,
   "metadata": {
    "colab": {
     "base_uri": "https://localhost:8080/"
    },
    "id": "QJuFd-rEvx_i",
    "outputId": "5be3062a-94f2-47ba-bee1-f18fb5114353"
   },
   "outputs": [
    {
     "data": {
      "text/plain": [
       "(10000, 28, 28, 1)"
      ]
     },
     "execution_count": 11,
     "metadata": {
      "tags": []
     },
     "output_type": "execute_result"
    }
   ],
   "source": [
    "x_test.shape"
   ]
  },
  {
   "cell_type": "markdown",
   "metadata": {
    "id": "OFRRTJq8JjwQ"
   },
   "source": [
    "### Import the necessary layers from keras to build the model"
   ]
  },
  {
   "cell_type": "code",
   "execution_count": 12,
   "metadata": {
    "id": "dWTZYnKSJjwR"
   },
   "outputs": [],
   "source": [
    "from keras.models import Sequential\n",
    "from keras.layers import Dense, Activation, Dropout, Flatten, Convolution2D, MaxPooling2D\n",
    "from keras.utils import np_utils"
   ]
  },
  {
   "cell_type": "markdown",
   "metadata": {
    "id": "C18AoS7eJjwU"
   },
   "source": [
    "### Build a model \n",
    "\n",
    "** with 2 Conv layers having `32 3x3 filters` in both convolutions with `relu activations` and `flatten` before passing the feature map into 2 fully connected layers (or Dense Layers) having 128 and 10 neurons with `relu` and `softmax` activations respectively. Now, using `categorical_crossentropy` loss with `adam` optimizer train the model with early stopping `patience=5` and no.of `epochs=10`. **"
   ]
  },
  {
   "cell_type": "code",
   "execution_count": 13,
   "metadata": {
    "colab": {
     "base_uri": "https://localhost:8080/"
    },
    "id": "DORCLgSwJjwV",
    "outputId": "3447997e-d9d3-437f-8f25-c158c1b5865b"
   },
   "outputs": [
    {
     "name": "stdout",
     "output_type": "stream",
     "text": [
      "Epoch 1/20\n",
      "120/120 [==============================] - 5s 19ms/step - loss: 0.8351 - accuracy: 0.7126 - val_loss: 0.3966 - val_accuracy: 0.8602\n",
      "Epoch 2/20\n",
      "120/120 [==============================] - 2s 16ms/step - loss: 0.3501 - accuracy: 0.8742 - val_loss: 0.3226 - val_accuracy: 0.8878\n",
      "Epoch 3/20\n",
      "120/120 [==============================] - 2s 16ms/step - loss: 0.2773 - accuracy: 0.9007 - val_loss: 0.2974 - val_accuracy: 0.8910\n",
      "Epoch 4/20\n",
      "120/120 [==============================] - 2s 16ms/step - loss: 0.2440 - accuracy: 0.9134 - val_loss: 0.2906 - val_accuracy: 0.8948\n",
      "Epoch 5/20\n",
      "120/120 [==============================] - 2s 16ms/step - loss: 0.2165 - accuracy: 0.9213 - val_loss: 0.2873 - val_accuracy: 0.8965\n",
      "Epoch 6/20\n",
      "120/120 [==============================] - 2s 16ms/step - loss: 0.1861 - accuracy: 0.9328 - val_loss: 0.2651 - val_accuracy: 0.9061\n",
      "Epoch 7/20\n",
      "120/120 [==============================] - 2s 16ms/step - loss: 0.1672 - accuracy: 0.9397 - val_loss: 0.2591 - val_accuracy: 0.9090\n",
      "Epoch 8/20\n",
      "120/120 [==============================] - 2s 16ms/step - loss: 0.1511 - accuracy: 0.9458 - val_loss: 0.2629 - val_accuracy: 0.9112\n",
      "Epoch 9/20\n",
      "120/120 [==============================] - 2s 16ms/step - loss: 0.1333 - accuracy: 0.9524 - val_loss: 0.2727 - val_accuracy: 0.9074\n",
      "Epoch 10/20\n",
      "120/120 [==============================] - 2s 16ms/step - loss: 0.1144 - accuracy: 0.9591 - val_loss: 0.2729 - val_accuracy: 0.9108\n",
      "Epoch 11/20\n",
      "120/120 [==============================] - 2s 16ms/step - loss: 0.1074 - accuracy: 0.9622 - val_loss: 0.2778 - val_accuracy: 0.9130\n",
      "Epoch 12/20\n",
      "120/120 [==============================] - 2s 16ms/step - loss: 0.0856 - accuracy: 0.9694 - val_loss: 0.2834 - val_accuracy: 0.9118\n",
      "Epoch 13/20\n",
      "120/120 [==============================] - 2s 16ms/step - loss: 0.0720 - accuracy: 0.9766 - val_loss: 0.2967 - val_accuracy: 0.9139\n",
      "Epoch 14/20\n",
      "120/120 [==============================] - 2s 16ms/step - loss: 0.0600 - accuracy: 0.9802 - val_loss: 0.3100 - val_accuracy: 0.9106\n",
      "Epoch 15/20\n",
      "120/120 [==============================] - 2s 16ms/step - loss: 0.0540 - accuracy: 0.9818 - val_loss: 0.3275 - val_accuracy: 0.9139\n",
      "Epoch 16/20\n",
      "120/120 [==============================] - 2s 16ms/step - loss: 0.0456 - accuracy: 0.9847 - val_loss: 0.3365 - val_accuracy: 0.9128\n",
      "Epoch 00016: early stopping\n"
     ]
    },
    {
     "data": {
      "text/plain": [
       "<tensorflow.python.keras.callbacks.History at 0x7ff55ccbea58>"
      ]
     },
     "execution_count": 13,
     "metadata": {
      "tags": []
     },
     "output_type": "execute_result"
    }
   ],
   "source": [
    "#Defining the model\n",
    "\n",
    "model = Sequential()\n",
    "\n",
    "model.add(Convolution2D(32, (3,3), activation='relu', input_shape=(28,28,1)))\n",
    "model.add(Convolution2D(32, (3,3), activation='relu'))\n",
    "model.add(Flatten())\n",
    "model.add(Dense(128, activation='relu'))\n",
    "model.add(Dense(10, activation='softmax'))\n",
    "\n",
    "#Loss and Optimizer\n",
    "model.compile(loss='categorical_crossentropy', optimizer='adam',metrics=['accuracy'])\n",
    "\n",
    "#Callbacks\n",
    "early_stopping = keras.callbacks.EarlyStopping(monitor='val_accuracy',patience=5,verbose=1, mode='auto',min_delta=0.001)\n",
    "callback_list = [early_stopping]\n",
    "\n",
    "#Train the model\n",
    "model.fit(x_train, y_train, batch_size=500, epochs=20, validation_data=(x_test,y_test),callbacks=callback_list)\n"
   ]
  },
  {
   "cell_type": "code",
   "execution_count": 14,
   "metadata": {
    "colab": {
     "base_uri": "https://localhost:8080/"
    },
    "id": "qNDoG1Tg0CH6",
    "outputId": "cc33e6d7-d2e3-4b6d-e64d-0bbf66ca2227"
   },
   "outputs": [
    {
     "name": "stdout",
     "output_type": "stream",
     "text": [
      "Model: \"sequential\"\n",
      "_________________________________________________________________\n",
      "Layer (type)                 Output Shape              Param #   \n",
      "=================================================================\n",
      "conv2d (Conv2D)              (None, 26, 26, 32)        320       \n",
      "_________________________________________________________________\n",
      "conv2d_1 (Conv2D)            (None, 24, 24, 32)        9248      \n",
      "_________________________________________________________________\n",
      "flatten (Flatten)            (None, 18432)             0         \n",
      "_________________________________________________________________\n",
      "dense (Dense)                (None, 128)               2359424   \n",
      "_________________________________________________________________\n",
      "dense_1 (Dense)              (None, 10)                1290      \n",
      "=================================================================\n",
      "Total params: 2,370,282\n",
      "Trainable params: 2,370,282\n",
      "Non-trainable params: 0\n",
      "_________________________________________________________________\n"
     ]
    }
   ],
   "source": [
    "model.summary()"
   ]
  },
  {
   "cell_type": "markdown",
   "metadata": {
    "id": "ju69vKdIJjwX"
   },
   "source": [
    "### Now, to the above model add `max` pooling layer of `filter size 2x2` and `dropout` layer with `p=0.25` after the 2 conv layers and run the model"
   ]
  },
  {
   "cell_type": "code",
   "execution_count": 15,
   "metadata": {
    "colab": {
     "base_uri": "https://localhost:8080/"
    },
    "id": "L2hAP94vJjwY",
    "outputId": "3fc6acf2-f191-4851-8f67-308a3525cda3"
   },
   "outputs": [
    {
     "name": "stdout",
     "output_type": "stream",
     "text": [
      "Epoch 1/20\n",
      "120/120 [==============================] - 2s 16ms/step - loss: 0.8928 - accuracy: 0.7059 - val_loss: 0.4400 - val_accuracy: 0.8441\n",
      "Epoch 2/20\n",
      "120/120 [==============================] - 2s 15ms/step - loss: 0.3884 - accuracy: 0.8613 - val_loss: 0.3441 - val_accuracy: 0.8809\n",
      "Epoch 3/20\n",
      "120/120 [==============================] - 2s 15ms/step - loss: 0.3225 - accuracy: 0.8853 - val_loss: 0.3095 - val_accuracy: 0.8902\n",
      "Epoch 4/20\n",
      "120/120 [==============================] - 2s 15ms/step - loss: 0.2873 - accuracy: 0.8974 - val_loss: 0.2989 - val_accuracy: 0.8950\n",
      "Epoch 5/20\n",
      "120/120 [==============================] - 2s 15ms/step - loss: 0.2597 - accuracy: 0.9065 - val_loss: 0.2737 - val_accuracy: 0.9026\n",
      "Epoch 6/20\n",
      "120/120 [==============================] - 2s 16ms/step - loss: 0.2345 - accuracy: 0.9140 - val_loss: 0.2640 - val_accuracy: 0.9077\n",
      "Epoch 7/20\n",
      "120/120 [==============================] - 2s 15ms/step - loss: 0.2241 - accuracy: 0.9175 - val_loss: 0.2495 - val_accuracy: 0.9084\n",
      "Epoch 8/20\n",
      "120/120 [==============================] - 2s 16ms/step - loss: 0.2114 - accuracy: 0.9226 - val_loss: 0.2774 - val_accuracy: 0.8984\n",
      "Epoch 9/20\n",
      "120/120 [==============================] - 2s 16ms/step - loss: 0.1941 - accuracy: 0.9299 - val_loss: 0.2543 - val_accuracy: 0.9087\n",
      "Epoch 10/20\n",
      "120/120 [==============================] - 2s 15ms/step - loss: 0.1815 - accuracy: 0.9335 - val_loss: 0.2451 - val_accuracy: 0.9112\n",
      "Epoch 11/20\n",
      "120/120 [==============================] - 2s 15ms/step - loss: 0.1698 - accuracy: 0.9384 - val_loss: 0.2335 - val_accuracy: 0.9177\n",
      "Epoch 12/20\n",
      "120/120 [==============================] - 2s 15ms/step - loss: 0.1546 - accuracy: 0.9429 - val_loss: 0.2324 - val_accuracy: 0.9190\n",
      "Epoch 13/20\n",
      "120/120 [==============================] - 2s 15ms/step - loss: 0.1514 - accuracy: 0.9435 - val_loss: 0.2288 - val_accuracy: 0.9201\n",
      "Epoch 14/20\n",
      "120/120 [==============================] - 2s 15ms/step - loss: 0.1365 - accuracy: 0.9505 - val_loss: 0.2325 - val_accuracy: 0.9192\n",
      "Epoch 15/20\n",
      "120/120 [==============================] - 2s 15ms/step - loss: 0.1332 - accuracy: 0.9516 - val_loss: 0.2420 - val_accuracy: 0.9184\n",
      "Epoch 16/20\n",
      "120/120 [==============================] - 2s 15ms/step - loss: 0.1241 - accuracy: 0.9539 - val_loss: 0.2420 - val_accuracy: 0.9175\n",
      "Epoch 17/20\n",
      "120/120 [==============================] - 2s 15ms/step - loss: 0.1165 - accuracy: 0.9564 - val_loss: 0.2279 - val_accuracy: 0.9260\n",
      "Epoch 18/20\n",
      "120/120 [==============================] - 2s 15ms/step - loss: 0.1056 - accuracy: 0.9601 - val_loss: 0.2306 - val_accuracy: 0.9254\n",
      "Epoch 19/20\n",
      "120/120 [==============================] - 2s 15ms/step - loss: 0.0989 - accuracy: 0.9643 - val_loss: 0.2502 - val_accuracy: 0.9172\n",
      "Epoch 20/20\n",
      "120/120 [==============================] - 2s 15ms/step - loss: 0.0984 - accuracy: 0.9636 - val_loss: 0.2405 - val_accuracy: 0.9223\n"
     ]
    },
    {
     "data": {
      "text/plain": [
       "<tensorflow.python.keras.callbacks.History at 0x7ff4fcddf390>"
      ]
     },
     "execution_count": 15,
     "metadata": {
      "tags": []
     },
     "output_type": "execute_result"
    }
   ],
   "source": [
    "#Defining the model\n",
    "\n",
    "model2 = Sequential()\n",
    "\n",
    "model2.add(Convolution2D(32, (3,3), activation='relu', input_shape=(28,28,1)))\n",
    "model2.add(Convolution2D(32, (3,3), activation='relu'))\n",
    "model2.add(MaxPooling2D(2,2))\n",
    "model2.add(Dropout(0.25))\n",
    "model2.add(Flatten())\n",
    "model2.add(Dense(128, activation='relu'))\n",
    "model2.add(Dense(10, activation='softmax'))\n",
    "\n",
    "#Loss and Optimizer\n",
    "model2.compile(loss='categorical_crossentropy', optimizer='adam',metrics=['accuracy'])\n",
    "\n",
    "#Callbacks\n",
    "early_stopping = keras.callbacks.EarlyStopping(monitor='val_accuracy',patience=5,verbose=1, mode='auto',min_delta=0.001)\n",
    "callback_list = [early_stopping]\n",
    "\n",
    "#Train the model\n",
    "model2.fit(x_train, y_train, batch_size=500, epochs=20, validation_data=(x_test,y_test),callbacks=callback_list)\n"
   ]
  },
  {
   "cell_type": "code",
   "execution_count": 16,
   "metadata": {
    "colab": {
     "base_uri": "https://localhost:8080/"
    },
    "id": "Mga_Ph9kz-l3",
    "outputId": "339fe712-9d44-4227-ea4b-5c26b2f256aa"
   },
   "outputs": [
    {
     "name": "stdout",
     "output_type": "stream",
     "text": [
      "Model: \"sequential_1\"\n",
      "_________________________________________________________________\n",
      "Layer (type)                 Output Shape              Param #   \n",
      "=================================================================\n",
      "conv2d_2 (Conv2D)            (None, 26, 26, 32)        320       \n",
      "_________________________________________________________________\n",
      "conv2d_3 (Conv2D)            (None, 24, 24, 32)        9248      \n",
      "_________________________________________________________________\n",
      "max_pooling2d (MaxPooling2D) (None, 12, 12, 32)        0         \n",
      "_________________________________________________________________\n",
      "dropout (Dropout)            (None, 12, 12, 32)        0         \n",
      "_________________________________________________________________\n",
      "flatten_1 (Flatten)          (None, 4608)              0         \n",
      "_________________________________________________________________\n",
      "dense_2 (Dense)              (None, 128)               589952    \n",
      "_________________________________________________________________\n",
      "dense_3 (Dense)              (None, 10)                1290      \n",
      "=================================================================\n",
      "Total params: 600,810\n",
      "Trainable params: 600,810\n",
      "Non-trainable params: 0\n",
      "_________________________________________________________________\n"
     ]
    }
   ],
   "source": [
    "model2.summary()"
   ]
  },
  {
   "cell_type": "markdown",
   "metadata": {
    "id": "lGTA3bfEJjwa"
   },
   "source": [
    "### Now, to the above model, lets add Data Augmentation "
   ]
  },
  {
   "cell_type": "markdown",
   "metadata": {
    "id": "F6gX8n5SJjwb"
   },
   "source": [
    "### Import the ImageDataGenrator from keras and fit the training images"
   ]
  },
  {
   "cell_type": "code",
   "execution_count": 17,
   "metadata": {
    "id": "Cbz4uHBuJjwc"
   },
   "outputs": [],
   "source": [
    "from keras.preprocessing.image import ImageDataGenerator\n",
    "\n",
    "#Generating batch of image data with real-time data augmentation\n",
    "#additional details provided along with comments - added for info\n",
    "\n",
    "datagen = ImageDataGenerator(\n",
    "    featurewise_center=False,  #setting the input mean to be 0 over the dataset\n",
    "    samplewise_center=False, #setting each sample mean to 0\n",
    "    featurewise_std_normalization=False, #divide inputs by standard deviation of the dataset\n",
    "    samplewise_std_normalization=False, #dividing each input by its std\n",
    "    zca_whitening=False, #applying ZCA whitening\n",
    "    rotation_range=50, #randomly rotate images in the range(0 to 180 degrees)\n",
    "    width_shift_range=0.1, #randomly shift images horizontally (fraction of total width)\n",
    "    height_shift_range=0.1, #randomly shift images vertically (fraction of total width)\n",
    "    horizontal_flip=False, #randomly flip images horizontally\n",
    "    vertical_flip=False #randomly flip images vertically\n",
    ")\n",
    "\n",
    "# Prepare the generator\n",
    "datagen.fit(x_train)"
   ]
  },
  {
   "cell_type": "markdown",
   "metadata": {
    "id": "pl-8dOo7Jjwf"
   },
   "source": [
    "#### Showing 5 versions of the first image in training dataset using image datagenerator.flow()"
   ]
  },
  {
   "cell_type": "code",
   "execution_count": 18,
   "metadata": {
    "colab": {
     "base_uri": "https://localhost:8080/",
     "height": 89
    },
    "id": "DpI1_McYJjwg",
    "outputId": "2d488812-4d8c-4381-c035-77e69eec8e9b",
    "scrolled": true
   },
   "outputs": [
    {
     "data": {
      "image/png": "[encoded data removed]",
      "text/plain": [
       "<Figure size 432x288 with 5 Axes>"
      ]
     },
     "metadata": {
      "needs_background": "light",
      "tags": []
     },
     "output_type": "display_data"
    }
   ],
   "source": [
    "from matplotlib import pyplot as plt\n",
    "gen = datagen.flow(x_train[0:1], batch_size=1)\n",
    "for i in range(1, 6):\n",
    "    plt.subplot(1,5,i)\n",
    "    plt.axis(\"off\")\n",
    "    plt.imshow(gen.next().squeeze(), cmap='gray')\n",
    "    plt.plot()\n",
    "plt.show()"
   ]
  },
  {
   "cell_type": "markdown",
   "metadata": {
    "id": "dmPl5yE8Jjwm"
   },
   "source": [
    "### Run the above model using fit_generator()"
   ]
  },
  {
   "cell_type": "code",
   "execution_count": 19,
   "metadata": {
    "colab": {
     "base_uri": "https://localhost:8080/"
    },
    "id": "-ozSZetv50Km",
    "outputId": "5cb6ddfc-5bd3-4d14-d0c0-ea3682962925"
   },
   "outputs": [
    {
     "name": "stderr",
     "output_type": "stream",
     "text": [
      "/usr/local/lib/python3.6/dist-packages/tensorflow/python/keras/engine/training.py:1844: UserWarning: `Model.fit_generator` is deprecated and will be removed in a future version. Please use `Model.fit`, which supports generators.\n",
      "  warnings.warn('`Model.fit_generator` is deprecated and '\n"
     ]
    },
    {
     "name": "stdout",
     "output_type": "stream",
     "text": [
      "Epoch 1/20\n",
      "600/600 [==============================] - 15s 25ms/step - loss: 1.1001 - accuracy: 0.5947 - val_loss: 0.6171 - val_accuracy: 0.7747\n",
      "Epoch 2/20\n",
      "600/600 [==============================] - 14s 23ms/step - loss: 0.6463 - accuracy: 0.7603 - val_loss: 0.5137 - val_accuracy: 0.8047\n",
      "Epoch 3/20\n",
      "600/600 [==============================] - 14s 23ms/step - loss: 0.5678 - accuracy: 0.7857 - val_loss: 0.4818 - val_accuracy: 0.8286\n",
      "Epoch 4/20\n",
      "600/600 [==============================] - 14s 24ms/step - loss: 0.5235 - accuracy: 0.8048 - val_loss: 0.4705 - val_accuracy: 0.8274\n",
      "Epoch 5/20\n",
      "600/600 [==============================] - 14s 23ms/step - loss: 0.4934 - accuracy: 0.8138 - val_loss: 0.4398 - val_accuracy: 0.8407\n",
      "Epoch 6/20\n",
      "600/600 [==============================] - 14s 23ms/step - loss: 0.4687 - accuracy: 0.8259 - val_loss: 0.4319 - val_accuracy: 0.8422\n",
      "Epoch 7/20\n",
      "600/600 [==============================] - 14s 23ms/step - loss: 0.4477 - accuracy: 0.8329 - val_loss: 0.3916 - val_accuracy: 0.8565\n",
      "Epoch 8/20\n",
      "600/600 [==============================] - 14s 23ms/step - loss: 0.4337 - accuracy: 0.8408 - val_loss: 0.3714 - val_accuracy: 0.8653\n",
      "Epoch 9/20\n",
      "600/600 [==============================] - 14s 23ms/step - loss: 0.4198 - accuracy: 0.8444 - val_loss: 0.3713 - val_accuracy: 0.8684\n",
      "Epoch 10/20\n",
      "600/600 [==============================] - 14s 23ms/step - loss: 0.4129 - accuracy: 0.8492 - val_loss: 0.3759 - val_accuracy: 0.8641\n",
      "Epoch 11/20\n",
      "600/600 [==============================] - 14s 24ms/step - loss: 0.3976 - accuracy: 0.8531 - val_loss: 0.3677 - val_accuracy: 0.8652\n",
      "Epoch 12/20\n",
      "600/600 [==============================] - 14s 24ms/step - loss: 0.3985 - accuracy: 0.8536 - val_loss: 0.3601 - val_accuracy: 0.8661\n",
      "Epoch 13/20\n",
      "600/600 [==============================] - 14s 24ms/step - loss: 0.3848 - accuracy: 0.8541 - val_loss: 0.3460 - val_accuracy: 0.8751\n",
      "Epoch 14/20\n",
      "600/600 [==============================] - 14s 23ms/step - loss: 0.3817 - accuracy: 0.8579 - val_loss: 0.3619 - val_accuracy: 0.8719\n",
      "Epoch 15/20\n",
      "600/600 [==============================] - 14s 24ms/step - loss: 0.3701 - accuracy: 0.8653 - val_loss: 0.3458 - val_accuracy: 0.8738\n",
      "Epoch 16/20\n",
      "600/600 [==============================] - 14s 23ms/step - loss: 0.3647 - accuracy: 0.8645 - val_loss: 0.3382 - val_accuracy: 0.8748\n",
      "Epoch 17/20\n",
      "600/600 [==============================] - 14s 23ms/step - loss: 0.3579 - accuracy: 0.8663 - val_loss: 0.3554 - val_accuracy: 0.8685\n",
      "Epoch 18/20\n",
      "600/600 [==============================] - 14s 23ms/step - loss: 0.3552 - accuracy: 0.8688 - val_loss: 0.3281 - val_accuracy: 0.8819\n",
      "Epoch 19/20\n",
      "600/600 [==============================] - 14s 23ms/step - loss: 0.3429 - accuracy: 0.8729 - val_loss: 0.3499 - val_accuracy: 0.8720\n",
      "Epoch 20/20\n",
      "600/600 [==============================] - 14s 23ms/step - loss: 0.3461 - accuracy: 0.8717 - val_loss: 0.3412 - val_accuracy: 0.8758\n"
     ]
    },
    {
     "data": {
      "text/plain": [
       "<tensorflow.python.keras.callbacks.History at 0x7ff4fc338128>"
      ]
     },
     "execution_count": 19,
     "metadata": {
      "tags": []
     },
     "output_type": "execute_result"
    }
   ],
   "source": [
    "#Defining the model\n",
    "\n",
    "model3 = Sequential()\n",
    "\n",
    "model3.add(Convolution2D(32, (3,3), activation='relu', input_shape=(28,28,1)))\n",
    "model3.add(Convolution2D(32, (3,3), activation='relu'))\n",
    "model3.add(MaxPooling2D(2,2))\n",
    "model3.add(Dropout(0.25))\n",
    "model3.add(Flatten())\n",
    "model3.add(Dense(128, activation='relu'))\n",
    "model3.add(Dense(10, activation='softmax'))\n",
    "\n",
    "#Loss and Optimizer\n",
    "model3.compile(loss='categorical_crossentropy', optimizer='adam',metrics=['accuracy'])\n",
    "\n",
    "#Callbacks\n",
    "early_stopping = keras.callbacks.EarlyStopping(monitor='val_accuracy',patience=5,verbose=1, mode='auto',min_delta=0.001)\n",
    "callback_list = [early_stopping]\n",
    "\n",
    "#Train the model\n",
    "model3.fit_generator(datagen.flow(x_train, y_train, batch_size=100),\n",
    "                    steps_per_epoch = x_train.shape[0]/100,\n",
    "                    epochs=20,\n",
    "                    validation_data=(x_test,y_test),\n",
    "                    callbacks=callback_list\n",
    "                   )"
   ]
  },
  {
   "cell_type": "markdown",
   "metadata": {
    "id": "MwQQW5iOJjwq"
   },
   "source": [
    "###  Report the final train and validation accuracy"
   ]
  },
  {
   "cell_type": "code",
   "execution_count": 20,
   "metadata": {
    "colab": {
     "base_uri": "https://localhost:8080/"
    },
    "id": "c1SrtBEPJjwq",
    "outputId": "519c7d46-17f8-4e6c-b815-d0eb483ed5f1"
   },
   "outputs": [
    {
     "name": "stdout",
     "output_type": "stream",
     "text": [
      "313/313 [==============================] - 1s 2ms/step - loss: 0.3412 - accuracy: 0.8758\n"
     ]
    },
    {
     "data": {
      "text/plain": [
       "[0.34120509028434753, 0.8758000135421753]"
      ]
     },
     "execution_count": 20,
     "metadata": {
      "tags": []
     },
     "output_type": "execute_result"
    }
   ],
   "source": [
    "model3.evaluate(x_test, y_test)"
   ]
  },
  {
   "cell_type": "markdown",
   "metadata": {
    "id": "8KXqmUDW2rM1"
   },
   "source": [
    "## **DATA AUGMENTATION ON CIFAR10 DATASET**"
   ]
  },
  {
   "cell_type": "markdown",
   "metadata": {
    "id": "8mja6OgQ3L18"
   },
   "source": [
    "One of the best ways to improve the performance of a Deep Learning model is to add more data to the training set. Aside from gathering more instances from the wild that are representative of the distinction task, we want to develop a set of methods that enhance the data we already have. There are many ways to augment existing datasets and produce more robust models. In the image domain, these are done to utilize the full power of the convolutional neural network, which is able to capture translational invariance. This translational invariance is what makes image recognition such a difficult task in the first place. You want the dataset to be representative of the many different positions, angles, lightings, and miscellaneous distortions that are of interest to the vision task."
   ]
  },
  {
   "cell_type": "markdown",
   "metadata": {
    "id": "6HzVTPUM3WZJ"
   },
   "source": [
    "### **Import neessary libraries for data augmentation**"
   ]
  },
  {
   "cell_type": "code",
   "execution_count": 21,
   "metadata": {
    "id": "PPM558TX4KMb"
   },
   "outputs": [],
   "source": [
    "from keras.datasets import cifar10"
   ]
  },
  {
   "cell_type": "markdown",
   "metadata": {
    "id": "W6hicLwP4SqY"
   },
   "source": [
    "### **Load CIFAR10 dataset**"
   ]
  },
  {
   "cell_type": "code",
   "execution_count": 22,
   "metadata": {
    "id": "NQ1WzrXd4WNk"
   },
   "outputs": [],
   "source": [
    "(X_train, Y_train), (X_test, Y_test) = cifar10.load_data()"
   ]
  },
  {
   "cell_type": "markdown",
   "metadata": {
    "id": "JN3vYYhK4W0u"
   },
   "source": [
    "### **Create a data_gen funtion to genererator with image rotation,shifting image horizontally and vertically with random flip horizontally.**"
   ]
  },
  {
   "cell_type": "code",
   "execution_count": 23,
   "metadata": {
    "id": "JJbekTKi4cmM"
   },
   "outputs": [],
   "source": [
    "datagen = ImageDataGenerator(\n",
    "    featurewise_center=False,  #setting the input mean to be 0 over the dataset\n",
    "    samplewise_center=False, #setting each sample mean to 0\n",
    "    featurewise_std_normalization=False, #divide inputs by standard deviation of the dataset\n",
    "    samplewise_std_normalization=False, #dividing each input by its std\n",
    "    zca_whitening=False, #applying ZCA whitening\n",
    "    rotation_range=50, #randomly rotate images in the range(0 to 180 degrees)\n",
    "    width_shift_range=0.1, #randomly shift images horizontally (fraction of total width)\n",
    "    height_shift_range=0.1, #randomly shift images vertically (fraction of total width)\n",
    "    horizontal_flip=True, #randomly flip images horizontally\n",
    "    vertical_flip=True #randomly flip images vertically\n",
    ")"
   ]
  },
  {
   "cell_type": "markdown",
   "metadata": {
    "id": "e-SLtUhC4dK2"
   },
   "source": [
    "### **Prepare/fit the generator.**"
   ]
  },
  {
   "cell_type": "code",
   "execution_count": 24,
   "metadata": {
    "id": "CSw8Bv2_4hb0"
   },
   "outputs": [],
   "source": [
    "# Prepare the generator\n",
    "datagen.fit(X_train)"
   ]
  },
  {
   "cell_type": "markdown",
   "metadata": {
    "id": "gYyF-P8O4jQ8"
   },
   "source": [
    "### **Generate 5 images for 1 of the image of CIFAR10 train dataset.**"
   ]
  },
  {
   "cell_type": "code",
   "execution_count": 26,
   "metadata": {
    "colab": {
     "base_uri": "https://localhost:8080/",
     "height": 89
    },
    "id": "mXug4z234mwQ",
    "outputId": "cfab88f8-a7f3-4a6c-e5d7-d368f792df08"
   },
   "outputs": [
    {
     "data": {
      "image/png": "[encoded data removed]",
      "text/plain": [
       "<Figure size 432x288 with 5 Axes>"
      ]
     },
     "metadata": {
      "needs_background": "light",
      "tags": []
     },
     "output_type": "display_data"
    }
   ],
   "source": [
    "from matplotlib import pyplot as plt\n",
    "gen = datagen.flow(X_train[1:2], batch_size=1)\n",
    "for i in range(1, 6):\n",
    "    plt.subplot(1,5,i)\n",
    "    plt.axis(\"off\")\n",
    "    plt.imshow(gen.next().astype('uint8').squeeze())\n",
    "    plt.plot()\n",
    "plt.show()"
   ]
  }
 ],
 "metadata": {
  "accelerator": "GPU",
  "colab": {
   "collapsed_sections": [],
   "name": "R7_InternalLab_CNN.ipynb",
   "provenance": []
  },
  "kernelspec": {
   "display_name": "Python 3",
   "language": "python",
   "name": "python3"
  },
  "language_info": {
   "codemirror_mode": {
    "name": "ipython",
    "version": 3
   },
   "file_extension": ".py",
   "mimetype": "text/x-python",
   "name": "python",
   "nbconvert_exporter": "python",
   "pygments_lexer": "ipython3",
   "version": "3.7.4"
  }
 },
 "nbformat": 4,
 "nbformat_minor": 1
}
