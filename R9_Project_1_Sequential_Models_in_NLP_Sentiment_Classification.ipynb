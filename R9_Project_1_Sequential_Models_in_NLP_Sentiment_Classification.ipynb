{
 "cells": [
  {
   "cell_type": "markdown",
   "metadata": {
    "id": "WXaFSkUu0fzm"
   },
   "source": [
    "![alt text](https://drive.google.com/uc?export=view&id=1UXScsVx_Wni_JuDdB8LeTnM6jsPfIwkW)\n",
    "\n",
    "Proprietary content. © Great Learning. All Rights Reserved. Unauthorized use or distribution prohibited."
   ]
  },
  {
   "cell_type": "markdown",
   "metadata": {
    "id": "OudB5by50jlI"
   },
   "source": [
    "# Sentiment Classification"
   ]
  },
  {
   "cell_type": "markdown",
   "metadata": {
    "id": "xT7MKZuMRaCg"
   },
   "source": [
    "### Dataset\n",
    "- Dataset of 50,000 movie reviews from IMDB, labeled by sentiment positive (1) or negative (0)\n",
    "- Reviews have been preprocessed, and each review is encoded as a sequence of word indexes (integers).\n",
    "- For convenience, words are indexed by overall frequency in the dataset, so that for instance the integer \"3\" encodes the 3rd most frequent word in the data. This allows for quick filtering operations such as: \"only consider the top 10,000 most common words, but eliminate the top 20 most common words\".\n",
    "- As a convention, \"0\" does not stand for a specific word, but instead is used to encode any unknown word.\n",
    "\n",
    "Command to import data\n",
    "- `from tensorflow.keras.datasets import imdb`"
   ]
  },
  {
   "cell_type": "code",
   "execution_count": 1,
   "metadata": {
    "id": "_G8Myg4BUQHv"
   },
   "outputs": [],
   "source": [
    "from tensorflow.keras.datasets import imdb"
   ]
  },
  {
   "cell_type": "code",
   "execution_count": 2,
   "metadata": {
    "colab": {
     "base_uri": "https://localhost:8080/"
    },
    "id": "QkNbc8rikfQ-",
    "outputId": "54f69d02-8a00-4575-f921-e4247002e319"
   },
   "outputs": [
    {
     "name": "stdout",
     "output_type": "stream",
     "text": [
      "2.4.1\n"
     ]
    }
   ],
   "source": [
    "# used to supress display of warnings\n",
    "import warnings\n",
    "\n",
    "# os is used to provide a way of using operating system dependent functionality\n",
    "# We use it for setting working folder\n",
    "import os\n",
    "\n",
    "# Pandas is used for data manipulation and analysis\n",
    "import pandas as pd \n",
    "\n",
    "# Numpy is used for large, multi-dimensional arrays and matrices, along with mathematical operators on these arrays\n",
    "import numpy as np\n",
    "\n",
    "# Matplotlib is a data visualization library for 2D plots of arrays, built on NumPy arrays \n",
    "# and designed to work with the broader SciPy stack\n",
    "import matplotlib.pyplot as plt\n",
    "%matplotlib inline\n",
    "from matplotlib import pyplot\n",
    "\n",
    "# Seaborn is based on matplotlib, which aids in drawing attractive and informative statistical graphics.\n",
    "import seaborn as sns\n",
    "import tensorflow \n",
    "print(tensorflow.__version__)"
   ]
  },
  {
   "cell_type": "code",
   "execution_count": 3,
   "metadata": {
    "id": "qmJe_0zlkxy0"
   },
   "outputs": [],
   "source": [
    "# suppress display of warnings\n",
    "warnings.filterwarnings('ignore')\n",
    "\n",
    "# display all dataframe columns\n",
    "pd.options.display.max_columns = None\n",
    "\n",
    "# to set the limit to 3 decimals\n",
    "pd.options.display.float_format = '{:.7f}'.format\n",
    "\n",
    "# display all dataframe rows\n",
    "pd.options.display.max_rows = None"
   ]
  },
  {
   "cell_type": "markdown",
   "metadata": {
    "id": "Q34-Y3nRKXdO"
   },
   "source": [
    "### Import the data (2 Marks)\n",
    "- Use `imdb.load_data()` method\n",
    "- Get train and test set\n",
    "- Take 10000 most frequent words"
   ]
  },
  {
   "cell_type": "code",
   "execution_count": 4,
   "metadata": {
    "id": "JxfwbrbuKbk2"
   },
   "outputs": [],
   "source": [
    "#### Add your code here ####\n",
    "(X_train, y_train), (X_test, y_test) = imdb.load_data(num_words=10000)"
   ]
  },
  {
   "cell_type": "code",
   "execution_count": 5,
   "metadata": {
    "colab": {
     "base_uri": "https://localhost:8080/"
    },
    "id": "4r1JeCc8nd3a",
    "outputId": "007993ba-7147-48d8-87b3-356bcc365725"
   },
   "outputs": [
    {
     "name": "stdout",
     "output_type": "stream",
     "text": [
      "Shape of X_train (25000,)\n",
      "Shape of y_train (25000,)\n",
      "Shape of X_test (25000,)\n",
      "Shape of y_test (25000,)\n"
     ]
    }
   ],
   "source": [
    "print(\"Shape of X_train\", X_train.shape)\n",
    "print(\"Shape of y_train\", y_train.shape)\n",
    "print(\"Shape of X_test\", X_test.shape)\n",
    "print(\"Shape of y_test\", y_test.shape)"
   ]
  },
  {
   "cell_type": "code",
   "execution_count": 6,
   "metadata": {
    "id": "xXCE-mcMolNn"
   },
   "outputs": [],
   "source": [
    "features = np.concatenate((X_train, X_test), axis=0)"
   ]
  },
  {
   "cell_type": "code",
   "execution_count": 7,
   "metadata": {
    "id": "BgtXxqMJUgtp"
   },
   "outputs": [],
   "source": [
    "target = np.concatenate((y_train, y_test), axis=0)"
   ]
  },
  {
   "cell_type": "code",
   "execution_count": 8,
   "metadata": {
    "colab": {
     "base_uri": "https://localhost:8080/"
    },
    "id": "GIrb8Z-Fi2b-",
    "outputId": "fe9bef6d-14fb-4122-9fd0-ed8d508c57fc"
   },
   "outputs": [
    {
     "data": {
      "text/plain": [
       "(array([0, 1]), array([12500, 12500]))"
      ]
     },
     "execution_count": 8,
     "metadata": {
      "tags": []
     },
     "output_type": "execute_result"
    }
   ],
   "source": [
    "np.unique(y_test,return_counts=True)"
   ]
  },
  {
   "cell_type": "markdown",
   "metadata": {
    "id": "DldivBO4LTbP"
   },
   "source": [
    "### Pad each sentence to be of same length (2 Marks)\n",
    "- Take maximum sequence length as 300"
   ]
  },
  {
   "cell_type": "code",
   "execution_count": 9,
   "metadata": {
    "id": "E808XB4tLtic"
   },
   "outputs": [],
   "source": [
    "#### Add your code here ####\n",
    "from keras.preprocessing import sequence\n",
    "X_train = sequence.pad_sequences(X_train, maxlen=300)"
   ]
  },
  {
   "cell_type": "code",
   "execution_count": 10,
   "metadata": {
    "id": "zhpaeL3BviIw"
   },
   "outputs": [],
   "source": [
    "X_test = sequence.pad_sequences(X_test, maxlen=300)"
   ]
  },
  {
   "cell_type": "markdown",
   "metadata": {
    "id": "JBFFCrybMSXz"
   },
   "source": [
    "### Print shape of features & labels (2 Marks)"
   ]
  },
  {
   "cell_type": "code",
   "execution_count": 11,
   "metadata": {
    "colab": {
     "base_uri": "https://localhost:8080/"
    },
    "id": "sO-BgFbLUpCV",
    "outputId": "723c3c08-9fbb-4a9e-fc67-58fbb59d707c"
   },
   "outputs": [
    {
     "name": "stdout",
     "output_type": "stream",
     "text": [
      "Shape of X_train (25000, 300)\n",
      "Shape of y_train (25000,)\n",
      "Shape of X_test (25000, 300)\n",
      "Shape of y_test (25000,)\n"
     ]
    }
   ],
   "source": [
    "print(\"Shape of X_train\", X_train.shape)\n",
    "print(\"Shape of y_train\", y_train.shape)\n",
    "print(\"Shape of X_test\", X_test.shape)\n",
    "print(\"Shape of y_test\", y_test.shape)"
   ]
  },
  {
   "cell_type": "markdown",
   "metadata": {
    "id": "qOcyRtZfMYZd"
   },
   "source": [
    "Number of review, number of words in each review"
   ]
  },
  {
   "cell_type": "code",
   "execution_count": 12,
   "metadata": {
    "colab": {
     "base_uri": "https://localhost:8080/"
    },
    "id": "j_BxMu_mVecP",
    "outputId": "a36804ae-26ea-4fb9-ef19-621ba608f9f4"
   },
   "outputs": [
    {
     "data": {
      "text/plain": [
       "(50000,)"
      ]
     },
     "execution_count": 12,
     "metadata": {
      "tags": []
     },
     "output_type": "execute_result"
    }
   ],
   "source": [
    "features.shape"
   ]
  },
  {
   "cell_type": "code",
   "execution_count": 13,
   "metadata": {
    "colab": {
     "base_uri": "https://localhost:8080/"
    },
    "id": "UL2dbvTzXGwX",
    "outputId": "9edd750a-d224-453e-d588-141c519d9a77"
   },
   "outputs": [
    {
     "name": "stdout",
     "output_type": "stream",
     "text": [
      "[1, 14, 22, 16, 43, 530, 973, 1622, 1385, 65, 458, 4468, 66, 3941, 4, 173, 36, 256, 5, 25, 100, 43, 838, 112, 50, 670, 2, 9, 35, 480, 284, 5, 150, 4, 172, 112, 167, 2, 336, 385, 39, 4, 172, 4536, 1111, 17, 546, 38, 13, 447, 4, 192, 50, 16, 6, 147, 2025, 19, 14, 22, 4, 1920, 4613, 469, 4, 22, 71, 87, 12, 16, 43, 530, 38, 76, 15, 13, 1247, 4, 22, 17, 515, 17, 12, 16, 626, 18, 2, 5, 62, 386, 12, 8, 316, 8, 106, 5, 4, 2223, 5244, 16, 480, 66, 3785, 33, 4, 130, 12, 16, 38, 619, 5, 25, 124, 51, 36, 135, 48, 25, 1415, 33, 6, 22, 12, 215, 28, 77, 52, 5, 14, 407, 16, 82, 2, 8, 4, 107, 117, 5952, 15, 256, 4, 2, 7, 3766, 5, 723, 36, 71, 43, 530, 476, 26, 400, 317, 46, 7, 4, 2, 1029, 13, 104, 88, 4, 381, 15, 297, 98, 32, 2071, 56, 26, 141, 6, 194, 7486, 18, 4, 226, 22, 21, 134, 476, 26, 480, 5, 144, 30, 5535, 18, 51, 36, 28, 224, 92, 25, 104, 4, 226, 65, 16, 38, 1334, 88, 12, 16, 283, 5, 16, 4472, 113, 103, 32, 15, 16, 5345, 19, 178, 32]\n"
     ]
    }
   ],
   "source": [
    "print(features[0])"
   ]
  },
  {
   "cell_type": "code",
   "execution_count": 14,
   "metadata": {
    "colab": {
     "base_uri": "https://localhost:8080/"
    },
    "id": "RL-ddkoLZbUW",
    "outputId": "e2781352-9a76-4232-c422-474422110262"
   },
   "outputs": [
    {
     "name": "stdout",
     "output_type": "stream",
     "text": [
      "Average Review length: 234.75892\n"
     ]
    }
   ],
   "source": [
    "#Average number of words in each review\n",
    "length = [len(i) for i in features]\n",
    "print(\"Average Review length:\", np.mean(length))"
   ]
  },
  {
   "cell_type": "markdown",
   "metadata": {
    "id": "FOZJd1E2Vrbe"
   },
   "source": [
    "Overall there are 50k reviews"
   ]
  },
  {
   "cell_type": "code",
   "execution_count": 15,
   "metadata": {
    "colab": {
     "base_uri": "https://localhost:8080/"
    },
    "id": "erPkcBREn4mr",
    "outputId": "868cf33e-722f-4510-fcee-e89d5b2f3351"
   },
   "outputs": [
    {
     "name": "stdout",
     "output_type": "stream",
     "text": [
      "Shape of X_train (25000, 300)\n",
      "Shape of y_train (25000,)\n",
      "Shape of X_test (25000, 300)\n",
      "Shape of y_test (25000,)\n"
     ]
    }
   ],
   "source": [
    "print(\"Shape of X_train\", X_train.shape)\n",
    "print(\"Shape of y_train\", y_train.shape)\n",
    "print(\"Shape of X_test\", X_test.shape)\n",
    "print(\"Shape of y_test\", y_test.shape)"
   ]
  },
  {
   "cell_type": "markdown",
   "metadata": {
    "id": "5cNk5sDvMr3j"
   },
   "source": [
    "Number of labels"
   ]
  },
  {
   "cell_type": "code",
   "execution_count": 18,
   "metadata": {
    "colab": {
     "base_uri": "https://localhost:8080/"
    },
    "id": "6Z00-mYgMoKv",
    "outputId": "5c7048a2-c781-4c10-8729-9ee7254d3219"
   },
   "outputs": [
    {
     "name": "stdout",
     "output_type": "stream",
     "text": [
      "Number of Labels:  (array([0, 1]), array([25000, 25000]))\n"
     ]
    }
   ],
   "source": [
    "print(\"Number of Labels: \", np.unique(target,return_counts=True))"
   ]
  },
  {
   "cell_type": "markdown",
   "metadata": {
    "id": "FCS_q6SFZ3Fy"
   },
   "source": [
    "We have 2 labels 0 and 1 which may stand for negative sentiment and positive. Number of reviews for both positive and negative are 25k records each"
   ]
  },
  {
   "cell_type": "markdown",
   "metadata": {
    "id": "NdXPWuOmNEbh"
   },
   "source": [
    "### Print value of any one feature and it's label (2 Marks)"
   ]
  },
  {
   "cell_type": "markdown",
   "metadata": {
    "id": "MGLEdeFmNZfR"
   },
   "source": [
    "Feature value"
   ]
  },
  {
   "cell_type": "code",
   "execution_count": 19,
   "metadata": {
    "colab": {
     "base_uri": "https://localhost:8080/"
    },
    "id": "RKFyMa28zztL",
    "outputId": "d21a8c36-20d9-4af3-bada-b92fcd2f5470"
   },
   "outputs": [
    {
     "name": "stdout",
     "output_type": "stream",
     "text": [
      "[1, 785, 189, 438, 47, 110, 142, 7, 6, 7475, 120, 4, 236, 378, 7, 153, 19, 87, 108, 141, 17, 1004, 5, 2, 883, 2, 23, 8, 4, 136, 2, 2, 4, 7475, 43, 1076, 21, 1407, 419, 5, 5202, 120, 91, 682, 189, 2818, 5, 9, 1348, 31, 7, 4, 118, 785, 189, 108, 126, 93, 2, 16, 540, 324, 23, 6, 364, 352, 21, 14, 9, 93, 56, 18, 11, 230, 53, 771, 74, 31, 34, 4, 2834, 7, 4, 22, 5, 14, 11, 471, 9, 2, 34, 4, 321, 487, 5, 116, 15, 6584, 4, 22, 9, 6, 2286, 4, 114, 2679, 23, 107, 293, 1008, 1172, 5, 328, 1236, 4, 1375, 109, 9, 6, 132, 773, 2, 1412, 8, 1172, 18, 7865, 29, 9, 276, 11, 6, 2768, 19, 289, 409, 4, 5341, 2140, 2, 648, 1430, 2, 8914, 5, 27, 3000, 1432, 7130, 103, 6, 346, 137, 11, 4, 2768, 295, 36, 7740, 725, 6, 3208, 273, 11, 4, 1513, 15, 1367, 35, 154, 2, 103, 2, 173, 7, 12, 36, 515, 3547, 94, 2547, 1722, 5, 3547, 36, 203, 30, 502, 8, 361, 12, 8, 989, 143, 4, 1172, 3404, 10, 10, 328, 1236, 9, 6, 55, 221, 2989, 5, 146, 165, 179, 770, 15, 50, 713, 53, 108, 448, 23, 12, 17, 225, 38, 76, 4397, 18, 183, 8, 81, 19, 12, 45, 1257, 8, 135, 15, 2, 166, 4, 118, 7, 45, 2, 17, 466, 45, 2, 4, 22, 115, 165, 764, 6075, 5, 1030, 8, 2973, 73, 469, 167, 2127, 2, 1568, 6, 87, 841, 18, 4, 22, 4, 192, 15, 91, 7, 12, 304, 273, 1004, 4, 1375, 1172, 2768, 2, 15, 4, 22, 764, 55, 5773, 5, 14, 4233, 7444, 4, 1375, 326, 7, 4, 4760, 1786, 8, 361, 1236, 8, 989, 46, 7, 4, 2768, 45, 55, 776, 8, 79, 496, 98, 45, 400, 301, 15, 4, 1859, 9, 4, 155, 15, 66, 2, 84, 5, 14, 22, 1534, 15, 17, 4, 167, 2, 15, 75, 70, 115, 66, 30, 252, 7, 618, 51, 9, 2161, 4, 3130, 5, 14, 1525, 8, 6584, 15, 2, 165, 127, 1921, 8, 30, 179, 2532, 4, 22, 9, 906, 18, 6, 176, 7, 1007, 1005, 4, 1375, 114, 4, 105, 26, 32, 55, 221, 11, 68, 205, 96, 5, 4, 192, 15, 4, 274, 410, 220, 304, 23, 94, 205, 109, 9, 55, 73, 224, 259, 3786, 15, 4, 22, 528, 1645, 34, 4, 130, 528, 30, 685, 345, 17, 4, 277, 199, 166, 281, 5, 1030, 8, 30, 179, 4442, 444, 2, 9, 6, 371, 87, 189, 22, 5, 31, 7, 4, 118, 7, 4, 2068, 545, 1178, 829]\n"
     ]
    }
   ],
   "source": [
    "print(features[10])"
   ]
  },
  {
   "cell_type": "markdown",
   "metadata": {
    "id": "h_85Hqm0Nb1I"
   },
   "source": [
    "Label value"
   ]
  },
  {
   "cell_type": "code",
   "execution_count": 20,
   "metadata": {
    "colab": {
     "base_uri": "https://localhost:8080/"
    },
    "id": "-FoehB5jNd1g",
    "outputId": "0a9611e0-9d6c-4b14-c244-d517466caa8e"
   },
   "outputs": [
    {
     "name": "stdout",
     "output_type": "stream",
     "text": [
      "1\n"
     ]
    }
   ],
   "source": [
    "print(target[10])"
   ]
  },
  {
   "cell_type": "markdown",
   "metadata": {
    "id": "o-szAdiPalD9"
   },
   "source": [
    "At index 10, we see the label is 1(positive sentiment)"
   ]
  },
  {
   "cell_type": "markdown",
   "metadata": {
    "id": "0cof4LSxNxuv"
   },
   "source": [
    "### Decode the feature value to get original sentence (2 Marks)"
   ]
  },
  {
   "cell_type": "markdown",
   "metadata": {
    "id": "Q_oiAyPZOkJD"
   },
   "source": [
    "First, retrieve a dictionary that contains mapping of words to their index in the IMDB dataset"
   ]
  },
  {
   "cell_type": "code",
   "execution_count": 21,
   "metadata": {
    "id": "Clsk-yK8OtzD"
   },
   "outputs": [],
   "source": [
    "index = imdb.get_word_index()\n",
    "reverse_index = dict([(value, key) for (key, value) in index.items()]) "
   ]
  },
  {
   "cell_type": "markdown",
   "metadata": {
    "id": "NRgOD5S2Uuvd"
   },
   "source": [
    "Now use the dictionary to get the original words from the encodings, for a particular sentence"
   ]
  },
  {
   "cell_type": "markdown",
   "metadata": {
    "id": "Vz9WVpZUa7ki"
   },
   "source": [
    "Lets try decoding for the same index 10 used in our previous example"
   ]
  },
  {
   "cell_type": "code",
   "execution_count": 22,
   "metadata": {
    "colab": {
     "base_uri": "https://localhost:8080/"
    },
    "id": "zJ504QDORwxj",
    "outputId": "f9a11a4c-f379-418a-ede1-1a785118baa4"
   },
   "outputs": [
    {
     "name": "stdout",
     "output_type": "stream",
     "text": [
      "# french horror cinema has seen something of a revival over the last couple of years with great films such as inside and # romance # on to the scene # # the revival just slightly but stands head and shoulders over most modern horror titles and is surely one of the best french horror films ever made # was obviously shot on a low budget but this is made up for in far more ways than one by the originality of the film and this in turn is # by the excellent writing and acting that ensure the film is a winner the plot focuses on two main ideas prison and black magic the central character is a man named # sent to prison for fraud he is put in a cell with three others the quietly insane # body building # marcus and his retarded boyfriend daisy after a short while in the cell together they stumble upon a hiding place in the wall that contains an old # after # part of it they soon realise its magical powers and realise they may be able to use it to break through the prison walls br br black magic is a very interesting topic and i'm actually quite surprised that there aren't more films based on it as there's so much scope for things to do with it it's fair to say that # makes the best of it's # as despite it's # the film never actually feels restrained and manages to flow well throughout director eric # provides a great atmosphere for the film the fact that most of it takes place inside the central prison cell # that the film feels very claustrophobic and this immensely benefits the central idea of the prisoners wanting to use magic to break out of the cell it's very easy to get behind them it's often said that the unknown is the thing that really # people and this film proves that as the director # that we can never really be sure of exactly what is round the corner and this helps to ensure that # actually does manage to be quite frightening the film is memorable for a lot of reasons outside the central plot the characters are all very interesting in their own way and the fact that the book itself almost takes on its own character is very well done anyone worried that the film won't deliver by the end won't be disappointed either as the ending both makes sense and manages to be quite horrifying overall # is a truly great horror film and one of the best of the decade highly recommended viewing\n"
     ]
    }
   ],
   "source": [
    "decoded_review = \" \".join( [reverse_index.get(i - 3, \"#\") for i in features[10]] )\n",
    "print(decoded_review) "
   ]
  },
  {
   "cell_type": "markdown",
   "metadata": {
    "id": "rgw_hbeLbomm"
   },
   "source": [
    "Sentiment of this sentence is positive if we glance through it. Lets see what the Target label has"
   ]
  },
  {
   "cell_type": "markdown",
   "metadata": {
    "id": "WLGABrJoVZe6"
   },
   "source": [
    "Get the sentiment for the above sentence\n",
    "- positive (1)\n",
    "- negative (0)"
   ]
  },
  {
   "cell_type": "code",
   "execution_count": 23,
   "metadata": {
    "colab": {
     "base_uri": "https://localhost:8080/"
    },
    "id": "XDyQGJT0Ve-a",
    "outputId": "af65c5bc-054d-4a48-e483-83d7dc8102f1"
   },
   "outputs": [
    {
     "data": {
      "text/plain": [
       "1"
      ]
     },
     "execution_count": 23,
     "metadata": {
      "tags": []
     },
     "output_type": "execute_result"
    }
   ],
   "source": [
    "target[10]"
   ]
  },
  {
   "cell_type": "markdown",
   "metadata": {
    "id": "AfMhaRDJb38k"
   },
   "source": [
    "Target label also has 1(positive)"
   ]
  },
  {
   "cell_type": "markdown",
   "metadata": {
    "id": "BmCjr8miXIWB"
   },
   "source": [
    "### Define model (10 Marks)\n",
    "- Define a Sequential Model\n",
    "- Add Embedding layer\n",
    "  - Embedding layer turns positive integers into dense vectors of fixed size\n",
    "  - `tensorflow.keras` embedding layer doesn't require us to onehot encode our words, instead we have to give each word a unique integer number as an id. For the imdb dataset we've loaded this has already been done, but if this wasn't the case we could use sklearn LabelEncoder.\n",
    "  - Size of the vocabulary will be 10000\n",
    "  - Give dimension of the dense embedding as 100\n",
    "  - Length of input sequences should be 300\n",
    "- Add LSTM layer\n",
    "  - Pass value in `return_sequences` as True\n",
    "- Add a `TimeDistributed` layer with 100 Dense neurons\n",
    "- Add Flatten layer\n",
    "- Add Dense layer"
   ]
  },
  {
   "cell_type": "code",
   "execution_count": 24,
   "metadata": {
    "id": "Qy2yi2ifdy62"
   },
   "outputs": [],
   "source": [
    "from tensorflow.keras.models import Sequential\n",
    "from tensorflow.keras.layers import Embedding, LSTM, Flatten, Dense, Dropout, Conv1D, MaxPooling1D\n",
    "from keras.layers.wrappers import TimeDistributed"
   ]
  },
  {
   "cell_type": "code",
   "execution_count": 25,
   "metadata": {
    "id": "XutvfC0edXHa"
   },
   "outputs": [],
   "source": [
    "num_distinct_words = 10000\n",
    "max_sequence_length = 300\n",
    "emb_output_dims = 15"
   ]
  },
  {
   "cell_type": "code",
   "execution_count": 26,
   "metadata": {
    "id": "8yGF5RO2dVeg"
   },
   "outputs": [],
   "source": [
    "# Define the Keras model\n",
    "model = Sequential()\n",
    "model.add(Embedding(num_distinct_words, emb_output_dims, input_length=max_sequence_length))\n",
    "model.add(LSTM(128, return_sequences = True))\n",
    "model.add(TimeDistributed(Dense(100)))\n",
    "model.add(Dropout(0.50))\n",
    "model.add(Flatten())\n",
    "model.add(Dense(1, activation='sigmoid'))"
   ]
  },
  {
   "cell_type": "markdown",
   "metadata": {
    "id": "Hc4bknOobDby"
   },
   "source": [
    "### Compile the model (2 Marks)\n",
    "- Use Optimizer as Adam\n",
    "- Use Binary Crossentropy as loss\n",
    "- Use Accuracy as metrics"
   ]
  },
  {
   "cell_type": "code",
   "execution_count": 27,
   "metadata": {
    "id": "jw4RJ0CQbwFY"
   },
   "outputs": [],
   "source": [
    "# Compile the model\n",
    "model.compile(optimizer='adam', loss='binary_crossentropy', metrics='accuracy')"
   ]
  },
  {
   "cell_type": "markdown",
   "metadata": {
    "id": "8sEzwazqbz3T"
   },
   "source": [
    "### Print model summary (2 Marks)"
   ]
  },
  {
   "cell_type": "code",
   "execution_count": 28,
   "metadata": {
    "colab": {
     "base_uri": "https://localhost:8080/"
    },
    "id": "6Hx1yxwlb2Ue",
    "outputId": "d751bcd4-b9af-4f4f-ff37-880d27b17387"
   },
   "outputs": [
    {
     "name": "stdout",
     "output_type": "stream",
     "text": [
      "Model: \"sequential\"\n",
      "_________________________________________________________________\n",
      "Layer (type)                 Output Shape              Param #   \n",
      "=================================================================\n",
      "embedding (Embedding)        (None, 300, 15)           150000    \n",
      "_________________________________________________________________\n",
      "lstm (LSTM)                  (None, 300, 128)          73728     \n",
      "_________________________________________________________________\n",
      "time_distributed (TimeDistri (None, 300, 100)          12900     \n",
      "_________________________________________________________________\n",
      "dropout (Dropout)            (None, 300, 100)          0         \n",
      "_________________________________________________________________\n",
      "flatten (Flatten)            (None, 30000)             0         \n",
      "_________________________________________________________________\n",
      "dense_1 (Dense)              (None, 1)                 30001     \n",
      "=================================================================\n",
      "Total params: 266,629\n",
      "Trainable params: 266,629\n",
      "Non-trainable params: 0\n",
      "_________________________________________________________________\n"
     ]
    }
   ],
   "source": [
    "model.summary()"
   ]
  },
  {
   "cell_type": "markdown",
   "metadata": {
    "id": "bmkolKP4b-U6"
   },
   "source": [
    "### Fit the model (2 Marks)"
   ]
  },
  {
   "cell_type": "code",
   "execution_count": 30,
   "metadata": {
    "colab": {
     "base_uri": "https://localhost:8080/"
    },
    "id": "vRg3KFXLcAkk",
    "outputId": "c8d435c4-a657-4ccf-f3c1-749ad07a5723"
   },
   "outputs": [
    {
     "name": "stdout",
     "output_type": "stream",
     "text": [
      "Epoch 1/20\n",
      "200/200 [==============================] - 18s 86ms/step - loss: 0.0626 - accuracy: 0.9772 - val_loss: 0.5308 - val_accuracy: 0.8672\n",
      "Epoch 2/20\n",
      "200/200 [==============================] - 16s 82ms/step - loss: 0.0379 - accuracy: 0.9877 - val_loss: 0.6503 - val_accuracy: 0.8654\n",
      "Epoch 3/20\n",
      "200/200 [==============================] - 17s 83ms/step - loss: 0.0265 - accuracy: 0.9917 - val_loss: 0.8374 - val_accuracy: 0.8646\n",
      "Epoch 4/20\n",
      "200/200 [==============================] - 17s 83ms/step - loss: 0.0176 - accuracy: 0.9946 - val_loss: 1.0404 - val_accuracy: 0.8628\n",
      "Epoch 5/20\n",
      "200/200 [==============================] - 16s 82ms/step - loss: 0.0104 - accuracy: 0.9966 - val_loss: 1.3093 - val_accuracy: 0.8632\n",
      "Epoch 6/20\n",
      "200/200 [==============================] - 16s 82ms/step - loss: 0.0110 - accuracy: 0.9961 - val_loss: 1.4805 - val_accuracy: 0.8650\n",
      "Epoch 7/20\n",
      "200/200 [==============================] - 17s 83ms/step - loss: 0.0196 - accuracy: 0.9928 - val_loss: 1.3509 - val_accuracy: 0.8562\n",
      "Epoch 8/20\n",
      "200/200 [==============================] - 17s 84ms/step - loss: 0.0179 - accuracy: 0.9936 - val_loss: 1.1912 - val_accuracy: 0.8604\n",
      "Epoch 9/20\n",
      "200/200 [==============================] - 16s 83ms/step - loss: 0.0202 - accuracy: 0.9923 - val_loss: 1.2137 - val_accuracy: 0.8646\n",
      "Epoch 10/20\n",
      "200/200 [==============================] - 16s 83ms/step - loss: 0.0127 - accuracy: 0.9953 - val_loss: 1.3864 - val_accuracy: 0.8616\n",
      "Epoch 11/20\n",
      "200/200 [==============================] - 17s 83ms/step - loss: 0.0077 - accuracy: 0.9973 - val_loss: 1.4398 - val_accuracy: 0.8610\n",
      "Epoch 12/20\n",
      "200/200 [==============================] - 17s 84ms/step - loss: 0.0061 - accuracy: 0.9977 - val_loss: 1.5288 - val_accuracy: 0.8614\n",
      "Epoch 13/20\n",
      "200/200 [==============================] - 16s 82ms/step - loss: 0.0080 - accuracy: 0.9973 - val_loss: 1.6323 - val_accuracy: 0.8642\n",
      "Epoch 14/20\n",
      "200/200 [==============================] - 16s 82ms/step - loss: 0.0066 - accuracy: 0.9979 - val_loss: 1.5950 - val_accuracy: 0.8594\n",
      "Epoch 15/20\n",
      "200/200 [==============================] - 17s 83ms/step - loss: 0.0073 - accuracy: 0.9973 - val_loss: 1.8525 - val_accuracy: 0.8560\n",
      "Epoch 16/20\n",
      "200/200 [==============================] - 17s 84ms/step - loss: 0.0125 - accuracy: 0.9962 - val_loss: 1.5912 - val_accuracy: 0.8608\n",
      "Epoch 17/20\n",
      "200/200 [==============================] - 16s 82ms/step - loss: 0.0103 - accuracy: 0.9966 - val_loss: 1.7095 - val_accuracy: 0.8574\n",
      "Epoch 18/20\n",
      "200/200 [==============================] - 17s 83ms/step - loss: 0.0072 - accuracy: 0.9980 - val_loss: 1.4794 - val_accuracy: 0.8586\n",
      "Epoch 19/20\n",
      "200/200 [==============================] - 17s 84ms/step - loss: 0.0041 - accuracy: 0.9985 - val_loss: 1.7803 - val_accuracy: 0.8592\n",
      "Epoch 20/20\n",
      "200/200 [==============================] - 17s 84ms/step - loss: 0.0058 - accuracy: 0.9979 - val_loss: 1.9658 - val_accuracy: 0.8592\n"
     ]
    }
   ],
   "source": [
    "history = model.fit(X_train, y_train, epochs=20, batch_size=100, verbose=True, validation_split=0.20)"
   ]
  },
  {
   "cell_type": "markdown",
   "metadata": {
    "id": "bwLl54MXnkEA"
   },
   "source": [
    "### Evaluate model (2 Marks)"
   ]
  },
  {
   "cell_type": "code",
   "execution_count": 31,
   "metadata": {
    "colab": {
     "base_uri": "https://localhost:8080/"
    },
    "id": "ZlHQFr92ju-u",
    "outputId": "4993eca9-2d0c-4ec5-a5b5-15383cd0598d"
   },
   "outputs": [
    {
     "name": "stdout",
     "output_type": "stream",
     "text": [
      "Test results - Loss: 2.0571508407592773 - Accuracy: 84.61199998855591%\n"
     ]
    }
   ],
   "source": [
    "test_results = model.evaluate(X_test, y_test, verbose=False)\n",
    "print(f'Test results - Loss: {test_results[0]} - Accuracy: {100*test_results[1]}%')"
   ]
  },
  {
   "cell_type": "code",
   "execution_count": 32,
   "metadata": {
    "id": "tPza6f23wsOT"
   },
   "outputs": [],
   "source": [
    "predictions = model.predict(X_test)"
   ]
  },
  {
   "cell_type": "code",
   "execution_count": 43,
   "metadata": {
    "colab": {
     "base_uri": "https://localhost:8080/"
    },
    "id": "4FoqXPSa2fHl",
    "outputId": "329f4a53-e696-4448-dd6b-29110e036159"
   },
   "outputs": [
    {
     "data": {
      "text/plain": [
       "array([[9.3949413e-01],\n",
       "       [1.0000000e+00],\n",
       "       [5.4526347e-01],\n",
       "       ...,\n",
       "       [2.5961464e-03],\n",
       "       [5.0870134e-05],\n",
       "       [9.9999881e-01]], dtype=float32)"
      ]
     },
     "execution_count": 43,
     "metadata": {
      "tags": []
     },
     "output_type": "execute_result"
    }
   ],
   "source": [
    "predictions"
   ]
  },
  {
   "cell_type": "code",
   "execution_count": 50,
   "metadata": {
    "id": "0GPM8r2_2KUS"
   },
   "outputs": [],
   "source": [
    "result = predictions.round().flatten().tolist()"
   ]
  },
  {
   "cell_type": "code",
   "execution_count": 51,
   "metadata": {
    "id": "uc2hKpFz2lcw"
   },
   "outputs": [],
   "source": [
    "y_test_true = y_test.tolist()"
   ]
  },
  {
   "cell_type": "code",
   "execution_count": 52,
   "metadata": {
    "colab": {
     "base_uri": "https://localhost:8080/"
    },
    "id": "G_tw_ZX_yux3",
    "outputId": "3f10a709-9df0-4383-d22a-8f69969ffb2c"
   },
   "outputs": [
    {
     "name": "stdout",
     "output_type": "stream",
     "text": [
      "              precision    recall  f1-score   support\n",
      "\n",
      "           0       0.87      0.81      0.84     12500\n",
      "           1       0.83      0.88      0.85     12500\n",
      "\n",
      "    accuracy                           0.85     25000\n",
      "   macro avg       0.85      0.85      0.85     25000\n",
      "weighted avg       0.85      0.85      0.85     25000\n",
      "\n"
     ]
    }
   ],
   "source": [
    "from sklearn.metrics import classification_report\n",
    "print(classification_report(y_test_true, result))"
   ]
  },
  {
   "cell_type": "markdown",
   "metadata": {
    "id": "pHaQ1yo04GE7"
   },
   "source": [
    "We get around 85% accuracy for our model in sentiment analysis"
   ]
  },
  {
   "cell_type": "code",
   "execution_count": 54,
   "metadata": {
    "id": "DNHVi01Tyy9K"
   },
   "outputs": [],
   "source": [
    "epochs = range(len(history.history['accuracy']))"
   ]
  },
  {
   "cell_type": "code",
   "execution_count": 55,
   "metadata": {
    "colab": {
     "base_uri": "https://localhost:8080/",
     "height": 298
    },
    "id": "u4sh-EjUy1V1",
    "outputId": "170fa27e-6b73-4a3a-d0bd-60ed0f19f5d1"
   },
   "outputs": [
    {
     "data": {
      "text/plain": [
       "<Figure size 432x288 with 0 Axes>"
      ]
     },
     "execution_count": 55,
     "metadata": {
      "tags": []
     },
     "output_type": "execute_result"
    },
    {
     "data": {
      "image/png": "[encoded data removed]",
      "text/plain": [
       "<Figure size 432x288 with 1 Axes>"
      ]
     },
     "metadata": {
      "needs_background": "light",
      "tags": []
     },
     "output_type": "display_data"
    },
    {
     "data": {
      "text/plain": [
       "<Figure size 432x288 with 0 Axes>"
      ]
     },
     "metadata": {
      "tags": []
     },
     "output_type": "display_data"
    }
   ],
   "source": [
    "import matplotlib.pyplot as plt\n",
    "\n",
    "plt.plot(epochs, history.history['accuracy'], label = 'Training Accuracy')\n",
    "plt.plot(epochs, history.history['val_accuracy'], label = 'Validation Accuracy')\n",
    "plt.legend(loc = 'upper left')\n",
    "plt.figure()"
   ]
  },
  {
   "cell_type": "code",
   "execution_count": 56,
   "metadata": {
    "colab": {
     "base_uri": "https://localhost:8080/",
     "height": 298
    },
    "id": "9YWOrKHiy4Cv",
    "outputId": "97bacdb7-79a9-416a-9012-4068777400b6"
   },
   "outputs": [
    {
     "data": {
      "text/plain": [
       "<Figure size 432x288 with 0 Axes>"
      ]
     },
     "execution_count": 56,
     "metadata": {
      "tags": []
     },
     "output_type": "execute_result"
    },
    {
     "data": {
      "image/png": "[encoded data removed]",
      "text/plain": [
       "<Figure size 432x288 with 1 Axes>"
      ]
     },
     "metadata": {
      "needs_background": "light",
      "tags": []
     },
     "output_type": "display_data"
    },
    {
     "data": {
      "text/plain": [
       "<Figure size 432x288 with 0 Axes>"
      ]
     },
     "metadata": {
      "tags": []
     },
     "output_type": "display_data"
    }
   ],
   "source": [
    "plt.plot(epochs, history.history['loss'], label = 'Training loss')\n",
    "plt.plot(epochs, history.history['val_loss'], label = 'Validation loss')\n",
    "plt.legend(loc = 'upper left')\n",
    "plt.figure()"
   ]
  },
  {
   "cell_type": "markdown",
   "metadata": {
    "id": "UXHOwrD435uK"
   },
   "source": [
    "We see a case of overfitting as the training accuracy is always higher"
   ]
  },
  {
   "cell_type": "markdown",
   "metadata": {
    "id": "h2amr1tJn9Jz"
   },
   "source": [
    "### Predict on one sample (2 Marks)"
   ]
  },
  {
   "cell_type": "markdown",
   "metadata": {
    "id": "hFcGiWZknwiz"
   },
   "source": [
    "Lets take the first 2 records in the test set"
   ]
  },
  {
   "cell_type": "code",
   "execution_count": 105,
   "metadata": {
    "colab": {
     "base_uri": "https://localhost:8080/"
    },
    "id": "HYTPV3NzmAxz",
    "outputId": "cd572c5c-8bf3-417e-c401-ec13b9a8680e"
   },
   "outputs": [
    {
     "name": "stdout",
     "output_type": "stream",
     "text": [
      "0 1\n"
     ]
    }
   ],
   "source": [
    "print(y_test[0],y_test[1])"
   ]
  },
  {
   "cell_type": "markdown",
   "metadata": {
    "id": "bfZZqcvcnzlQ"
   },
   "source": [
    "We see 1st is negatively labelled and 2nd is positively labelled. Lets go through the review once before predicting it using the model"
   ]
  },
  {
   "cell_type": "code",
   "execution_count": 113,
   "metadata": {
    "colab": {
     "base_uri": "https://localhost:8080/"
    },
    "id": "f7Rk8cc3nZgy",
    "outputId": "10d32fa1-21c6-42fd-ce77-104349bb50dd"
   },
   "outputs": [
    {
     "name": "stdout",
     "output_type": "stream",
     "text": [
      "# # # # # # # # # # # # # # # # # # # # # # # # # # # # # # # # # # # # # # # # # # # # # # # # # # # # # # # # # # # # # # # # # # # # # # # # # # # # # # # # # # # # # # # # # # # # # # # # # # # # # # # # # # # # # # # # # # # # # # # # # # # # # # # # # # # # # # # # # # # # # # # # # # # # # # # # # # # # # # # # # # # # # # # # # # # # # # # # # # # # # # # # # # # # # # # # # # # # # # # # # # # # # # # # # # # # # # # # # # # # # # # # # # # # # # # # # please give this one a miss br br # # and the rest of the cast rendered terrible performances the show is flat flat flat br br i don't know how michael madison could have allowed this one on his plate he almost seemed to know this wasn't going to work out and his performance was quite # so all you madison fans give this a miss\n"
     ]
    }
   ],
   "source": [
    "print(\" \".join( [reverse_index.get(i - 3, \"#\") for i in X_test[0]] ))"
   ]
  },
  {
   "cell_type": "code",
   "execution_count": 114,
   "metadata": {
    "colab": {
     "base_uri": "https://localhost:8080/"
    },
    "id": "yDEwQu82niI6",
    "outputId": "5e9b212c-3edc-47e7-b0e3-beff0f4dad32"
   },
   "outputs": [
    {
     "name": "stdout",
     "output_type": "stream",
     "text": [
      "# # # # # # # # # # # # # # # # # # # # # # # # # # # # # # # # # # # # # # # # # this film requires a lot of patience because it focuses on mood and character development the plot is very simple and many of the scenes take place on the same set in frances # the sandy dennis character apartment but the film builds to a disturbing climax br br the characters create an atmosphere # with sexual tension and psychological # it's very interesting that robert altman directed this considering the style and structure of his other films still the trademark altman audio style is evident here and there i think what really makes this film work is the brilliant performance by sandy dennis it's definitely one of her darker characters but she plays it so perfectly and convincingly that it's scary michael burns does a good job as the mute young man regular altman player michael murphy has a small part the # moody set fits the content of the story very well in short this movie is a powerful study of loneliness sexual # and desperation be patient # up the atmosphere and pay attention to the wonderfully written script br br i praise robert altman this is one of his many films that deals with unconventional fascinating subject matter this film is disturbing but it's sincere and it's sure to # a strong emotional response from the viewer if you want to see an unusual film some might even say bizarre this is worth the time br br unfortunately it's very difficult to find in video stores you may have to buy it off the internet\n"
     ]
    }
   ],
   "source": [
    "print(\" \".join( [reverse_index.get(i - 3, \"#\") for i in X_test[1]] ))"
   ]
  },
  {
   "cell_type": "code",
   "execution_count": 115,
   "metadata": {
    "colab": {
     "base_uri": "https://localhost:8080/"
    },
    "id": "Wl4idfWR_A8E",
    "outputId": "8f117fb2-5f38-4d6b-eaa4-abc24fcdd73a"
   },
   "outputs": [
    {
     "name": "stdout",
     "output_type": "stream",
     "text": [
      "[[0.00560975]\n",
      " [1.        ]]\n"
     ]
    }
   ],
   "source": [
    "# Predicting using the model we have built\n",
    "positive_test = X_test[1]\n",
    "negative_test = X_test[0]\n",
    "test_samples = (negative_test, positive_test)\n",
    "padded_texts = sequence.pad_sequences(test_samples, maxlen=300)\n",
    "\n",
    "# Generate predictions\n",
    "predictions = model.predict(padded_texts)\n",
    "print(predictions)"
   ]
  },
  {
   "cell_type": "markdown",
   "metadata": {
    "id": "vdXHW6jnkoBG"
   },
   "source": [
    "We see the positive and the negative sentiments are predicted correctly using our model."
   ]
  }
 ],
 "metadata": {
  "accelerator": "GPU",
  "colab": {
   "collapsed_sections": [],
   "name": "R9 Project 1 - Sequential Models in NLP - Sentiment Classification.ipynb",
   "provenance": []
  },
  "kernelspec": {
   "display_name": "Python 3",
   "language": "python",
   "name": "python3"
  },
  "language_info": {
   "codemirror_mode": {
    "name": "ipython",
    "version": 3
   },
   "file_extension": ".py",
   "mimetype": "text/x-python",
   "name": "python",
   "nbconvert_exporter": "python",
   "pygments_lexer": "ipython3",
   "version": "3.7.4"
  }
 },
 "nbformat": 4,
 "nbformat_minor": 1
}
