{
 "cells": [
  {
   "cell_type": "markdown",
   "metadata": {},
   "source": [
    "#### Domain: E-Commerce\n",
    "\n",
    "Context: Everyday a million products are being recommended to users based on\n",
    "popularity and other metrics on e-commerce websites. The most popular e-commerce\n",
    "website boosts average order value by 50%, increases revenues by 300%, and\n",
    "improves conversion. In addition to being a powerful tool for increasing revenues,\n",
    "product recommendations are so essential that customers now expect to see similar\n",
    "features on all other eCommerce sites."
   ]
  },
  {
   "cell_type": "markdown",
   "metadata": {},
   "source": [
    "#### Objective\n",
    "To make a recommendation system that recommends at least five(5)\n",
    "new products based on the user's habits."
   ]
  },
  {
   "cell_type": "code",
   "execution_count": null,
   "metadata": {},
   "outputs": [],
   "source": [
    "import pandas as pd\n",
    "electronics_df = pd.read_csv(\"Electronic_dataset.csv\")"
   ]
  },
  {
   "cell_type": "code",
   "execution_count": 2,
   "metadata": {},
   "outputs": [
    {
     "name": "stdout",
     "output_type": "stream",
     "text": [
      "<class 'pandas.core.frame.DataFrame'>\n",
      "RangeIndex: 500000 entries, 0 to 499999\n",
      "Data columns (total 4 columns):\n",
      "user_id      500000 non-null object\n",
      "prod_id      500000 non-null object\n",
      "ratings      500000 non-null float64\n",
      "timestamp    500000 non-null int64\n",
      "dtypes: float64(1), int64(1), object(2)\n",
      "memory usage: 15.3+ MB\n"
     ]
    }
   ],
   "source": [
    "electronics_df.info()"
   ]
  },
  {
   "cell_type": "code",
   "execution_count": 3,
   "metadata": {},
   "outputs": [
    {
     "data": {
      "text/html": [
       "<div>\n",
       "<style scoped>\n",
       "    .dataframe tbody tr th:only-of-type {\n",
       "        vertical-align: middle;\n",
       "    }\n",
       "\n",
       "    .dataframe tbody tr th {\n",
       "        vertical-align: top;\n",
       "    }\n",
       "\n",
       "    .dataframe thead th {\n",
       "        text-align: right;\n",
       "    }\n",
       "</style>\n",
       "<table border=\"1\" class=\"dataframe\">\n",
       "  <thead>\n",
       "    <tr style=\"text-align: right;\">\n",
       "      <th></th>\n",
       "      <th>user_id</th>\n",
       "      <th>prod_id</th>\n",
       "      <th>ratings</th>\n",
       "      <th>timestamp</th>\n",
       "    </tr>\n",
       "  </thead>\n",
       "  <tbody>\n",
       "    <tr>\n",
       "      <th>0</th>\n",
       "      <td>A3L1GVWVJKWZZS</td>\n",
       "      <td>B0058UUR6E</td>\n",
       "      <td>5.0</td>\n",
       "      <td>1364774400</td>\n",
       "    </tr>\n",
       "    <tr>\n",
       "      <th>1</th>\n",
       "      <td>A08831071BVKZMKNCPI5S</td>\n",
       "      <td>B009ID0VVS</td>\n",
       "      <td>5.0</td>\n",
       "      <td>1357257600</td>\n",
       "    </tr>\n",
       "    <tr>\n",
       "      <th>2</th>\n",
       "      <td>A1SINU2I4IOPNU</td>\n",
       "      <td>B000GBO9IM</td>\n",
       "      <td>4.0</td>\n",
       "      <td>1358121600</td>\n",
       "    </tr>\n",
       "    <tr>\n",
       "      <th>3</th>\n",
       "      <td>A3P3P31EEOX2BD</td>\n",
       "      <td>B00CDCIOHO</td>\n",
       "      <td>3.0</td>\n",
       "      <td>1404950400</td>\n",
       "    </tr>\n",
       "    <tr>\n",
       "      <th>4</th>\n",
       "      <td>A3DBLJ3MPBJQMN</td>\n",
       "      <td>B000MS3VGA</td>\n",
       "      <td>5.0</td>\n",
       "      <td>1294444800</td>\n",
       "    </tr>\n",
       "    <tr>\n",
       "      <th>5</th>\n",
       "      <td>A3DBD19DOV8NTS</td>\n",
       "      <td>B002TOJXIA</td>\n",
       "      <td>4.0</td>\n",
       "      <td>1322006400</td>\n",
       "    </tr>\n",
       "    <tr>\n",
       "      <th>6</th>\n",
       "      <td>A2PIF6JQQYOGPG</td>\n",
       "      <td>B00007E7JU</td>\n",
       "      <td>4.0</td>\n",
       "      <td>1246060800</td>\n",
       "    </tr>\n",
       "    <tr>\n",
       "      <th>7</th>\n",
       "      <td>A9QF7T2BLAU74</td>\n",
       "      <td>B00004T8N5</td>\n",
       "      <td>5.0</td>\n",
       "      <td>1052352000</td>\n",
       "    </tr>\n",
       "    <tr>\n",
       "      <th>8</th>\n",
       "      <td>A2F4OUYS6G6LM0</td>\n",
       "      <td>B00D4FXFGO</td>\n",
       "      <td>1.0</td>\n",
       "      <td>1392249600</td>\n",
       "    </tr>\n",
       "    <tr>\n",
       "      <th>9</th>\n",
       "      <td>A39Q0LE0OJ5PMF</td>\n",
       "      <td>B00269SXT8</td>\n",
       "      <td>5.0</td>\n",
       "      <td>1347926400</td>\n",
       "    </tr>\n",
       "  </tbody>\n",
       "</table>\n",
       "</div>"
      ],
      "text/plain": [
       "                 user_id     prod_id  ratings   timestamp\n",
       "0         A3L1GVWVJKWZZS  B0058UUR6E      5.0  1364774400\n",
       "1  A08831071BVKZMKNCPI5S  B009ID0VVS      5.0  1357257600\n",
       "2         A1SINU2I4IOPNU  B000GBO9IM      4.0  1358121600\n",
       "3         A3P3P31EEOX2BD  B00CDCIOHO      3.0  1404950400\n",
       "4         A3DBLJ3MPBJQMN  B000MS3VGA      5.0  1294444800\n",
       "5         A3DBD19DOV8NTS  B002TOJXIA      4.0  1322006400\n",
       "6         A2PIF6JQQYOGPG  B00007E7JU      4.0  1246060800\n",
       "7          A9QF7T2BLAU74  B00004T8N5      5.0  1052352000\n",
       "8         A2F4OUYS6G6LM0  B00D4FXFGO      1.0  1392249600\n",
       "9         A39Q0LE0OJ5PMF  B00269SXT8      5.0  1347926400"
      ]
     },
     "execution_count": 3,
     "metadata": {},
     "output_type": "execute_result"
    }
   ],
   "source": [
    "electronics_df.head(10)"
   ]
  },
  {
   "cell_type": "code",
   "execution_count": 4,
   "metadata": {},
   "outputs": [],
   "source": [
    "#timestamp column is not of use so dropping the column\n",
    "electronics_df.drop(columns=['timestamp'],inplace=True)"
   ]
  },
  {
   "cell_type": "code",
   "execution_count": 5,
   "metadata": {},
   "outputs": [
    {
     "name": "stdout",
     "output_type": "stream",
     "text": [
      "<class 'pandas.core.frame.DataFrame'>\n",
      "RangeIndex: 500000 entries, 0 to 499999\n",
      "Data columns (total 3 columns):\n",
      "user_id    500000 non-null object\n",
      "prod_id    500000 non-null object\n",
      "ratings    500000 non-null float64\n",
      "dtypes: float64(1), object(2)\n",
      "memory usage: 11.4+ MB\n"
     ]
    }
   ],
   "source": [
    "electronics_df.info()"
   ]
  },
  {
   "cell_type": "code",
   "execution_count": 6,
   "metadata": {},
   "outputs": [
    {
     "data": {
      "text/html": [
       "<div>\n",
       "<style scoped>\n",
       "    .dataframe tbody tr th:only-of-type {\n",
       "        vertical-align: middle;\n",
       "    }\n",
       "\n",
       "    .dataframe tbody tr th {\n",
       "        vertical-align: top;\n",
       "    }\n",
       "\n",
       "    .dataframe thead th {\n",
       "        text-align: right;\n",
       "    }\n",
       "</style>\n",
       "<table border=\"1\" class=\"dataframe\">\n",
       "  <thead>\n",
       "    <tr style=\"text-align: right;\">\n",
       "      <th></th>\n",
       "      <th>user_id</th>\n",
       "      <th>prod_id</th>\n",
       "      <th>ratings</th>\n",
       "    </tr>\n",
       "  </thead>\n",
       "  <tbody>\n",
       "  </tbody>\n",
       "</table>\n",
       "</div>"
      ],
      "text/plain": [
       "Empty DataFrame\n",
       "Columns: [user_id, prod_id, ratings]\n",
       "Index: []"
      ]
     },
     "execution_count": 6,
     "metadata": {},
     "output_type": "execute_result"
    }
   ],
   "source": [
    "electronics_df[electronics_df.duplicated()==True]"
   ]
  },
  {
   "cell_type": "markdown",
   "metadata": {},
   "source": [
    "There are no duplicate ratings"
   ]
  },
  {
   "cell_type": "code",
   "execution_count": 7,
   "metadata": {},
   "outputs": [
    {
     "data": {
      "text/plain": [
       "5.0    277826\n",
       "4.0     95089\n",
       "1.0     57452\n",
       "3.0     40382\n",
       "2.0     29251\n",
       "Name: ratings, dtype: int64"
      ]
     },
     "execution_count": 7,
     "metadata": {},
     "output_type": "execute_result"
    }
   ],
   "source": [
    "electronics_df['ratings'].value_counts()"
   ]
  },
  {
   "cell_type": "code",
   "execution_count": 76,
   "metadata": {},
   "outputs": [
    {
     "data": {
      "text/plain": [
       "<matplotlib.axes._subplots.AxesSubplot at 0x2c6a39bd908>"
      ]
     },
     "execution_count": 76,
     "metadata": {},
     "output_type": "execute_result"
    },
    {
     "data": {
      "image/png": "[encoded data removed]",
      "text/plain": [
       "<Figure size 432x288 with 1 Axes>"
      ]
     },
     "metadata": {
      "needs_background": "light"
     },
     "output_type": "display_data"
    }
   ],
   "source": [
    "%matplotlib inline\n",
    "electronics_df['ratings'].hist()"
   ]
  },
  {
   "cell_type": "markdown",
   "metadata": {},
   "source": [
    "##### Ratings are on the scale 1 to 5\n",
    "##### We see most of the users have given higher rating than lower ratings, which is good for giving recommendations"
   ]
  },
  {
   "cell_type": "markdown",
   "metadata": {},
   "source": [
    "Most of the users have given higher ratings of 4 and 5"
   ]
  },
  {
   "cell_type": "code",
   "execution_count": 9,
   "metadata": {},
   "outputs": [
    {
     "data": {
      "text/plain": [
       "A680RUE1FDO8B     36\n",
       "A3OXHLG6DIBRW8    34\n",
       "ADLVFFE4VBT8      30\n",
       "A5JLAU2ARJ0BO     29\n",
       "A2NOW4U7W3F7RI    28\n",
       "                  ..\n",
       "AKN5Y7Y3HJBQ5      1\n",
       "AKLIQDYREO92G      1\n",
       "AG43H1DIV9LTR      1\n",
       "A82OXZSGOG33T      1\n",
       "AQ9HZR9C7N17A      1\n",
       "Name: user_id, Length: 448368, dtype: int64"
      ]
     },
     "execution_count": 9,
     "metadata": {},
     "output_type": "execute_result"
    }
   ],
   "source": [
    "electronics_df['user_id'].value_counts()"
   ]
  },
  {
   "cell_type": "markdown",
   "metadata": {},
   "source": [
    "There are lot of users who has rated more than 1 products"
   ]
  },
  {
   "cell_type": "code",
   "execution_count": 10,
   "metadata": {},
   "outputs": [
    {
     "data": {
      "text/plain": [
       "B0074BW614    1138\n",
       "B00DR0PDNE    1094\n",
       "B007WTAJTO     883\n",
       "B0019EHU8G     774\n",
       "B006GWO5WK     770\n",
       "              ... \n",
       "B00AOJD0EA       1\n",
       "B00ADPFQ4C       1\n",
       "B005QXX378       1\n",
       "B00CVTPDB4       1\n",
       "B0016P48UQ       1\n",
       "Name: prod_id, Length: 130138, dtype: int64"
      ]
     },
     "execution_count": 10,
     "metadata": {},
     "output_type": "execute_result"
    }
   ],
   "source": [
    "electronics_df['prod_id'].value_counts()"
   ]
  },
  {
   "cell_type": "markdown",
   "metadata": {},
   "source": [
    "Each product is rated by lot of users"
   ]
  },
  {
   "cell_type": "code",
   "execution_count": 11,
   "metadata": {},
   "outputs": [
    {
     "data": {
      "text/plain": [
       "0"
      ]
     },
     "execution_count": 11,
     "metadata": {},
     "output_type": "execute_result"
    }
   ],
   "source": [
    "electronics_df['ratings'].isna().sum()"
   ]
  },
  {
   "cell_type": "code",
   "execution_count": 12,
   "metadata": {},
   "outputs": [
    {
     "data": {
      "text/plain": [
       "0"
      ]
     },
     "execution_count": 12,
     "metadata": {},
     "output_type": "execute_result"
    }
   ],
   "source": [
    "electronics_df['user_id'].isna().sum()"
   ]
  },
  {
   "cell_type": "code",
   "execution_count": 13,
   "metadata": {},
   "outputs": [
    {
     "data": {
      "text/plain": [
       "0"
      ]
     },
     "execution_count": 13,
     "metadata": {},
     "output_type": "execute_result"
    }
   ],
   "source": [
    "electronics_df['prod_id'].isna().sum()"
   ]
  },
  {
   "cell_type": "code",
   "execution_count": 14,
   "metadata": {},
   "outputs": [],
   "source": [
    "popular_ratings = pd.DataFrame(electronics_df.groupby(['prod_id'])['ratings'].mean().sort_values(ascending=False)).reset_index()"
   ]
  },
  {
   "cell_type": "code",
   "execution_count": 15,
   "metadata": {},
   "outputs": [
    {
     "name": "stdout",
     "output_type": "stream",
     "text": [
      "<class 'pandas.core.frame.DataFrame'>\n",
      "RangeIndex: 130138 entries, 0 to 130137\n",
      "Data columns (total 2 columns):\n",
      "prod_id    130138 non-null object\n",
      "ratings    130138 non-null float64\n",
      "dtypes: float64(1), object(1)\n",
      "memory usage: 2.0+ MB\n"
     ]
    }
   ],
   "source": [
    "popular_ratings.info()"
   ]
  },
  {
   "cell_type": "code",
   "execution_count": 16,
   "metadata": {},
   "outputs": [
    {
     "data": {
      "text/html": [
       "<div>\n",
       "<style scoped>\n",
       "    .dataframe tbody tr th:only-of-type {\n",
       "        vertical-align: middle;\n",
       "    }\n",
       "\n",
       "    .dataframe tbody tr th {\n",
       "        vertical-align: top;\n",
       "    }\n",
       "\n",
       "    .dataframe thead th {\n",
       "        text-align: right;\n",
       "    }\n",
       "</style>\n",
       "<table border=\"1\" class=\"dataframe\">\n",
       "  <thead>\n",
       "    <tr style=\"text-align: right;\">\n",
       "      <th></th>\n",
       "      <th>prod_id</th>\n",
       "      <th>ratings</th>\n",
       "    </tr>\n",
       "  </thead>\n",
       "  <tbody>\n",
       "    <tr>\n",
       "      <th>0</th>\n",
       "      <td>BT008G3W52</td>\n",
       "      <td>5.0</td>\n",
       "    </tr>\n",
       "    <tr>\n",
       "      <th>1</th>\n",
       "      <td>B004AC52UC</td>\n",
       "      <td>5.0</td>\n",
       "    </tr>\n",
       "    <tr>\n",
       "      <th>2</th>\n",
       "      <td>B004AGJRMC</td>\n",
       "      <td>5.0</td>\n",
       "    </tr>\n",
       "    <tr>\n",
       "      <th>3</th>\n",
       "      <td>B004AGED3A</td>\n",
       "      <td>5.0</td>\n",
       "    </tr>\n",
       "    <tr>\n",
       "      <th>4</th>\n",
       "      <td>B004AFOK2U</td>\n",
       "      <td>5.0</td>\n",
       "    </tr>\n",
       "  </tbody>\n",
       "</table>\n",
       "</div>"
      ],
      "text/plain": [
       "      prod_id  ratings\n",
       "0  BT008G3W52      5.0\n",
       "1  B004AC52UC      5.0\n",
       "2  B004AGJRMC      5.0\n",
       "3  B004AGED3A      5.0\n",
       "4  B004AFOK2U      5.0"
      ]
     },
     "execution_count": 16,
     "metadata": {},
     "output_type": "execute_result"
    }
   ],
   "source": [
    "popular_ratings.head()"
   ]
  },
  {
   "cell_type": "markdown",
   "metadata": {},
   "source": [
    "#### Collaborative filtering"
   ]
  },
  {
   "cell_type": "code",
   "execution_count": 17,
   "metadata": {},
   "outputs": [
    {
     "name": "stdout",
     "output_type": "stream",
     "text": [
      "<class 'pandas.core.frame.DataFrame'>\n",
      "RangeIndex: 500000 entries, 0 to 499999\n",
      "Data columns (total 3 columns):\n",
      "user_id    500000 non-null object\n",
      "prod_id    500000 non-null object\n",
      "ratings    500000 non-null float64\n",
      "dtypes: float64(1), object(2)\n",
      "memory usage: 11.4+ MB\n"
     ]
    }
   ],
   "source": [
    "electronics_df.info()"
   ]
  },
  {
   "cell_type": "code",
   "execution_count": 18,
   "metadata": {},
   "outputs": [
    {
     "data": {
      "text/html": [
       "<div>\n",
       "<style scoped>\n",
       "    .dataframe tbody tr th:only-of-type {\n",
       "        vertical-align: middle;\n",
       "    }\n",
       "\n",
       "    .dataframe tbody tr th {\n",
       "        vertical-align: top;\n",
       "    }\n",
       "\n",
       "    .dataframe thead th {\n",
       "        text-align: right;\n",
       "    }\n",
       "</style>\n",
       "<table border=\"1\" class=\"dataframe\">\n",
       "  <thead>\n",
       "    <tr style=\"text-align: right;\">\n",
       "      <th></th>\n",
       "      <th>user_id</th>\n",
       "      <th>prod_id</th>\n",
       "      <th>ratings</th>\n",
       "    </tr>\n",
       "  </thead>\n",
       "  <tbody>\n",
       "    <tr>\n",
       "      <th>3033</th>\n",
       "      <td>A1CMD08Z49PGKQ</td>\n",
       "      <td>B00902SFC4</td>\n",
       "      <td>3.0</td>\n",
       "    </tr>\n",
       "    <tr>\n",
       "      <th>3468</th>\n",
       "      <td>A1CMD08Z49PGKQ</td>\n",
       "      <td>B003ES5ZSW</td>\n",
       "      <td>5.0</td>\n",
       "    </tr>\n",
       "    <tr>\n",
       "      <th>5324</th>\n",
       "      <td>A1CMD08Z49PGKQ</td>\n",
       "      <td>B009289F02</td>\n",
       "      <td>5.0</td>\n",
       "    </tr>\n",
       "    <tr>\n",
       "      <th>37455</th>\n",
       "      <td>A1CMD08Z49PGKQ</td>\n",
       "      <td>B007R5YDYA</td>\n",
       "      <td>5.0</td>\n",
       "    </tr>\n",
       "    <tr>\n",
       "      <th>123799</th>\n",
       "      <td>A1CMD08Z49PGKQ</td>\n",
       "      <td>B00FZ03CD2</td>\n",
       "      <td>5.0</td>\n",
       "    </tr>\n",
       "    <tr>\n",
       "      <th>155596</th>\n",
       "      <td>A1CMD08Z49PGKQ</td>\n",
       "      <td>B005HSG3JC</td>\n",
       "      <td>5.0</td>\n",
       "    </tr>\n",
       "    <tr>\n",
       "      <th>161129</th>\n",
       "      <td>A1CMD08Z49PGKQ</td>\n",
       "      <td>B0074BW614</td>\n",
       "      <td>5.0</td>\n",
       "    </tr>\n",
       "    <tr>\n",
       "      <th>185139</th>\n",
       "      <td>A1CMD08Z49PGKQ</td>\n",
       "      <td>B007WTAJTO</td>\n",
       "      <td>5.0</td>\n",
       "    </tr>\n",
       "    <tr>\n",
       "      <th>205351</th>\n",
       "      <td>A1CMD08Z49PGKQ</td>\n",
       "      <td>B003XIJ3MW</td>\n",
       "      <td>5.0</td>\n",
       "    </tr>\n",
       "    <tr>\n",
       "      <th>294927</th>\n",
       "      <td>A1CMD08Z49PGKQ</td>\n",
       "      <td>B002RCNX8K</td>\n",
       "      <td>5.0</td>\n",
       "    </tr>\n",
       "    <tr>\n",
       "      <th>325250</th>\n",
       "      <td>A1CMD08Z49PGKQ</td>\n",
       "      <td>B0094IYXFC</td>\n",
       "      <td>5.0</td>\n",
       "    </tr>\n",
       "    <tr>\n",
       "      <th>335881</th>\n",
       "      <td>A1CMD08Z49PGKQ</td>\n",
       "      <td>B006DKEUAM</td>\n",
       "      <td>5.0</td>\n",
       "    </tr>\n",
       "    <tr>\n",
       "      <th>382062</th>\n",
       "      <td>A1CMD08Z49PGKQ</td>\n",
       "      <td>B00DJNCS6O</td>\n",
       "      <td>5.0</td>\n",
       "    </tr>\n",
       "    <tr>\n",
       "      <th>383635</th>\n",
       "      <td>A1CMD08Z49PGKQ</td>\n",
       "      <td>B0042X8XBY</td>\n",
       "      <td>5.0</td>\n",
       "    </tr>\n",
       "    <tr>\n",
       "      <th>426647</th>\n",
       "      <td>A1CMD08Z49PGKQ</td>\n",
       "      <td>B007SYXER2</td>\n",
       "      <td>5.0</td>\n",
       "    </tr>\n",
       "    <tr>\n",
       "      <th>448954</th>\n",
       "      <td>A1CMD08Z49PGKQ</td>\n",
       "      <td>B0096TK65A</td>\n",
       "      <td>5.0</td>\n",
       "    </tr>\n",
       "    <tr>\n",
       "      <th>461076</th>\n",
       "      <td>A1CMD08Z49PGKQ</td>\n",
       "      <td>B006G4SRXQ</td>\n",
       "      <td>5.0</td>\n",
       "    </tr>\n",
       "    <tr>\n",
       "      <th>494617</th>\n",
       "      <td>A1CMD08Z49PGKQ</td>\n",
       "      <td>B0092ICXGK</td>\n",
       "      <td>5.0</td>\n",
       "    </tr>\n",
       "  </tbody>\n",
       "</table>\n",
       "</div>"
      ],
      "text/plain": [
       "               user_id     prod_id  ratings\n",
       "3033    A1CMD08Z49PGKQ  B00902SFC4      3.0\n",
       "3468    A1CMD08Z49PGKQ  B003ES5ZSW      5.0\n",
       "5324    A1CMD08Z49PGKQ  B009289F02      5.0\n",
       "37455   A1CMD08Z49PGKQ  B007R5YDYA      5.0\n",
       "123799  A1CMD08Z49PGKQ  B00FZ03CD2      5.0\n",
       "155596  A1CMD08Z49PGKQ  B005HSG3JC      5.0\n",
       "161129  A1CMD08Z49PGKQ  B0074BW614      5.0\n",
       "185139  A1CMD08Z49PGKQ  B007WTAJTO      5.0\n",
       "205351  A1CMD08Z49PGKQ  B003XIJ3MW      5.0\n",
       "294927  A1CMD08Z49PGKQ  B002RCNX8K      5.0\n",
       "325250  A1CMD08Z49PGKQ  B0094IYXFC      5.0\n",
       "335881  A1CMD08Z49PGKQ  B006DKEUAM      5.0\n",
       "382062  A1CMD08Z49PGKQ  B00DJNCS6O      5.0\n",
       "383635  A1CMD08Z49PGKQ  B0042X8XBY      5.0\n",
       "426647  A1CMD08Z49PGKQ  B007SYXER2      5.0\n",
       "448954  A1CMD08Z49PGKQ  B0096TK65A      5.0\n",
       "461076  A1CMD08Z49PGKQ  B006G4SRXQ      5.0\n",
       "494617  A1CMD08Z49PGKQ  B0092ICXGK      5.0"
      ]
     },
     "execution_count": 18,
     "metadata": {},
     "output_type": "execute_result"
    }
   ],
   "source": [
    "electronics_df[electronics_df['user_id']=='A1CMD08Z49PGKQ']"
   ]
  },
  {
   "cell_type": "code",
   "execution_count": 19,
   "metadata": {},
   "outputs": [
    {
     "data": {
      "text/plain": [
       "5.0    277826\n",
       "4.0     95089\n",
       "1.0     57452\n",
       "3.0     40382\n",
       "2.0     29251\n",
       "Name: ratings, dtype: int64"
      ]
     },
     "execution_count": 19,
     "metadata": {},
     "output_type": "execute_result"
    }
   ],
   "source": [
    "electronics_df['ratings'].value_counts()"
   ]
  },
  {
   "cell_type": "code",
   "execution_count": 20,
   "metadata": {},
   "outputs": [
    {
     "data": {
      "text/plain": [
       "A680RUE1FDO8B     36\n",
       "A3OXHLG6DIBRW8    34\n",
       "ADLVFFE4VBT8      30\n",
       "A5JLAU2ARJ0BO     29\n",
       "A2NOW4U7W3F7RI    28\n",
       "                  ..\n",
       "AKN5Y7Y3HJBQ5      1\n",
       "AKLIQDYREO92G      1\n",
       "AG43H1DIV9LTR      1\n",
       "A82OXZSGOG33T      1\n",
       "AQ9HZR9C7N17A      1\n",
       "Name: user_id, Length: 448368, dtype: int64"
      ]
     },
     "execution_count": 20,
     "metadata": {},
     "output_type": "execute_result"
    }
   ],
   "source": [
    "user_rating_count = pd.value_counts(electronics_df['user_id'])\n",
    "user_rating_count"
   ]
  },
  {
   "cell_type": "code",
   "execution_count": 21,
   "metadata": {},
   "outputs": [],
   "source": [
    "ratings_gte_3 = electronics_df[electronics_df['user_id'].isin(user_rating_count[user_rating_count>=3].index)]\n",
    "#ratings_gte_3 = electronics_df.head(35000)"
   ]
  },
  {
   "cell_type": "code",
   "execution_count": 22,
   "metadata": {},
   "outputs": [
    {
     "name": "stdout",
     "output_type": "stream",
     "text": [
      "<class 'pandas.core.frame.DataFrame'>\n",
      "Int64Index: 30603 entries, 16 to 499985\n",
      "Data columns (total 3 columns):\n",
      "user_id    30603 non-null object\n",
      "prod_id    30603 non-null object\n",
      "ratings    30603 non-null float64\n",
      "dtypes: float64(1), object(2)\n",
      "memory usage: 956.3+ KB\n"
     ]
    }
   ],
   "source": [
    "ratings_gte_3.info()"
   ]
  },
  {
   "cell_type": "code",
   "execution_count": 23,
   "metadata": {},
   "outputs": [],
   "source": [
    "#2 Transform data to surprise format\n",
    "from surprise import Dataset,Reader\n",
    "from surprise.model_selection import cross_validate\n",
    "from surprise import NormalPredictor\n",
    "\n",
    "\n",
    "reader = Reader(rating_scale=(1, 5))"
   ]
  },
  {
   "cell_type": "code",
   "execution_count": 24,
   "metadata": {},
   "outputs": [],
   "source": [
    "data=Dataset.load_from_df(ratings_gte_3[['user_id','prod_id','ratings']],reader)"
   ]
  },
  {
   "cell_type": "code",
   "execution_count": 25,
   "metadata": {},
   "outputs": [
    {
     "data": {
      "text/plain": [
       "surprise.dataset.DatasetAutoFolds"
      ]
     },
     "execution_count": 25,
     "metadata": {},
     "output_type": "execute_result"
    }
   ],
   "source": [
    "type(data)"
   ]
  },
  {
   "cell_type": "code",
   "execution_count": 26,
   "metadata": {},
   "outputs": [
    {
     "data": {
      "text/html": [
       "<div>\n",
       "<style scoped>\n",
       "    .dataframe tbody tr th:only-of-type {\n",
       "        vertical-align: middle;\n",
       "    }\n",
       "\n",
       "    .dataframe tbody tr th {\n",
       "        vertical-align: top;\n",
       "    }\n",
       "\n",
       "    .dataframe thead th {\n",
       "        text-align: right;\n",
       "    }\n",
       "</style>\n",
       "<table border=\"1\" class=\"dataframe\">\n",
       "  <thead>\n",
       "    <tr style=\"text-align: right;\">\n",
       "      <th></th>\n",
       "      <th>user_id</th>\n",
       "      <th>prod_id</th>\n",
       "      <th>ratings</th>\n",
       "    </tr>\n",
       "  </thead>\n",
       "  <tbody>\n",
       "    <tr>\n",
       "      <th>16</th>\n",
       "      <td>A36OQE3RAOO63J</td>\n",
       "      <td>B001CZ5BOW</td>\n",
       "      <td>5.0</td>\n",
       "    </tr>\n",
       "    <tr>\n",
       "      <th>26</th>\n",
       "      <td>A2HX3D3MPPASNS</td>\n",
       "      <td>B004I3VZM2</td>\n",
       "      <td>4.0</td>\n",
       "    </tr>\n",
       "    <tr>\n",
       "      <th>39</th>\n",
       "      <td>A15U8KHV4J5DIK</td>\n",
       "      <td>B002BH4QNC</td>\n",
       "      <td>2.0</td>\n",
       "    </tr>\n",
       "    <tr>\n",
       "      <th>64</th>\n",
       "      <td>A3PAYT2SQY7J3H</td>\n",
       "      <td>B002WR7VSS</td>\n",
       "      <td>5.0</td>\n",
       "    </tr>\n",
       "    <tr>\n",
       "      <th>67</th>\n",
       "      <td>A3MLSY6VS7AB8O</td>\n",
       "      <td>B001IBHF5S</td>\n",
       "      <td>5.0</td>\n",
       "    </tr>\n",
       "    <tr>\n",
       "      <th>125</th>\n",
       "      <td>A23M8B84K9TSBJ</td>\n",
       "      <td>B0017KMI66</td>\n",
       "      <td>5.0</td>\n",
       "    </tr>\n",
       "    <tr>\n",
       "      <th>178</th>\n",
       "      <td>A2HBOG4LVIY15L</td>\n",
       "      <td>B002WE6D44</td>\n",
       "      <td>5.0</td>\n",
       "    </tr>\n",
       "    <tr>\n",
       "      <th>199</th>\n",
       "      <td>A2Q67H3PJ12UD5</td>\n",
       "      <td>B0057AVXJA</td>\n",
       "      <td>4.0</td>\n",
       "    </tr>\n",
       "    <tr>\n",
       "      <th>214</th>\n",
       "      <td>AZNUHQSHZHSUE</td>\n",
       "      <td>B000FJEYZI</td>\n",
       "      <td>1.0</td>\n",
       "    </tr>\n",
       "    <tr>\n",
       "      <th>215</th>\n",
       "      <td>A16ZNJD6MHB7R7</td>\n",
       "      <td>B00007E7JU</td>\n",
       "      <td>5.0</td>\n",
       "    </tr>\n",
       "    <tr>\n",
       "      <th>225</th>\n",
       "      <td>A2ZDY0V4Q1SZD7</td>\n",
       "      <td>B003SX0NHQ</td>\n",
       "      <td>4.0</td>\n",
       "    </tr>\n",
       "    <tr>\n",
       "      <th>236</th>\n",
       "      <td>A3FOWTOACN5TNU</td>\n",
       "      <td>B0009DG7KK</td>\n",
       "      <td>5.0</td>\n",
       "    </tr>\n",
       "    <tr>\n",
       "      <th>238</th>\n",
       "      <td>A25OU4XZAQVD66</td>\n",
       "      <td>B0081KIVSO</td>\n",
       "      <td>3.0</td>\n",
       "    </tr>\n",
       "    <tr>\n",
       "      <th>263</th>\n",
       "      <td>A2S2TX0PGZKD37</td>\n",
       "      <td>B000OBJW1S</td>\n",
       "      <td>5.0</td>\n",
       "    </tr>\n",
       "    <tr>\n",
       "      <th>264</th>\n",
       "      <td>A1YEPFLLH42OU1</td>\n",
       "      <td>B00E3W15P0</td>\n",
       "      <td>5.0</td>\n",
       "    </tr>\n",
       "    <tr>\n",
       "      <th>267</th>\n",
       "      <td>A2VYSDQ4Q7B2TC</td>\n",
       "      <td>B000OKH74S</td>\n",
       "      <td>5.0</td>\n",
       "    </tr>\n",
       "    <tr>\n",
       "      <th>286</th>\n",
       "      <td>A2GYV87WW0DMSN</td>\n",
       "      <td>B0009Y7APU</td>\n",
       "      <td>5.0</td>\n",
       "    </tr>\n",
       "    <tr>\n",
       "      <th>294</th>\n",
       "      <td>ASKNSXNXNJH5P</td>\n",
       "      <td>B008TM21YE</td>\n",
       "      <td>5.0</td>\n",
       "    </tr>\n",
       "    <tr>\n",
       "      <th>303</th>\n",
       "      <td>A7EHH7SEYN31I</td>\n",
       "      <td>B0057OCDQS</td>\n",
       "      <td>3.0</td>\n",
       "    </tr>\n",
       "    <tr>\n",
       "      <th>326</th>\n",
       "      <td>A2IXMLO29Z5G8S</td>\n",
       "      <td>B002K46DDC</td>\n",
       "      <td>5.0</td>\n",
       "    </tr>\n",
       "    <tr>\n",
       "      <th>362</th>\n",
       "      <td>A1EX7MNFZYL58</td>\n",
       "      <td>B004RBX0GO</td>\n",
       "      <td>2.0</td>\n",
       "    </tr>\n",
       "    <tr>\n",
       "      <th>380</th>\n",
       "      <td>A140J1JZRFOA7H</td>\n",
       "      <td>B0031RGGFM</td>\n",
       "      <td>5.0</td>\n",
       "    </tr>\n",
       "    <tr>\n",
       "      <th>413</th>\n",
       "      <td>A10Y058K7B96C6</td>\n",
       "      <td>B005HSG3VK</td>\n",
       "      <td>5.0</td>\n",
       "    </tr>\n",
       "    <tr>\n",
       "      <th>415</th>\n",
       "      <td>ACTMZJ4EUOC65</td>\n",
       "      <td>B002PAR0JM</td>\n",
       "      <td>5.0</td>\n",
       "    </tr>\n",
       "    <tr>\n",
       "      <th>423</th>\n",
       "      <td>A2W3627A3RNY2</td>\n",
       "      <td>B003TJALAI</td>\n",
       "      <td>2.0</td>\n",
       "    </tr>\n",
       "  </tbody>\n",
       "</table>\n",
       "</div>"
      ],
      "text/plain": [
       "            user_id     prod_id  ratings\n",
       "16   A36OQE3RAOO63J  B001CZ5BOW      5.0\n",
       "26   A2HX3D3MPPASNS  B004I3VZM2      4.0\n",
       "39   A15U8KHV4J5DIK  B002BH4QNC      2.0\n",
       "64   A3PAYT2SQY7J3H  B002WR7VSS      5.0\n",
       "67   A3MLSY6VS7AB8O  B001IBHF5S      5.0\n",
       "125  A23M8B84K9TSBJ  B0017KMI66      5.0\n",
       "178  A2HBOG4LVIY15L  B002WE6D44      5.0\n",
       "199  A2Q67H3PJ12UD5  B0057AVXJA      4.0\n",
       "214   AZNUHQSHZHSUE  B000FJEYZI      1.0\n",
       "215  A16ZNJD6MHB7R7  B00007E7JU      5.0\n",
       "225  A2ZDY0V4Q1SZD7  B003SX0NHQ      4.0\n",
       "236  A3FOWTOACN5TNU  B0009DG7KK      5.0\n",
       "238  A25OU4XZAQVD66  B0081KIVSO      3.0\n",
       "263  A2S2TX0PGZKD37  B000OBJW1S      5.0\n",
       "264  A1YEPFLLH42OU1  B00E3W15P0      5.0\n",
       "267  A2VYSDQ4Q7B2TC  B000OKH74S      5.0\n",
       "286  A2GYV87WW0DMSN  B0009Y7APU      5.0\n",
       "294   ASKNSXNXNJH5P  B008TM21YE      5.0\n",
       "303   A7EHH7SEYN31I  B0057OCDQS      3.0\n",
       "326  A2IXMLO29Z5G8S  B002K46DDC      5.0\n",
       "362   A1EX7MNFZYL58  B004RBX0GO      2.0\n",
       "380  A140J1JZRFOA7H  B0031RGGFM      5.0\n",
       "413  A10Y058K7B96C6  B005HSG3VK      5.0\n",
       "415   ACTMZJ4EUOC65  B002PAR0JM      5.0\n",
       "423   A2W3627A3RNY2  B003TJALAI      2.0"
      ]
     },
     "execution_count": 26,
     "metadata": {},
     "output_type": "execute_result"
    }
   ],
   "source": [
    "data.df.head(25)"
   ]
  },
  {
   "cell_type": "markdown",
   "metadata": {},
   "source": [
    "#### KNNWithMeans for user based filtering"
   ]
  },
  {
   "cell_type": "code",
   "execution_count": 27,
   "metadata": {},
   "outputs": [],
   "source": [
    "from surprise.model_selection import train_test_split"
   ]
  },
  {
   "cell_type": "code",
   "execution_count": 28,
   "metadata": {},
   "outputs": [],
   "source": [
    "trainset, testset = train_test_split(data, test_size=.30,random_state=45)"
   ]
  },
  {
   "cell_type": "code",
   "execution_count": 29,
   "metadata": {},
   "outputs": [],
   "source": [
    "from surprise import KNNWithMeans"
   ]
  },
  {
   "cell_type": "code",
   "execution_count": 30,
   "metadata": {},
   "outputs": [],
   "source": [
    "algo=KNNWithMeans(k=5, sim_options={'name':'pearson_baseline','user_based':True})"
   ]
  },
  {
   "cell_type": "code",
   "execution_count": 31,
   "metadata": {},
   "outputs": [
    {
     "name": "stdout",
     "output_type": "stream",
     "text": [
      "Estimating biases using als...\n",
      "Computing the pearson_baseline similarity matrix...\n",
      "Done computing similarity matrix.\n"
     ]
    },
    {
     "data": {
      "text/plain": [
       "<surprise.prediction_algorithms.knns.KNNWithMeans at 0x2c6a367bc88>"
      ]
     },
     "execution_count": 31,
     "metadata": {},
     "output_type": "execute_result"
    }
   ],
   "source": [
    "algo.fit(trainset)"
   ]
  },
  {
   "cell_type": "code",
   "execution_count": 32,
   "metadata": {},
   "outputs": [],
   "source": [
    "#testset=trainset.build_anti_testset()"
   ]
  },
  {
   "cell_type": "code",
   "execution_count": 33,
   "metadata": {},
   "outputs": [],
   "source": [
    "predictions = algo.test(testset)"
   ]
  },
  {
   "cell_type": "code",
   "execution_count": 34,
   "metadata": {},
   "outputs": [
    {
     "name": "stdout",
     "output_type": "stream",
     "text": [
      "RMSE: 1.2345\n"
     ]
    },
    {
     "data": {
      "text/plain": [
       "1.234450565157807"
      ]
     },
     "execution_count": 34,
     "metadata": {},
     "output_type": "execute_result"
    }
   ],
   "source": [
    "from surprise import accuracy\n",
    "accuracy.rmse(predictions)"
   ]
  },
  {
   "cell_type": "code",
   "execution_count": 35,
   "metadata": {},
   "outputs": [],
   "source": [
    "pred_pd = pd.DataFrame(predictions)"
   ]
  },
  {
   "cell_type": "code",
   "execution_count": 36,
   "metadata": {},
   "outputs": [
    {
     "name": "stdout",
     "output_type": "stream",
     "text": [
      "<class 'pandas.core.frame.DataFrame'>\n",
      "RangeIndex: 9181 entries, 0 to 9180\n",
      "Data columns (total 5 columns):\n",
      "uid        9181 non-null object\n",
      "iid        9181 non-null object\n",
      "r_ui       9181 non-null float64\n",
      "est        9181 non-null float64\n",
      "details    9181 non-null object\n",
      "dtypes: float64(2), object(3)\n",
      "memory usage: 358.8+ KB\n"
     ]
    }
   ],
   "source": [
    "pred_pd.info()"
   ]
  },
  {
   "cell_type": "code",
   "execution_count": 37,
   "metadata": {},
   "outputs": [
    {
     "data": {
      "text/plain": [
       "A5JLAU2ARJ0BO     11\n",
       "AGVWTYW0ULXHT     11\n",
       "A4WEZJOIZIV4U     10\n",
       "A2NOW4U7W3F7RI     9\n",
       "A3OXHLG6DIBRW8     9\n",
       "                  ..\n",
       "A3N0Z0QVRS1PP9     1\n",
       "A3U9M6GJGKW5D7     1\n",
       "APGH1HCSUVLIE      1\n",
       "A3IOMFM9VQNGGS     1\n",
       "A3ATORX9LJWRUM     1\n",
       "Name: uid, Length: 5786, dtype: int64"
      ]
     },
     "execution_count": 37,
     "metadata": {},
     "output_type": "execute_result"
    }
   ],
   "source": [
    "pred_pd['uid'].value_counts()"
   ]
  },
  {
   "cell_type": "code",
   "execution_count": 38,
   "metadata": {},
   "outputs": [],
   "source": [
    "#Build function\n",
    "def get_recommendations(userId, num):\n",
    "    user_rec = pred_pd[pred_pd['uid']==userId][['uid','iid','r_ui','est']].sort_values(by='est',ascending=False).head(num)\n",
    "    return user_rec"
   ]
  },
  {
   "cell_type": "code",
   "execution_count": 39,
   "metadata": {},
   "outputs": [],
   "source": [
    "user_list = pred_pd['uid'].unique()"
   ]
  },
  {
   "cell_type": "code",
   "execution_count": 40,
   "metadata": {},
   "outputs": [
    {
     "name": "stdout",
     "output_type": "stream",
     "text": [
      "5786\n"
     ]
    }
   ],
   "source": [
    "print(len(user_list))"
   ]
  },
  {
   "cell_type": "code",
   "execution_count": 41,
   "metadata": {},
   "outputs": [],
   "source": [
    "#Recommendations are available for 5786 users"
   ]
  },
  {
   "cell_type": "code",
   "execution_count": 42,
   "metadata": {},
   "outputs": [],
   "source": [
    "j=0\n",
    "for i in user_list:\n",
    "    if j==0:\n",
    "        output_df= get_recommendations(i,5)\n",
    "        j=j+1\n",
    "    else:\n",
    "        output_df= output_df.append(get_recommendations(i,5))"
   ]
  },
  {
   "cell_type": "code",
   "execution_count": 43,
   "metadata": {},
   "outputs": [
    {
     "name": "stdout",
     "output_type": "stream",
     "text": [
      "<class 'pandas.core.frame.DataFrame'>\n",
      "Int64Index: 9120 entries, 0 to 9172\n",
      "Data columns (total 4 columns):\n",
      "uid     9120 non-null object\n",
      "iid     9120 non-null object\n",
      "r_ui    9120 non-null float64\n",
      "est     9120 non-null float64\n",
      "dtypes: float64(2), object(2)\n",
      "memory usage: 356.2+ KB\n"
     ]
    }
   ],
   "source": [
    "#Now we have built the dataframe with 5 recommendations for the users in the test set\n",
    "output_df.info()"
   ]
  },
  {
   "cell_type": "code",
   "execution_count": 44,
   "metadata": {},
   "outputs": [
    {
     "data": {
      "text/html": [
       "<div>\n",
       "<style scoped>\n",
       "    .dataframe tbody tr th:only-of-type {\n",
       "        vertical-align: middle;\n",
       "    }\n",
       "\n",
       "    .dataframe tbody tr th {\n",
       "        vertical-align: top;\n",
       "    }\n",
       "\n",
       "    .dataframe thead th {\n",
       "        text-align: right;\n",
       "    }\n",
       "</style>\n",
       "<table border=\"1\" class=\"dataframe\">\n",
       "  <thead>\n",
       "    <tr style=\"text-align: right;\">\n",
       "      <th></th>\n",
       "      <th>uid</th>\n",
       "      <th>iid</th>\n",
       "      <th>r_ui</th>\n",
       "      <th>est</th>\n",
       "    </tr>\n",
       "  </thead>\n",
       "  <tbody>\n",
       "    <tr>\n",
       "      <th>845</th>\n",
       "      <td>A2HX3D3MPPASNS</td>\n",
       "      <td>B008Z0F3FY</td>\n",
       "      <td>5.0</td>\n",
       "      <td>4.22771</td>\n",
       "    </tr>\n",
       "    <tr>\n",
       "      <th>5736</th>\n",
       "      <td>A2HX3D3MPPASNS</td>\n",
       "      <td>B008V5NVU2</td>\n",
       "      <td>5.0</td>\n",
       "      <td>4.22771</td>\n",
       "    </tr>\n",
       "  </tbody>\n",
       "</table>\n",
       "</div>"
      ],
      "text/plain": [
       "                 uid         iid  r_ui      est\n",
       "845   A2HX3D3MPPASNS  B008Z0F3FY   5.0  4.22771\n",
       "5736  A2HX3D3MPPASNS  B008V5NVU2   5.0  4.22771"
      ]
     },
     "execution_count": 44,
     "metadata": {},
     "output_type": "execute_result"
    }
   ],
   "source": [
    "#Lets see the recommendations for one sample user\n",
    "output_df[output_df['uid']=='A2HX3D3MPPASNS']"
   ]
  },
  {
   "cell_type": "markdown",
   "metadata": {},
   "source": [
    "#### Here we see the recommendations contain the list of products that are already rated by the user only. This is because we have not built the anti test set"
   ]
  },
  {
   "cell_type": "markdown",
   "metadata": {},
   "source": [
    "### Now lets try with anti test"
   ]
  },
  {
   "cell_type": "code",
   "execution_count": 45,
   "metadata": {},
   "outputs": [],
   "source": [
    "ratings_new = electronics_df[electronics_df['user_id'].isin(user_rating_count[user_rating_count>=3].index)].head(100)"
   ]
  },
  {
   "cell_type": "code",
   "execution_count": 46,
   "metadata": {},
   "outputs": [
    {
     "name": "stdout",
     "output_type": "stream",
     "text": [
      "<class 'pandas.core.frame.DataFrame'>\n",
      "Int64Index: 100 entries, 16 to 1731\n",
      "Data columns (total 3 columns):\n",
      "user_id    100 non-null object\n",
      "prod_id    100 non-null object\n",
      "ratings    100 non-null float64\n",
      "dtypes: float64(1), object(2)\n",
      "memory usage: 3.1+ KB\n"
     ]
    }
   ],
   "source": [
    "ratings_new.info()"
   ]
  },
  {
   "cell_type": "code",
   "execution_count": 47,
   "metadata": {},
   "outputs": [],
   "source": [
    "data_new=Dataset.load_from_df(ratings_new[['user_id','prod_id','ratings']],reader)"
   ]
  },
  {
   "cell_type": "code",
   "execution_count": 48,
   "metadata": {},
   "outputs": [],
   "source": [
    "trainset_new, testset_new = train_test_split(data_new, test_size=.30,random_state=45)"
   ]
  },
  {
   "cell_type": "code",
   "execution_count": 49,
   "metadata": {},
   "outputs": [],
   "source": [
    "algo2=KNNWithMeans(k=5, sim_options={'name':'pearson_baseline','user_based':True})"
   ]
  },
  {
   "cell_type": "code",
   "execution_count": 50,
   "metadata": {},
   "outputs": [
    {
     "name": "stdout",
     "output_type": "stream",
     "text": [
      "Estimating biases using als...\n",
      "Computing the pearson_baseline similarity matrix...\n",
      "Done computing similarity matrix.\n"
     ]
    },
    {
     "data": {
      "text/plain": [
       "<surprise.prediction_algorithms.knns.KNNWithMeans at 0x2c6a39e84c8>"
      ]
     },
     "execution_count": 50,
     "metadata": {},
     "output_type": "execute_result"
    }
   ],
   "source": [
    "algo2.fit(trainset_new)"
   ]
  },
  {
   "cell_type": "code",
   "execution_count": 51,
   "metadata": {},
   "outputs": [],
   "source": [
    "testset2=trainset_new.build_anti_testset()"
   ]
  },
  {
   "cell_type": "code",
   "execution_count": 52,
   "metadata": {},
   "outputs": [],
   "source": [
    "predictions_2 = algo.test(testset2)"
   ]
  },
  {
   "cell_type": "code",
   "execution_count": 53,
   "metadata": {},
   "outputs": [
    {
     "name": "stdout",
     "output_type": "stream",
     "text": [
      "RMSE: 0.9024\n"
     ]
    },
    {
     "data": {
      "text/plain": [
       "0.9024311503818918"
      ]
     },
     "execution_count": 53,
     "metadata": {},
     "output_type": "execute_result"
    }
   ],
   "source": [
    "accuracy.rmse(predictions_2)"
   ]
  },
  {
   "cell_type": "markdown",
   "metadata": {},
   "source": [
    "#### We see that the RMSE value is decreased in this case"
   ]
  },
  {
   "cell_type": "code",
   "execution_count": 54,
   "metadata": {},
   "outputs": [],
   "source": [
    "pred_pd2 = pd.DataFrame(predictions_2)"
   ]
  },
  {
   "cell_type": "code",
   "execution_count": 55,
   "metadata": {},
   "outputs": [
    {
     "name": "stdout",
     "output_type": "stream",
     "text": [
      "<class 'pandas.core.frame.DataFrame'>\n",
      "RangeIndex: 4760 entries, 0 to 4759\n",
      "Data columns (total 5 columns):\n",
      "uid        4760 non-null object\n",
      "iid        4760 non-null object\n",
      "r_ui       4760 non-null float64\n",
      "est        4760 non-null float64\n",
      "details    4760 non-null object\n",
      "dtypes: float64(2), object(3)\n",
      "memory usage: 186.1+ KB\n"
     ]
    }
   ],
   "source": [
    "pred_pd2.info()"
   ]
  },
  {
   "cell_type": "code",
   "execution_count": 56,
   "metadata": {},
   "outputs": [
    {
     "data": {
      "text/plain": [
       "A8ULAPYGJ70PH     68\n",
       "A2HBOG4LVIY15L    68\n",
       "A16ZNJD6MHB7R7    68\n",
       "A23M8B84K9TSBJ    68\n",
       "AO4LJ777HXG8A     68\n",
       "                  ..\n",
       "A38DBH142MK1QH    68\n",
       "AASS0HMUT6EDP     68\n",
       "A50BV2I2ZRXJ5     68\n",
       "A10U8DJAPJJI8I    68\n",
       "A2I18AO597DSDI    68\n",
       "Name: uid, Length: 70, dtype: int64"
      ]
     },
     "execution_count": 56,
     "metadata": {},
     "output_type": "execute_result"
    }
   ],
   "source": [
    "pred_pd2['uid'].value_counts()"
   ]
  },
  {
   "cell_type": "code",
   "execution_count": 57,
   "metadata": {},
   "outputs": [],
   "source": [
    "def get_recommendations_anti(userId, num):\n",
    "    user_rec = pred_pd2[pred_pd2['uid']==userId][['uid','iid','r_ui','est']].sort_values(by='est',ascending=False).head(num)\n",
    "    return user_rec"
   ]
  },
  {
   "cell_type": "code",
   "execution_count": 58,
   "metadata": {},
   "outputs": [
    {
     "data": {
      "text/html": [
       "<div>\n",
       "<style scoped>\n",
       "    .dataframe tbody tr th:only-of-type {\n",
       "        vertical-align: middle;\n",
       "    }\n",
       "\n",
       "    .dataframe tbody tr th {\n",
       "        vertical-align: top;\n",
       "    }\n",
       "\n",
       "    .dataframe thead th {\n",
       "        text-align: right;\n",
       "    }\n",
       "</style>\n",
       "<table border=\"1\" class=\"dataframe\">\n",
       "  <thead>\n",
       "    <tr style=\"text-align: right;\">\n",
       "      <th></th>\n",
       "      <th>uid</th>\n",
       "      <th>iid</th>\n",
       "      <th>r_ui</th>\n",
       "      <th>est</th>\n",
       "    </tr>\n",
       "  </thead>\n",
       "  <tbody>\n",
       "    <tr>\n",
       "      <th>68</th>\n",
       "      <td>A2HX3D3MPPASNS</td>\n",
       "      <td>B001CZ5BOW</td>\n",
       "      <td>3.957143</td>\n",
       "      <td>4.25</td>\n",
       "    </tr>\n",
       "    <tr>\n",
       "      <th>98</th>\n",
       "      <td>A2HX3D3MPPASNS</td>\n",
       "      <td>B001MSU1HG</td>\n",
       "      <td>3.957143</td>\n",
       "      <td>4.25</td>\n",
       "    </tr>\n",
       "    <tr>\n",
       "      <th>101</th>\n",
       "      <td>A2HX3D3MPPASNS</td>\n",
       "      <td>B0017KMI66</td>\n",
       "      <td>3.957143</td>\n",
       "      <td>4.25</td>\n",
       "    </tr>\n",
       "    <tr>\n",
       "      <th>69</th>\n",
       "      <td>A2HX3D3MPPASNS</td>\n",
       "      <td>B008CNZOJY</td>\n",
       "      <td>3.957143</td>\n",
       "      <td>4.25</td>\n",
       "    </tr>\n",
       "    <tr>\n",
       "      <th>104</th>\n",
       "      <td>A2HX3D3MPPASNS</td>\n",
       "      <td>B003LRAZY0</td>\n",
       "      <td>3.957143</td>\n",
       "      <td>4.25</td>\n",
       "    </tr>\n",
       "  </tbody>\n",
       "</table>\n",
       "</div>"
      ],
      "text/plain": [
       "                uid         iid      r_ui   est\n",
       "68   A2HX3D3MPPASNS  B001CZ5BOW  3.957143  4.25\n",
       "98   A2HX3D3MPPASNS  B001MSU1HG  3.957143  4.25\n",
       "101  A2HX3D3MPPASNS  B0017KMI66  3.957143  4.25\n",
       "69   A2HX3D3MPPASNS  B008CNZOJY  3.957143  4.25\n",
       "104  A2HX3D3MPPASNS  B003LRAZY0  3.957143  4.25"
      ]
     },
     "execution_count": 58,
     "metadata": {},
     "output_type": "execute_result"
    }
   ],
   "source": [
    "get_recommendations_anti('A2HX3D3MPPASNS',5)"
   ]
  },
  {
   "cell_type": "code",
   "execution_count": 64,
   "metadata": {},
   "outputs": [
    {
     "data": {
      "text/html": [
       "<div>\n",
       "<style scoped>\n",
       "    .dataframe tbody tr th:only-of-type {\n",
       "        vertical-align: middle;\n",
       "    }\n",
       "\n",
       "    .dataframe tbody tr th {\n",
       "        vertical-align: top;\n",
       "    }\n",
       "\n",
       "    .dataframe thead th {\n",
       "        text-align: right;\n",
       "    }\n",
       "</style>\n",
       "<table border=\"1\" class=\"dataframe\">\n",
       "  <thead>\n",
       "    <tr style=\"text-align: right;\">\n",
       "      <th></th>\n",
       "      <th>user_id</th>\n",
       "      <th>prod_id</th>\n",
       "      <th>ratings</th>\n",
       "    </tr>\n",
       "  </thead>\n",
       "  <tbody>\n",
       "    <tr>\n",
       "      <th>26</th>\n",
       "      <td>A2HX3D3MPPASNS</td>\n",
       "      <td>B004I3VZM2</td>\n",
       "      <td>4.0</td>\n",
       "    </tr>\n",
       "  </tbody>\n",
       "</table>\n",
       "</div>"
      ],
      "text/plain": [
       "           user_id     prod_id  ratings\n",
       "26  A2HX3D3MPPASNS  B004I3VZM2      4.0"
      ]
     },
     "execution_count": 64,
     "metadata": {},
     "output_type": "execute_result"
    }
   ],
   "source": [
    "ratings_new[ratings_new['user_id']=='A2HX3D3MPPASNS']"
   ]
  },
  {
   "cell_type": "markdown",
   "metadata": {},
   "source": [
    "#### This time we see the recommendations are new and doesnt contain any products that the user himself has already rated"
   ]
  }
 ],
 "metadata": {
  "kernelspec": {
   "display_name": "Python 3",
   "language": "python",
   "name": "python3"
  },
  "language_info": {
   "codemirror_mode": {
    "name": "ipython",
    "version": 3
   },
   "file_extension": ".py",
   "mimetype": "text/x-python",
   "name": "python",
   "nbconvert_exporter": "python",
   "pygments_lexer": "ipython3",
   "version": "3.7.4"
  }
 },
 "nbformat": 4,
 "nbformat_minor": 2
}
