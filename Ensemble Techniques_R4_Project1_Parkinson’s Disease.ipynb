{
 "cells": [
  {
   "cell_type": "markdown",
   "metadata": {},
   "source": [
    "### Ensembled technique for predicting Parkinson's disease based on voice test"
   ]
  },
  {
   "cell_type": "markdown",
   "metadata": {},
   "source": [
    "#### Aim:"
   ]
  },
  {
   "cell_type": "markdown",
   "metadata": {},
   "source": [
    "1. Load the dataset  \n",
    "\n",
    "2. It is always a good practice to eye-ball raw data to get a feel of the data in terms of  number of structure of the file, number of attributes, types of attributes and a general  idea of likely challenges in the dataset. (2.5 points)  \n",
    "\n",
    "3. Using univariate & bivariate analysis to check the individual attributes for their basic  statistic such as central values, spread, tails etc. What are your observations? (15  points)  \n",
    "\n",
    "4. Split the dataset into training and test set in the ratio of 70:30 (Training:Test).  \n",
    "\n",
    "5. Create the model using “entropy” method of reducing the entropy and fit it to training  data. (5 points)  \n",
    "\n",
    "6. Test the model on test data and what is the accuracy achieved. Capture the predicted  values and do a crosstab. (7.5 points)  \n",
    "\n",
    "7. Use regularization parameters of max_depth, min_sample_leaf to recreate the model.  What is the impact on the model accuracy? How does regularization help? (20 points)   \n",
    "\n",
    "8. Next implement the decision tree using Random Forest and find the accuracy (10 points) "
   ]
  },
  {
   "cell_type": "code",
   "execution_count": 1,
   "metadata": {},
   "outputs": [],
   "source": [
    "import matplotlib.pyplot as plt"
   ]
  },
  {
   "cell_type": "code",
   "execution_count": 2,
   "metadata": {},
   "outputs": [],
   "source": [
    "%matplotlib inline"
   ]
  },
  {
   "cell_type": "code",
   "execution_count": 3,
   "metadata": {},
   "outputs": [],
   "source": [
    "import numpy as np"
   ]
  },
  {
   "cell_type": "code",
   "execution_count": 4,
   "metadata": {},
   "outputs": [],
   "source": [
    "import pandas as pd"
   ]
  },
  {
   "cell_type": "code",
   "execution_count": 5,
   "metadata": {},
   "outputs": [],
   "source": [
    "import seaborn as sns"
   ]
  },
  {
   "cell_type": "code",
   "execution_count": 6,
   "metadata": {},
   "outputs": [],
   "source": [
    "from sklearn.tree import DecisionTreeClassifier"
   ]
  },
  {
   "cell_type": "code",
   "execution_count": 7,
   "metadata": {},
   "outputs": [],
   "source": [
    "from sklearn.feature_extraction.text import CountVectorizer "
   ]
  },
  {
   "cell_type": "code",
   "execution_count": 11,
   "metadata": {},
   "outputs": [],
   "source": [
    "parkinsons_df = pd.read_csv('parkinsons.csv')"
   ]
  },
  {
   "cell_type": "code",
   "execution_count": 12,
   "metadata": {},
   "outputs": [
    {
     "data": {
      "text/plain": [
       "(195, 24)"
      ]
     },
     "execution_count": 12,
     "metadata": {},
     "output_type": "execute_result"
    }
   ],
   "source": [
    "parkinsons_df.shape"
   ]
  },
  {
   "cell_type": "code",
   "execution_count": 13,
   "metadata": {},
   "outputs": [
    {
     "name": "stdout",
     "output_type": "stream",
     "text": [
      "<class 'pandas.core.frame.DataFrame'>\n",
      "RangeIndex: 195 entries, 0 to 194\n",
      "Data columns (total 24 columns):\n",
      "name                195 non-null object\n",
      "MDVP:Fo(Hz)         195 non-null float64\n",
      "MDVP:Fhi(Hz)        195 non-null float64\n",
      "MDVP:Flo(Hz)        195 non-null float64\n",
      "MDVP:Jitter(%)      195 non-null float64\n",
      "MDVP:Jitter(Abs)    195 non-null float64\n",
      "MDVP:RAP            195 non-null float64\n",
      "MDVP:PPQ            195 non-null float64\n",
      "Jitter:DDP          195 non-null float64\n",
      "MDVP:Shimmer        195 non-null float64\n",
      "MDVP:Shimmer(dB)    195 non-null float64\n",
      "Shimmer:APQ3        195 non-null float64\n",
      "Shimmer:APQ5        195 non-null float64\n",
      "MDVP:APQ            195 non-null float64\n",
      "Shimmer:DDA         195 non-null float64\n",
      "NHR                 195 non-null float64\n",
      "HNR                 195 non-null float64\n",
      "status              195 non-null int64\n",
      "RPDE                195 non-null float64\n",
      "DFA                 195 non-null float64\n",
      "spread1             195 non-null float64\n",
      "spread2             195 non-null float64\n",
      "D2                  195 non-null float64\n",
      "PPE                 195 non-null float64\n",
      "dtypes: float64(22), int64(1), object(1)\n",
      "memory usage: 36.7+ KB\n"
     ]
    }
   ],
   "source": [
    "parkinsons_df.info()"
   ]
  },
  {
   "cell_type": "markdown",
   "metadata": {},
   "source": [
    "#### The data has 24 columns with 295 entries for each column. Except for the status column, which is our target column, rest all are of type float.\n",
    "\n",
    "####  Label Encodings are not required - as there are no categorical variables"
   ]
  },
  {
   "cell_type": "markdown",
   "metadata": {},
   "source": [
    "Since the column has spaces, brackets and %, we replace them with _ to avoid any technical issues"
   ]
  },
  {
   "cell_type": "code",
   "execution_count": 14,
   "metadata": {},
   "outputs": [],
   "source": [
    "#to avoid technical issues spaces in the column names are replaced with _\n",
    "parkinsons_df.columns = parkinsons_df.columns.str.replace(' ', '_')"
   ]
  },
  {
   "cell_type": "code",
   "execution_count": 15,
   "metadata": {},
   "outputs": [],
   "source": [
    "parkinsons_df.columns = parkinsons_df.columns.str.replace(':', '_')"
   ]
  },
  {
   "cell_type": "code",
   "execution_count": 16,
   "metadata": {},
   "outputs": [],
   "source": [
    "parkinsons_df.columns = parkinsons_df.columns.str.replace('(', '_')"
   ]
  },
  {
   "cell_type": "code",
   "execution_count": 17,
   "metadata": {},
   "outputs": [],
   "source": [
    "parkinsons_df.columns = parkinsons_df.columns.str.replace(')', '')"
   ]
  },
  {
   "cell_type": "code",
   "execution_count": 18,
   "metadata": {},
   "outputs": [],
   "source": [
    "parkinsons_df.columns = parkinsons_df.columns.str.replace('%', 'percent')"
   ]
  },
  {
   "cell_type": "code",
   "execution_count": 19,
   "metadata": {},
   "outputs": [
    {
     "name": "stdout",
     "output_type": "stream",
     "text": [
      "<class 'pandas.core.frame.DataFrame'>\n",
      "RangeIndex: 195 entries, 0 to 194\n",
      "Data columns (total 24 columns):\n",
      "name                   195 non-null object\n",
      "MDVP_Fo_Hz             195 non-null float64\n",
      "MDVP_Fhi_Hz            195 non-null float64\n",
      "MDVP_Flo_Hz            195 non-null float64\n",
      "MDVP_Jitter_percent    195 non-null float64\n",
      "MDVP_Jitter_Abs        195 non-null float64\n",
      "MDVP_RAP               195 non-null float64\n",
      "MDVP_PPQ               195 non-null float64\n",
      "Jitter_DDP             195 non-null float64\n",
      "MDVP_Shimmer           195 non-null float64\n",
      "MDVP_Shimmer_dB        195 non-null float64\n",
      "Shimmer_APQ3           195 non-null float64\n",
      "Shimmer_APQ5           195 non-null float64\n",
      "MDVP_APQ               195 non-null float64\n",
      "Shimmer_DDA            195 non-null float64\n",
      "NHR                    195 non-null float64\n",
      "HNR                    195 non-null float64\n",
      "status                 195 non-null int64\n",
      "RPDE                   195 non-null float64\n",
      "DFA                    195 non-null float64\n",
      "spread1                195 non-null float64\n",
      "spread2                195 non-null float64\n",
      "D2                     195 non-null float64\n",
      "PPE                    195 non-null float64\n",
      "dtypes: float64(22), int64(1), object(1)\n",
      "memory usage: 36.7+ KB\n"
     ]
    }
   ],
   "source": [
    "parkinsons_df.info()"
   ]
  },
  {
   "cell_type": "code",
   "execution_count": 20,
   "metadata": {},
   "outputs": [
    {
     "data": {
      "text/html": [
       "<div>\n",
       "<style scoped>\n",
       "    .dataframe tbody tr th:only-of-type {\n",
       "        vertical-align: middle;\n",
       "    }\n",
       "\n",
       "    .dataframe tbody tr th {\n",
       "        vertical-align: top;\n",
       "    }\n",
       "\n",
       "    .dataframe thead th {\n",
       "        text-align: right;\n",
       "    }\n",
       "</style>\n",
       "<table border=\"1\" class=\"dataframe\">\n",
       "  <thead>\n",
       "    <tr style=\"text-align: right;\">\n",
       "      <th></th>\n",
       "      <th>name</th>\n",
       "      <th>MDVP_Fo_Hz</th>\n",
       "      <th>MDVP_Fhi_Hz</th>\n",
       "      <th>MDVP_Flo_Hz</th>\n",
       "      <th>MDVP_Jitter_percent</th>\n",
       "      <th>MDVP_Jitter_Abs</th>\n",
       "      <th>MDVP_RAP</th>\n",
       "      <th>MDVP_PPQ</th>\n",
       "      <th>Jitter_DDP</th>\n",
       "      <th>MDVP_Shimmer</th>\n",
       "      <th>...</th>\n",
       "      <th>Shimmer_DDA</th>\n",
       "      <th>NHR</th>\n",
       "      <th>HNR</th>\n",
       "      <th>status</th>\n",
       "      <th>RPDE</th>\n",
       "      <th>DFA</th>\n",
       "      <th>spread1</th>\n",
       "      <th>spread2</th>\n",
       "      <th>D2</th>\n",
       "      <th>PPE</th>\n",
       "    </tr>\n",
       "  </thead>\n",
       "  <tbody>\n",
       "    <tr>\n",
       "      <td>0</td>\n",
       "      <td>phon_R01_S01_1</td>\n",
       "      <td>119.992</td>\n",
       "      <td>157.302</td>\n",
       "      <td>74.997</td>\n",
       "      <td>0.00784</td>\n",
       "      <td>0.00007</td>\n",
       "      <td>0.00370</td>\n",
       "      <td>0.00554</td>\n",
       "      <td>0.01109</td>\n",
       "      <td>0.04374</td>\n",
       "      <td>...</td>\n",
       "      <td>0.06545</td>\n",
       "      <td>0.02211</td>\n",
       "      <td>21.033</td>\n",
       "      <td>1</td>\n",
       "      <td>0.414783</td>\n",
       "      <td>0.815285</td>\n",
       "      <td>-4.813031</td>\n",
       "      <td>0.266482</td>\n",
       "      <td>2.301442</td>\n",
       "      <td>0.284654</td>\n",
       "    </tr>\n",
       "    <tr>\n",
       "      <td>1</td>\n",
       "      <td>phon_R01_S01_2</td>\n",
       "      <td>122.400</td>\n",
       "      <td>148.650</td>\n",
       "      <td>113.819</td>\n",
       "      <td>0.00968</td>\n",
       "      <td>0.00008</td>\n",
       "      <td>0.00465</td>\n",
       "      <td>0.00696</td>\n",
       "      <td>0.01394</td>\n",
       "      <td>0.06134</td>\n",
       "      <td>...</td>\n",
       "      <td>0.09403</td>\n",
       "      <td>0.01929</td>\n",
       "      <td>19.085</td>\n",
       "      <td>1</td>\n",
       "      <td>0.458359</td>\n",
       "      <td>0.819521</td>\n",
       "      <td>-4.075192</td>\n",
       "      <td>0.335590</td>\n",
       "      <td>2.486855</td>\n",
       "      <td>0.368674</td>\n",
       "    </tr>\n",
       "    <tr>\n",
       "      <td>2</td>\n",
       "      <td>phon_R01_S01_3</td>\n",
       "      <td>116.682</td>\n",
       "      <td>131.111</td>\n",
       "      <td>111.555</td>\n",
       "      <td>0.01050</td>\n",
       "      <td>0.00009</td>\n",
       "      <td>0.00544</td>\n",
       "      <td>0.00781</td>\n",
       "      <td>0.01633</td>\n",
       "      <td>0.05233</td>\n",
       "      <td>...</td>\n",
       "      <td>0.08270</td>\n",
       "      <td>0.01309</td>\n",
       "      <td>20.651</td>\n",
       "      <td>1</td>\n",
       "      <td>0.429895</td>\n",
       "      <td>0.825288</td>\n",
       "      <td>-4.443179</td>\n",
       "      <td>0.311173</td>\n",
       "      <td>2.342259</td>\n",
       "      <td>0.332634</td>\n",
       "    </tr>\n",
       "    <tr>\n",
       "      <td>3</td>\n",
       "      <td>phon_R01_S01_4</td>\n",
       "      <td>116.676</td>\n",
       "      <td>137.871</td>\n",
       "      <td>111.366</td>\n",
       "      <td>0.00997</td>\n",
       "      <td>0.00009</td>\n",
       "      <td>0.00502</td>\n",
       "      <td>0.00698</td>\n",
       "      <td>0.01505</td>\n",
       "      <td>0.05492</td>\n",
       "      <td>...</td>\n",
       "      <td>0.08771</td>\n",
       "      <td>0.01353</td>\n",
       "      <td>20.644</td>\n",
       "      <td>1</td>\n",
       "      <td>0.434969</td>\n",
       "      <td>0.819235</td>\n",
       "      <td>-4.117501</td>\n",
       "      <td>0.334147</td>\n",
       "      <td>2.405554</td>\n",
       "      <td>0.368975</td>\n",
       "    </tr>\n",
       "    <tr>\n",
       "      <td>4</td>\n",
       "      <td>phon_R01_S01_5</td>\n",
       "      <td>116.014</td>\n",
       "      <td>141.781</td>\n",
       "      <td>110.655</td>\n",
       "      <td>0.01284</td>\n",
       "      <td>0.00011</td>\n",
       "      <td>0.00655</td>\n",
       "      <td>0.00908</td>\n",
       "      <td>0.01966</td>\n",
       "      <td>0.06425</td>\n",
       "      <td>...</td>\n",
       "      <td>0.10470</td>\n",
       "      <td>0.01767</td>\n",
       "      <td>19.649</td>\n",
       "      <td>1</td>\n",
       "      <td>0.417356</td>\n",
       "      <td>0.823484</td>\n",
       "      <td>-3.747787</td>\n",
       "      <td>0.234513</td>\n",
       "      <td>2.332180</td>\n",
       "      <td>0.410335</td>\n",
       "    </tr>\n",
       "  </tbody>\n",
       "</table>\n",
       "<p>5 rows × 24 columns</p>\n",
       "</div>"
      ],
      "text/plain": [
       "             name  MDVP_Fo_Hz  MDVP_Fhi_Hz  MDVP_Flo_Hz  MDVP_Jitter_percent  \\\n",
       "0  phon_R01_S01_1     119.992      157.302       74.997              0.00784   \n",
       "1  phon_R01_S01_2     122.400      148.650      113.819              0.00968   \n",
       "2  phon_R01_S01_3     116.682      131.111      111.555              0.01050   \n",
       "3  phon_R01_S01_4     116.676      137.871      111.366              0.00997   \n",
       "4  phon_R01_S01_5     116.014      141.781      110.655              0.01284   \n",
       "\n",
       "   MDVP_Jitter_Abs  MDVP_RAP  MDVP_PPQ  Jitter_DDP  MDVP_Shimmer  ...  \\\n",
       "0          0.00007   0.00370   0.00554     0.01109       0.04374  ...   \n",
       "1          0.00008   0.00465   0.00696     0.01394       0.06134  ...   \n",
       "2          0.00009   0.00544   0.00781     0.01633       0.05233  ...   \n",
       "3          0.00009   0.00502   0.00698     0.01505       0.05492  ...   \n",
       "4          0.00011   0.00655   0.00908     0.01966       0.06425  ...   \n",
       "\n",
       "   Shimmer_DDA      NHR     HNR  status      RPDE       DFA   spread1  \\\n",
       "0      0.06545  0.02211  21.033       1  0.414783  0.815285 -4.813031   \n",
       "1      0.09403  0.01929  19.085       1  0.458359  0.819521 -4.075192   \n",
       "2      0.08270  0.01309  20.651       1  0.429895  0.825288 -4.443179   \n",
       "3      0.08771  0.01353  20.644       1  0.434969  0.819235 -4.117501   \n",
       "4      0.10470  0.01767  19.649       1  0.417356  0.823484 -3.747787   \n",
       "\n",
       "    spread2        D2       PPE  \n",
       "0  0.266482  2.301442  0.284654  \n",
       "1  0.335590  2.486855  0.368674  \n",
       "2  0.311173  2.342259  0.332634  \n",
       "3  0.334147  2.405554  0.368975  \n",
       "4  0.234513  2.332180  0.410335  \n",
       "\n",
       "[5 rows x 24 columns]"
      ]
     },
     "execution_count": 20,
     "metadata": {},
     "output_type": "execute_result"
    }
   ],
   "source": [
    "parkinsons_df.head()"
   ]
  },
  {
   "cell_type": "code",
   "execution_count": 21,
   "metadata": {},
   "outputs": [
    {
     "data": {
      "text/html": [
       "<div>\n",
       "<style scoped>\n",
       "    .dataframe tbody tr th:only-of-type {\n",
       "        vertical-align: middle;\n",
       "    }\n",
       "\n",
       "    .dataframe tbody tr th {\n",
       "        vertical-align: top;\n",
       "    }\n",
       "\n",
       "    .dataframe thead th {\n",
       "        text-align: right;\n",
       "    }\n",
       "</style>\n",
       "<table border=\"1\" class=\"dataframe\">\n",
       "  <thead>\n",
       "    <tr style=\"text-align: right;\">\n",
       "      <th></th>\n",
       "      <th>name</th>\n",
       "      <th>MDVP_Fo_Hz</th>\n",
       "      <th>MDVP_Fhi_Hz</th>\n",
       "      <th>MDVP_Flo_Hz</th>\n",
       "      <th>MDVP_Jitter_percent</th>\n",
       "      <th>MDVP_Jitter_Abs</th>\n",
       "      <th>MDVP_RAP</th>\n",
       "      <th>MDVP_PPQ</th>\n",
       "      <th>Jitter_DDP</th>\n",
       "      <th>MDVP_Shimmer</th>\n",
       "      <th>...</th>\n",
       "      <th>Shimmer_DDA</th>\n",
       "      <th>NHR</th>\n",
       "      <th>HNR</th>\n",
       "      <th>status</th>\n",
       "      <th>RPDE</th>\n",
       "      <th>DFA</th>\n",
       "      <th>spread1</th>\n",
       "      <th>spread2</th>\n",
       "      <th>D2</th>\n",
       "      <th>PPE</th>\n",
       "    </tr>\n",
       "  </thead>\n",
       "  <tbody>\n",
       "    <tr>\n",
       "      <td>190</td>\n",
       "      <td>phon_R01_S50_2</td>\n",
       "      <td>174.188</td>\n",
       "      <td>230.978</td>\n",
       "      <td>94.261</td>\n",
       "      <td>0.00459</td>\n",
       "      <td>0.00003</td>\n",
       "      <td>0.00263</td>\n",
       "      <td>0.00259</td>\n",
       "      <td>0.00790</td>\n",
       "      <td>0.04087</td>\n",
       "      <td>...</td>\n",
       "      <td>0.07008</td>\n",
       "      <td>0.02764</td>\n",
       "      <td>19.517</td>\n",
       "      <td>0</td>\n",
       "      <td>0.448439</td>\n",
       "      <td>0.657899</td>\n",
       "      <td>-6.538586</td>\n",
       "      <td>0.121952</td>\n",
       "      <td>2.657476</td>\n",
       "      <td>0.133050</td>\n",
       "    </tr>\n",
       "    <tr>\n",
       "      <td>191</td>\n",
       "      <td>phon_R01_S50_3</td>\n",
       "      <td>209.516</td>\n",
       "      <td>253.017</td>\n",
       "      <td>89.488</td>\n",
       "      <td>0.00564</td>\n",
       "      <td>0.00003</td>\n",
       "      <td>0.00331</td>\n",
       "      <td>0.00292</td>\n",
       "      <td>0.00994</td>\n",
       "      <td>0.02751</td>\n",
       "      <td>...</td>\n",
       "      <td>0.04812</td>\n",
       "      <td>0.01810</td>\n",
       "      <td>19.147</td>\n",
       "      <td>0</td>\n",
       "      <td>0.431674</td>\n",
       "      <td>0.683244</td>\n",
       "      <td>-6.195325</td>\n",
       "      <td>0.129303</td>\n",
       "      <td>2.784312</td>\n",
       "      <td>0.168895</td>\n",
       "    </tr>\n",
       "    <tr>\n",
       "      <td>192</td>\n",
       "      <td>phon_R01_S50_4</td>\n",
       "      <td>174.688</td>\n",
       "      <td>240.005</td>\n",
       "      <td>74.287</td>\n",
       "      <td>0.01360</td>\n",
       "      <td>0.00008</td>\n",
       "      <td>0.00624</td>\n",
       "      <td>0.00564</td>\n",
       "      <td>0.01873</td>\n",
       "      <td>0.02308</td>\n",
       "      <td>...</td>\n",
       "      <td>0.03804</td>\n",
       "      <td>0.10715</td>\n",
       "      <td>17.883</td>\n",
       "      <td>0</td>\n",
       "      <td>0.407567</td>\n",
       "      <td>0.655683</td>\n",
       "      <td>-6.787197</td>\n",
       "      <td>0.158453</td>\n",
       "      <td>2.679772</td>\n",
       "      <td>0.131728</td>\n",
       "    </tr>\n",
       "    <tr>\n",
       "      <td>193</td>\n",
       "      <td>phon_R01_S50_5</td>\n",
       "      <td>198.764</td>\n",
       "      <td>396.961</td>\n",
       "      <td>74.904</td>\n",
       "      <td>0.00740</td>\n",
       "      <td>0.00004</td>\n",
       "      <td>0.00370</td>\n",
       "      <td>0.00390</td>\n",
       "      <td>0.01109</td>\n",
       "      <td>0.02296</td>\n",
       "      <td>...</td>\n",
       "      <td>0.03794</td>\n",
       "      <td>0.07223</td>\n",
       "      <td>19.020</td>\n",
       "      <td>0</td>\n",
       "      <td>0.451221</td>\n",
       "      <td>0.643956</td>\n",
       "      <td>-6.744577</td>\n",
       "      <td>0.207454</td>\n",
       "      <td>2.138608</td>\n",
       "      <td>0.123306</td>\n",
       "    </tr>\n",
       "    <tr>\n",
       "      <td>194</td>\n",
       "      <td>phon_R01_S50_6</td>\n",
       "      <td>214.289</td>\n",
       "      <td>260.277</td>\n",
       "      <td>77.973</td>\n",
       "      <td>0.00567</td>\n",
       "      <td>0.00003</td>\n",
       "      <td>0.00295</td>\n",
       "      <td>0.00317</td>\n",
       "      <td>0.00885</td>\n",
       "      <td>0.01884</td>\n",
       "      <td>...</td>\n",
       "      <td>0.03078</td>\n",
       "      <td>0.04398</td>\n",
       "      <td>21.209</td>\n",
       "      <td>0</td>\n",
       "      <td>0.462803</td>\n",
       "      <td>0.664357</td>\n",
       "      <td>-5.724056</td>\n",
       "      <td>0.190667</td>\n",
       "      <td>2.555477</td>\n",
       "      <td>0.148569</td>\n",
       "    </tr>\n",
       "  </tbody>\n",
       "</table>\n",
       "<p>5 rows × 24 columns</p>\n",
       "</div>"
      ],
      "text/plain": [
       "               name  MDVP_Fo_Hz  MDVP_Fhi_Hz  MDVP_Flo_Hz  \\\n",
       "190  phon_R01_S50_2     174.188      230.978       94.261   \n",
       "191  phon_R01_S50_3     209.516      253.017       89.488   \n",
       "192  phon_R01_S50_4     174.688      240.005       74.287   \n",
       "193  phon_R01_S50_5     198.764      396.961       74.904   \n",
       "194  phon_R01_S50_6     214.289      260.277       77.973   \n",
       "\n",
       "     MDVP_Jitter_percent  MDVP_Jitter_Abs  MDVP_RAP  MDVP_PPQ  Jitter_DDP  \\\n",
       "190              0.00459          0.00003   0.00263   0.00259     0.00790   \n",
       "191              0.00564          0.00003   0.00331   0.00292     0.00994   \n",
       "192              0.01360          0.00008   0.00624   0.00564     0.01873   \n",
       "193              0.00740          0.00004   0.00370   0.00390     0.01109   \n",
       "194              0.00567          0.00003   0.00295   0.00317     0.00885   \n",
       "\n",
       "     MDVP_Shimmer  ...  Shimmer_DDA      NHR     HNR  status      RPDE  \\\n",
       "190       0.04087  ...      0.07008  0.02764  19.517       0  0.448439   \n",
       "191       0.02751  ...      0.04812  0.01810  19.147       0  0.431674   \n",
       "192       0.02308  ...      0.03804  0.10715  17.883       0  0.407567   \n",
       "193       0.02296  ...      0.03794  0.07223  19.020       0  0.451221   \n",
       "194       0.01884  ...      0.03078  0.04398  21.209       0  0.462803   \n",
       "\n",
       "          DFA   spread1   spread2        D2       PPE  \n",
       "190  0.657899 -6.538586  0.121952  2.657476  0.133050  \n",
       "191  0.683244 -6.195325  0.129303  2.784312  0.168895  \n",
       "192  0.655683 -6.787197  0.158453  2.679772  0.131728  \n",
       "193  0.643956 -6.744577  0.207454  2.138608  0.123306  \n",
       "194  0.664357 -5.724056  0.190667  2.555477  0.148569  \n",
       "\n",
       "[5 rows x 24 columns]"
      ]
     },
     "execution_count": 21,
     "metadata": {},
     "output_type": "execute_result"
    }
   ],
   "source": [
    "parkinsons_df.tail()"
   ]
  },
  {
   "cell_type": "code",
   "execution_count": 22,
   "metadata": {},
   "outputs": [
    {
     "data": {
      "text/html": [
       "<div>\n",
       "<style scoped>\n",
       "    .dataframe tbody tr th:only-of-type {\n",
       "        vertical-align: middle;\n",
       "    }\n",
       "\n",
       "    .dataframe tbody tr th {\n",
       "        vertical-align: top;\n",
       "    }\n",
       "\n",
       "    .dataframe thead th {\n",
       "        text-align: right;\n",
       "    }\n",
       "</style>\n",
       "<table border=\"1\" class=\"dataframe\">\n",
       "  <thead>\n",
       "    <tr style=\"text-align: right;\">\n",
       "      <th></th>\n",
       "      <th>name</th>\n",
       "      <th>MDVP_Fo_Hz</th>\n",
       "      <th>MDVP_Fhi_Hz</th>\n",
       "      <th>MDVP_Flo_Hz</th>\n",
       "      <th>MDVP_Jitter_percent</th>\n",
       "      <th>MDVP_Jitter_Abs</th>\n",
       "      <th>MDVP_RAP</th>\n",
       "      <th>MDVP_PPQ</th>\n",
       "      <th>Jitter_DDP</th>\n",
       "      <th>MDVP_Shimmer</th>\n",
       "      <th>...</th>\n",
       "      <th>Shimmer_DDA</th>\n",
       "      <th>NHR</th>\n",
       "      <th>HNR</th>\n",
       "      <th>status</th>\n",
       "      <th>RPDE</th>\n",
       "      <th>DFA</th>\n",
       "      <th>spread1</th>\n",
       "      <th>spread2</th>\n",
       "      <th>D2</th>\n",
       "      <th>PPE</th>\n",
       "    </tr>\n",
       "  </thead>\n",
       "  <tbody>\n",
       "    <tr>\n",
       "      <td>99</td>\n",
       "      <td>phon_R01_S24_3</td>\n",
       "      <td>126.512</td>\n",
       "      <td>141.756</td>\n",
       "      <td>99.770</td>\n",
       "      <td>0.01936</td>\n",
       "      <td>0.000150</td>\n",
       "      <td>0.01159</td>\n",
       "      <td>0.00990</td>\n",
       "      <td>0.03476</td>\n",
       "      <td>0.06734</td>\n",
       "      <td>...</td>\n",
       "      <td>0.10833</td>\n",
       "      <td>0.16744</td>\n",
       "      <td>12.435</td>\n",
       "      <td>1</td>\n",
       "      <td>0.638545</td>\n",
       "      <td>0.674953</td>\n",
       "      <td>-3.760348</td>\n",
       "      <td>0.242861</td>\n",
       "      <td>2.634633</td>\n",
       "      <td>0.378483</td>\n",
       "    </tr>\n",
       "    <tr>\n",
       "      <td>40</td>\n",
       "      <td>phon_R01_S08_5</td>\n",
       "      <td>186.163</td>\n",
       "      <td>197.724</td>\n",
       "      <td>177.584</td>\n",
       "      <td>0.00298</td>\n",
       "      <td>0.000020</td>\n",
       "      <td>0.00165</td>\n",
       "      <td>0.00175</td>\n",
       "      <td>0.00496</td>\n",
       "      <td>0.01495</td>\n",
       "      <td>...</td>\n",
       "      <td>0.02321</td>\n",
       "      <td>0.00231</td>\n",
       "      <td>26.822</td>\n",
       "      <td>1</td>\n",
       "      <td>0.326480</td>\n",
       "      <td>0.765623</td>\n",
       "      <td>-6.647379</td>\n",
       "      <td>0.201095</td>\n",
       "      <td>2.374073</td>\n",
       "      <td>0.130554</td>\n",
       "    </tr>\n",
       "    <tr>\n",
       "      <td>97</td>\n",
       "      <td>phon_R01_S24_1</td>\n",
       "      <td>125.036</td>\n",
       "      <td>143.946</td>\n",
       "      <td>116.187</td>\n",
       "      <td>0.01280</td>\n",
       "      <td>0.000100</td>\n",
       "      <td>0.00743</td>\n",
       "      <td>0.00623</td>\n",
       "      <td>0.02228</td>\n",
       "      <td>0.03886</td>\n",
       "      <td>...</td>\n",
       "      <td>0.06406</td>\n",
       "      <td>0.08151</td>\n",
       "      <td>15.338</td>\n",
       "      <td>1</td>\n",
       "      <td>0.629574</td>\n",
       "      <td>0.714485</td>\n",
       "      <td>-4.020042</td>\n",
       "      <td>0.265315</td>\n",
       "      <td>2.671825</td>\n",
       "      <td>0.340623</td>\n",
       "    </tr>\n",
       "    <tr>\n",
       "      <td>154</td>\n",
       "      <td>phon_R01_S37_2</td>\n",
       "      <td>119.100</td>\n",
       "      <td>128.442</td>\n",
       "      <td>88.833</td>\n",
       "      <td>0.00692</td>\n",
       "      <td>0.000060</td>\n",
       "      <td>0.00393</td>\n",
       "      <td>0.00300</td>\n",
       "      <td>0.01179</td>\n",
       "      <td>0.02682</td>\n",
       "      <td>...</td>\n",
       "      <td>0.04451</td>\n",
       "      <td>0.04611</td>\n",
       "      <td>21.824</td>\n",
       "      <td>1</td>\n",
       "      <td>0.651680</td>\n",
       "      <td>0.659333</td>\n",
       "      <td>-4.239028</td>\n",
       "      <td>0.175691</td>\n",
       "      <td>2.451130</td>\n",
       "      <td>0.247455</td>\n",
       "    </tr>\n",
       "    <tr>\n",
       "      <td>64</td>\n",
       "      <td>phon_R01_S17_5</td>\n",
       "      <td>229.401</td>\n",
       "      <td>252.221</td>\n",
       "      <td>221.156</td>\n",
       "      <td>0.00205</td>\n",
       "      <td>0.000009</td>\n",
       "      <td>0.00114</td>\n",
       "      <td>0.00113</td>\n",
       "      <td>0.00342</td>\n",
       "      <td>0.01457</td>\n",
       "      <td>...</td>\n",
       "      <td>0.02308</td>\n",
       "      <td>0.00300</td>\n",
       "      <td>26.415</td>\n",
       "      <td>0</td>\n",
       "      <td>0.276850</td>\n",
       "      <td>0.673636</td>\n",
       "      <td>-7.496264</td>\n",
       "      <td>0.056844</td>\n",
       "      <td>2.003032</td>\n",
       "      <td>0.073581</td>\n",
       "    </tr>\n",
       "    <tr>\n",
       "      <td>68</td>\n",
       "      <td>phon_R01_S18_3</td>\n",
       "      <td>143.533</td>\n",
       "      <td>162.215</td>\n",
       "      <td>65.809</td>\n",
       "      <td>0.01101</td>\n",
       "      <td>0.000080</td>\n",
       "      <td>0.00647</td>\n",
       "      <td>0.00467</td>\n",
       "      <td>0.01941</td>\n",
       "      <td>0.05384</td>\n",
       "      <td>...</td>\n",
       "      <td>0.09455</td>\n",
       "      <td>0.04882</td>\n",
       "      <td>20.338</td>\n",
       "      <td>1</td>\n",
       "      <td>0.513237</td>\n",
       "      <td>0.731444</td>\n",
       "      <td>-5.869750</td>\n",
       "      <td>0.151814</td>\n",
       "      <td>2.118496</td>\n",
       "      <td>0.185580</td>\n",
       "    </tr>\n",
       "    <tr>\n",
       "      <td>176</td>\n",
       "      <td>phon_R01_S43_6</td>\n",
       "      <td>116.388</td>\n",
       "      <td>129.038</td>\n",
       "      <td>108.970</td>\n",
       "      <td>0.00346</td>\n",
       "      <td>0.000030</td>\n",
       "      <td>0.00169</td>\n",
       "      <td>0.00213</td>\n",
       "      <td>0.00507</td>\n",
       "      <td>0.01725</td>\n",
       "      <td>...</td>\n",
       "      <td>0.02623</td>\n",
       "      <td>0.00415</td>\n",
       "      <td>26.143</td>\n",
       "      <td>0</td>\n",
       "      <td>0.361232</td>\n",
       "      <td>0.763242</td>\n",
       "      <td>-6.016891</td>\n",
       "      <td>0.109256</td>\n",
       "      <td>2.004719</td>\n",
       "      <td>0.174429</td>\n",
       "    </tr>\n",
       "    <tr>\n",
       "      <td>26</td>\n",
       "      <td>phon_R01_S06_3</td>\n",
       "      <td>171.041</td>\n",
       "      <td>208.313</td>\n",
       "      <td>75.501</td>\n",
       "      <td>0.00455</td>\n",
       "      <td>0.000030</td>\n",
       "      <td>0.00250</td>\n",
       "      <td>0.00234</td>\n",
       "      <td>0.00750</td>\n",
       "      <td>0.01966</td>\n",
       "      <td>...</td>\n",
       "      <td>0.02666</td>\n",
       "      <td>0.01095</td>\n",
       "      <td>25.908</td>\n",
       "      <td>1</td>\n",
       "      <td>0.418622</td>\n",
       "      <td>0.720916</td>\n",
       "      <td>-6.183590</td>\n",
       "      <td>0.226278</td>\n",
       "      <td>2.589702</td>\n",
       "      <td>0.147403</td>\n",
       "    </tr>\n",
       "    <tr>\n",
       "      <td>28</td>\n",
       "      <td>phon_R01_S06_5</td>\n",
       "      <td>155.358</td>\n",
       "      <td>227.383</td>\n",
       "      <td>80.055</td>\n",
       "      <td>0.00310</td>\n",
       "      <td>0.000020</td>\n",
       "      <td>0.00159</td>\n",
       "      <td>0.00176</td>\n",
       "      <td>0.00476</td>\n",
       "      <td>0.01718</td>\n",
       "      <td>...</td>\n",
       "      <td>0.02307</td>\n",
       "      <td>0.00677</td>\n",
       "      <td>25.970</td>\n",
       "      <td>1</td>\n",
       "      <td>0.470478</td>\n",
       "      <td>0.676258</td>\n",
       "      <td>-7.120925</td>\n",
       "      <td>0.279789</td>\n",
       "      <td>2.241742</td>\n",
       "      <td>0.108514</td>\n",
       "    </tr>\n",
       "    <tr>\n",
       "      <td>17</td>\n",
       "      <td>phon_R01_S04_6</td>\n",
       "      <td>168.778</td>\n",
       "      <td>232.181</td>\n",
       "      <td>75.603</td>\n",
       "      <td>0.00718</td>\n",
       "      <td>0.000040</td>\n",
       "      <td>0.00284</td>\n",
       "      <td>0.00387</td>\n",
       "      <td>0.00853</td>\n",
       "      <td>0.03327</td>\n",
       "      <td>...</td>\n",
       "      <td>0.04322</td>\n",
       "      <td>0.02919</td>\n",
       "      <td>20.376</td>\n",
       "      <td>1</td>\n",
       "      <td>0.631099</td>\n",
       "      <td>0.605417</td>\n",
       "      <td>-2.931070</td>\n",
       "      <td>0.434326</td>\n",
       "      <td>3.007463</td>\n",
       "      <td>0.430788</td>\n",
       "    </tr>\n",
       "  </tbody>\n",
       "</table>\n",
       "<p>10 rows × 24 columns</p>\n",
       "</div>"
      ],
      "text/plain": [
       "               name  MDVP_Fo_Hz  MDVP_Fhi_Hz  MDVP_Flo_Hz  \\\n",
       "99   phon_R01_S24_3     126.512      141.756       99.770   \n",
       "40   phon_R01_S08_5     186.163      197.724      177.584   \n",
       "97   phon_R01_S24_1     125.036      143.946      116.187   \n",
       "154  phon_R01_S37_2     119.100      128.442       88.833   \n",
       "64   phon_R01_S17_5     229.401      252.221      221.156   \n",
       "68   phon_R01_S18_3     143.533      162.215       65.809   \n",
       "176  phon_R01_S43_6     116.388      129.038      108.970   \n",
       "26   phon_R01_S06_3     171.041      208.313       75.501   \n",
       "28   phon_R01_S06_5     155.358      227.383       80.055   \n",
       "17   phon_R01_S04_6     168.778      232.181       75.603   \n",
       "\n",
       "     MDVP_Jitter_percent  MDVP_Jitter_Abs  MDVP_RAP  MDVP_PPQ  Jitter_DDP  \\\n",
       "99               0.01936         0.000150   0.01159   0.00990     0.03476   \n",
       "40               0.00298         0.000020   0.00165   0.00175     0.00496   \n",
       "97               0.01280         0.000100   0.00743   0.00623     0.02228   \n",
       "154              0.00692         0.000060   0.00393   0.00300     0.01179   \n",
       "64               0.00205         0.000009   0.00114   0.00113     0.00342   \n",
       "68               0.01101         0.000080   0.00647   0.00467     0.01941   \n",
       "176              0.00346         0.000030   0.00169   0.00213     0.00507   \n",
       "26               0.00455         0.000030   0.00250   0.00234     0.00750   \n",
       "28               0.00310         0.000020   0.00159   0.00176     0.00476   \n",
       "17               0.00718         0.000040   0.00284   0.00387     0.00853   \n",
       "\n",
       "     MDVP_Shimmer  ...  Shimmer_DDA      NHR     HNR  status      RPDE  \\\n",
       "99        0.06734  ...      0.10833  0.16744  12.435       1  0.638545   \n",
       "40        0.01495  ...      0.02321  0.00231  26.822       1  0.326480   \n",
       "97        0.03886  ...      0.06406  0.08151  15.338       1  0.629574   \n",
       "154       0.02682  ...      0.04451  0.04611  21.824       1  0.651680   \n",
       "64        0.01457  ...      0.02308  0.00300  26.415       0  0.276850   \n",
       "68        0.05384  ...      0.09455  0.04882  20.338       1  0.513237   \n",
       "176       0.01725  ...      0.02623  0.00415  26.143       0  0.361232   \n",
       "26        0.01966  ...      0.02666  0.01095  25.908       1  0.418622   \n",
       "28        0.01718  ...      0.02307  0.00677  25.970       1  0.470478   \n",
       "17        0.03327  ...      0.04322  0.02919  20.376       1  0.631099   \n",
       "\n",
       "          DFA   spread1   spread2        D2       PPE  \n",
       "99   0.674953 -3.760348  0.242861  2.634633  0.378483  \n",
       "40   0.765623 -6.647379  0.201095  2.374073  0.130554  \n",
       "97   0.714485 -4.020042  0.265315  2.671825  0.340623  \n",
       "154  0.659333 -4.239028  0.175691  2.451130  0.247455  \n",
       "64   0.673636 -7.496264  0.056844  2.003032  0.073581  \n",
       "68   0.731444 -5.869750  0.151814  2.118496  0.185580  \n",
       "176  0.763242 -6.016891  0.109256  2.004719  0.174429  \n",
       "26   0.720916 -6.183590  0.226278  2.589702  0.147403  \n",
       "28   0.676258 -7.120925  0.279789  2.241742  0.108514  \n",
       "17   0.605417 -2.931070  0.434326  3.007463  0.430788  \n",
       "\n",
       "[10 rows x 24 columns]"
      ]
     },
     "execution_count": 22,
     "metadata": {},
     "output_type": "execute_result"
    }
   ],
   "source": [
    "parkinsons_df.sample(10)"
   ]
  },
  {
   "cell_type": "code",
   "execution_count": 23,
   "metadata": {},
   "outputs": [
    {
     "data": {
      "text/html": [
       "<div>\n",
       "<style scoped>\n",
       "    .dataframe tbody tr th:only-of-type {\n",
       "        vertical-align: middle;\n",
       "    }\n",
       "\n",
       "    .dataframe tbody tr th {\n",
       "        vertical-align: top;\n",
       "    }\n",
       "\n",
       "    .dataframe thead th {\n",
       "        text-align: right;\n",
       "    }\n",
       "</style>\n",
       "<table border=\"1\" class=\"dataframe\">\n",
       "  <thead>\n",
       "    <tr style=\"text-align: right;\">\n",
       "      <th></th>\n",
       "      <th>count</th>\n",
       "      <th>mean</th>\n",
       "      <th>std</th>\n",
       "      <th>min</th>\n",
       "      <th>25%</th>\n",
       "      <th>50%</th>\n",
       "      <th>75%</th>\n",
       "      <th>max</th>\n",
       "    </tr>\n",
       "  </thead>\n",
       "  <tbody>\n",
       "    <tr>\n",
       "      <td>MDVP_Fo_Hz</td>\n",
       "      <td>195.0</td>\n",
       "      <td>154.228641</td>\n",
       "      <td>41.390065</td>\n",
       "      <td>88.333000</td>\n",
       "      <td>117.572000</td>\n",
       "      <td>148.790000</td>\n",
       "      <td>182.769000</td>\n",
       "      <td>260.105000</td>\n",
       "    </tr>\n",
       "    <tr>\n",
       "      <td>MDVP_Fhi_Hz</td>\n",
       "      <td>195.0</td>\n",
       "      <td>197.104918</td>\n",
       "      <td>91.491548</td>\n",
       "      <td>102.145000</td>\n",
       "      <td>134.862500</td>\n",
       "      <td>175.829000</td>\n",
       "      <td>224.205500</td>\n",
       "      <td>592.030000</td>\n",
       "    </tr>\n",
       "    <tr>\n",
       "      <td>MDVP_Flo_Hz</td>\n",
       "      <td>195.0</td>\n",
       "      <td>116.324631</td>\n",
       "      <td>43.521413</td>\n",
       "      <td>65.476000</td>\n",
       "      <td>84.291000</td>\n",
       "      <td>104.315000</td>\n",
       "      <td>140.018500</td>\n",
       "      <td>239.170000</td>\n",
       "    </tr>\n",
       "    <tr>\n",
       "      <td>MDVP_Jitter_percent</td>\n",
       "      <td>195.0</td>\n",
       "      <td>0.006220</td>\n",
       "      <td>0.004848</td>\n",
       "      <td>0.001680</td>\n",
       "      <td>0.003460</td>\n",
       "      <td>0.004940</td>\n",
       "      <td>0.007365</td>\n",
       "      <td>0.033160</td>\n",
       "    </tr>\n",
       "    <tr>\n",
       "      <td>MDVP_Jitter_Abs</td>\n",
       "      <td>195.0</td>\n",
       "      <td>0.000044</td>\n",
       "      <td>0.000035</td>\n",
       "      <td>0.000007</td>\n",
       "      <td>0.000020</td>\n",
       "      <td>0.000030</td>\n",
       "      <td>0.000060</td>\n",
       "      <td>0.000260</td>\n",
       "    </tr>\n",
       "    <tr>\n",
       "      <td>MDVP_RAP</td>\n",
       "      <td>195.0</td>\n",
       "      <td>0.003306</td>\n",
       "      <td>0.002968</td>\n",
       "      <td>0.000680</td>\n",
       "      <td>0.001660</td>\n",
       "      <td>0.002500</td>\n",
       "      <td>0.003835</td>\n",
       "      <td>0.021440</td>\n",
       "    </tr>\n",
       "    <tr>\n",
       "      <td>MDVP_PPQ</td>\n",
       "      <td>195.0</td>\n",
       "      <td>0.003446</td>\n",
       "      <td>0.002759</td>\n",
       "      <td>0.000920</td>\n",
       "      <td>0.001860</td>\n",
       "      <td>0.002690</td>\n",
       "      <td>0.003955</td>\n",
       "      <td>0.019580</td>\n",
       "    </tr>\n",
       "    <tr>\n",
       "      <td>Jitter_DDP</td>\n",
       "      <td>195.0</td>\n",
       "      <td>0.009920</td>\n",
       "      <td>0.008903</td>\n",
       "      <td>0.002040</td>\n",
       "      <td>0.004985</td>\n",
       "      <td>0.007490</td>\n",
       "      <td>0.011505</td>\n",
       "      <td>0.064330</td>\n",
       "    </tr>\n",
       "    <tr>\n",
       "      <td>MDVP_Shimmer</td>\n",
       "      <td>195.0</td>\n",
       "      <td>0.029709</td>\n",
       "      <td>0.018857</td>\n",
       "      <td>0.009540</td>\n",
       "      <td>0.016505</td>\n",
       "      <td>0.022970</td>\n",
       "      <td>0.037885</td>\n",
       "      <td>0.119080</td>\n",
       "    </tr>\n",
       "    <tr>\n",
       "      <td>MDVP_Shimmer_dB</td>\n",
       "      <td>195.0</td>\n",
       "      <td>0.282251</td>\n",
       "      <td>0.194877</td>\n",
       "      <td>0.085000</td>\n",
       "      <td>0.148500</td>\n",
       "      <td>0.221000</td>\n",
       "      <td>0.350000</td>\n",
       "      <td>1.302000</td>\n",
       "    </tr>\n",
       "    <tr>\n",
       "      <td>Shimmer_APQ3</td>\n",
       "      <td>195.0</td>\n",
       "      <td>0.015664</td>\n",
       "      <td>0.010153</td>\n",
       "      <td>0.004550</td>\n",
       "      <td>0.008245</td>\n",
       "      <td>0.012790</td>\n",
       "      <td>0.020265</td>\n",
       "      <td>0.056470</td>\n",
       "    </tr>\n",
       "    <tr>\n",
       "      <td>Shimmer_APQ5</td>\n",
       "      <td>195.0</td>\n",
       "      <td>0.017878</td>\n",
       "      <td>0.012024</td>\n",
       "      <td>0.005700</td>\n",
       "      <td>0.009580</td>\n",
       "      <td>0.013470</td>\n",
       "      <td>0.022380</td>\n",
       "      <td>0.079400</td>\n",
       "    </tr>\n",
       "    <tr>\n",
       "      <td>MDVP_APQ</td>\n",
       "      <td>195.0</td>\n",
       "      <td>0.024081</td>\n",
       "      <td>0.016947</td>\n",
       "      <td>0.007190</td>\n",
       "      <td>0.013080</td>\n",
       "      <td>0.018260</td>\n",
       "      <td>0.029400</td>\n",
       "      <td>0.137780</td>\n",
       "    </tr>\n",
       "    <tr>\n",
       "      <td>Shimmer_DDA</td>\n",
       "      <td>195.0</td>\n",
       "      <td>0.046993</td>\n",
       "      <td>0.030459</td>\n",
       "      <td>0.013640</td>\n",
       "      <td>0.024735</td>\n",
       "      <td>0.038360</td>\n",
       "      <td>0.060795</td>\n",
       "      <td>0.169420</td>\n",
       "    </tr>\n",
       "    <tr>\n",
       "      <td>NHR</td>\n",
       "      <td>195.0</td>\n",
       "      <td>0.024847</td>\n",
       "      <td>0.040418</td>\n",
       "      <td>0.000650</td>\n",
       "      <td>0.005925</td>\n",
       "      <td>0.011660</td>\n",
       "      <td>0.025640</td>\n",
       "      <td>0.314820</td>\n",
       "    </tr>\n",
       "    <tr>\n",
       "      <td>HNR</td>\n",
       "      <td>195.0</td>\n",
       "      <td>21.885974</td>\n",
       "      <td>4.425764</td>\n",
       "      <td>8.441000</td>\n",
       "      <td>19.198000</td>\n",
       "      <td>22.085000</td>\n",
       "      <td>25.075500</td>\n",
       "      <td>33.047000</td>\n",
       "    </tr>\n",
       "    <tr>\n",
       "      <td>status</td>\n",
       "      <td>195.0</td>\n",
       "      <td>0.753846</td>\n",
       "      <td>0.431878</td>\n",
       "      <td>0.000000</td>\n",
       "      <td>1.000000</td>\n",
       "      <td>1.000000</td>\n",
       "      <td>1.000000</td>\n",
       "      <td>1.000000</td>\n",
       "    </tr>\n",
       "    <tr>\n",
       "      <td>RPDE</td>\n",
       "      <td>195.0</td>\n",
       "      <td>0.498536</td>\n",
       "      <td>0.103942</td>\n",
       "      <td>0.256570</td>\n",
       "      <td>0.421306</td>\n",
       "      <td>0.495954</td>\n",
       "      <td>0.587562</td>\n",
       "      <td>0.685151</td>\n",
       "    </tr>\n",
       "    <tr>\n",
       "      <td>DFA</td>\n",
       "      <td>195.0</td>\n",
       "      <td>0.718099</td>\n",
       "      <td>0.055336</td>\n",
       "      <td>0.574282</td>\n",
       "      <td>0.674758</td>\n",
       "      <td>0.722254</td>\n",
       "      <td>0.761881</td>\n",
       "      <td>0.825288</td>\n",
       "    </tr>\n",
       "    <tr>\n",
       "      <td>spread1</td>\n",
       "      <td>195.0</td>\n",
       "      <td>-5.684397</td>\n",
       "      <td>1.090208</td>\n",
       "      <td>-7.964984</td>\n",
       "      <td>-6.450096</td>\n",
       "      <td>-5.720868</td>\n",
       "      <td>-5.046192</td>\n",
       "      <td>-2.434031</td>\n",
       "    </tr>\n",
       "    <tr>\n",
       "      <td>spread2</td>\n",
       "      <td>195.0</td>\n",
       "      <td>0.226510</td>\n",
       "      <td>0.083406</td>\n",
       "      <td>0.006274</td>\n",
       "      <td>0.174351</td>\n",
       "      <td>0.218885</td>\n",
       "      <td>0.279234</td>\n",
       "      <td>0.450493</td>\n",
       "    </tr>\n",
       "    <tr>\n",
       "      <td>D2</td>\n",
       "      <td>195.0</td>\n",
       "      <td>2.381826</td>\n",
       "      <td>0.382799</td>\n",
       "      <td>1.423287</td>\n",
       "      <td>2.099125</td>\n",
       "      <td>2.361532</td>\n",
       "      <td>2.636456</td>\n",
       "      <td>3.671155</td>\n",
       "    </tr>\n",
       "    <tr>\n",
       "      <td>PPE</td>\n",
       "      <td>195.0</td>\n",
       "      <td>0.206552</td>\n",
       "      <td>0.090119</td>\n",
       "      <td>0.044539</td>\n",
       "      <td>0.137451</td>\n",
       "      <td>0.194052</td>\n",
       "      <td>0.252980</td>\n",
       "      <td>0.527367</td>\n",
       "    </tr>\n",
       "  </tbody>\n",
       "</table>\n",
       "</div>"
      ],
      "text/plain": [
       "                     count        mean        std         min         25%  \\\n",
       "MDVP_Fo_Hz           195.0  154.228641  41.390065   88.333000  117.572000   \n",
       "MDVP_Fhi_Hz          195.0  197.104918  91.491548  102.145000  134.862500   \n",
       "MDVP_Flo_Hz          195.0  116.324631  43.521413   65.476000   84.291000   \n",
       "MDVP_Jitter_percent  195.0    0.006220   0.004848    0.001680    0.003460   \n",
       "MDVP_Jitter_Abs      195.0    0.000044   0.000035    0.000007    0.000020   \n",
       "MDVP_RAP             195.0    0.003306   0.002968    0.000680    0.001660   \n",
       "MDVP_PPQ             195.0    0.003446   0.002759    0.000920    0.001860   \n",
       "Jitter_DDP           195.0    0.009920   0.008903    0.002040    0.004985   \n",
       "MDVP_Shimmer         195.0    0.029709   0.018857    0.009540    0.016505   \n",
       "MDVP_Shimmer_dB      195.0    0.282251   0.194877    0.085000    0.148500   \n",
       "Shimmer_APQ3         195.0    0.015664   0.010153    0.004550    0.008245   \n",
       "Shimmer_APQ5         195.0    0.017878   0.012024    0.005700    0.009580   \n",
       "MDVP_APQ             195.0    0.024081   0.016947    0.007190    0.013080   \n",
       "Shimmer_DDA          195.0    0.046993   0.030459    0.013640    0.024735   \n",
       "NHR                  195.0    0.024847   0.040418    0.000650    0.005925   \n",
       "HNR                  195.0   21.885974   4.425764    8.441000   19.198000   \n",
       "status               195.0    0.753846   0.431878    0.000000    1.000000   \n",
       "RPDE                 195.0    0.498536   0.103942    0.256570    0.421306   \n",
       "DFA                  195.0    0.718099   0.055336    0.574282    0.674758   \n",
       "spread1              195.0   -5.684397   1.090208   -7.964984   -6.450096   \n",
       "spread2              195.0    0.226510   0.083406    0.006274    0.174351   \n",
       "D2                   195.0    2.381826   0.382799    1.423287    2.099125   \n",
       "PPE                  195.0    0.206552   0.090119    0.044539    0.137451   \n",
       "\n",
       "                            50%         75%         max  \n",
       "MDVP_Fo_Hz           148.790000  182.769000  260.105000  \n",
       "MDVP_Fhi_Hz          175.829000  224.205500  592.030000  \n",
       "MDVP_Flo_Hz          104.315000  140.018500  239.170000  \n",
       "MDVP_Jitter_percent    0.004940    0.007365    0.033160  \n",
       "MDVP_Jitter_Abs        0.000030    0.000060    0.000260  \n",
       "MDVP_RAP               0.002500    0.003835    0.021440  \n",
       "MDVP_PPQ               0.002690    0.003955    0.019580  \n",
       "Jitter_DDP             0.007490    0.011505    0.064330  \n",
       "MDVP_Shimmer           0.022970    0.037885    0.119080  \n",
       "MDVP_Shimmer_dB        0.221000    0.350000    1.302000  \n",
       "Shimmer_APQ3           0.012790    0.020265    0.056470  \n",
       "Shimmer_APQ5           0.013470    0.022380    0.079400  \n",
       "MDVP_APQ               0.018260    0.029400    0.137780  \n",
       "Shimmer_DDA            0.038360    0.060795    0.169420  \n",
       "NHR                    0.011660    0.025640    0.314820  \n",
       "HNR                   22.085000   25.075500   33.047000  \n",
       "status                 1.000000    1.000000    1.000000  \n",
       "RPDE                   0.495954    0.587562    0.685151  \n",
       "DFA                    0.722254    0.761881    0.825288  \n",
       "spread1               -5.720868   -5.046192   -2.434031  \n",
       "spread2                0.218885    0.279234    0.450493  \n",
       "D2                     2.361532    2.636456    3.671155  \n",
       "PPE                    0.194052    0.252980    0.527367  "
      ]
     },
     "execution_count": 23,
     "metadata": {},
     "output_type": "execute_result"
    }
   ],
   "source": [
    "parkinsons_df.describe().transpose()"
   ]
  },
  {
   "cell_type": "code",
   "execution_count": 24,
   "metadata": {},
   "outputs": [
    {
     "data": {
      "text/plain": [
       "name                   0\n",
       "MDVP_Fo_Hz             0\n",
       "MDVP_Fhi_Hz            0\n",
       "MDVP_Flo_Hz            0\n",
       "MDVP_Jitter_percent    0\n",
       "MDVP_Jitter_Abs        0\n",
       "MDVP_RAP               0\n",
       "MDVP_PPQ               0\n",
       "Jitter_DDP             0\n",
       "MDVP_Shimmer           0\n",
       "MDVP_Shimmer_dB        0\n",
       "Shimmer_APQ3           0\n",
       "Shimmer_APQ5           0\n",
       "MDVP_APQ               0\n",
       "Shimmer_DDA            0\n",
       "NHR                    0\n",
       "HNR                    0\n",
       "status                 0\n",
       "RPDE                   0\n",
       "DFA                    0\n",
       "spread1                0\n",
       "spread2                0\n",
       "D2                     0\n",
       "PPE                    0\n",
       "dtype: int64"
      ]
     },
     "execution_count": 24,
     "metadata": {},
     "output_type": "execute_result"
    }
   ],
   "source": [
    "parkinsons_df.isna().sum()"
   ]
  },
  {
   "cell_type": "markdown",
   "metadata": {},
   "source": [
    "Null values need to be treated before we build decision tree models. Since there are no null values in any of the columns of our dataset we are safe to proceed"
   ]
  },
  {
   "cell_type": "code",
   "execution_count": 25,
   "metadata": {},
   "outputs": [
    {
     "data": {
      "text/plain": [
       "1    147\n",
       "0     48\n",
       "Name: status, dtype: int64"
      ]
     },
     "execution_count": 25,
     "metadata": {},
     "output_type": "execute_result"
    }
   ],
   "source": [
    "parkinsons_df['status'].value_counts()"
   ]
  },
  {
   "cell_type": "code",
   "execution_count": 26,
   "metadata": {
    "scrolled": true
   },
   "outputs": [
    {
     "data": {
      "text/plain": [
       "(array([12., 54., 20., 31., 17., 18., 21.,  8.,  9.,  5.]),\n",
       " array([ 88.333 , 105.5102, 122.6874, 139.8646, 157.0418, 174.219 ,\n",
       "        191.3962, 208.5734, 225.7506, 242.9278, 260.105 ]),\n",
       " <a list of 10 Patch objects>)"
      ]
     },
     "execution_count": 26,
     "metadata": {},
     "output_type": "execute_result"
    },
    {
     "data": {
      "image/png": "[encoded data removed]",
      "text/plain": [
       "<Figure size 432x288 with 1 Axes>"
      ]
     },
     "metadata": {
      "needs_background": "light"
     },
     "output_type": "display_data"
    }
   ],
   "source": [
    "#To check the distribution of data \n",
    "plt.hist(parkinsons_df.MDVP_Fo_Hz)"
   ]
  },
  {
   "cell_type": "code",
   "execution_count": 27,
   "metadata": {},
   "outputs": [
    {
     "data": {
      "text/plain": [
       "(array([69., 47., 53., 14.,  0.,  1.,  3.,  3.,  0.,  5.]),\n",
       " array([102.145 , 151.1335, 200.122 , 249.1105, 298.099 , 347.0875,\n",
       "        396.076 , 445.0645, 494.053 , 543.0415, 592.03  ]),\n",
       " <a list of 10 Patch objects>)"
      ]
     },
     "execution_count": 27,
     "metadata": {},
     "output_type": "execute_result"
    },
    {
     "data": {
      "image/png": "[encoded data removed]",
      "text/plain": [
       "<Figure size 432x288 with 1 Axes>"
      ]
     },
     "metadata": {
      "needs_background": "light"
     },
     "output_type": "display_data"
    }
   ],
   "source": [
    "plt.hist(parkinsons_df.MDVP_Fhi_Hz)"
   ]
  },
  {
   "cell_type": "code",
   "execution_count": 28,
   "metadata": {},
   "outputs": [
    {
     "data": {
      "text/plain": [
       "(array([45., 46., 44.,  9., 16.,  8.,  7.,  8.,  3.,  9.]),\n",
       " array([ 65.476 ,  82.8454, 100.2148, 117.5842, 134.9536, 152.323 ,\n",
       "        169.6924, 187.0618, 204.4312, 221.8006, 239.17  ]),\n",
       " <a list of 10 Patch objects>)"
      ]
     },
     "execution_count": 28,
     "metadata": {},
     "output_type": "execute_result"
    },
    {
     "data": {
      "image/png": "[encoded data removed]",
      "text/plain": [
       "<Figure size 432x288 with 1 Axes>"
      ]
     },
     "metadata": {
      "needs_background": "light"
     },
     "output_type": "display_data"
    }
   ],
   "source": [
    "plt.hist(parkinsons_df.MDVP_Flo_Hz)"
   ]
  },
  {
   "cell_type": "code",
   "execution_count": 29,
   "metadata": {},
   "outputs": [
    {
     "data": {
      "text/plain": [
       "(array([94., 66., 19.,  4.,  5.,  3.,  0.,  0.,  1.,  3.]),\n",
       " array([0.00168 , 0.004828, 0.007976, 0.011124, 0.014272, 0.01742 ,\n",
       "        0.020568, 0.023716, 0.026864, 0.030012, 0.03316 ]),\n",
       " <a list of 10 Patch objects>)"
      ]
     },
     "execution_count": 29,
     "metadata": {},
     "output_type": "execute_result"
    },
    {
     "data": {
      "image/png": "[encoded data removed]",
      "text/plain": [
       "<Figure size 432x288 with 1 Axes>"
      ]
     },
     "metadata": {
      "needs_background": "light"
     },
     "output_type": "display_data"
    }
   ],
   "source": [
    "plt.hist(parkinsons_df.MDVP_Jitter_percent)"
   ]
  },
  {
   "cell_type": "code",
   "execution_count": 30,
   "metadata": {},
   "outputs": [
    {
     "data": {
      "text/plain": [
       "(array([100.,  45.,  33.,   8.,   3.,   3.,   1.,   0.,   1.,   1.]),\n",
       " array([7.000e-06, 3.230e-05, 5.760e-05, 8.290e-05, 1.082e-04, 1.335e-04,\n",
       "        1.588e-04, 1.841e-04, 2.094e-04, 2.347e-04, 2.600e-04]),\n",
       " <a list of 10 Patch objects>)"
      ]
     },
     "execution_count": 30,
     "metadata": {},
     "output_type": "execute_result"
    },
    {
     "data": {
      "image/png": "[encoded data removed]",
      "text/plain": [
       "<Figure size 432x288 with 1 Axes>"
      ]
     },
     "metadata": {
      "needs_background": "light"
     },
     "output_type": "display_data"
    }
   ],
   "source": [
    "plt.hist(parkinsons_df.MDVP_Jitter_Abs)"
   ]
  },
  {
   "cell_type": "code",
   "execution_count": 31,
   "metadata": {},
   "outputs": [
    {
     "data": {
      "text/plain": [
       "(array([110.,  58.,  13.,   4.,   4.,   2.,   0.,   1.,   2.,   1.]),\n",
       " array([0.00068 , 0.002756, 0.004832, 0.006908, 0.008984, 0.01106 ,\n",
       "        0.013136, 0.015212, 0.017288, 0.019364, 0.02144 ]),\n",
       " <a list of 10 Patch objects>)"
      ]
     },
     "execution_count": 31,
     "metadata": {},
     "output_type": "execute_result"
    },
    {
     "data": {
      "image/png": "[encoded data removed]",
      "text/plain": [
       "<Figure size 432x288 with 1 Axes>"
      ]
     },
     "metadata": {
      "needs_background": "light"
     },
     "output_type": "display_data"
    }
   ],
   "source": [
    "plt.hist(parkinsons_df.MDVP_RAP)"
   ]
  },
  {
   "cell_type": "code",
   "execution_count": 32,
   "metadata": {},
   "outputs": [
    {
     "data": {
      "text/plain": [
       "(array([100.,  64.,  13.,   7.,   5.,   2.,   0.,   1.,   2.,   1.]),\n",
       " array([0.00092 , 0.002786, 0.004652, 0.006518, 0.008384, 0.01025 ,\n",
       "        0.012116, 0.013982, 0.015848, 0.017714, 0.01958 ]),\n",
       " <a list of 10 Patch objects>)"
      ]
     },
     "execution_count": 32,
     "metadata": {},
     "output_type": "execute_result"
    },
    {
     "data": {
      "image/png": "[encoded data removed]",
      "text/plain": [
       "<Figure size 432x288 with 1 Axes>"
      ]
     },
     "metadata": {
      "needs_background": "light"
     },
     "output_type": "display_data"
    }
   ],
   "source": [
    "plt.hist(parkinsons_df.MDVP_PPQ)"
   ]
  },
  {
   "cell_type": "code",
   "execution_count": 33,
   "metadata": {},
   "outputs": [
    {
     "data": {
      "text/plain": [
       "(array([110.,  58.,  13.,   4.,   4.,   2.,   0.,   1.,   2.,   1.]),\n",
       " array([0.00204 , 0.008269, 0.014498, 0.020727, 0.026956, 0.033185,\n",
       "        0.039414, 0.045643, 0.051872, 0.058101, 0.06433 ]),\n",
       " <a list of 10 Patch objects>)"
      ]
     },
     "execution_count": 33,
     "metadata": {},
     "output_type": "execute_result"
    },
    {
     "data": {
      "image/png": "[encoded data removed]",
      "text/plain": [
       "<Figure size 432x288 with 1 Axes>"
      ]
     },
     "metadata": {
      "needs_background": "light"
     },
     "output_type": "display_data"
    }
   ],
   "source": [
    "plt.hist(parkinsons_df.Jitter_DDP)"
   ]
  },
  {
   "cell_type": "code",
   "execution_count": 34,
   "metadata": {},
   "outputs": [
    {
     "data": {
      "text/plain": [
       "(array([83., 45., 30., 13., 11.,  7.,  2.,  3.,  0.,  1.]),\n",
       " array([0.00954 , 0.020494, 0.031448, 0.042402, 0.053356, 0.06431 ,\n",
       "        0.075264, 0.086218, 0.097172, 0.108126, 0.11908 ]),\n",
       " <a list of 10 Patch objects>)"
      ]
     },
     "execution_count": 34,
     "metadata": {},
     "output_type": "execute_result"
    },
    {
     "data": {
      "image/png": "[encoded data removed]",
      "text/plain": [
       "<Figure size 432x288 with 1 Axes>"
      ]
     },
     "metadata": {
      "needs_background": "light"
     },
     "output_type": "display_data"
    }
   ],
   "source": [
    "plt.hist(parkinsons_df.MDVP_Shimmer)"
   ]
  },
  {
   "cell_type": "code",
   "execution_count": 35,
   "metadata": {},
   "outputs": [
    {
     "data": {
      "text/plain": [
       "(array([89., 50., 28., 10.,  9.,  3.,  4.,  1.,  0.,  1.]),\n",
       " array([0.085 , 0.2067, 0.3284, 0.4501, 0.5718, 0.6935, 0.8152, 0.9369,\n",
       "        1.0586, 1.1803, 1.302 ]),\n",
       " <a list of 10 Patch objects>)"
      ]
     },
     "execution_count": 35,
     "metadata": {},
     "output_type": "execute_result"
    },
    {
     "data": {
      "image/png": "[encoded data removed]",
      "text/plain": [
       "<Figure size 432x288 with 1 Axes>"
      ]
     },
     "metadata": {
      "needs_background": "light"
     },
     "output_type": "display_data"
    }
   ],
   "source": [
    "plt.hist(parkinsons_df.MDVP_Shimmer_dB)"
   ]
  },
  {
   "cell_type": "code",
   "execution_count": 36,
   "metadata": {},
   "outputs": [
    {
     "data": {
      "text/plain": [
       "(array([72., 49., 24., 19., 11.,  9.,  6.,  2.,  0.,  3.]),\n",
       " array([0.00455 , 0.009742, 0.014934, 0.020126, 0.025318, 0.03051 ,\n",
       "        0.035702, 0.040894, 0.046086, 0.051278, 0.05647 ]),\n",
       " <a list of 10 Patch objects>)"
      ]
     },
     "execution_count": 36,
     "metadata": {},
     "output_type": "execute_result"
    },
    {
     "data": {
      "image/png": "[encoded data removed]",
      "text/plain": [
       "<Figure size 432x288 with 1 Axes>"
      ]
     },
     "metadata": {
      "needs_background": "light"
     },
     "output_type": "display_data"
    }
   ],
   "source": [
    "plt.hist(parkinsons_df.Shimmer_APQ3)"
   ]
  },
  {
   "cell_type": "code",
   "execution_count": 37,
   "metadata": {},
   "outputs": [
    {
     "data": {
      "text/plain": [
       "(array([92., 50., 24.,  5., 13.,  7.,  3.,  0.,  0.,  1.]),\n",
       " array([0.0057 , 0.01307, 0.02044, 0.02781, 0.03518, 0.04255, 0.04992,\n",
       "        0.05729, 0.06466, 0.07203, 0.0794 ]),\n",
       " <a list of 10 Patch objects>)"
      ]
     },
     "execution_count": 37,
     "metadata": {},
     "output_type": "execute_result"
    },
    {
     "data": {
      "image/png": "[encoded data removed]",
      "text/plain": [
       "<Figure size 432x288 with 1 Axes>"
      ]
     },
     "metadata": {
      "needs_background": "light"
     },
     "output_type": "display_data"
    }
   ],
   "source": [
    "plt.hist(parkinsons_df.Shimmer_APQ5)"
   ]
  },
  {
   "cell_type": "code",
   "execution_count": 38,
   "metadata": {},
   "outputs": [
    {
     "data": {
      "text/plain": [
       "(array([112.,  43.,  24.,   7.,   6.,   1.,   1.,   0.,   0.,   1.]),\n",
       " array([0.00719 , 0.020249, 0.033308, 0.046367, 0.059426, 0.072485,\n",
       "        0.085544, 0.098603, 0.111662, 0.124721, 0.13778 ]),\n",
       " <a list of 10 Patch objects>)"
      ]
     },
     "execution_count": 38,
     "metadata": {},
     "output_type": "execute_result"
    },
    {
     "data": {
      "image/png": "[encoded data removed]",
      "text/plain": [
       "<Figure size 432x288 with 1 Axes>"
      ]
     },
     "metadata": {
      "needs_background": "light"
     },
     "output_type": "display_data"
    }
   ],
   "source": [
    "plt.hist(parkinsons_df.MDVP_APQ)"
   ]
  },
  {
   "cell_type": "code",
   "execution_count": 39,
   "metadata": {},
   "outputs": [
    {
     "data": {
      "text/plain": [
       "(array([72., 49., 24., 19., 11.,  9.,  6.,  2.,  0.,  3.]),\n",
       " array([0.01364 , 0.029218, 0.044796, 0.060374, 0.075952, 0.09153 ,\n",
       "        0.107108, 0.122686, 0.138264, 0.153842, 0.16942 ]),\n",
       " <a list of 10 Patch objects>)"
      ]
     },
     "execution_count": 39,
     "metadata": {},
     "output_type": "execute_result"
    },
    {
     "data": {
      "image/png": "[encoded data removed]",
      "text/plain": [
       "<Figure size 432x288 with 1 Axes>"
      ]
     },
     "metadata": {
      "needs_background": "light"
     },
     "output_type": "display_data"
    }
   ],
   "source": [
    "plt.hist(parkinsons_df.Shimmer_DDA)"
   ]
  },
  {
   "cell_type": "code",
   "execution_count": 40,
   "metadata": {},
   "outputs": [
    {
     "data": {
      "text/plain": [
       "(array([161.,  17.,   7.,   5.,   0.,   2.,   1.,   0.,   1.,   1.]),\n",
       " array([0.00065 , 0.032067, 0.063484, 0.094901, 0.126318, 0.157735,\n",
       "        0.189152, 0.220569, 0.251986, 0.283403, 0.31482 ]),\n",
       " <a list of 10 Patch objects>)"
      ]
     },
     "execution_count": 40,
     "metadata": {},
     "output_type": "execute_result"
    },
    {
     "data": {
      "image/png": "[encoded data removed]",
      "text/plain": [
       "<Figure size 432x288 with 1 Axes>"
      ]
     },
     "metadata": {
      "needs_background": "light"
     },
     "output_type": "display_data"
    }
   ],
   "source": [
    "plt.hist(parkinsons_df.NHR)"
   ]
  },
  {
   "cell_type": "code",
   "execution_count": 41,
   "metadata": {},
   "outputs": [
    {
     "data": {
      "text/plain": [
       "(array([ 4.,  6.,  9., 11., 41., 44., 41., 31.,  3.,  5.]),\n",
       " array([ 8.441 , 10.9016, 13.3622, 15.8228, 18.2834, 20.744 , 23.2046,\n",
       "        25.6652, 28.1258, 30.5864, 33.047 ]),\n",
       " <a list of 10 Patch objects>)"
      ]
     },
     "execution_count": 41,
     "metadata": {},
     "output_type": "execute_result"
    },
    {
     "data": {
      "image/png": "[encoded data removed]",
      "text/plain": [
       "<Figure size 432x288 with 1 Axes>"
      ]
     },
     "metadata": {
      "needs_background": "light"
     },
     "output_type": "display_data"
    }
   ],
   "source": [
    "plt.hist(parkinsons_df.HNR)"
   ]
  },
  {
   "cell_type": "code",
   "execution_count": 42,
   "metadata": {},
   "outputs": [
    {
     "data": {
      "text/plain": [
       "(array([ 48.,   0.,   0.,   0.,   0.,   0.,   0.,   0.,   0., 147.]),\n",
       " array([0. , 0.1, 0.2, 0.3, 0.4, 0.5, 0.6, 0.7, 0.8, 0.9, 1. ]),\n",
       " <a list of 10 Patch objects>)"
      ]
     },
     "execution_count": 42,
     "metadata": {},
     "output_type": "execute_result"
    },
    {
     "data": {
      "image/png": "[encoded data removed]",
      "text/plain": [
       "<Figure size 432x288 with 1 Axes>"
      ]
     },
     "metadata": {
      "needs_background": "light"
     },
     "output_type": "display_data"
    }
   ],
   "source": [
    "plt.hist(parkinsons_df.status)"
   ]
  },
  {
   "cell_type": "code",
   "execution_count": 43,
   "metadata": {},
   "outputs": [
    {
     "data": {
      "text/plain": [
       "(array([ 4., 12., 14., 22., 35., 22., 20., 25., 26., 15.]),\n",
       " array([0.25657  , 0.2994281, 0.3422862, 0.3851443, 0.4280024, 0.4708605,\n",
       "        0.5137186, 0.5565767, 0.5994348, 0.6422929, 0.685151 ]),\n",
       " <a list of 10 Patch objects>)"
      ]
     },
     "execution_count": 43,
     "metadata": {},
     "output_type": "execute_result"
    },
    {
     "data": {
      "image/png": "[encoded data removed]",
      "text/plain": [
       "<Figure size 432x288 with 1 Axes>"
      ]
     },
     "metadata": {
      "needs_background": "light"
     },
     "output_type": "display_data"
    }
   ],
   "source": [
    "plt.hist(parkinsons_df.RPDE)"
   ]
  },
  {
   "cell_type": "code",
   "execution_count": 44,
   "metadata": {},
   "outputs": [
    {
     "data": {
      "text/plain": [
       "(array([ 2.,  2., 19., 26., 26., 27., 34., 27., 17., 15.]),\n",
       " array([0.574282 , 0.5993826, 0.6244832, 0.6495838, 0.6746844, 0.699785 ,\n",
       "        0.7248856, 0.7499862, 0.7750868, 0.8001874, 0.825288 ]),\n",
       " <a list of 10 Patch objects>)"
      ]
     },
     "execution_count": 44,
     "metadata": {},
     "output_type": "execute_result"
    },
    {
     "data": {
      "image/png": "[encoded data removed]",
      "text/plain": [
       "<Figure size 432x288 with 1 Axes>"
      ]
     },
     "metadata": {
      "needs_background": "light"
     },
     "output_type": "display_data"
    }
   ],
   "source": [
    "plt.hist(parkinsons_df.DFA)"
   ]
  },
  {
   "cell_type": "code",
   "execution_count": 45,
   "metadata": {},
   "outputs": [
    {
     "data": {
      "text/plain": [
       "(array([ 6., 24., 28., 37., 44., 21., 20.,  7.,  4.,  4.]),\n",
       " array([-7.964984 , -7.4118887, -6.8587934, -6.3056981, -5.7526028,\n",
       "        -5.1995075, -4.6464122, -4.0933169, -3.5402216, -2.9871263,\n",
       "        -2.434031 ]),\n",
       " <a list of 10 Patch objects>)"
      ]
     },
     "execution_count": 45,
     "metadata": {},
     "output_type": "execute_result"
    },
    {
     "data": {
      "image/png": "[encoded data removed]",
      "text/plain": [
       "<Figure size 432x288 with 1 Axes>"
      ]
     },
     "metadata": {
      "needs_background": "light"
     },
     "output_type": "display_data"
    }
   ],
   "source": [
    "plt.hist(parkinsons_df.spread1)"
   ]
  },
  {
   "cell_type": "code",
   "execution_count": 46,
   "metadata": {},
   "outputs": [
    {
     "data": {
      "text/plain": [
       "(array([ 2., 10., 13., 35., 47., 37., 22., 17.,  9.,  3.]),\n",
       " array([0.006274 , 0.0506959, 0.0951178, 0.1395397, 0.1839616, 0.2283835,\n",
       "        0.2728054, 0.3172273, 0.3616492, 0.4060711, 0.450493 ]),\n",
       " <a list of 10 Patch objects>)"
      ]
     },
     "execution_count": 46,
     "metadata": {},
     "output_type": "execute_result"
    },
    {
     "data": {
      "image/png": "[encoded data removed]",
      "text/plain": [
       "<Figure size 432x288 with 1 Axes>"
      ]
     },
     "metadata": {
      "needs_background": "light"
     },
     "output_type": "display_data"
    }
   ],
   "source": [
    "plt.hist(parkinsons_df.spread2)"
   ]
  },
  {
   "cell_type": "code",
   "execution_count": 47,
   "metadata": {},
   "outputs": [
    {
     "data": {
      "text/plain": [
       "(array([ 3., 12., 34., 39., 48., 29., 17.,  9.,  3.,  1.]),\n",
       " array([1.423287 , 1.6480738, 1.8728606, 2.0976474, 2.3224342, 2.547221 ,\n",
       "        2.7720078, 2.9967946, 3.2215814, 3.4463682, 3.671155 ]),\n",
       " <a list of 10 Patch objects>)"
      ]
     },
     "execution_count": 47,
     "metadata": {},
     "output_type": "execute_result"
    },
    {
     "data": {
      "image/png": "[encoded data removed]",
      "text/plain": [
       "<Figure size 432x288 with 1 Axes>"
      ]
     },
     "metadata": {
      "needs_background": "light"
     },
     "output_type": "display_data"
    }
   ],
   "source": [
    "plt.hist(parkinsons_df.D2)"
   ]
  },
  {
   "cell_type": "code",
   "execution_count": 48,
   "metadata": {},
   "outputs": [
    {
     "data": {
      "text/plain": [
       "(array([11., 40., 44., 40., 30., 10., 13.,  3.,  3.,  1.]),\n",
       " array([0.044539 , 0.0928218, 0.1411046, 0.1893874, 0.2376702, 0.285953 ,\n",
       "        0.3342358, 0.3825186, 0.4308014, 0.4790842, 0.527367 ]),\n",
       " <a list of 10 Patch objects>)"
      ]
     },
     "execution_count": 48,
     "metadata": {},
     "output_type": "execute_result"
    },
    {
     "data": {
      "image/png": "[encoded data removed]",
      "text/plain": [
       "<Figure size 432x288 with 1 Axes>"
      ]
     },
     "metadata": {
      "needs_background": "light"
     },
     "output_type": "display_data"
    }
   ],
   "source": [
    "plt.hist(parkinsons_df.PPE)"
   ]
  },
  {
   "cell_type": "markdown",
   "metadata": {},
   "source": [
    "MDVP_Fhi_Hz, MDVP_Jitter_percent, MDVP_Jitter_Abs, MDVP_RAP,MDVP_PPQ, Jitter_DDP,MDVP_Shimmer, MDVP_Shimmer_dB, Shimmer_APQ3, \n",
    "Shimmer_APQ5, MDVP_APQ, Shimmer_DDA and NHR are positively skewed. Since skewness doesnt impact decision tree models no action is required to correct the skewness"
   ]
  },
  {
   "cell_type": "code",
   "execution_count": 49,
   "metadata": {},
   "outputs": [
    {
     "data": {
      "text/plain": [
       "<matplotlib.axes._subplots.AxesSubplot at 0x20a148ffc48>"
      ]
     },
     "execution_count": 49,
     "metadata": {},
     "output_type": "execute_result"
    },
    {
     "data": {
      "image/png": "[encoded data removed]",
      "text/plain": [
       "<Figure size 432x288 with 1 Axes>"
      ]
     },
     "metadata": {
      "needs_background": "light"
     },
     "output_type": "display_data"
    }
   ],
   "source": [
    "# Check for outliers\n",
    "sns.boxplot(data=parkinsons_df['MDVP_Fo_Hz'])"
   ]
  },
  {
   "cell_type": "code",
   "execution_count": 50,
   "metadata": {},
   "outputs": [
    {
     "data": {
      "text/plain": [
       "<matplotlib.axes._subplots.AxesSubplot at 0x20a1496cf48>"
      ]
     },
     "execution_count": 50,
     "metadata": {},
     "output_type": "execute_result"
    },
    {
     "data": {
      "image/png": "[encoded data removed]",
      "text/plain": [
       "<Figure size 432x288 with 1 Axes>"
      ]
     },
     "metadata": {
      "needs_background": "light"
     },
     "output_type": "display_data"
    }
   ],
   "source": [
    "sns.boxplot(data=parkinsons_df['MDVP_Fhi_Hz'])"
   ]
  },
  {
   "cell_type": "markdown",
   "metadata": {},
   "source": [
    "MDVP:Fhi(Hz) has outliers"
   ]
  },
  {
   "cell_type": "code",
   "execution_count": 51,
   "metadata": {},
   "outputs": [
    {
     "data": {
      "text/plain": [
       "<matplotlib.axes._subplots.AxesSubplot at 0x20a149cc708>"
      ]
     },
     "execution_count": 51,
     "metadata": {},
     "output_type": "execute_result"
    },
    {
     "data": {
      "image/png": "[encoded data removed]",
      "text/plain": [
       "<Figure size 432x288 with 1 Axes>"
      ]
     },
     "metadata": {
      "needs_background": "light"
     },
     "output_type": "display_data"
    }
   ],
   "source": [
    "sns.boxplot(data=parkinsons_df['MDVP_Flo_Hz'])"
   ]
  },
  {
   "cell_type": "code",
   "execution_count": 52,
   "metadata": {},
   "outputs": [
    {
     "data": {
      "text/plain": [
       "<matplotlib.axes._subplots.AxesSubplot at 0x20a14a39648>"
      ]
     },
     "execution_count": 52,
     "metadata": {},
     "output_type": "execute_result"
    },
    {
     "data": {
      "image/png": "[encoded data removed]",
      "text/plain": [
       "<Figure size 432x288 with 1 Axes>"
      ]
     },
     "metadata": {
      "needs_background": "light"
     },
     "output_type": "display_data"
    }
   ],
   "source": [
    "sns.boxplot(data=parkinsons_df['MDVP_Jitter_percent'])"
   ]
  },
  {
   "cell_type": "code",
   "execution_count": 53,
   "metadata": {},
   "outputs": [
    {
     "data": {
      "text/plain": [
       "<matplotlib.axes._subplots.AxesSubplot at 0x20a14a992c8>"
      ]
     },
     "execution_count": 53,
     "metadata": {},
     "output_type": "execute_result"
    },
    {
     "data": {
      "image/png": "[encoded data removed]",
      "text/plain": [
       "<Figure size 432x288 with 1 Axes>"
      ]
     },
     "metadata": {
      "needs_background": "light"
     },
     "output_type": "display_data"
    }
   ],
   "source": [
    "sns.boxplot(data=parkinsons_df['MDVP_Jitter_Abs'])"
   ]
  },
  {
   "cell_type": "code",
   "execution_count": 54,
   "metadata": {},
   "outputs": [
    {
     "data": {
      "text/plain": [
       "<matplotlib.axes._subplots.AxesSubplot at 0x20a14b025c8>"
      ]
     },
     "execution_count": 54,
     "metadata": {},
     "output_type": "execute_result"
    },
    {
     "data": {
      "image/png": "[encoded data removed]",
      "text/plain": [
       "<Figure size 432x288 with 1 Axes>"
      ]
     },
     "metadata": {
      "needs_background": "light"
     },
     "output_type": "display_data"
    }
   ],
   "source": [
    "sns.boxplot(data=parkinsons_df['MDVP_RAP'])"
   ]
  },
  {
   "cell_type": "code",
   "execution_count": 55,
   "metadata": {},
   "outputs": [
    {
     "data": {
      "text/plain": [
       "<matplotlib.axes._subplots.AxesSubplot at 0x20a14b68948>"
      ]
     },
     "execution_count": 55,
     "metadata": {},
     "output_type": "execute_result"
    },
    {
     "data": {
      "image/png": "[encoded data removed]",
      "text/plain": [
       "<Figure size 432x288 with 1 Axes>"
      ]
     },
     "metadata": {
      "needs_background": "light"
     },
     "output_type": "display_data"
    }
   ],
   "source": [
    "sns.boxplot(data=parkinsons_df['MDVP_PPQ'])"
   ]
  },
  {
   "cell_type": "code",
   "execution_count": 56,
   "metadata": {},
   "outputs": [
    {
     "data": {
      "text/plain": [
       "<matplotlib.axes._subplots.AxesSubplot at 0x20a14bae808>"
      ]
     },
     "execution_count": 56,
     "metadata": {},
     "output_type": "execute_result"
    },
    {
     "data": {
      "image/png": "[encoded data removed]",
      "text/plain": [
       "<Figure size 432x288 with 1 Axes>"
      ]
     },
     "metadata": {
      "needs_background": "light"
     },
     "output_type": "display_data"
    }
   ],
   "source": [
    "sns.boxplot(data=parkinsons_df['Jitter_DDP'])"
   ]
  },
  {
   "cell_type": "code",
   "execution_count": 57,
   "metadata": {},
   "outputs": [
    {
     "data": {
      "text/plain": [
       "<matplotlib.axes._subplots.AxesSubplot at 0x20a14c40148>"
      ]
     },
     "execution_count": 57,
     "metadata": {},
     "output_type": "execute_result"
    },
    {
     "data": {
      "image/png": "[encoded data removed]",
      "text/plain": [
       "<Figure size 432x288 with 1 Axes>"
      ]
     },
     "metadata": {
      "needs_background": "light"
     },
     "output_type": "display_data"
    }
   ],
   "source": [
    "sns.boxplot(data=parkinsons_df['MDVP_Shimmer'])"
   ]
  },
  {
   "cell_type": "code",
   "execution_count": 58,
   "metadata": {},
   "outputs": [
    {
     "data": {
      "text/plain": [
       "<matplotlib.axes._subplots.AxesSubplot at 0x20a14c9a248>"
      ]
     },
     "execution_count": 58,
     "metadata": {},
     "output_type": "execute_result"
    },
    {
     "data": {
      "image/png": "[encoded data removed]",
      "text/plain": [
       "<Figure size 432x288 with 1 Axes>"
      ]
     },
     "metadata": {
      "needs_background": "light"
     },
     "output_type": "display_data"
    }
   ],
   "source": [
    "sns.boxplot(data=parkinsons_df['MDVP_Shimmer_dB'])"
   ]
  },
  {
   "cell_type": "code",
   "execution_count": 59,
   "metadata": {},
   "outputs": [
    {
     "data": {
      "text/plain": [
       "<matplotlib.axes._subplots.AxesSubplot at 0x20a14cfe188>"
      ]
     },
     "execution_count": 59,
     "metadata": {},
     "output_type": "execute_result"
    },
    {
     "data": {
      "image/png": "[encoded data removed]",
      "text/plain": [
       "<Figure size 432x288 with 1 Axes>"
      ]
     },
     "metadata": {
      "needs_background": "light"
     },
     "output_type": "display_data"
    }
   ],
   "source": [
    "sns.boxplot(data=parkinsons_df['Shimmer_APQ3'])"
   ]
  },
  {
   "cell_type": "code",
   "execution_count": 60,
   "metadata": {},
   "outputs": [
    {
     "data": {
      "text/plain": [
       "<matplotlib.axes._subplots.AxesSubplot at 0x20a14d6f6c8>"
      ]
     },
     "execution_count": 60,
     "metadata": {},
     "output_type": "execute_result"
    },
    {
     "data": {
      "image/png": "[encoded data removed]",
      "text/plain": [
       "<Figure size 432x288 with 1 Axes>"
      ]
     },
     "metadata": {
      "needs_background": "light"
     },
     "output_type": "display_data"
    }
   ],
   "source": [
    "sns.boxplot(data=parkinsons_df['Shimmer_APQ5'])"
   ]
  },
  {
   "cell_type": "code",
   "execution_count": 61,
   "metadata": {},
   "outputs": [
    {
     "data": {
      "text/plain": [
       "<matplotlib.axes._subplots.AxesSubplot at 0x20a14db6fc8>"
      ]
     },
     "execution_count": 61,
     "metadata": {},
     "output_type": "execute_result"
    },
    {
     "data": {
      "image/png": "[encoded data removed]",
      "text/plain": [
       "<Figure size 432x288 with 1 Axes>"
      ]
     },
     "metadata": {
      "needs_background": "light"
     },
     "output_type": "display_data"
    }
   ],
   "source": [
    "sns.boxplot(data=parkinsons_df['MDVP_APQ'])"
   ]
  },
  {
   "cell_type": "code",
   "execution_count": 62,
   "metadata": {},
   "outputs": [
    {
     "data": {
      "text/plain": [
       "<matplotlib.axes._subplots.AxesSubplot at 0x20a14e45888>"
      ]
     },
     "execution_count": 62,
     "metadata": {},
     "output_type": "execute_result"
    },
    {
     "data": {
      "image/png": "[encoded data removed]",
      "text/plain": [
       "<Figure size 432x288 with 1 Axes>"
      ]
     },
     "metadata": {
      "needs_background": "light"
     },
     "output_type": "display_data"
    }
   ],
   "source": [
    "sns.boxplot(data=parkinsons_df['Shimmer_DDA'])"
   ]
  },
  {
   "cell_type": "code",
   "execution_count": 63,
   "metadata": {},
   "outputs": [
    {
     "data": {
      "text/plain": [
       "<matplotlib.axes._subplots.AxesSubplot at 0x20a14eaa208>"
      ]
     },
     "execution_count": 63,
     "metadata": {},
     "output_type": "execute_result"
    },
    {
     "data": {
      "image/png": "[encoded data removed]",
      "text/plain": [
       "<Figure size 432x288 with 1 Axes>"
      ]
     },
     "metadata": {
      "needs_background": "light"
     },
     "output_type": "display_data"
    }
   ],
   "source": [
    "sns.boxplot(data=parkinsons_df['NHR'])"
   ]
  },
  {
   "cell_type": "code",
   "execution_count": 64,
   "metadata": {},
   "outputs": [
    {
     "data": {
      "text/plain": [
       "<matplotlib.axes._subplots.AxesSubplot at 0x20a14f166c8>"
      ]
     },
     "execution_count": 64,
     "metadata": {},
     "output_type": "execute_result"
    },
    {
     "data": {
      "image/png": "[encoded data removed]",
      "text/plain": [
       "<Figure size 432x288 with 1 Axes>"
      ]
     },
     "metadata": {
      "needs_background": "light"
     },
     "output_type": "display_data"
    }
   ],
   "source": [
    "sns.boxplot(data=parkinsons_df['HNR'])"
   ]
  },
  {
   "cell_type": "code",
   "execution_count": 65,
   "metadata": {},
   "outputs": [
    {
     "data": {
      "text/plain": [
       "<matplotlib.axes._subplots.AxesSubplot at 0x20a14f78748>"
      ]
     },
     "execution_count": 65,
     "metadata": {},
     "output_type": "execute_result"
    },
    {
     "data": {
      "image/png": "[encoded data removed]",
      "text/plain": [
       "<Figure size 432x288 with 1 Axes>"
      ]
     },
     "metadata": {
      "needs_background": "light"
     },
     "output_type": "display_data"
    }
   ],
   "source": [
    "sns.boxplot(data=parkinsons_df['status'])"
   ]
  },
  {
   "cell_type": "code",
   "execution_count": 66,
   "metadata": {},
   "outputs": [
    {
     "data": {
      "text/plain": [
       "<matplotlib.axes._subplots.AxesSubplot at 0x20a14fd9288>"
      ]
     },
     "execution_count": 66,
     "metadata": {},
     "output_type": "execute_result"
    },
    {
     "data": {
      "image/png": "[encoded data removed]",
      "text/plain": [
       "<Figure size 432x288 with 1 Axes>"
      ]
     },
     "metadata": {
      "needs_background": "light"
     },
     "output_type": "display_data"
    }
   ],
   "source": [
    "sns.boxplot(data=parkinsons_df['RPDE'])"
   ]
  },
  {
   "cell_type": "code",
   "execution_count": 67,
   "metadata": {},
   "outputs": [
    {
     "data": {
      "text/plain": [
       "<matplotlib.axes._subplots.AxesSubplot at 0x20a1600e948>"
      ]
     },
     "execution_count": 67,
     "metadata": {},
     "output_type": "execute_result"
    },
    {
     "data": {
      "image/png": "[encoded data removed]",
      "text/plain": [
       "<Figure size 432x288 with 1 Axes>"
      ]
     },
     "metadata": {
      "needs_background": "light"
     },
     "output_type": "display_data"
    }
   ],
   "source": [
    "sns.boxplot(data=parkinsons_df['DFA'])"
   ]
  },
  {
   "cell_type": "code",
   "execution_count": 68,
   "metadata": {},
   "outputs": [
    {
     "data": {
      "text/plain": [
       "<matplotlib.axes._subplots.AxesSubplot at 0x20a1606d648>"
      ]
     },
     "execution_count": 68,
     "metadata": {},
     "output_type": "execute_result"
    },
    {
     "data": {
      "image/png": "[encoded data removed]",
      "text/plain": [
       "<Figure size 432x288 with 1 Axes>"
      ]
     },
     "metadata": {
      "needs_background": "light"
     },
     "output_type": "display_data"
    }
   ],
   "source": [
    "sns.boxplot(data=parkinsons_df['spread1'])"
   ]
  },
  {
   "cell_type": "code",
   "execution_count": 69,
   "metadata": {},
   "outputs": [
    {
     "data": {
      "text/plain": [
       "<matplotlib.axes._subplots.AxesSubplot at 0x20a160d2088>"
      ]
     },
     "execution_count": 69,
     "metadata": {},
     "output_type": "execute_result"
    },
    {
     "data": {
      "image/png": "[encoded data removed]",
      "text/plain": [
       "<Figure size 432x288 with 1 Axes>"
      ]
     },
     "metadata": {
      "needs_background": "light"
     },
     "output_type": "display_data"
    }
   ],
   "source": [
    "sns.boxplot(data=parkinsons_df['spread2'])"
   ]
  },
  {
   "cell_type": "code",
   "execution_count": 70,
   "metadata": {},
   "outputs": [
    {
     "data": {
      "text/plain": [
       "<matplotlib.axes._subplots.AxesSubplot at 0x20a161302c8>"
      ]
     },
     "execution_count": 70,
     "metadata": {},
     "output_type": "execute_result"
    },
    {
     "data": {
      "image/png": "[encoded data removed]",
      "text/plain": [
       "<Figure size 432x288 with 1 Axes>"
      ]
     },
     "metadata": {
      "needs_background": "light"
     },
     "output_type": "display_data"
    }
   ],
   "source": [
    "sns.boxplot(data=parkinsons_df['D2'])"
   ]
  },
  {
   "cell_type": "code",
   "execution_count": 71,
   "metadata": {},
   "outputs": [
    {
     "data": {
      "text/plain": [
       "<matplotlib.axes._subplots.AxesSubplot at 0x20a14fdcb88>"
      ]
     },
     "execution_count": 71,
     "metadata": {},
     "output_type": "execute_result"
    },
    {
     "data": {
      "image/png": "[encoded data removed]",
      "text/plain": [
       "<Figure size 432x288 with 1 Axes>"
      ]
     },
     "metadata": {
      "needs_background": "light"
     },
     "output_type": "display_data"
    }
   ],
   "source": [
    "sns.boxplot(data=parkinsons_df['PPE'])"
   ]
  },
  {
   "cell_type": "markdown",
   "metadata": {},
   "source": [
    "Though outliers are there for Decision trees outliers need not be treated. It takes care of outliers so no further action are done to handle outliers"
   ]
  },
  {
   "cell_type": "code",
   "execution_count": 72,
   "metadata": {},
   "outputs": [],
   "source": [
    "parkinsons_df2=[]\n",
    "parkinsons_df2=parkinsons_df.copy(deep=True)"
   ]
  },
  {
   "cell_type": "code",
   "execution_count": 73,
   "metadata": {},
   "outputs": [
    {
     "name": "stdout",
     "output_type": "stream",
     "text": [
      "<class 'pandas.core.frame.DataFrame'>\n",
      "RangeIndex: 195 entries, 0 to 194\n",
      "Data columns (total 24 columns):\n",
      "name                   195 non-null object\n",
      "MDVP_Fo_Hz             195 non-null float64\n",
      "MDVP_Fhi_Hz            195 non-null float64\n",
      "MDVP_Flo_Hz            195 non-null float64\n",
      "MDVP_Jitter_percent    195 non-null float64\n",
      "MDVP_Jitter_Abs        195 non-null float64\n",
      "MDVP_RAP               195 non-null float64\n",
      "MDVP_PPQ               195 non-null float64\n",
      "Jitter_DDP             195 non-null float64\n",
      "MDVP_Shimmer           195 non-null float64\n",
      "MDVP_Shimmer_dB        195 non-null float64\n",
      "Shimmer_APQ3           195 non-null float64\n",
      "Shimmer_APQ5           195 non-null float64\n",
      "MDVP_APQ               195 non-null float64\n",
      "Shimmer_DDA            195 non-null float64\n",
      "NHR                    195 non-null float64\n",
      "HNR                    195 non-null float64\n",
      "status                 195 non-null int64\n",
      "RPDE                   195 non-null float64\n",
      "DFA                    195 non-null float64\n",
      "spread1                195 non-null float64\n",
      "spread2                195 non-null float64\n",
      "D2                     195 non-null float64\n",
      "PPE                    195 non-null float64\n",
      "dtypes: float64(22), int64(1), object(1)\n",
      "memory usage: 36.7+ KB\n"
     ]
    }
   ],
   "source": [
    "parkinsons_df2.info()"
   ]
  },
  {
   "cell_type": "code",
   "execution_count": 74,
   "metadata": {},
   "outputs": [
    {
     "data": {
      "text/plain": [
       "MDVP_Fo_Hz             1.713137e+03\n",
       "MDVP_Fhi_Hz            8.370703e+03\n",
       "MDVP_Flo_Hz            1.894113e+03\n",
       "MDVP_Jitter_percent    2.350440e-05\n",
       "MDVP_Jitter_Abs        1.212565e-09\n",
       "MDVP_RAP               8.807685e-06\n",
       "MDVP_PPQ               7.611952e-06\n",
       "Jitter_DDP             7.926954e-05\n",
       "MDVP_Shimmer           3.555839e-04\n",
       "MDVP_Shimmer_dB        3.797716e-02\n",
       "Shimmer_APQ3           1.030867e-04\n",
       "Shimmer_APQ5           1.445695e-04\n",
       "MDVP_APQ               2.871919e-04\n",
       "Shimmer_DDA            9.277580e-04\n",
       "NHR                    1.633651e-03\n",
       "HNR                    1.958739e+01\n",
       "status                 1.865186e-01\n",
       "RPDE                   1.080388e-02\n",
       "DFA                    3.062054e-03\n",
       "spread1                1.188553e+00\n",
       "spread2                6.956521e-03\n",
       "D2                     1.465351e-01\n",
       "PPE                    8.121492e-03\n",
       "dtype: float64"
      ]
     },
     "execution_count": 74,
     "metadata": {},
     "output_type": "execute_result"
    }
   ],
   "source": [
    "parkinsons_df.var()"
   ]
  },
  {
   "cell_type": "code",
   "execution_count": 81,
   "metadata": {},
   "outputs": [
    {
     "name": "stdout",
     "output_type": "stream",
     "text": [
      "['MDVP_Jitter_Abs', 'MDVP_RAP', 'MDVP_PPQ', 'Jitter_DDP', 'MDVP_Shimmer_dB', 'Shimmer_APQ3', 'Shimmer_APQ5', 'MDVP_APQ', 'Shimmer_DDA', 'NHR', 'PPE'] are all very highly correlated with few other columns\n"
     ]
    }
   ],
   "source": [
    "corr_matrix = parkinsons_df.corr().abs()\n",
    "\n",
    "#Select upper triangle\n",
    "upper = corr_matrix.where(np.triu(np.ones(corr_matrix.shape),k=1).astype(np.bool))\n",
    "\n",
    "#find features with high correlation ( > 0.90; Assumption)\n",
    "to_drop = [column for column in upper.columns if any(upper[column] > 0.9)]\n",
    "\n",
    "print(to_drop, \"are all very highly correlated with few other columns\")"
   ]
  },
  {
   "cell_type": "code",
   "execution_count": 82,
   "metadata": {},
   "outputs": [
    {
     "data": {
      "text/plain": [
       "MDVP_Jitter_Abs        1.000000\n",
       "MDVP_Jitter_percent    0.935714\n",
       "Jitter_DDP             0.922913\n",
       "MDVP_RAP               0.922911\n",
       "MDVP_PPQ               0.897778\n",
       "NHR                    0.834972\n",
       "PPE                    0.748162\n",
       "spread1                0.735779\n",
       "MDVP_Shimmer_dB        0.716601\n",
       "MDVP_Shimmer           0.703322\n",
       "Shimmer_DDA            0.697170\n",
       "Shimmer_APQ3           0.697153\n",
       "Shimmer_APQ5           0.648961\n",
       "MDVP_APQ               0.648793\n",
       "RPDE                   0.441839\n",
       "spread2                0.388543\n",
       "status                 0.338653\n",
       "D2                     0.310694\n",
       "DFA                    0.175036\n",
       "MDVP_Fhi_Hz           -0.029198\n",
       "MDVP_Flo_Hz           -0.277815\n",
       "MDVP_Fo_Hz            -0.382027\n",
       "HNR                   -0.656810\n",
       "Name: MDVP_Jitter_Abs, dtype: float64"
      ]
     },
     "execution_count": 82,
     "metadata": {},
     "output_type": "execute_result"
    }
   ],
   "source": [
    "parkinsons_df.corr()['MDVP_Jitter_Abs'].sort_values(ascending=False)"
   ]
  },
  {
   "cell_type": "code",
   "execution_count": 83,
   "metadata": {},
   "outputs": [
    {
     "data": {
      "text/plain": [
       "MDVP_RAP               1.000000\n",
       "Jitter_DDP             1.000000\n",
       "MDVP_Jitter_percent    0.990276\n",
       "MDVP_PPQ               0.957317\n",
       "MDVP_Jitter_Abs        0.922911\n",
       "NHR                    0.919521\n",
       "MDVP_Shimmer_dB        0.790652\n",
       "MDVP_Shimmer           0.759581\n",
       "Shimmer_DDA            0.744919\n",
       "Shimmer_APQ3           0.744912\n",
       "MDVP_APQ               0.737455\n",
       "Shimmer_APQ5           0.709927\n",
       "PPE                    0.670999\n",
       "spread1                0.648328\n",
       "D2                     0.426605\n",
       "RPDE                   0.342140\n",
       "spread2                0.324407\n",
       "status                 0.266668\n",
       "MDVP_Fhi_Hz            0.097177\n",
       "DFA                    0.064083\n",
       "MDVP_Fo_Hz            -0.076194\n",
       "MDVP_Flo_Hz           -0.100519\n",
       "HNR                   -0.721543\n",
       "Name: MDVP_RAP, dtype: float64"
      ]
     },
     "execution_count": 83,
     "metadata": {},
     "output_type": "execute_result"
    }
   ],
   "source": [
    "parkinsons_df.corr()['MDVP_RAP'].sort_valuesalues(ascending=False)"
   ]
  },
  {
   "cell_type": "code",
   "execution_count": 84,
   "metadata": {},
   "outputs": [
    {
     "data": {
      "text/plain": [
       "MDVP_PPQ               1.000000\n",
       "MDVP_Jitter_percent    0.974256\n",
       "Jitter_DDP             0.957319\n",
       "MDVP_RAP               0.957317\n",
       "MDVP_Jitter_Abs        0.897778\n",
       "NHR                    0.844604\n",
       "MDVP_Shimmer_dB        0.839239\n",
       "MDVP_APQ               0.804139\n",
       "MDVP_Shimmer           0.797826\n",
       "Shimmer_APQ5           0.786780\n",
       "PPE                    0.769647\n",
       "Shimmer_DDA            0.763592\n",
       "Shimmer_APQ3           0.763580\n",
       "spread1                0.716489\n",
       "D2                     0.412524\n",
       "spread2                0.407605\n",
       "RPDE                   0.333274\n",
       "status                 0.288698\n",
       "DFA                    0.196301\n",
       "MDVP_Fhi_Hz            0.091126\n",
       "MDVP_Flo_Hz           -0.095828\n",
       "MDVP_Fo_Hz            -0.112165\n",
       "HNR                   -0.731510\n",
       "Name: MDVP_PPQ, dtype: float64"
      ]
     },
     "execution_count": 84,
     "metadata": {},
     "output_type": "execute_result"
    }
   ],
   "source": [
    "parkinsons_df.corr()['MDVP_PPQ'].sort_values(ascending=False)"
   ]
  },
  {
   "cell_type": "code",
   "execution_count": 86,
   "metadata": {},
   "outputs": [
    {
     "data": {
      "text/plain": [
       "Jitter_DDP             1.000000\n",
       "MDVP_RAP               1.000000\n",
       "MDVP_Jitter_percent    0.990276\n",
       "MDVP_PPQ               0.957319\n",
       "MDVP_Jitter_Abs        0.922913\n",
       "NHR                    0.919548\n",
       "MDVP_Shimmer_dB        0.790621\n",
       "MDVP_Shimmer           0.759555\n",
       "Shimmer_DDA            0.744901\n",
       "Shimmer_APQ3           0.744894\n",
       "MDVP_APQ               0.737439\n",
       "Shimmer_APQ5           0.709907\n",
       "PPE                    0.671005\n",
       "spread1                0.648328\n",
       "D2                     0.426556\n",
       "RPDE                   0.342079\n",
       "spread2                0.324377\n",
       "status                 0.266646\n",
       "MDVP_Fhi_Hz            0.097150\n",
       "DFA                    0.064026\n",
       "MDVP_Fo_Hz            -0.076213\n",
       "MDVP_Flo_Hz           -0.100488\n",
       "HNR                   -0.721494\n",
       "Name: Jitter_DDP, dtype: float64"
      ]
     },
     "execution_count": 86,
     "metadata": {},
     "output_type": "execute_result"
    }
   ],
   "source": [
    "parkinsons_df.corr()['Jitter_DDP'].sort_values(ascending=False)"
   ]
  },
  {
   "cell_type": "code",
   "execution_count": 87,
   "metadata": {},
   "outputs": [
    {
     "data": {
      "text/plain": [
       "MDVP_Shimmer_dB        1.000000\n",
       "MDVP_Shimmer           0.987258\n",
       "Shimmer_APQ5           0.973751\n",
       "Shimmer_DDA            0.963202\n",
       "Shimmer_APQ3           0.963198\n",
       "MDVP_APQ               0.960977\n",
       "MDVP_PPQ               0.839239\n",
       "HNR                    0.827805\n",
       "MDVP_Jitter_percent    0.804289\n",
       "MDVP_RAP               0.790652\n",
       "Jitter_DDP             0.790621\n",
       "NHR                    0.744477\n",
       "MDVP_Jitter_Abs        0.716601\n",
       "PPE                    0.695058\n",
       "spread1                0.652547\n",
       "D2                     0.512233\n",
       "spread2                0.454314\n",
       "RPDE                   0.410684\n",
       "status                 0.350697\n",
       "DFA                    0.165157\n",
       "MDVP_Flo_Hz            0.119089\n",
       "MDVP_Fo_Hz             0.073742\n",
       "MDVP_Fhi_Hz            0.043465\n",
       "Name: MDVP_Shimmer_dB, dtype: float64"
      ]
     },
     "execution_count": 87,
     "metadata": {},
     "output_type": "execute_result"
    }
   ],
   "source": [
    "parkinsons_df.corr()['MDVP_Shimmer_dB'].abs().sort_values(ascending=False)"
   ]
  },
  {
   "cell_type": "code",
   "execution_count": 89,
   "metadata": {},
   "outputs": [
    {
     "data": {
      "text/plain": [
       "Shimmer_APQ3           1.000000\n",
       "Shimmer_DDA            1.000000\n",
       "MDVP_Shimmer           0.987625\n",
       "MDVP_Shimmer_dB        0.963198\n",
       "Shimmer_APQ5           0.960070\n",
       "MDVP_APQ               0.896645\n",
       "HNR                    0.827123\n",
       "MDVP_PPQ               0.763580\n",
       "MDVP_Jitter_percent    0.746625\n",
       "MDVP_RAP               0.744912\n",
       "Jitter_DDP             0.744894\n",
       "NHR                    0.716207\n",
       "MDVP_Jitter_Abs        0.697153\n",
       "PPE                    0.645377\n",
       "spread1                0.610967\n",
       "D2                     0.467265\n",
       "RPDE                   0.435242\n",
       "spread2                0.402243\n",
       "status                 0.347617\n",
       "DFA                    0.151124\n",
       "MDVP_Flo_Hz            0.150747\n",
       "MDVP_Fo_Hz             0.094717\n",
       "MDVP_Fhi_Hz            0.003743\n",
       "Name: Shimmer_APQ3, dtype: float64"
      ]
     },
     "execution_count": 89,
     "metadata": {},
     "output_type": "execute_result"
    }
   ],
   "source": [
    "parkinsons_df.corr()['Shimmer_APQ3'].abs().sort_values(ascending=False)"
   ]
  },
  {
   "cell_type": "code",
   "execution_count": 90,
   "metadata": {},
   "outputs": [
    {
     "data": {
      "text/plain": [
       "Shimmer_APQ5           1.000000\n",
       "MDVP_Shimmer           0.982835\n",
       "MDVP_Shimmer_dB        0.973751\n",
       "Shimmer_DDA            0.960072\n",
       "Shimmer_APQ3           0.960070\n",
       "MDVP_APQ               0.949146\n",
       "HNR                    0.813753\n",
       "MDVP_PPQ               0.786780\n",
       "MDVP_Jitter_percent    0.725561\n",
       "MDVP_RAP               0.709927\n",
       "Jitter_DDP             0.709907\n",
       "PPE                    0.702456\n",
       "NHR                    0.658080\n",
       "MDVP_Jitter_Abs        0.648961\n",
       "spread1                0.646809\n",
       "D2                     0.502174\n",
       "spread2                0.457195\n",
       "RPDE                   0.399903\n",
       "status                 0.351148\n",
       "DFA                    0.213873\n",
       "MDVP_Flo_Hz            0.101095\n",
       "MDVP_Fo_Hz             0.070682\n",
       "MDVP_Fhi_Hz            0.009997\n",
       "Name: Shimmer_APQ5, dtype: float64"
      ]
     },
     "execution_count": 90,
     "metadata": {},
     "output_type": "execute_result"
    }
   ],
   "source": [
    "parkinsons_df.corr()['Shimmer_APQ5'].abs().sort_values(ascending=False)"
   ]
  },
  {
   "cell_type": "code",
   "execution_count": 91,
   "metadata": {},
   "outputs": [
    {
     "data": {
      "text/plain": [
       "MDVP_APQ               1.000000\n",
       "MDVP_Shimmer_dB        0.960977\n",
       "MDVP_Shimmer           0.950083\n",
       "Shimmer_APQ5           0.949146\n",
       "Shimmer_DDA            0.896647\n",
       "Shimmer_APQ3           0.896645\n",
       "MDVP_PPQ               0.804139\n",
       "HNR                    0.800407\n",
       "MDVP_Jitter_percent    0.758255\n",
       "MDVP_RAP               0.737455\n",
       "Jitter_DDP             0.737439\n",
       "PPE                    0.721694\n",
       "NHR                    0.694019\n",
       "spread1                0.673158\n",
       "MDVP_Jitter_Abs        0.648793\n",
       "D2                     0.536869\n",
       "spread2                0.502188\n",
       "RPDE                   0.451379\n",
       "status                 0.364316\n",
       "DFA                    0.157276\n",
       "MDVP_Flo_Hz            0.107293\n",
       "MDVP_Fo_Hz             0.077774\n",
       "MDVP_Fhi_Hz            0.004937\n",
       "Name: MDVP_APQ, dtype: float64"
      ]
     },
     "execution_count": 91,
     "metadata": {},
     "output_type": "execute_result"
    }
   ],
   "source": [
    "parkinsons_df.corr()['MDVP_APQ'].abs().sort_values(ascending=False)"
   ]
  },
  {
   "cell_type": "code",
   "execution_count": 92,
   "metadata": {},
   "outputs": [
    {
     "data": {
      "text/plain": [
       "Shimmer_DDA            1.000000\n",
       "Shimmer_APQ3           1.000000\n",
       "MDVP_Shimmer           0.987626\n",
       "MDVP_Shimmer_dB        0.963202\n",
       "Shimmer_APQ5           0.960072\n",
       "MDVP_APQ               0.896647\n",
       "HNR                    0.827130\n",
       "MDVP_PPQ               0.763592\n",
       "MDVP_Jitter_percent    0.746635\n",
       "MDVP_RAP               0.744919\n",
       "Jitter_DDP             0.744901\n",
       "NHR                    0.716215\n",
       "MDVP_Jitter_Abs        0.697170\n",
       "PPE                    0.645389\n",
       "spread1                0.610971\n",
       "D2                     0.467261\n",
       "RPDE                   0.435237\n",
       "spread2                0.402223\n",
       "status                 0.347608\n",
       "DFA                    0.151132\n",
       "MDVP_Flo_Hz            0.150737\n",
       "MDVP_Fo_Hz             0.094732\n",
       "MDVP_Fhi_Hz            0.003733\n",
       "Name: Shimmer_DDA, dtype: float64"
      ]
     },
     "execution_count": 92,
     "metadata": {},
     "output_type": "execute_result"
    }
   ],
   "source": [
    "parkinsons_df.corr()['Shimmer_DDA'].abs().sort_values(ascending=False)"
   ]
  },
  {
   "cell_type": "code",
   "execution_count": 93,
   "metadata": {},
   "outputs": [
    {
     "data": {
      "text/plain": [
       "NHR                    1.000000\n",
       "Jitter_DDP             0.919548\n",
       "MDVP_RAP               0.919521\n",
       "MDVP_Jitter_percent    0.906959\n",
       "MDVP_PPQ               0.844604\n",
       "MDVP_Jitter_Abs        0.834972\n",
       "MDVP_Shimmer_dB        0.744477\n",
       "MDVP_Shimmer           0.722194\n",
       "Shimmer_DDA            0.716215\n",
       "Shimmer_APQ3           0.716207\n",
       "HNR                    0.714072\n",
       "MDVP_APQ               0.694019\n",
       "Shimmer_APQ5           0.658080\n",
       "PPE                    0.552591\n",
       "spread1                0.540865\n",
       "D2                     0.470949\n",
       "RPDE                   0.370890\n",
       "spread2                0.318099\n",
       "status                 0.189429\n",
       "MDVP_Fhi_Hz            0.163766\n",
       "DFA                    0.131882\n",
       "MDVP_Flo_Hz            0.108670\n",
       "MDVP_Fo_Hz             0.021981\n",
       "Name: NHR, dtype: float64"
      ]
     },
     "execution_count": 93,
     "metadata": {},
     "output_type": "execute_result"
    }
   ],
   "source": [
    "parkinsons_df.corr()['NHR'].abs().sort_values(ascending=False)"
   ]
  },
  {
   "cell_type": "code",
   "execution_count": 94,
   "metadata": {},
   "outputs": [
    {
     "data": {
      "text/plain": [
       "PPE                    1.000000\n",
       "spread1                0.962435\n",
       "MDVP_PPQ               0.769647\n",
       "MDVP_Jitter_Abs        0.748162\n",
       "MDVP_APQ               0.721694\n",
       "MDVP_Jitter_percent    0.721543\n",
       "Shimmer_APQ5           0.702456\n",
       "MDVP_Shimmer_dB        0.695058\n",
       "MDVP_Shimmer           0.693771\n",
       "HNR                    0.692876\n",
       "Jitter_DDP             0.671005\n",
       "MDVP_RAP               0.670999\n",
       "Shimmer_DDA            0.645389\n",
       "Shimmer_APQ3           0.645377\n",
       "spread2                0.644711\n",
       "NHR                    0.552591\n",
       "RPDE                   0.545886\n",
       "status                 0.531039\n",
       "D2                     0.480585\n",
       "MDVP_Fo_Hz             0.372356\n",
       "MDVP_Flo_Hz            0.340071\n",
       "DFA                    0.270445\n",
       "MDVP_Fhi_Hz            0.069543\n",
       "Name: PPE, dtype: float64"
      ]
     },
     "execution_count": 94,
     "metadata": {},
     "output_type": "execute_result"
    }
   ],
   "source": [
    "parkinsons_df.corr()['PPE'].abs().sort_values(ascending=False)"
   ]
  },
  {
   "cell_type": "code",
   "execution_count": 77,
   "metadata": {},
   "outputs": [
    {
     "data": {
      "text/plain": [
       "status                 1.000000\n",
       "spread1                0.564838\n",
       "PPE                    0.531039\n",
       "spread2                0.454842\n",
       "MDVP_Fo_Hz             0.383535\n",
       "MDVP_Flo_Hz            0.380200\n",
       "MDVP_Shimmer           0.367430\n",
       "MDVP_APQ               0.364316\n",
       "HNR                    0.361515\n",
       "Shimmer_APQ5           0.351148\n",
       "MDVP_Shimmer_dB        0.350697\n",
       "Shimmer_APQ3           0.347617\n",
       "Shimmer_DDA            0.347608\n",
       "D2                     0.340232\n",
       "MDVP_Jitter_Abs        0.338653\n",
       "RPDE                   0.308567\n",
       "MDVP_PPQ               0.288698\n",
       "MDVP_Jitter_percent    0.278220\n",
       "MDVP_RAP               0.266668\n",
       "Jitter_DDP             0.266646\n",
       "DFA                    0.231739\n",
       "NHR                    0.189429\n",
       "MDVP_Fhi_Hz            0.166136\n",
       "Name: status, dtype: float64"
      ]
     },
     "execution_count": 77,
     "metadata": {},
     "output_type": "execute_result"
    }
   ],
   "source": [
    "parkinsons_df.corr()['status'].abs().sort_values(ascending=False)"
   ]
  },
  {
   "cell_type": "code",
   "execution_count": 78,
   "metadata": {},
   "outputs": [
    {
     "data": {
      "text/plain": [
       "<matplotlib.axes._subplots.AxesSubplot at 0x20a16272408>"
      ]
     },
     "execution_count": 78,
     "metadata": {},
     "output_type": "execute_result"
    },
    {
     "data": {
      "image/png": "[encoded data removed]",
      "text/plain": [
       "<Figure size 432x288 with 1 Axes>"
      ]
     },
     "metadata": {
      "needs_background": "light"
     },
     "output_type": "display_data"
    }
   ],
   "source": [
    "parkinsons_df.corr()['status'][1:].plot.bar()"
   ]
  },
  {
   "cell_type": "markdown",
   "metadata": {},
   "source": [
    "MDVP High frequency, MDVP Low frequency and HNR are negatively correlated with status"
   ]
  },
  {
   "cell_type": "markdown",
   "metadata": {},
   "source": [
    "MDVP high frequncy has very less correlation with status column among others"
   ]
  },
  {
   "cell_type": "code",
   "execution_count": 79,
   "metadata": {},
   "outputs": [
    {
     "data": {
      "text/plain": [
       "<matplotlib.axes._subplots.AxesSubplot at 0x20a163474c8>"
      ]
     },
     "execution_count": 79,
     "metadata": {},
     "output_type": "execute_result"
    },
    {
     "data": {
      "image/png": "[encoded data removed]",
      "text/plain": [
       "<Figure size 432x288 with 2 Axes>"
      ]
     },
     "metadata": {
      "needs_background": "light"
     },
     "output_type": "display_data"
    }
   ],
   "source": [
    "sns.heatmap(parkinsons_df.corr())"
   ]
  },
  {
   "cell_type": "code",
   "execution_count": null,
   "metadata": {},
   "outputs": [
    {
     "name": "stderr",
     "output_type": "stream",
     "text": [
      "C:\\Users\\aanan\\AppData\\Local\\Continuum\\anaconda3\\lib\\site-packages\\statsmodels\\nonparametric\\kde.py:487: RuntimeWarning: invalid value encountered in true_divide\n",
      "  binned = fast_linbin(X, a, b, gridsize) / (delta * nobs)\n",
      "C:\\Users\\aanan\\AppData\\Local\\Continuum\\anaconda3\\lib\\site-packages\\statsmodels\\nonparametric\\kdetools.py:34: RuntimeWarning: invalid value encountered in double_scalars\n",
      "  FAC1 = 2*(np.pi*bw/RANGE)**2\n"
     ]
    },
    {
     "data": {
      "text/plain": [
       "<seaborn.axisgrid.PairGrid at 0x20a1b73c488>"
      ]
     },
     "execution_count": 95,
     "metadata": {},
     "output_type": "execute_result"
    }
   ],
   "source": [
    "sns.pairplot(parkinsons_df,hue='status')"
   ]
  },
  {
   "cell_type": "markdown",
   "metadata": {},
   "source": [
    "Observations :\n",
    "MDVP_RAP and Jitter_DDP are very highly correlated with correlation = 1\n",
    "Shimmer_DDA and Shimmer_APQ3 are very highly correlated with correlation = 1\n",
    "\n",
    "Jitter variables are highly correlated with each other. NHR, MDVP_RAP, Jitter_DDP, MDVP_Jitter_Abs, MDVP_PPQ and MDVP_Jitter_percent are highly correlated\n",
    "Shimmer variables are highly correlated with each other. MDVP_APQ, MDVP_Shimmer, MDVP_Shimmer_dB, Shimmer_APQ5, Shimmer_DDA and Shimmer_APQ3 are highly correlated"
   ]
  },
  {
   "cell_type": "markdown",
   "metadata": {},
   "source": [
    "First iteration lets consider all the features except the name column which has no impact of the target variable and also MDVP High frequency column which has very very less correlation with status column"
   ]
  },
  {
   "cell_type": "code",
   "execution_count": 1478,
   "metadata": {},
   "outputs": [],
   "source": [
    "# splitting data into training and test set for independent attributes\n",
    "from sklearn.model_selection import train_test_split\n",
    "\n",
    "cols=['name','MDVP_Fhi_Hz','status']\n",
    "X =  parkinsons_df.drop(cols,axis=1,inplace=False)\n",
    "y =  parkinsons_df.pop(\"status\")\n",
    "\n",
    "train_set, test_set, train_labels, test_labels = train_test_split(X, y, test_size=0.30, random_state=15)"
   ]
  },
  {
   "cell_type": "code",
   "execution_count": 1479,
   "metadata": {},
   "outputs": [
    {
     "data": {
      "text/plain": [
       "(195, 21)"
      ]
     },
     "execution_count": 1479,
     "metadata": {},
     "output_type": "execute_result"
    }
   ],
   "source": [
    "X.shape"
   ]
  },
  {
   "cell_type": "code",
   "execution_count": 1480,
   "metadata": {},
   "outputs": [
    {
     "data": {
      "text/plain": [
       "(195,)"
      ]
     },
     "execution_count": 1480,
     "metadata": {},
     "output_type": "execute_result"
    }
   ],
   "source": [
    "y.shape"
   ]
  },
  {
   "cell_type": "code",
   "execution_count": 1481,
   "metadata": {},
   "outputs": [],
   "source": [
    "dt_model = DecisionTreeClassifier(criterion = 'entropy', random_state=15 )"
   ]
  },
  {
   "cell_type": "code",
   "execution_count": 1482,
   "metadata": {},
   "outputs": [
    {
     "data": {
      "text/plain": [
       "DecisionTreeClassifier(class_weight=None, criterion='entropy', max_depth=None,\n",
       "                       max_features=None, max_leaf_nodes=None,\n",
       "                       min_impurity_decrease=0.0, min_impurity_split=None,\n",
       "                       min_samples_leaf=1, min_samples_split=2,\n",
       "                       min_weight_fraction_leaf=0.0, presort=False,\n",
       "                       random_state=15, splitter='best')"
      ]
     },
     "execution_count": 1482,
     "metadata": {},
     "output_type": "execute_result"
    }
   ],
   "source": [
    "dt_model.fit(train_set, train_labels)"
   ]
  },
  {
   "cell_type": "code",
   "execution_count": 1483,
   "metadata": {},
   "outputs": [],
   "source": [
    "test_pred=dt_model.predict(test_set)"
   ]
  },
  {
   "cell_type": "code",
   "execution_count": 1484,
   "metadata": {},
   "outputs": [
    {
     "data": {
      "text/plain": [
       "1.0"
      ]
     },
     "execution_count": 1484,
     "metadata": {},
     "output_type": "execute_result"
    }
   ],
   "source": [
    "dt_model.score(train_set , train_labels) "
   ]
  },
  {
   "cell_type": "code",
   "execution_count": 1485,
   "metadata": {},
   "outputs": [
    {
     "data": {
      "text/plain": [
       "0.9491525423728814"
      ]
     },
     "execution_count": 1485,
     "metadata": {},
     "output_type": "execute_result"
    }
   ],
   "source": [
    "dt_model.score(test_set , test_labels)      # performance on test data"
   ]
  },
  {
   "cell_type": "code",
   "execution_count": 1486,
   "metadata": {},
   "outputs": [
    {
     "name": "stdout",
     "output_type": "stream",
     "text": [
      "                          Imp\n",
      "MDVP_Fo_Hz           0.036254\n",
      "MDVP_Flo_Hz          0.231434\n",
      "MDVP_Jitter_percent  0.000000\n",
      "MDVP_Jitter_Abs      0.036725\n",
      "MDVP_RAP             0.000000\n",
      "MDVP_PPQ             0.000000\n",
      "Jitter_DDP           0.000000\n",
      "MDVP_Shimmer         0.000000\n",
      "MDVP_Shimmer_dB      0.000000\n",
      "Shimmer_APQ3         0.000000\n",
      "Shimmer_APQ5         0.000000\n",
      "MDVP_APQ             0.088762\n",
      "Shimmer_DDA          0.000000\n",
      "NHR                  0.000000\n",
      "HNR                  0.096117\n",
      "RPDE                 0.084550\n",
      "DFA                  0.000000\n",
      "spread1              0.000000\n",
      "spread2              0.035386\n",
      "D2                   0.000000\n",
      "PPE                  0.390773\n"
     ]
    }
   ],
   "source": [
    "from IPython.display import Image  \n",
    "#import pydotplus as pydot\n",
    "import graphviz\n",
    "from sklearn import tree\n",
    "from os import system\n",
    "\n",
    "train_char_label = ['1', '2', '3']\n",
    "Parkinsons_Tree_File = open('parkinsons_tree.dot','w')\n",
    "dot_data = tree.export_graphviz(dt_model, out_file=Parkinsons_Tree_File, feature_names = list(train_set), class_names = list(train_char_label))\n",
    "\n",
    "Parkinsons_Tree_File.close()\n",
    "\n",
    "\n",
    "# importance of features in the tree building ( The importance of a feature is computed as the \n",
    "#(normalized) total reduction of the criterion brought by that feature. It is also known as the Gini importance )\n",
    "\n",
    "print (pd.DataFrame(dt_model.feature_importances_, columns = [\"Imp\"], index = train_set.columns))\n"
   ]
  },
  {
   "cell_type": "code",
   "execution_count": 1487,
   "metadata": {},
   "outputs": [
    {
     "data": {
      "image/png": "[encoded data removed]",
      "text/plain": [
       "<IPython.core.display.Image object>"
      ]
     },
     "execution_count": 1487,
     "metadata": {},
     "output_type": "execute_result"
    }
   ],
   "source": [
    "# You can also copy the script in the .dot file and paste it at http://webgraphviz.com/ to get tree view \n",
    "#or create a .png as below\n",
    "\n",
    "system(\"dot -Tpng parkinsons_tree.dot -o parkinsons_tree.png\")   # This command is to the OS\n",
    "Image(\"Parkinsons_1.png\")        # use the image command to read the .png file and print on screen"
   ]
  },
  {
   "cell_type": "markdown",
   "metadata": {},
   "source": [
    "##### Cross tab"
   ]
  },
  {
   "cell_type": "code",
   "execution_count": 1488,
   "metadata": {},
   "outputs": [
    {
     "data": {
      "text/html": [
       "<div>\n",
       "<style scoped>\n",
       "    .dataframe tbody tr th:only-of-type {\n",
       "        vertical-align: middle;\n",
       "    }\n",
       "\n",
       "    .dataframe tbody tr th {\n",
       "        vertical-align: top;\n",
       "    }\n",
       "\n",
       "    .dataframe thead th {\n",
       "        text-align: right;\n",
       "    }\n",
       "</style>\n",
       "<table border=\"1\" class=\"dataframe\">\n",
       "  <thead>\n",
       "    <tr style=\"text-align: right;\">\n",
       "      <th>Predicted</th>\n",
       "      <th>0</th>\n",
       "      <th>1</th>\n",
       "      <th>All</th>\n",
       "    </tr>\n",
       "    <tr>\n",
       "      <th>Actual</th>\n",
       "      <th></th>\n",
       "      <th></th>\n",
       "      <th></th>\n",
       "    </tr>\n",
       "  </thead>\n",
       "  <tbody>\n",
       "    <tr>\n",
       "      <td>0</td>\n",
       "      <td>12</td>\n",
       "      <td>2</td>\n",
       "      <td>14</td>\n",
       "    </tr>\n",
       "    <tr>\n",
       "      <td>1</td>\n",
       "      <td>1</td>\n",
       "      <td>44</td>\n",
       "      <td>45</td>\n",
       "    </tr>\n",
       "    <tr>\n",
       "      <td>All</td>\n",
       "      <td>13</td>\n",
       "      <td>46</td>\n",
       "      <td>59</td>\n",
       "    </tr>\n",
       "  </tbody>\n",
       "</table>\n",
       "</div>"
      ],
      "text/plain": [
       "Predicted   0   1  All\n",
       "Actual                \n",
       "0          12   2   14\n",
       "1           1  44   45\n",
       "All        13  46   59"
      ]
     },
     "execution_count": 1488,
     "metadata": {},
     "output_type": "execute_result"
    }
   ],
   "source": [
    "pd.crosstab(test_labels,test_pred,rownames=['Actual'],colnames=['Predicted'],margins=True)"
   ]
  },
  {
   "cell_type": "code",
   "execution_count": 1489,
   "metadata": {},
   "outputs": [
    {
     "name": "stdout",
     "output_type": "stream",
     "text": [
      "[[12  2]\n",
      " [ 1 44]]\n"
     ]
    }
   ],
   "source": [
    "from sklearn.metrics import confusion_matrix\n",
    "confusion_matrix = confusion_matrix(test_labels,test_pred)\n",
    "print(confusion_matrix)"
   ]
  },
  {
   "cell_type": "code",
   "execution_count": 1490,
   "metadata": {},
   "outputs": [
    {
     "data": {
      "image/png": "[encoded data removed]",
      "text/plain": [
       "<Figure size 288x288 with 2 Axes>"
      ]
     },
     "metadata": {
      "needs_background": "light"
     },
     "output_type": "display_data"
    }
   ],
   "source": [
    "plt.matshow(confusion_matrix)\n",
    "plt.title(\"Confusion Matrix for Decision Tree with Entropy classifier\\n\")\n",
    "plt.colorbar()\n",
    "plt.show()"
   ]
  },
  {
   "cell_type": "code",
   "execution_count": 1491,
   "metadata": {},
   "outputs": [],
   "source": [
    "from sklearn.metrics import classification_report"
   ]
  },
  {
   "cell_type": "code",
   "execution_count": 1492,
   "metadata": {},
   "outputs": [
    {
     "name": "stdout",
     "output_type": "stream",
     "text": [
      "              precision    recall  f1-score   support\n",
      "\n",
      "           0       0.92      0.86      0.89        14\n",
      "           1       0.96      0.98      0.97        45\n",
      "\n",
      "    accuracy                           0.95        59\n",
      "   macro avg       0.94      0.92      0.93        59\n",
      "weighted avg       0.95      0.95      0.95        59\n",
      "\n"
     ]
    }
   ],
   "source": [
    "print(classification_report(test_labels,test_pred))"
   ]
  },
  {
   "cell_type": "markdown",
   "metadata": {},
   "source": [
    "### Regularizing the Decision Tree"
   ]
  },
  {
   "cell_type": "markdown",
   "metadata": {},
   "source": [
    "#### Effect of Max depth"
   ]
  },
  {
   "cell_type": "code",
   "execution_count": 1493,
   "metadata": {},
   "outputs": [
    {
     "data": {
      "text/plain": [
       "DecisionTreeClassifier(class_weight=None, criterion='entropy', max_depth=6,\n",
       "                       max_features=None, max_leaf_nodes=None,\n",
       "                       min_impurity_decrease=0.0, min_impurity_split=None,\n",
       "                       min_samples_leaf=1, min_samples_split=2,\n",
       "                       min_weight_fraction_leaf=0.0, presort=False,\n",
       "                       random_state=15, splitter='best')"
      ]
     },
     "execution_count": 1493,
     "metadata": {},
     "output_type": "execute_result"
    }
   ],
   "source": [
    "dt_model = DecisionTreeClassifier(criterion = 'entropy', random_state=15,max_depth=6)\n",
    "dt_model.fit(train_set, train_labels)"
   ]
  },
  {
   "cell_type": "code",
   "execution_count": 1494,
   "metadata": {},
   "outputs": [
    {
     "name": "stdout",
     "output_type": "stream",
     "text": [
      "                          Imp\n",
      "MDVP_Fo_Hz           0.036254\n",
      "MDVP_Flo_Hz          0.231434\n",
      "MDVP_Jitter_percent  0.000000\n",
      "MDVP_Jitter_Abs      0.036725\n",
      "MDVP_RAP             0.000000\n",
      "MDVP_PPQ             0.000000\n",
      "Jitter_DDP           0.000000\n",
      "MDVP_Shimmer         0.000000\n",
      "MDVP_Shimmer_dB      0.000000\n",
      "Shimmer_APQ3         0.000000\n",
      "Shimmer_APQ5         0.000000\n",
      "MDVP_APQ             0.088762\n",
      "Shimmer_DDA          0.000000\n",
      "NHR                  0.000000\n",
      "HNR                  0.096117\n",
      "RPDE                 0.084550\n",
      "DFA                  0.000000\n",
      "spread1              0.000000\n",
      "spread2              0.035386\n",
      "D2                   0.000000\n",
      "PPE                  0.390773\n"
     ]
    }
   ],
   "source": [
    "parkinsons_tree_regularized = open('parkinsons_tree_regularized.dot','w')\n",
    "dot_data = tree.export_graphviz(dt_model, out_file= parkinsons_tree_regularized , feature_names = list(train_set), class_names = list(train_char_label))\n",
    "\n",
    "parkinsons_tree_regularized.close()\n",
    "\n",
    "print (pd.DataFrame(dt_model.feature_importances_, columns = [\"Imp\"], index = train_set.columns))\n"
   ]
  },
  {
   "cell_type": "code",
   "execution_count": 1495,
   "metadata": {},
   "outputs": [
    {
     "data": {
      "image/png": "[encoded data removed]",
      "text/plain": [
       "<IPython.core.display.Image object>"
      ]
     },
     "execution_count": 1495,
     "metadata": {},
     "output_type": "execute_result"
    }
   ],
   "source": [
    "# You can also copy the script in the .dot file and paste it at http://webgraphviz.com/ to get tree view\n",
    "# or create a .png as below\n",
    "system(\"dot -Tpng parkinsons_tree_regularized.dot -o parkinsons_tree_regularized.png\")\n",
    "Image(\"Parkinsons_tree_regularized.png\")"
   ]
  },
  {
   "cell_type": "code",
   "execution_count": 1496,
   "metadata": {},
   "outputs": [],
   "source": [
    "test_reg_pred = dt_model.predict(test_set)"
   ]
  },
  {
   "cell_type": "code",
   "execution_count": 1497,
   "metadata": {},
   "outputs": [
    {
     "data": {
      "text/plain": [
       "1.0"
      ]
     },
     "execution_count": 1497,
     "metadata": {},
     "output_type": "execute_result"
    }
   ],
   "source": [
    "dt_model.score(train_set , train_labels) "
   ]
  },
  {
   "cell_type": "code",
   "execution_count": 1498,
   "metadata": {},
   "outputs": [
    {
     "data": {
      "text/plain": [
       "0.9491525423728814"
      ]
     },
     "execution_count": 1498,
     "metadata": {},
     "output_type": "execute_result"
    }
   ],
   "source": [
    "dt_model.score(test_set , test_labels)"
   ]
  },
  {
   "cell_type": "code",
   "execution_count": 1499,
   "metadata": {},
   "outputs": [
    {
     "data": {
      "text/html": [
       "<div>\n",
       "<style scoped>\n",
       "    .dataframe tbody tr th:only-of-type {\n",
       "        vertical-align: middle;\n",
       "    }\n",
       "\n",
       "    .dataframe tbody tr th {\n",
       "        vertical-align: top;\n",
       "    }\n",
       "\n",
       "    .dataframe thead th {\n",
       "        text-align: right;\n",
       "    }\n",
       "</style>\n",
       "<table border=\"1\" class=\"dataframe\">\n",
       "  <thead>\n",
       "    <tr style=\"text-align: right;\">\n",
       "      <th>Predicted</th>\n",
       "      <th>0</th>\n",
       "      <th>1</th>\n",
       "      <th>All</th>\n",
       "    </tr>\n",
       "    <tr>\n",
       "      <th>Actual</th>\n",
       "      <th></th>\n",
       "      <th></th>\n",
       "      <th></th>\n",
       "    </tr>\n",
       "  </thead>\n",
       "  <tbody>\n",
       "    <tr>\n",
       "      <td>0</td>\n",
       "      <td>12</td>\n",
       "      <td>2</td>\n",
       "      <td>14</td>\n",
       "    </tr>\n",
       "    <tr>\n",
       "      <td>1</td>\n",
       "      <td>1</td>\n",
       "      <td>44</td>\n",
       "      <td>45</td>\n",
       "    </tr>\n",
       "    <tr>\n",
       "      <td>All</td>\n",
       "      <td>13</td>\n",
       "      <td>46</td>\n",
       "      <td>59</td>\n",
       "    </tr>\n",
       "  </tbody>\n",
       "</table>\n",
       "</div>"
      ],
      "text/plain": [
       "Predicted   0   1  All\n",
       "Actual                \n",
       "0          12   2   14\n",
       "1           1  44   45\n",
       "All        13  46   59"
      ]
     },
     "execution_count": 1499,
     "metadata": {},
     "output_type": "execute_result"
    }
   ],
   "source": [
    "pd.crosstab(test_labels,test_reg_pred,rownames=['Actual'],colnames=['Predicted'],margins=True)"
   ]
  },
  {
   "cell_type": "code",
   "execution_count": 1501,
   "metadata": {},
   "outputs": [
    {
     "name": "stdout",
     "output_type": "stream",
     "text": [
      "[[12  2]\n",
      " [ 1 44]]\n"
     ]
    }
   ],
   "source": [
    "from sklearn.metrics import confusion_matrix\n",
    "confusion_matrix = confusion_matrix(test_labels,test_reg_pred)\n",
    "print(confusion_matrix)"
   ]
  },
  {
   "cell_type": "code",
   "execution_count": 1502,
   "metadata": {},
   "outputs": [
    {
     "data": {
      "image/png": "[encoded data removed]",
      "text/plain": [
       "<Figure size 288x288 with 2 Axes>"
      ]
     },
     "metadata": {
      "needs_background": "light"
     },
     "output_type": "display_data"
    }
   ],
   "source": [
    "plt.matshow(confusion_matrix)\n",
    "plt.title(\"Confusion Matrix for Decision Tree with Entropy classifier - Regularized \\n\")\n",
    "plt.colorbar()\n",
    "plt.show()"
   ]
  },
  {
   "cell_type": "code",
   "execution_count": 1504,
   "metadata": {},
   "outputs": [
    {
     "name": "stdout",
     "output_type": "stream",
     "text": [
      "              precision    recall  f1-score   support\n",
      "\n",
      "           0       0.92      0.86      0.89        14\n",
      "           1       0.96      0.98      0.97        45\n",
      "\n",
      "    accuracy                           0.95        59\n",
      "   macro avg       0.94      0.92      0.93        59\n",
      "weighted avg       0.95      0.95      0.95        59\n",
      "\n"
     ]
    }
   ],
   "source": [
    "from sklearn.metrics import classification_report\n",
    "print(classification_report(test_labels,test_reg_pred))"
   ]
  },
  {
   "cell_type": "markdown",
   "metadata": {},
   "source": [
    "Usually Regularisation fixes the overfitting problem but for the given set of features the train and test accuracies remains the same at max_depth = 6.\n",
    "\n",
    "Let's try with other values for Max_depth and see the effect\n",
    "NOTE: As we are mainly doing this exercise to see the effect on the accuracies, we are not displaying the tree here for every iteration. Same is the case with min samples leaf column impact assessment"
   ]
  },
  {
   "cell_type": "code",
   "execution_count": 1505,
   "metadata": {},
   "outputs": [
    {
     "name": "stdout",
     "output_type": "stream",
     "text": [
      "At Max depth =  1 :\n",
      "Training score:  0.8823529411764706\n",
      "Testing score:  0.8305084745762712\n",
      "At Max depth =  2 :\n",
      "Training score:  0.8823529411764706\n",
      "Testing score:  0.8305084745762712\n",
      "At Max depth =  3 :\n",
      "Training score:  0.9264705882352942\n",
      "Testing score:  0.8813559322033898\n",
      "At Max depth =  4 :\n",
      "Training score:  0.9411764705882353\n",
      "Testing score:  0.8983050847457628\n",
      "At Max depth =  5 :\n",
      "Training score:  0.9558823529411765\n",
      "Testing score:  0.9152542372881356\n",
      "At Max depth =  6 :\n",
      "Training score:  1.0\n",
      "Testing score:  0.9491525423728814\n",
      "At Max depth =  7 :\n",
      "Training score:  1.0\n",
      "Testing score:  0.9491525423728814\n",
      "At Max depth =  8 :\n",
      "Training score:  1.0\n",
      "Testing score:  0.9491525423728814\n",
      "At Max depth =  9 :\n",
      "Training score:  1.0\n",
      "Testing score:  0.9491525423728814\n",
      "At Max depth =  10 :\n",
      "Training score:  1.0\n",
      "Testing score:  0.9491525423728814\n",
      "At Max depth =  11 :\n",
      "Training score:  1.0\n",
      "Testing score:  0.9491525423728814\n",
      "At Max depth =  12 :\n",
      "Training score:  1.0\n",
      "Testing score:  0.9491525423728814\n",
      "At Max depth =  13 :\n",
      "Training score:  1.0\n",
      "Testing score:  0.9491525423728814\n",
      "At Max depth =  14 :\n",
      "Training score:  1.0\n",
      "Testing score:  0.9491525423728814\n",
      "At Max depth =  15 :\n",
      "Training score:  1.0\n",
      "Testing score:  0.9491525423728814\n",
      "At Max depth =  16 :\n",
      "Training score:  1.0\n",
      "Testing score:  0.9491525423728814\n",
      "At Max depth =  17 :\n",
      "Training score:  1.0\n",
      "Testing score:  0.9491525423728814\n",
      "At Max depth =  18 :\n",
      "Training score:  1.0\n",
      "Testing score:  0.9491525423728814\n",
      "At Max depth =  19 :\n",
      "Training score:  1.0\n",
      "Testing score:  0.9491525423728814\n"
     ]
    },
    {
     "data": {
      "image/png": "[encoded data removed]",
      "text/plain": [
       "<Figure size 432x288 with 1 Axes>"
      ]
     },
     "metadata": {
      "needs_background": "light"
     },
     "output_type": "display_data"
    }
   ],
   "source": [
    "train_plt = []\n",
    "test_plt = []\n",
    "for k in range(1,20,1):\n",
    "    print(\"At Max depth = \",k,\":\")\n",
    "    dt_model = DecisionTreeClassifier(criterion = 'entropy', random_state=15,max_depth=k)\n",
    "    dt_model.fit(train_set, train_labels)\n",
    "    print(\"Training score: \" ,dt_model.score(train_set , train_labels))\n",
    "    print(\"Testing score: \",dt_model.score(test_set , test_labels))\n",
    "    train_plt.append(dt_model.score(train_set , train_labels))\n",
    "    test_plt.append(dt_model.score(test_set , test_labels))\n",
    "    \n",
    "plt.title('Decision Tree: Varying Depth')\n",
    "plt.plot(range(1,20), test_plt, label = 'Testing Accuracy')\n",
    "plt.plot(range(1,20), train_plt, label = 'Training Accuracy')\n",
    "plt.legend()\n",
    "plt.xlabel('Max Depth')\n",
    "plt.ylabel('Accuracy')\n",
    "plt.show()"
   ]
  },
  {
   "cell_type": "markdown",
   "metadata": {},
   "source": [
    "For the selected set of features max_depth <=5 avoids overfitting but testing score also seems to reduce along with it. Looks like Depth of >=6 is optimal where though the training score 1(leading to overfitting)\n",
    "testing score is stable at 94.91%"
   ]
  },
  {
   "cell_type": "markdown",
   "metadata": {},
   "source": [
    "#### Effect of min sample leaves"
   ]
  },
  {
   "cell_type": "code",
   "execution_count": 1506,
   "metadata": {},
   "outputs": [
    {
     "name": "stdout",
     "output_type": "stream",
     "text": [
      "At Min sample leaf =  1 :\n",
      "Training score:  1.0\n",
      "Testing score:  0.9491525423728814\n",
      "At Min sample leaf =  2 :\n",
      "Training score:  0.9926470588235294\n",
      "Testing score:  0.8983050847457628\n",
      "At Min sample leaf =  3 :\n",
      "Training score:  0.9705882352941176\n",
      "Testing score:  0.8983050847457628\n",
      "At Min sample leaf =  4 :\n",
      "Training score:  0.9632352941176471\n",
      "Testing score:  0.8983050847457628\n",
      "At Min sample leaf =  5 :\n",
      "Training score:  0.9632352941176471\n",
      "Testing score:  0.8983050847457628\n",
      "At Min sample leaf =  6 :\n",
      "Training score:  0.9558823529411765\n",
      "Testing score:  0.9152542372881356\n",
      "At Min sample leaf =  7 :\n",
      "Training score:  0.9264705882352942\n",
      "Testing score:  0.9322033898305084\n",
      "At Min sample leaf =  8 :\n",
      "Training score:  0.9264705882352942\n",
      "Testing score:  0.9322033898305084\n",
      "At Min sample leaf =  9 :\n",
      "Training score:  0.9191176470588235\n",
      "Testing score:  0.9322033898305084\n",
      "At Min sample leaf =  10 :\n",
      "Training score:  0.8823529411764706\n",
      "Testing score:  0.864406779661017\n",
      "At Min sample leaf =  11 :\n",
      "Training score:  0.8823529411764706\n",
      "Testing score:  0.864406779661017\n",
      "At Min sample leaf =  12 :\n",
      "Training score:  0.8823529411764706\n",
      "Testing score:  0.864406779661017\n",
      "At Min sample leaf =  13 :\n",
      "Training score:  0.8823529411764706\n",
      "Testing score:  0.8305084745762712\n",
      "At Min sample leaf =  14 :\n",
      "Training score:  0.8823529411764706\n",
      "Testing score:  0.8305084745762712\n",
      "At Min sample leaf =  15 :\n",
      "Training score:  0.8823529411764706\n",
      "Testing score:  0.8305084745762712\n",
      "At Min sample leaf =  16 :\n",
      "Training score:  0.8823529411764706\n",
      "Testing score:  0.8305084745762712\n",
      "At Min sample leaf =  17 :\n",
      "Training score:  0.8823529411764706\n",
      "Testing score:  0.8305084745762712\n",
      "At Min sample leaf =  18 :\n",
      "Training score:  0.8823529411764706\n",
      "Testing score:  0.8305084745762712\n",
      "At Min sample leaf =  19 :\n",
      "Training score:  0.8823529411764706\n",
      "Testing score:  0.8305084745762712\n"
     ]
    },
    {
     "data": {
      "image/png": "[encoded data removed]",
      "text/plain": [
       "<Figure size 432x288 with 1 Axes>"
      ]
     },
     "metadata": {
      "needs_background": "light"
     },
     "output_type": "display_data"
    }
   ],
   "source": [
    "train_plt = []\n",
    "test_plt = []\n",
    "for k in range(1,20,1):\n",
    "    print(\"At Min sample leaf = \",k,\":\")\n",
    "    dt_model = DecisionTreeClassifier(criterion = 'entropy', random_state=15,min_samples_leaf=k)\n",
    "    dt_model.fit(train_set, train_labels)\n",
    "    print(\"Training score: \" ,dt_model.score(train_set , train_labels))\n",
    "    print(\"Testing score: \",dt_model.score(test_set , test_labels))\n",
    "    train_plt.append(dt_model.score(train_set , train_labels))\n",
    "    test_plt.append(dt_model.score(test_set , test_labels))\n",
    "    \n",
    "plt.title('Decision Tree: Varying Min leaf size')\n",
    "plt.plot(range(1,20), test_plt, label = 'Testing Accuracy')\n",
    "plt.plot(range(1,20), train_plt, label = 'Training Accuracy')\n",
    "plt.legend()\n",
    "plt.xlabel('Max Depth')\n",
    "plt.ylabel('Accuracy')\n",
    "plt.show()"
   ]
  },
  {
   "cell_type": "markdown",
   "metadata": {},
   "source": [
    "#### Random Forest Classifier"
   ]
  },
  {
   "cell_type": "code",
   "execution_count": 1507,
   "metadata": {},
   "outputs": [],
   "source": [
    "from sklearn.ensemble import RandomForestClassifier\n",
    "clf = RandomForestClassifier(n_estimators=100,max_leaf_nodes=20,random_state=15)"
   ]
  },
  {
   "cell_type": "code",
   "execution_count": 1508,
   "metadata": {},
   "outputs": [
    {
     "data": {
      "text/plain": [
       "RandomForestClassifier(bootstrap=True, class_weight=None, criterion='gini',\n",
       "                       max_depth=None, max_features='auto', max_leaf_nodes=20,\n",
       "                       min_impurity_decrease=0.0, min_impurity_split=None,\n",
       "                       min_samples_leaf=1, min_samples_split=2,\n",
       "                       min_weight_fraction_leaf=0.0, n_estimators=100,\n",
       "                       n_jobs=None, oob_score=False, random_state=15, verbose=0,\n",
       "                       warm_start=False)"
      ]
     },
     "execution_count": 1508,
     "metadata": {},
     "output_type": "execute_result"
    }
   ],
   "source": [
    "clf"
   ]
  },
  {
   "cell_type": "code",
   "execution_count": 1509,
   "metadata": {},
   "outputs": [],
   "source": [
    "clf=clf.fit(train_set,train_labels)\n",
    "predictions = clf.predict(test_set)"
   ]
  },
  {
   "cell_type": "code",
   "execution_count": 1510,
   "metadata": {},
   "outputs": [
    {
     "data": {
      "text/plain": [
       "0.9322033898305084"
      ]
     },
     "execution_count": 1510,
     "metadata": {},
     "output_type": "execute_result"
    }
   ],
   "source": [
    "from sklearn.metrics import accuracy_score\n",
    "accuracy_score(test_labels, predictions)"
   ]
  },
  {
   "cell_type": "markdown",
   "metadata": {},
   "source": [
    "With the default criterion as 'gini' random forest gives accuracy score of 93.22%"
   ]
  },
  {
   "cell_type": "code",
   "execution_count": 1511,
   "metadata": {},
   "outputs": [
    {
     "data": {
      "text/html": [
       "<div>\n",
       "<style scoped>\n",
       "    .dataframe tbody tr th:only-of-type {\n",
       "        vertical-align: middle;\n",
       "    }\n",
       "\n",
       "    .dataframe tbody tr th {\n",
       "        vertical-align: top;\n",
       "    }\n",
       "\n",
       "    .dataframe thead th {\n",
       "        text-align: right;\n",
       "    }\n",
       "</style>\n",
       "<table border=\"1\" class=\"dataframe\">\n",
       "  <thead>\n",
       "    <tr style=\"text-align: right;\">\n",
       "      <th>Predicted</th>\n",
       "      <th>0</th>\n",
       "      <th>1</th>\n",
       "      <th>All</th>\n",
       "    </tr>\n",
       "    <tr>\n",
       "      <th>Actual</th>\n",
       "      <th></th>\n",
       "      <th></th>\n",
       "      <th></th>\n",
       "    </tr>\n",
       "  </thead>\n",
       "  <tbody>\n",
       "    <tr>\n",
       "      <td>0</td>\n",
       "      <td>10</td>\n",
       "      <td>4</td>\n",
       "      <td>14</td>\n",
       "    </tr>\n",
       "    <tr>\n",
       "      <td>1</td>\n",
       "      <td>0</td>\n",
       "      <td>45</td>\n",
       "      <td>45</td>\n",
       "    </tr>\n",
       "    <tr>\n",
       "      <td>All</td>\n",
       "      <td>10</td>\n",
       "      <td>49</td>\n",
       "      <td>59</td>\n",
       "    </tr>\n",
       "  </tbody>\n",
       "</table>\n",
       "</div>"
      ],
      "text/plain": [
       "Predicted   0   1  All\n",
       "Actual                \n",
       "0          10   4   14\n",
       "1           0  45   45\n",
       "All        10  49   59"
      ]
     },
     "execution_count": 1511,
     "metadata": {},
     "output_type": "execute_result"
    }
   ],
   "source": [
    "pd.crosstab(test_labels,predictions,rownames=['Actual'],colnames=['Predicted'],margins=True)"
   ]
  },
  {
   "cell_type": "code",
   "execution_count": 1512,
   "metadata": {},
   "outputs": [
    {
     "name": "stdout",
     "output_type": "stream",
     "text": [
      "[[10  4]\n",
      " [ 0 45]]\n"
     ]
    }
   ],
   "source": [
    "from sklearn.metrics import confusion_matrix\n",
    "confusion_matrix = confusion_matrix(test_labels,predictions)\n",
    "print(confusion_matrix)"
   ]
  },
  {
   "cell_type": "code",
   "execution_count": 1515,
   "metadata": {},
   "outputs": [
    {
     "data": {
      "image/png": "[encoded data removed]",
      "text/plain": [
       "<Figure size 288x288 with 2 Axes>"
      ]
     },
     "metadata": {
      "needs_background": "light"
     },
     "output_type": "display_data"
    }
   ],
   "source": [
    "plt.matshow(confusion_matrix)\n",
    "plt.title(\"Confusion Matrix for Random forest\\n\")\n",
    "plt.colorbar()\n",
    "plt.show()"
   ]
  },
  {
   "cell_type": "code",
   "execution_count": 1517,
   "metadata": {},
   "outputs": [
    {
     "name": "stdout",
     "output_type": "stream",
     "text": [
      "              precision    recall  f1-score   support\n",
      "\n",
      "           0       1.00      0.71      0.83        14\n",
      "           1       0.92      1.00      0.96        45\n",
      "\n",
      "    accuracy                           0.93        59\n",
      "   macro avg       0.96      0.86      0.90        59\n",
      "weighted avg       0.94      0.93      0.93        59\n",
      "\n"
     ]
    }
   ],
   "source": [
    "from sklearn.metrics import classification_report\n",
    "print(classification_report(test_labels,predictions))"
   ]
  },
  {
   "cell_type": "code",
   "execution_count": 1518,
   "metadata": {},
   "outputs": [],
   "source": [
    "clf2 = RandomForestClassifier(n_estimators=100,criterion='entropy',max_leaf_nodes=20,random_state=15)"
   ]
  },
  {
   "cell_type": "code",
   "execution_count": 1519,
   "metadata": {},
   "outputs": [
    {
     "data": {
      "text/plain": [
       "RandomForestClassifier(bootstrap=True, class_weight=None, criterion='entropy',\n",
       "                       max_depth=None, max_features='auto', max_leaf_nodes=20,\n",
       "                       min_impurity_decrease=0.0, min_impurity_split=None,\n",
       "                       min_samples_leaf=1, min_samples_split=2,\n",
       "                       min_weight_fraction_leaf=0.0, n_estimators=100,\n",
       "                       n_jobs=None, oob_score=False, random_state=15, verbose=0,\n",
       "                       warm_start=False)"
      ]
     },
     "execution_count": 1519,
     "metadata": {},
     "output_type": "execute_result"
    }
   ],
   "source": [
    "clf2"
   ]
  },
  {
   "cell_type": "code",
   "execution_count": 1520,
   "metadata": {},
   "outputs": [
    {
     "data": {
      "text/plain": [
       "0.9152542372881356"
      ]
     },
     "execution_count": 1520,
     "metadata": {},
     "output_type": "execute_result"
    }
   ],
   "source": [
    "clf2=clf2.fit(train_set,train_labels)\n",
    "predictions = clf2.predict(test_set)\n",
    "from sklearn.metrics import accuracy_score\n",
    "accuracy_score(test_labels, predictions)"
   ]
  },
  {
   "cell_type": "markdown",
   "metadata": {},
   "source": [
    "With the select features, Random forest gives 91.5% accuracy using entropy method"
   ]
  },
  {
   "cell_type": "markdown",
   "metadata": {},
   "source": [
    "For selected set of features we thus conclude that Decision tree with entropy method at Max depth > = 6 gives the best testing accuracy if the min samples leaf is considered as 1"
   ]
  }
 ],
 "metadata": {
  "kernelspec": {
   "display_name": "Python 3",
   "language": "python",
   "name": "python3"
  },
  "language_info": {
   "codemirror_mode": {
    "name": "ipython",
    "version": 3
   },
   "file_extension": ".py",
   "mimetype": "text/x-python",
   "name": "python",
   "nbconvert_exporter": "python",
   "pygments_lexer": "ipython3",
   "version": "3.7.4"
  }
 },
 "nbformat": 4,
 "nbformat_minor": 2
}
