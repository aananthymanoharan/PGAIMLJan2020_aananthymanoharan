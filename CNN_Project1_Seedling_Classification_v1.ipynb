{
 "cells": [
  {
   "cell_type": "markdown",
   "metadata": {
    "id": "RQztsB99tZ7n"
   },
   "source": [
    "PART ONE"
   ]
  },
  {
   "cell_type": "code",
   "execution_count": null,
   "metadata": {
    "colab": {
     "base_uri": "https://localhost:8080/"
    },
    "id": "ekjMMoqNDqIT",
    "outputId": "f998938f-6549-4420-b29a-5298287216e3"
   },
   "outputs": [
    {
     "name": "stdout",
     "output_type": "stream",
     "text": [
      "Mounted at /content/drive/\n"
     ]
    }
   ],
   "source": [
    "from google.colab import drive\n",
    "drive.mount('/content/drive/',force_remount=True)"
   ]
  },
  {
   "cell_type": "code",
   "execution_count": null,
   "metadata": {
    "colab": {
     "base_uri": "https://localhost:8080/"
    },
    "id": "Q5ZW6ccdjrmu",
    "outputId": "7d046619-bff2-4658-928d-0c54c19fe5bd"
   },
   "outputs": [
    {
     "name": "stdout",
     "output_type": "stream",
     "text": [
      "sample_submission.csv\n",
      "test\n",
      "train\n"
     ]
    }
   ],
   "source": [
    "import os\n",
    "for files in os.listdir(\"./drive/MyDrive/Seedling_Classification\"):\n",
    "  print(files)"
   ]
  },
  {
   "cell_type": "code",
   "execution_count": null,
   "metadata": {
    "id": "WC4mv8tXfsdW"
   },
   "outputs": [],
   "source": [
    "import os\n",
    "for dirname, _, filenames in os.walk('./drive/MyDrive/Seedling_Classification'):\n",
    "    for filename in filenames:\n",
    "      os.path.join(dirname, filename)"
   ]
  },
  {
   "cell_type": "code",
   "execution_count": null,
   "metadata": {
    "colab": {
     "base_uri": "https://localhost:8080/"
    },
    "id": "gZGRFdvQgNda",
    "outputId": "92cf8d22-c248-43f3-ad5a-359ac66a77da"
   },
   "outputs": [
    {
     "name": "stdout",
     "output_type": "stream",
     "text": [
      "total 48K\n",
      "drwx------ 2 root root 4.0K Jan 23 11:00 'Sugar beet'\n",
      "drwx------ 2 root root 4.0K Jan 23 11:00 'Small-flowered Cranesbill'\n",
      "drwx------ 2 root root 4.0K Jan 23 11:00 'Shepherds Purse'\n",
      "drwx------ 2 root root 4.0K Jan 23 11:00 'Scentless Mayweed'\n",
      "drwx------ 2 root root 4.0K Jan 23 11:00  Maize\n",
      "drwx------ 2 root root 4.0K Jan 23 11:00 'Loose Silky-bent'\n",
      "drwx------ 2 root root 4.0K Jan 23 11:00 'Fat Hen'\n",
      "drwx------ 2 root root 4.0K Jan 23 11:00 'Common wheat'\n",
      "drwx------ 2 root root 4.0K Jan 23 11:00 'Common Chickweed'\n",
      "drwx------ 2 root root 4.0K Jan 23 11:00  Cleavers\n",
      "drwx------ 2 root root 4.0K Jan 23 11:00  Charlock\n",
      "drwx------ 2 root root 4.0K Jan 23 11:00  Black-grass\n"
     ]
    }
   ],
   "source": [
    "!ls -lrth ./drive/MyDrive/Seedling_Classification/train"
   ]
  },
  {
   "cell_type": "markdown",
   "metadata": {
    "id": "bFoV7HQmH8Lm"
   },
   "source": [
    "Import all required libraries"
   ]
  },
  {
   "cell_type": "code",
   "execution_count": null,
   "metadata": {
    "id": "oGk78LSKF_CR"
   },
   "outputs": [],
   "source": [
    "from matplotlib import pyplot as plt\n",
    "import seaborn as sns\n",
    "from glob import glob \n",
    "\n",
    "from keras.utils import np_utils\n",
    "from keras.models import Sequential\n",
    "from keras.layers import Dense,Dropout,Flatten\n",
    "from keras.preprocessing.image import ImageDataGenerator\n",
    "from keras.layers import BatchNormalization\n",
    "from sklearn import preprocessing\n",
    "\n",
    "from sklearn.model_selection import train_test_split\n",
    "import cv2\n",
    "\n",
    "import numpy as np \n",
    "import pandas as pd\n",
    "\n",
    "\n",
    "from keras import layers\n",
    "from keras import models\n",
    "from keras import optimizers\n",
    "\n",
    "from keras.preprocessing.image import img_to_array, load_img\n",
    "import keras\n",
    "from keras.models import Sequential\n",
    "from keras.layers import Dense, Dropout, Flatten\n",
    "from keras.layers import Conv2D, MaxPooling2D,GlobalMaxPool2D\n",
    "from keras.layers. normalization import BatchNormalization\n",
    "from keras.optimizers import Adam"
   ]
  },
  {
   "cell_type": "code",
   "execution_count": null,
   "metadata": {
    "id": "uE1L0X6aH2Nz"
   },
   "outputs": [],
   "source": [
    "Train_data_Dir = './drive/MyDrive/Seedling_Classification/train/*/*.png'\n",
    "Test_data_Dir = './drive/MyDrive/Seedling_Classification/test/*.png'"
   ]
  },
  {
   "cell_type": "code",
   "execution_count": null,
   "metadata": {
    "id": "zgwEnPgpVZya"
   },
   "outputs": [],
   "source": [
    "data = glob(Train_data_Dir)\n",
    "\n",
    "training_data=[]\n",
    "training_label=[]"
   ]
  },
  {
   "cell_type": "code",
   "execution_count": null,
   "metadata": {
    "colab": {
     "base_uri": "https://localhost:8080/"
    },
    "id": "JRsPf4ycXXCy",
    "outputId": "133311a1-edad-4697-e74d-03e69da0ca34"
   },
   "outputs": [
    {
     "name": "stdout",
     "output_type": "stream",
     "text": [
      "Reading Data\n",
      "Data Read Complete\n"
     ]
    }
   ],
   "source": [
    "print(\"Reading Data\")\n",
    "for d in data:\n",
    "    training_data.append(cv2.resize(cv2.imread(d),(240,240)))\n",
    "    training_label.append(d.split('/')[-2])\n",
    "print(\"Data Read Complete\")\n",
    "training_data = np.asarray(training_data)\n",
    ";'.training_label = pd.DataFrame(training_label)"
   ]
  },
  {
   "cell_type": "code",
   "execution_count": null,
   "metadata": {
    "colab": {
     "base_uri": "https://localhost:8080/"
    },
    "id": "HaEwKIduXdK_",
    "outputId": "b3a5d9b2-578b-4944-ed85-32572729ceaa"
   },
   "outputs": [
    {
     "data": {
      "text/plain": [
       "(4750, 240, 240, 3)"
      ]
     },
     "execution_count": 9,
     "metadata": {
      "tags": []
     },
     "output_type": "execute_result"
    }
   ],
   "source": [
    "training_data.shape"
   ]
  },
  {
   "cell_type": "code",
   "execution_count": null,
   "metadata": {
    "colab": {
     "base_uri": "https://localhost:8080/"
    },
    "id": "GD7jSqn-s36i",
    "outputId": "1057ff42-1c62-45c1-b736-3d696535e2aa"
   },
   "outputs": [
    {
     "name": "stdout",
     "output_type": "stream",
     "text": [
      "Size Of traning Data 4750\n"
     ]
    }
   ],
   "source": [
    "print(\"Size Of traning Data\",len(training_data))"
   ]
  },
  {
   "cell_type": "code",
   "execution_count": null,
   "metadata": {
    "colab": {
     "base_uri": "https://localhost:8080/",
     "height": 35
    },
    "id": "BoGbKZd-tC5U",
    "outputId": "72a5d364-2945-4d50-d481-2f3d8ae5cb2f"
   },
   "outputs": [
    {
     "data": {
      "application/vnd.google.colaboratory.intrinsic+json": {
       "type": "string"
      },
      "text/plain": [
       "'Sugar beet'"
      ]
     },
     "execution_count": 11,
     "metadata": {
      "tags": []
     },
     "output_type": "execute_result"
    }
   ],
   "source": [
    "training_label[0][1]"
   ]
  },
  {
   "cell_type": "code",
   "execution_count": null,
   "metadata": {
    "colab": {
     "base_uri": "https://localhost:8080/",
     "height": 285
    },
    "id": "V0IouqCbtF2s",
    "outputId": "f009597f-b85c-4707-e92e-6a9251353600"
   },
   "outputs": [
    {
     "data": {
      "text/plain": [
       "<matplotlib.image.AxesImage at 0x7ff889439518>"
      ]
     },
     "execution_count": 12,
     "metadata": {
      "tags": []
     },
     "output_type": "execute_result"
    },
    {
     "data": {
      "image/png": "[encoded data removed]",
      "text/plain": [
       "<Figure size 432x288 with 1 Axes>"
      ]
     },
     "metadata": {
      "needs_background": "light",
      "tags": []
     },
     "output_type": "display_data"
    }
   ],
   "source": [
    "plt.imshow(training_data[1])"
   ]
  },
  {
   "cell_type": "code",
   "execution_count": null,
   "metadata": {
    "colab": {
     "base_uri": "https://localhost:8080/"
    },
    "id": "1ds1oWmRuTPa",
    "outputId": "41efc4fa-d5c6-4199-c022-e6e16bb9f9c7"
   },
   "outputs": [
    {
     "data": {
      "text/plain": [
       "(240, 240, 3)"
      ]
     },
     "execution_count": 13,
     "metadata": {
      "tags": []
     },
     "output_type": "execute_result"
    }
   ],
   "source": [
    "training_data[1].shape"
   ]
  },
  {
   "cell_type": "code",
   "execution_count": null,
   "metadata": {
    "colab": {
     "base_uri": "https://localhost:8080/"
    },
    "id": "dMnVkCrtuY_Y",
    "outputId": "9906af96-22d2-4504-f369-deb6c6f9697c"
   },
   "outputs": [
    {
     "data": {
      "text/plain": [
       "array(['Sugar beet', 'Small-flowered Cranesbill', 'Black-grass',\n",
       "       'Loose Silky-bent', 'Cleavers', 'Charlock', 'Shepherds Purse',\n",
       "       'Common wheat', 'Scentless Mayweed', 'Maize', 'Fat Hen',\n",
       "       'Common Chickweed'], dtype=object)"
      ]
     },
     "execution_count": 14,
     "metadata": {
      "tags": []
     },
     "output_type": "execute_result"
    }
   ],
   "source": [
    "training_label[0].unique()"
   ]
  },
  {
   "cell_type": "code",
   "execution_count": null,
   "metadata": {
    "colab": {
     "base_uri": "https://localhost:8080/",
     "height": 776
    },
    "id": "0FY-MgQ1uj5T",
    "outputId": "e4d24521-ce12-4dfd-ebde-87b823945a0a"
   },
   "outputs": [
    {
     "name": "stdout",
     "output_type": "stream",
     "text": [
      "------ Data Contains----------\n",
      "516 data for - Scentless Mayweed category\n",
      "221 data for - Common wheat category\n",
      "390 data for - Charlock category\n",
      "263 data for - Black-grass category\n",
      "385 data for - Sugar beet category\n",
      "654 data for - Loose Silky-bent category\n",
      "221 data for - Maize category\n",
      "287 data for - Cleavers category\n",
      "611 data for - Common Chickweed category\n",
      "475 data for - Fat Hen category\n",
      "496 data for - Small-flowered Cranesbill category\n",
      "231 data for - Shepherds Purse category\n"
     ]
    },
    {
     "name": "stderr",
     "output_type": "stream",
     "text": [
      "/usr/local/lib/python3.6/dist-packages/seaborn/_decorators.py:43: FutureWarning: Pass the following variables as keyword args: x, y. From version 0.12, the only valid positional argument will be `data`, and passing other arguments without an explicit keyword will result in an error or misinterpretation.\n",
      "  FutureWarning\n"
     ]
    },
    {
     "data": {
      "text/plain": [
       "<matplotlib.axes._subplots.AxesSubplot at 0x7ff8893fd358>"
      ]
     },
     "execution_count": 15,
     "metadata": {
      "tags": []
     },
     "output_type": "execute_result"
    },
    {
     "data": {
      "image/png": "[encoded data removed]",
      "text/plain": [
       "<Figure size 1656x576 with 1 Axes>"
      ]
     },
     "metadata": {
      "needs_background": "light",
      "tags": []
     },
     "output_type": "display_data"
    }
   ],
   "source": [
    "category = ['Scentless Mayweed', 'Common wheat', 'Charlock', 'Black-grass',\n",
    "       'Sugar beet', 'Loose Silky-bent', 'Maize', 'Cleavers',\n",
    "       'Common Chickweed', 'Fat Hen', 'Small-flowered Cranesbill',\n",
    "       'Shepherds Purse']\n",
    "print_data = {}\n",
    "\n",
    "print('------ Data Contains----------')\n",
    "\n",
    "for s in category:\n",
    "    count= len(os.listdir(os.path.join('./drive/MyDrive/Seedling_Classification/train/',s )))\n",
    "    print('{} data for - {} category'.format(count,s))\n",
    "    print_data[s] = count\n",
    "    \n",
    "plt.figure(figsize=(23, 8))  \n",
    "sns.barplot(list(print_data.keys()), list(print_data.values()))"
   ]
  },
  {
   "cell_type": "code",
   "execution_count": null,
   "metadata": {
    "colab": {
     "base_uri": "https://localhost:8080/"
    },
    "id": "fQyiUJzBxWFT",
    "outputId": "75e7f1c5-fda5-41b2-e88e-8187f121234e"
   },
   "outputs": [
    {
     "name": "stdout",
     "output_type": "stream",
     "text": [
      "(4750, 240, 240, 3) (4750, 12)\n"
     ]
    }
   ],
   "source": [
    "LabelEncode = preprocessing.LabelEncoder()\n",
    "LabelEncode.fit(training_label[0])\n",
    "new_label = LabelEncode.transform(training_label[0])\n",
    "clearalllabels = np_utils.to_categorical(new_label)\n",
    "\n",
    "print(training_data.shape, clearalllabels.shape)"
   ]
  },
  {
   "cell_type": "markdown",
   "metadata": {
    "id": "DDxGO7KkxpUG"
   },
   "source": [
    "Before Normalization"
   ]
  },
  {
   "cell_type": "code",
   "execution_count": null,
   "metadata": {
    "colab": {
     "base_uri": "https://localhost:8080/"
    },
    "id": "zObyJBt3xonA",
    "outputId": "02ed35ae-469a-43c6-85cd-ed59deefe75e"
   },
   "outputs": [
    {
     "data": {
      "text/plain": [
       "array([[ 62,  82, 102],\n",
       "       [ 55,  82, 102],\n",
       "       [ 49,  80,  96],\n",
       "       [ 44,  69,  91],\n",
       "       [ 47,  60,  82],\n",
       "       [ 55,  66,  85],\n",
       "       [ 46,  54,  70],\n",
       "       [ 48,  58,  75],\n",
       "       [ 44,  61,  81],\n",
       "       [ 46,  73,  92],\n",
       "       [ 44,  73,  88],\n",
       "       [ 47,  72,  89],\n",
       "       [ 54,  75,  96],\n",
       "       [ 41,  61,  84],\n",
       "       [ 41,  58,  77],\n",
       "       [ 53,  68,  85],\n",
       "       [ 63,  78,  94],\n",
       "       [ 78,  94, 110],\n",
       "       [ 92, 108, 122],\n",
       "       [100, 116, 128],\n",
       "       [105, 121, 128],\n",
       "       [ 86, 102, 118],\n",
       "       [ 84, 100, 115],\n",
       "       [ 86, 102, 118],\n",
       "       [ 80,  97, 117],\n",
       "       [ 73,  93, 111],\n",
       "       [ 68,  88, 100],\n",
       "       [ 55,  68,  82],\n",
       "       [ 31,  43,  58],\n",
       "       [ 31,  42,  55],\n",
       "       [ 30,  40,  51],\n",
       "       [ 36,  46,  58],\n",
       "       [ 45,  54,  71],\n",
       "       [ 42,  58,  70],\n",
       "       [ 44,  58,  72],\n",
       "       [ 37,  52,  68],\n",
       "       [ 32,  44,  61],\n",
       "       [ 27,  35,  56],\n",
       "       [ 58,  78,  94],\n",
       "       [ 58,  81, 100],\n",
       "       [ 59,  79,  97],\n",
       "       [ 63,  84,  97],\n",
       "       [ 69,  88, 100],\n",
       "       [ 67,  83,  98],\n",
       "       [ 38,  50,  74],\n",
       "       [ 53,  69,  82],\n",
       "       [ 61,  74,  89],\n",
       "       [ 64,  75,  86],\n",
       "       [ 59,  68,  85],\n",
       "       [ 55,  66,  83],\n",
       "       [ 55,  70,  84],\n",
       "       [ 56,  71,  83],\n",
       "       [ 54,  68,  86],\n",
       "       [ 48,  69,  95],\n",
       "       [ 94, 117, 135],\n",
       "       [107, 131, 152],\n",
       "       [114, 145, 162],\n",
       "       [118, 147, 165],\n",
       "       [112, 138, 160],\n",
       "       [107, 137, 158],\n",
       "       [105, 137, 159],\n",
       "       [105, 135, 150],\n",
       "       [ 96, 118, 136],\n",
       "       [ 64,  84, 106],\n",
       "       [ 83, 102, 121],\n",
       "       [ 77,  96, 116],\n",
       "       [ 81, 100, 121],\n",
       "       [ 81,  98, 120],\n",
       "       [ 88, 104, 125],\n",
       "       [ 81,  96, 118],\n",
       "       [ 77,  94, 111],\n",
       "       [ 76,  94, 106],\n",
       "       [ 72,  89, 103],\n",
       "       [ 48,  66,  78],\n",
       "       [ 39,  53,  72],\n",
       "       [ 41,  55,  78],\n",
       "       [ 41,  59,  84],\n",
       "       [ 48,  64,  86],\n",
       "       [ 52,  66,  88],\n",
       "       [ 44,  60,  79],\n",
       "       [ 68,  82,  96],\n",
       "       [ 43,  52,  67],\n",
       "       [ 45,  56,  70],\n",
       "       [ 38,  56,  74],\n",
       "       [ 67,  83,  98],\n",
       "       [ 66,  84,  99],\n",
       "       [ 61,  79,  94],\n",
       "       [ 50,  69,  86],\n",
       "       [ 47,  60,  78],\n",
       "       [ 29,  31,  59],\n",
       "       [ 36,  44,  66],\n",
       "       [ 63,  76,  91],\n",
       "       [ 47,  60,  79],\n",
       "       [ 56,  69,  84],\n",
       "       [ 58,  70,  84],\n",
       "       [ 53,  66,  80],\n",
       "       [ 48,  59,  73],\n",
       "       [ 56,  63,  76],\n",
       "       [ 61,  70,  82],\n",
       "       [ 61,  72,  83],\n",
       "       [ 58,  69,  80],\n",
       "       [ 47,  56,  72],\n",
       "       [ 53,  62,  75],\n",
       "       [ 56,  62,  79],\n",
       "       [ 54,  67,  86],\n",
       "       [ 56,  79, 100],\n",
       "       [ 73,  90, 108],\n",
       "       [ 72,  87, 106],\n",
       "       [ 70,  86, 107],\n",
       "       [ 71,  87, 108],\n",
       "       [ 73,  92, 111],\n",
       "       [ 66,  87, 104],\n",
       "       [ 59,  76,  97],\n",
       "       [ 64,  77,  97],\n",
       "       [ 83,  93, 112],\n",
       "       [ 66,  76, 101],\n",
       "       [ 66,  78, 101],\n",
       "       [ 51,  67,  88],\n",
       "       [ 48,  65,  87],\n",
       "       [ 52,  71,  94],\n",
       "       [ 45,  66,  90],\n",
       "       [ 44,  68,  90],\n",
       "       [ 47,  71,  92],\n",
       "       [ 51,  73,  93],\n",
       "       [ 57,  74,  93],\n",
       "       [ 60,  77,  99],\n",
       "       [ 53,  76,  97],\n",
       "       [ 57,  79,  99],\n",
       "       [ 42,  57,  82],\n",
       "       [ 39,  50,  72],\n",
       "       [ 43,  52,  71],\n",
       "       [ 39,  50,  68],\n",
       "       [ 34,  49,  68],\n",
       "       [ 32,  48,  69],\n",
       "       [ 28,  47,  69],\n",
       "       [ 37,  56,  77],\n",
       "       [ 48,  70,  91],\n",
       "       [ 43,  67,  90],\n",
       "       [ 39,  63,  90],\n",
       "       [ 39,  64,  89],\n",
       "       [ 36,  61,  85],\n",
       "       [ 39,  62,  84],\n",
       "       [ 42,  65,  86],\n",
       "       [ 44,  68,  87],\n",
       "       [ 42,  64,  84],\n",
       "       [ 28,  40,  63],\n",
       "       [ 19,  34,  51],\n",
       "       [ 14,  31,  50],\n",
       "       [ 32,  50,  74],\n",
       "       [ 33,  51,  77],\n",
       "       [ 23,  46,  72],\n",
       "       [ 43,  70,  93],\n",
       "       [ 44,  71,  96],\n",
       "       [ 37,  61,  79],\n",
       "       [ 46,  64,  82],\n",
       "       [ 54,  72,  88],\n",
       "       [ 60,  81,  92],\n",
       "       [ 20,  40,  59],\n",
       "       [ 32,  45,  63],\n",
       "       [ 29,  40,  59],\n",
       "       [ 31,  46,  63],\n",
       "       [ 43,  56,  69],\n",
       "       [ 38,  52,  67],\n",
       "       [ 38,  53,  71],\n",
       "       [ 30,  44,  62],\n",
       "       [ 42,  53,  70],\n",
       "       [ 43,  57,  72],\n",
       "       [ 27,  42,  60],\n",
       "       [ 29,  46,  66],\n",
       "       [ 42,  60,  78],\n",
       "       [ 42,  60,  78],\n",
       "       [ 43,  59,  79],\n",
       "       [ 34,  58,  74],\n",
       "       [ 14,  31,  52],\n",
       "       [ 40,  53,  68],\n",
       "       [ 45,  63,  83],\n",
       "       [ 49,  70,  87],\n",
       "       [ 72,  91, 106],\n",
       "       [ 69,  89, 105],\n",
       "       [ 75,  90, 108],\n",
       "       [ 74,  87, 106],\n",
       "       [ 86,  99, 115],\n",
       "       [ 86,  96, 112],\n",
       "       [ 83,  95, 108],\n",
       "       [ 75,  87, 104],\n",
       "       [ 75,  89, 105],\n",
       "       [ 79,  95, 109],\n",
       "       [ 87, 102, 115],\n",
       "       [ 91, 102, 114],\n",
       "       [ 91, 105, 111],\n",
       "       [ 85,  95, 107],\n",
       "       [ 45,  54,  75],\n",
       "       [ 42,  54,  74],\n",
       "       [ 36,  49,  69],\n",
       "       [ 55,  67,  84],\n",
       "       [ 55,  70,  88],\n",
       "       [ 56,  68,  87],\n",
       "       [ 59,  67,  86],\n",
       "       [ 61,  72,  93],\n",
       "       [109, 132, 147],\n",
       "       [120, 142, 156],\n",
       "       [106, 126, 146],\n",
       "       [105, 125, 143],\n",
       "       [103, 127, 142],\n",
       "       [ 86, 108, 126],\n",
       "       [ 67,  89, 109],\n",
       "       [ 63,  79,  99],\n",
       "       [ 28,  54,  84],\n",
       "       [ 29,  56,  82],\n",
       "       [ 48,  69,  89],\n",
       "       [ 57,  74,  93],\n",
       "       [ 61,  75,  93],\n",
       "       [ 60,  73,  89],\n",
       "       [ 67,  80,  93],\n",
       "       [ 56,  71,  86],\n",
       "       [ 56,  70,  84],\n",
       "       [ 43,  58,  74],\n",
       "       [ 52,  68,  85],\n",
       "       [ 69,  83, 100],\n",
       "       [ 49,  64,  83],\n",
       "       [ 40,  53,  77],\n",
       "       [ 45,  61,  83],\n",
       "       [ 53,  69,  86],\n",
       "       [ 52,  66,  83],\n",
       "       [ 33,  52,  74],\n",
       "       [ 38,  51,  77],\n",
       "       [ 48,  63,  81],\n",
       "       [ 52,  67,  84],\n",
       "       [ 55,  68,  88],\n",
       "       [ 57,  71,  90],\n",
       "       [ 65,  77,  95],\n",
       "       [ 65,  78,  97],\n",
       "       [ 60,  74,  92],\n",
       "       [ 55,  69,  87],\n",
       "       [ 61,  76,  92],\n",
       "       [ 65,  82,  97],\n",
       "       [ 62,  79,  93],\n",
       "       [ 67,  83,  97],\n",
       "       [ 59,  73,  88],\n",
       "       [ 62,  69,  88]], dtype=uint8)"
      ]
     },
     "execution_count": 17,
     "metadata": {
      "tags": []
     },
     "output_type": "execute_result"
    }
   ],
   "source": [
    "training_data[1][1]"
   ]
  },
  {
   "cell_type": "markdown",
   "metadata": {
    "id": "OIqRuFqsth-B"
   },
   "source": [
    "Split the data"
   ]
  },
  {
   "cell_type": "code",
   "execution_count": null,
   "metadata": {
    "colab": {
     "base_uri": "https://localhost:8080/"
    },
    "id": "ToWH7OdRtKMg",
    "outputId": "16f6a00f-0158-4da4-f685-bd33474ec9de"
   },
   "outputs": [
    {
     "name": "stdout",
     "output_type": "stream",
     "text": [
      "(3800, 240, 240, 3) (950, 240, 240, 3) (3800, 12) (950, 12)\n"
     ]
    }
   ],
   "source": [
    "from sklearn.model_selection import train_test_split\n",
    "x_train,x_test,y_train,y_test = train_test_split(training_data,clearalllabels,test_size=0.2,random_state=1,stratify=clearalllabels)\n",
    "\n",
    "print(x_train.shape,x_test.shape,y_train.shape,y_test.shape)"
   ]
  },
  {
   "cell_type": "code",
   "execution_count": null,
   "metadata": {
    "colab": {
     "base_uri": "https://localhost:8080/"
    },
    "id": "6OiG4U8Wtlti",
    "outputId": "3d44f7a8-c6fc-4964-861c-25f0d794c586"
   },
   "outputs": [
    {
     "data": {
      "text/plain": [
       "(240, 240, 3)"
      ]
     },
     "execution_count": 19,
     "metadata": {
      "tags": []
     },
     "output_type": "execute_result"
    }
   ],
   "source": [
    "x_train.shape[1:]  #Dimensions of the image"
   ]
  },
  {
   "cell_type": "markdown",
   "metadata": {
    "id": "GJDZ3cJ5yHvI"
   },
   "source": [
    "Normalization of the data"
   ]
  },
  {
   "cell_type": "code",
   "execution_count": null,
   "metadata": {
    "id": "YCuqXv38yETW"
   },
   "outputs": [],
   "source": [
    "x_train = x_train.astype('float32') / 255\n",
    "x_test = x_test.astype('float32') / 255 "
   ]
  },
  {
   "cell_type": "code",
   "execution_count": null,
   "metadata": {
    "colab": {
     "base_uri": "https://localhost:8080/",
     "height": 285
    },
    "id": "LBu038rgyLIz",
    "outputId": "a0a7532b-ed26-46f9-9dd4-866974ca1808"
   },
   "outputs": [
    {
     "data": {
      "text/plain": [
       "<matplotlib.image.AxesImage at 0x7ff887e6b860>"
      ]
     },
     "execution_count": 21,
     "metadata": {
      "tags": []
     },
     "output_type": "execute_result"
    },
    {
     "data": {
      "image/png": "[encoded data removed]",
      "text/plain": [
       "<Figure size 432x288 with 1 Axes>"
      ]
     },
     "metadata": {
      "needs_background": "light",
      "tags": []
     },
     "output_type": "display_data"
    }
   ],
   "source": [
    "plt.imshow(x_train[0])"
   ]
  },
  {
   "cell_type": "code",
   "execution_count": null,
   "metadata": {
    "id": "Wx93PanhyOPa"
   },
   "outputs": [],
   "source": [
    "data_generator = ImageDataGenerator(rotation_range=20,\n",
    "                                    zoom_range=0.2,\n",
    "                                    width_shift_range=0.2,\n",
    "                                    height_shift_range=0.2,\n",
    "                                    horizontal_flip=True,\n",
    "                                    vertical_flip=True,\n",
    "    )"
   ]
  },
  {
   "cell_type": "code",
   "execution_count": null,
   "metadata": {
    "id": "DZL4aUjhyWjj"
   },
   "outputs": [],
   "source": [
    "data_generator.fit(x_train) \n"
   ]
  },
  {
   "cell_type": "code",
   "execution_count": null,
   "metadata": {
    "colab": {
     "base_uri": "https://localhost:8080/",
     "height": 88
    },
    "id": "ALHL5znsyXzU",
    "outputId": "d4ca0476-0356-471c-cb49-a63b03dd376f"
   },
   "outputs": [
    {
     "data": {
      "image/png": "[encoded data removed]",
      "text/plain": [
       "<Figure size 432x288 with 5 Axes>"
      ]
     },
     "metadata": {
      "needs_background": "light",
      "tags": []
     },
     "output_type": "display_data"
    }
   ],
   "source": [
    "#Augmented Images\n",
    "from matplotlib import pyplot as plt\n",
    "gen = data_generator.flow(x_train[0:1], batch_size=1)\n",
    "for i in range(1, 6):\n",
    "    plt.subplot(1,5,i)\n",
    "    plt.axis(\"off\")\n",
    "    plt.imshow(gen.next().squeeze(), cmap='gray')\n",
    "    plt.plot()\n",
    "plt.show()"
   ]
  },
  {
   "cell_type": "markdown",
   "metadata": {
    "id": "louJSzPWye8T"
   },
   "source": [
    "Build the Model and summarize the model"
   ]
  },
  {
   "cell_type": "code",
   "execution_count": null,
   "metadata": {
    "id": "KROt7PmJycks"
   },
   "outputs": [],
   "source": [
    "import tensorflow as tf\n"
   ]
  },
  {
   "cell_type": "code",
   "execution_count": null,
   "metadata": {
    "colab": {
     "base_uri": "https://localhost:8080/"
    },
    "id": "F-7Q9TeXBnLW",
    "outputId": "84958adf-0deb-42b2-907a-71b7b0f089ec"
   },
   "outputs": [
    {
     "data": {
      "text/plain": [
       "(3800, 240, 240, 3)"
      ]
     },
     "execution_count": 44,
     "metadata": {
      "tags": []
     },
     "output_type": "execute_result"
    }
   ],
   "source": [
    "x_train.shape"
   ]
  },
  {
   "cell_type": "markdown",
   "metadata": {
    "id": "k8AkTQd3a3ih"
   },
   "source": [
    "Neural Networks Model"
   ]
  },
  {
   "cell_type": "code",
   "execution_count": null,
   "metadata": {
    "id": "GDYBsUJ-xs-Q"
   },
   "outputs": [],
   "source": [
    "tf.keras.backend.clear_session()\n",
    "model_NN = tf.keras.models.Sequential()\n",
    "#model_NN.add(tf.keras.layers.Reshape((1024,),input_shape=(32,32)))\n",
    "model_NN.add(tf.keras.layers.BatchNormalization())\n",
    "model_NN.add(Flatten())\n",
    "#Dense layer\n",
    "#adding 1 st dense layer\n",
    "model_NN.add(Dense(100, activation='relu'))\n",
    "model_NN.add(BatchNormalization())\n",
    "model_NN.add(Dropout(0.5))\n",
    "#adding 2 nd dense layer\n",
    "model_NN.add(Dense(50, activation='relu'))\n",
    "model_NN.add(BatchNormalization())\n",
    "model_NN.add(Dropout(0.5))\n",
    "#adding dense layer with same output as no of cateogries, in our case 12 category with softmax function\n",
    "model_NN.add(Dense(12, activation='softmax'))"
   ]
  },
  {
   "cell_type": "code",
   "execution_count": null,
   "metadata": {
    "id": "S0fIsOLYCLIt"
   },
   "outputs": [],
   "source": [
    "model_NN.compile(optimizer='adam', loss='categorical_crossentropy', metrics=['accuracy'])"
   ]
  },
  {
   "cell_type": "code",
   "execution_count": null,
   "metadata": {
    "colab": {
     "base_uri": "https://localhost:8080/"
    },
    "id": "7S57mcbjCH96",
    "outputId": "84bf8c89-7514-4458-c1a5-59b31dcd1005"
   },
   "outputs": [
    {
     "name": "stdout",
     "output_type": "stream",
     "text": [
      "Epoch 1/10\n",
      "127/127 [==============================] - 59s 453ms/step - loss: 3.2935 - accuracy: 0.1027 - val_loss: 2.4574 - val_accuracy: 0.1074\n",
      "Epoch 2/10\n",
      "127/127 [==============================] - 58s 457ms/step - loss: 2.5448 - accuracy: 0.1977 - val_loss: 2.2642 - val_accuracy: 0.2137\n",
      "Epoch 3/10\n",
      "127/127 [==============================] - 61s 484ms/step - loss: 2.1780 - accuracy: 0.2772 - val_loss: 1.9343 - val_accuracy: 0.3316\n",
      "Epoch 4/10\n",
      "127/127 [==============================] - 58s 453ms/step - loss: 1.9431 - accuracy: 0.3380 - val_loss: 1.6948 - val_accuracy: 0.4463\n",
      "Epoch 5/10\n",
      "127/127 [==============================] - 58s 454ms/step - loss: 1.7807 - accuracy: 0.3941 - val_loss: 1.5880 - val_accuracy: 0.4568\n",
      "Epoch 6/10\n",
      "127/127 [==============================] - 57s 452ms/step - loss: 1.6400 - accuracy: 0.4288 - val_loss: 1.5180 - val_accuracy: 0.4863\n",
      "Epoch 7/10\n",
      "127/127 [==============================] - ETA: 0s - loss: 1.5618 - accuracy: 0.4650Epoch 8/10\n",
      "127/127 [==============================] - 58s 454ms/step - loss: 1.4614 - accuracy: 0.4882 - val_loss: 1.4556 - val_accuracy: 0.4968\n",
      "Epoch 9/10\n",
      "127/127 [==============================] - 57s 448ms/step - loss: 1.4421 - accuracy: 0.4988 - val_loss: 1.4367 - val_accuracy: 0.4968\n",
      "Epoch 10/10\n",
      "127/127 [==============================] - 57s 449ms/step - loss: 1.3883 - accuracy: 0.5185 - val_loss: 1.4137 - val_accuracy: 0.4958\n"
     ]
    },
    {
     "data": {
      "text/plain": [
       "<tensorflow.python.keras.callbacks.History at 0x7ff881bfa668>"
      ]
     },
     "execution_count": 51,
     "metadata": {
      "tags": []
     },
     "output_type": "execute_result"
    }
   ],
   "source": [
    "model_NN.fit(x_train, y_train, validation_data=(x_test,y_test),epochs=10,batch_size=30)"
   ]
  },
  {
   "cell_type": "code",
   "execution_count": null,
   "metadata": {
    "colab": {
     "base_uri": "https://localhost:8080/"
    },
    "id": "i9rnk6EoyOYm",
    "outputId": "29d0b21d-e6cb-43a6-c04c-dcd8ffff11cf"
   },
   "outputs": [
    {
     "name": "stdout",
     "output_type": "stream",
     "text": [
      "30/30 [==============================] - 3s 84ms/step - loss: 1.4137 - accuracy: 0.4958\n",
      "119/119 [==============================] - 10s 83ms/step - loss: 0.8953 - accuracy: 0.7334\n",
      "Test score: 1.4137227535247803    Test accuracy: 0.49578946828842163\n",
      "Train score: 0.895281195640564    Train accuracy: 0.7334210276603699\n"
     ]
    }
   ],
   "source": [
    "#Final score and accuracy of the model\n",
    "score, acc = model_NN.evaluate(x_test,y_test)\n",
    "score1, acc1 = model_NN.evaluate(x_train,y_train)\n",
    "print('Test score:', score,'   Test accuracy:', acc)\n",
    "print('Train score:', score1,'   Train accuracy:',acc1)"
   ]
  },
  {
   "cell_type": "markdown",
   "metadata": {
    "id": "gdQgVy-IEljS"
   },
   "source": [
    "Test accuracy is around 49.5% only with Neural networks"
   ]
  },
  {
   "cell_type": "markdown",
   "metadata": {
    "id": "cHVCUfz4a84a"
   },
   "source": [
    "CNN Model:"
   ]
  },
  {
   "cell_type": "code",
   "execution_count": null,
   "metadata": {
    "id": "IOWXpeEDyjGG"
   },
   "outputs": [],
   "source": [
    "tf.keras.backend.clear_session()\n",
    "#initialising sequential model\n",
    "model_CNN = Sequential()\n",
    "#adding 1st convolution layer with 64 filter and imput shape 240 x240x3 with relu function\n",
    "model_CNN.add(Conv2D(filters=64, kernel_size=(3, 3), input_shape=(240, 240, 3), activation='relu'))\n",
    "#normalising batch\n",
    "model_CNN.add(BatchNormalization(axis=3))\n",
    "#adding 2nd convolution layer with 64 filters\n",
    "model_CNN.add(Conv2D(filters=64, kernel_size=(3, 3), activation='relu'))\n",
    "#maxpooling\n",
    "model_CNN.add(MaxPooling2D((2, 2)))\n",
    "#normalising batch\n",
    "model_CNN.add(BatchNormalization(axis=3))\n",
    "model_CNN.add(Dropout(0.1))\n",
    "#adding 3rd convolution layer with 32 filters\n",
    "model_CNN.add(Conv2D(filters=32, kernel_size=(3, 3), activation='relu'))\n",
    "#normalising batch\n",
    "model_CNN.add(BatchNormalization(axis=3))\n",
    "#adding 4th convolution layer with 32 filters\n",
    "model_CNN.add(Conv2D(filters=32, kernel_size=(3, 3), activation='relu'))\n",
    "#maxpooling\n",
    "model_CNN.add(MaxPooling2D((2, 2)))\n",
    "#normalising batch\n",
    "model_CNN.add(BatchNormalization(axis=3))\n",
    "model_CNN.add(Dropout(0.1))\n",
    "# Global Max pooling layer\n",
    "model_CNN.add(GlobalMaxPool2D())\n",
    "\n",
    "#adding dense layer with same output as no of cateogries, in our case 12 category with softmax function\n",
    "model_CNN.add(Dense(12, activation='softmax'))"
   ]
  },
  {
   "cell_type": "code",
   "execution_count": null,
   "metadata": {
    "colab": {
     "base_uri": "https://localhost:8080/"
    },
    "id": "0PaENaGIy-RO",
    "outputId": "a82d330d-c1a0-4d75-ea1f-1a4ace04c449"
   },
   "outputs": [
    {
     "name": "stdout",
     "output_type": "stream",
     "text": [
      "Model: \"sequential\"\n",
      "_________________________________________________________________\n",
      "Layer (type)                 Output Shape              Param #   \n",
      "=================================================================\n",
      "conv2d (Conv2D)              (None, 238, 238, 64)      1792      \n",
      "_________________________________________________________________\n",
      "batch_normalization (BatchNo (None, 238, 238, 64)      256       \n",
      "_________________________________________________________________\n",
      "conv2d_1 (Conv2D)            (None, 236, 236, 64)      36928     \n",
      "_________________________________________________________________\n",
      "max_pooling2d (MaxPooling2D) (None, 118, 118, 64)      0         \n",
      "_________________________________________________________________\n",
      "batch_normalization_1 (Batch (None, 118, 118, 64)      256       \n",
      "_________________________________________________________________\n",
      "dropout (Dropout)            (None, 118, 118, 64)      0         \n",
      "_________________________________________________________________\n",
      "conv2d_2 (Conv2D)            (None, 116, 116, 32)      18464     \n",
      "_________________________________________________________________\n",
      "batch_normalization_2 (Batch (None, 116, 116, 32)      128       \n",
      "_________________________________________________________________\n",
      "conv2d_3 (Conv2D)            (None, 114, 114, 32)      9248      \n",
      "_________________________________________________________________\n",
      "max_pooling2d_1 (MaxPooling2 (None, 57, 57, 32)        0         \n",
      "_________________________________________________________________\n",
      "batch_normalization_3 (Batch (None, 57, 57, 32)        128       \n",
      "_________________________________________________________________\n",
      "dropout_1 (Dropout)          (None, 57, 57, 32)        0         \n",
      "_________________________________________________________________\n",
      "global_max_pooling2d (Global (None, 32)                0         \n",
      "_________________________________________________________________\n",
      "dense (Dense)                (None, 12)                396       \n",
      "=================================================================\n",
      "Total params: 67,596\n",
      "Trainable params: 67,212\n",
      "Non-trainable params: 384\n",
      "_________________________________________________________________\n"
     ]
    }
   ],
   "source": [
    "model_CNN.summary()"
   ]
  },
  {
   "cell_type": "code",
   "execution_count": null,
   "metadata": {
    "id": "DyuOSTKfzBLT"
   },
   "outputs": [],
   "source": [
    "model_CNN.compile(optimizer='adam', loss='categorical_crossentropy', metrics=['accuracy'])"
   ]
  },
  {
   "cell_type": "markdown",
   "metadata": {
    "id": "lZteio51eJpv"
   },
   "source": []
  },
  {
   "cell_type": "code",
   "execution_count": null,
   "metadata": {
    "colab": {
     "base_uri": "https://localhost:8080/"
    },
    "id": "TEz9ieCKzPwo",
    "outputId": "e3e9d455-5ad7-462b-9204-533277166f81"
   },
   "outputs": [
    {
     "name": "stderr",
     "output_type": "stream",
     "text": [
      "/usr/local/lib/python3.6/dist-packages/tensorflow/python/keras/engine/training.py:1844: UserWarning: `Model.fit_generator` is deprecated and will be removed in a future version. Please use `Model.fit`, which supports generators.\n",
      "  warnings.warn('`Model.fit_generator` is deprecated and '\n"
     ]
    },
    {
     "name": "stdout",
     "output_type": "stream",
     "text": [
      "Epoch 1/20\n",
      "238/238 [==============================] - 2031s 9s/step - loss: 1.1573 - accuracy: 0.6142 - val_loss: 2.5188 - val_accuracy: 0.2389\n",
      "Epoch 2/20\n",
      "135/238 [================>.............] - ETA: 13:43 - loss: 1.0886 - accuracy: 0.6385"
     ]
    }
   ],
   "source": [
    "model_CNN.fit_generator(data_generator.flow(x_train,y_train,batch_size=16),epochs=20,\n",
    "          validation_data=(x_test,y_test))"
   ]
  },
  {
   "cell_type": "code",
   "execution_count": null,
   "metadata": {
    "id": "mRu8AFlKzS-G"
   },
   "outputs": [],
   "source": [
    "#Final score and accuracy of the model\n",
    "score_cnn, acc_cnn = model_CNN.evaluate(x_test,y_test)\n",
    "score1_cnn, acc1_cnn = model_CNN.evaluate(x_train,y_train)\n",
    "print('Test score:', score_cnn,'   Test accuracy:', acc_cnn)\n",
    "print('Train score:', score1_cnn,'   Train accuracy:',acc1_cnn)"
   ]
  },
  {
   "cell_type": "markdown",
   "metadata": {
    "id": "TdXf6jXfjwQe"
   },
   "source": [
    "It is not feasible to do image classification with Supervised learning techniques. Comparing the results from Neural Networks and CNN we see CNN is performing better in classifying images"
   ]
  },
  {
   "cell_type": "code",
   "execution_count": null,
   "metadata": {
    "id": "WVzureked1Or"
   },
   "outputs": [],
   "source": [
    "#Applying callback to find the best model"
   ]
  },
  {
   "cell_type": "code",
   "execution_count": null,
   "metadata": {
    "id": "2FvgP7eDd6LX"
   },
   "outputs": [],
   "source": [
    "best_cb= callbacks.ModelCheckpoint('model_best_cb.h5', \n",
    "                                         monitor='val_accuracy', \n",
    "                                         verbose=1, \n",
    "                                         save_best_only=True, \n",
    "                                         save_weights_only=False, \n",
    "                                         mode='auto', \n",
    "                                         period=1)\n",
    "\n",
    "opt= keras.optimizers.Adam(lr=0.0005, amsgrad=True)"
   ]
  },
  {
   "cell_type": "code",
   "execution_count": null,
   "metadata": {
    "id": "VSdisZgneB34"
   },
   "outputs": [],
   "source": [
    "history = model_CNN.fit_generator(\n",
    "                    train_generator,\n",
    "                    class_weight= class_weight,\n",
    "                    steps_per_epoch= 190,\n",
    "                    epochs=60,\n",
    "                    validation_data=validation_generator,\n",
    "                    validation_steps= 48,\n",
    "                    verbose=1,\n",
    "                    callbacks= [best_cb])"
   ]
  },
  {
   "cell_type": "code",
   "execution_count": null,
   "metadata": {
    "id": "Xrd6UpgcenyQ"
   },
   "outputs": [],
   "source": [
    "#loading the best model from training\n",
    "model= models.load_model('model_best_cb.h5')"
   ]
  },
  {
   "cell_type": "code",
   "execution_count": null,
   "metadata": {
    "id": "tthRm8QZevUg"
   },
   "outputs": [],
   "source": [
    "import pickle\n",
    "#save history\n",
    "with open('model_history.pkl', 'wb') as f:\n",
    "    pickle.dump(history, f)"
   ]
  },
  {
   "cell_type": "code",
   "execution_count": null,
   "metadata": {
    "id": "q_7hNYgde2K7"
   },
   "outputs": [],
   "source": [
    "# Graph on training and validation accuracy, training and validation loss\n",
    "acc = history.history['accuracy']\n",
    "val_acc = history.history['val_accuracy']\n",
    "loss = history.history['loss']\n",
    "val_loss = history.history['val_loss']\n",
    "epochs = range(1, len(acc) + 1)\n",
    "plt.figure()\n",
    "plt.plot(epochs, acc, 'bo', label='Training acc')\n",
    "plt.plot(epochs, val_acc, 'b', label='Validation acc')\n",
    "plt.title('Training and validation accuracy')\n",
    "plt.legend()\n",
    "plt.figure()\n",
    "plt.plot(epochs, loss, 'bo', label='Training loss')\n",
    "plt.plot(epochs, val_loss, 'b', label='Validation loss')\n",
    "plt.title('Training and validation loss')\n",
    "plt.legend()\n",
    "plt.show()"
   ]
  },
  {
   "cell_type": "code",
   "execution_count": null,
   "metadata": {
    "id": "DbcqI8qKcvet"
   },
   "outputs": [],
   "source": [
    "pred= model_CNN.predict_generator(test_generator, steps= test_generator.n, verbose=1)"
   ]
  },
  {
   "cell_type": "code",
   "execution_count": null,
   "metadata": {
    "id": "8-fdwplGc0-h"
   },
   "outputs": [],
   "source": [
    "predicted_class_indices=np.argmax(pred,axis=1)"
   ]
  },
  {
   "cell_type": "code",
   "execution_count": null,
   "metadata": {
    "id": "U_jEjRdFfG9x"
   },
   "outputs": [],
   "source": [
    "prediction_labels = [label_map[k] for k in predicted_class_indices]\n",
    "filenames= test_generator.filenames"
   ]
  },
  {
   "cell_type": "markdown",
   "metadata": {
    "id": "oxKTD_TPfOaO"
   },
   "source": [
    "Writing the results into output file"
   ]
  },
  {
   "cell_type": "code",
   "execution_count": null,
   "metadata": {
    "id": "_p5mEv3ec2OR"
   },
   "outputs": [],
   "source": [
    "import csv\n",
    "csvfile= open('ray_reed_submission.csv', 'w', newline='')\n",
    "writer= csv.writer(csvfile)\n",
    "\n",
    "headers= ['file', 'species']\n",
    "\n",
    "writer.writerow(headers)\n",
    "t = PrettyTable(headers)\n",
    "for i, f, p in zip(range(len(filenames)), filenames, prediction_labels):\n",
    "    writer.writerow([os.path.basename(f),p])\n",
    "    if i <10:\n",
    "        t.add_row([os.path.basename(f), p])\n",
    "    elif i<13:\n",
    "        t.add_row(['.', '.'])\n",
    "csvfile.close()\n",
    "print(t)"
   ]
  },
  {
   "cell_type": "markdown",
   "metadata": {
    "id": "YCu40OHdtimO"
   },
   "source": [
    "**PART TWO**\n",
    "\n",
    "TASK: Explain in depth why CNN out performs neural networks which in turn out perform supervised learning\n",
    "models when it comes to image classification. Use the markdown option in Jupiter for your answer."
   ]
  },
  {
   "cell_type": "markdown",
   "metadata": {
    "id": "JCDXMTCStwj2"
   },
   "source": [
    "Answer:\n",
    "\n",
    "1) We do not flatten the input in CNN so neighbourhood information is not lost where as in the neural networks or the fully connected, we flatten the input by reducing it to one dimension so the neighbourhood info is lost\n",
    "\n",
    "2) We have smaller number of weights in CNN. For example in 300 x 300 x 3 Input data, Consider Fully Connected Layer with 200 Neurons, Weights would be 200 * 300 * 300 * 3 which is 54M where as if we consider a convolution layer in the same case, 200 Filters, 3 x 3, with S=1, we see the weights is calculated to 200 * 3 * 3 * 3 = 5.4KB\n",
    "\n",
    "3) CNN uses spatial information using filters\n",
    "\n",
    "3) CNN is location invariant due to the convolution, only a small portion of the image is paid attention to at any given time unlike in neural networks where we consider the entire image every time\n",
    "\n",
    "4) In addition, size of the model is smaller when compared to fully connected networks therefore is portable\n",
    "\n",
    "5)CNN automatically detects important features from the images without human intervention\n",
    "\n",
    "6) System learns to do feature extraction and there is no need for us to do the feature extraction. CNN uses convolution of the image and filters to generate invariant features which are passed to the next layer. When it comes to further to the next layer, it uses differnet filters to generate more invariant and abstract features and this process continues till the final feature / ouput is obtained."
   ]
  },
  {
   "cell_type": "markdown",
   "metadata": {
    "id": "W2Nq0ZkaKR87"
   },
   "source": [
    "PART THREE"
   ]
  },
  {
   "cell_type": "markdown",
   "metadata": {
    "id": "mK5_cmL2MS6w"
   },
   "source": [
    "Challenges faced:\n",
    "1) Training data is very little\n",
    "\n",
    "2) Car model details are present in the car nor does the training data has label/tag/class details marked unfront\n",
    "\n",
    "3) It needs the data scientist some domain knowledge to understand the car manufacturer to label the images based on the company logo\n",
    "\n",
    "4) Logo of the manufacturer is in the front or back based on our domain knowledge but some of the cars are pictured in side pose where logos are not visible\n",
    "\n",
    "5) With our knowledge in the domain while we try to label ourselves we see the training data available for each label(manufacturer) is very very little(hardly 1 or 2). Also since the car model details are also not known it difficult to infer the model/manufacturers based on the car's features as well\n",
    "\n",
    "6) There is no testing data\n",
    "\n",
    "7) With very little images for each label, we get the following error with doing train test split also - \"ValueError: The least populated class in y has only 1 member, which is too few. The minimum number of groups for any class cannot be less than 2.\""
   ]
  },
  {
   "cell_type": "code",
   "execution_count": null,
   "metadata": {
    "id": "BJMj97PPUAqr"
   },
   "outputs": [],
   "source": [
    "import os\n",
    "for files in os.listdir(\"./drive/MyDrive/Automobiles/Train\"):\n",
    "  print(files)"
   ]
  },
  {
   "cell_type": "code",
   "execution_count": null,
   "metadata": {
    "id": "tZFmBR8YOBue"
   },
   "outputs": [],
   "source": [
    "Train_auto_Dir = './drive/MyDrive/Automobiles/Train/*/*.jpg'"
   ]
  },
  {
   "cell_type": "code",
   "execution_count": null,
   "metadata": {
    "id": "wY1yqjI2S393"
   },
   "outputs": [],
   "source": [
    "data = glob(Train_auto_Dir)\n",
    "\n",
    "training_auto_data=[]\n",
    "training_auto_label=[]"
   ]
  },
  {
   "cell_type": "code",
   "execution_count": null,
   "metadata": {
    "colab": {
     "base_uri": "https://localhost:8080/"
    },
    "id": "jgWFnhNNTMdB",
    "outputId": "3a42a035-9475-4162-abb0-74f7519a8c32"
   },
   "outputs": [
    {
     "name": "stdout",
     "output_type": "stream",
     "text": [
      "Reading Data\n",
      "Data Read Complete\n"
     ]
    }
   ],
   "source": [
    "print(\"Reading Data\")\n",
    "for d in data:\n",
    "    training_auto_data.append(cv2.resize(cv2.imread(d),(240,240)))\n",
    "    training_auto_label.append(d.split('/')[-2])\n",
    "print(\"Data Read Complete\")\n",
    "training_auto_data = np.asarray(training_auto_data)\n",
    "training_auto_label = pd.DataFrame(training_auto_label)"
   ]
  },
  {
   "cell_type": "code",
   "execution_count": null,
   "metadata": {
    "colab": {
     "base_uri": "https://localhost:8080/"
    },
    "id": "791V3rP3TWwQ",
    "outputId": "0c25c957-5c2e-42c6-f0c4-c723438ebdde"
   },
   "outputs": [
    {
     "data": {
      "text/plain": [
       "(15, 240, 240, 3)"
      ]
     },
     "execution_count": 27,
     "metadata": {
      "tags": []
     },
     "output_type": "execute_result"
    }
   ],
   "source": [
    "training_auto_data.shape"
   ]
  },
  {
   "cell_type": "code",
   "execution_count": null,
   "metadata": {
    "colab": {
     "base_uri": "https://localhost:8080/"
    },
    "id": "IG_gxrmgTeKP",
    "outputId": "e735f96a-54fb-405f-8235-bbc5d5f004ea"
   },
   "outputs": [
    {
     "name": "stdout",
     "output_type": "stream",
     "text": [
      "Size Of traning Data 15\n"
     ]
    }
   ],
   "source": [
    "print(\"Size Of traning Data\",len(training_auto_data))"
   ]
  },
  {
   "cell_type": "code",
   "execution_count": null,
   "metadata": {
    "colab": {
     "base_uri": "https://localhost:8080/"
    },
    "id": "OpdKOu35UkyC",
    "outputId": "723a16a6-c419-4f5d-973e-2299e579e573"
   },
   "outputs": [
    {
     "data": {
      "text/plain": [
       "array(['Toyota', 'Mitshubishi', 'Hyundai', 'Dodge', 'Chevrolet', 'Buick',\n",
       "       'Audi', 'Acura', 'Unknown'], dtype=object)"
      ]
     },
     "execution_count": 30,
     "metadata": {
      "tags": []
     },
     "output_type": "execute_result"
    }
   ],
   "source": [
    "training_auto_label[0].unique()"
   ]
  },
  {
   "cell_type": "code",
   "execution_count": null,
   "metadata": {
    "colab": {
     "base_uri": "https://localhost:8080/",
     "height": 725
    },
    "id": "JV54psHIU17l",
    "outputId": "9aee2063-a388-4608-ca98-9d7320166bfd"
   },
   "outputs": [
    {
     "name": "stdout",
     "output_type": "stream",
     "text": [
      "------ Data Contains----------\n",
      "1 data for - Acura category\n",
      "1 data for - Audi category\n",
      "1 data for - Buick category\n",
      "1 data for - Chevrolet category\n",
      "2 data for - Dodge category\n",
      "1 data for - Hyundai category\n",
      "1 data for - Mitshubishi category\n",
      "1 data for - Toyota category\n",
      "6 data for - Unknown category\n"
     ]
    },
    {
     "name": "stderr",
     "output_type": "stream",
     "text": [
      "/usr/local/lib/python3.6/dist-packages/seaborn/_decorators.py:43: FutureWarning: Pass the following variables as keyword args: x, y. From version 0.12, the only valid positional argument will be `data`, and passing other arguments without an explicit keyword will result in an error or misinterpretation.\n",
      "  FutureWarning\n"
     ]
    },
    {
     "data": {
      "text/plain": [
       "<matplotlib.axes._subplots.AxesSubplot at 0x7fdcf0b2c940>"
      ]
     },
     "execution_count": 32,
     "metadata": {
      "tags": []
     },
     "output_type": "execute_result"
    },
    {
     "data": {
      "image/png": "[encoded data removed]",
      "text/plain": [
       "<Figure size 1656x576 with 1 Axes>"
      ]
     },
     "metadata": {
      "needs_background": "light",
      "tags": []
     },
     "output_type": "display_data"
    }
   ],
   "source": [
    "category = ['Acura', 'Audi', 'Buick', 'Chevrolet',\n",
    "       'Dodge', 'Hyundai', 'Mitshubishi', 'Toyota',\n",
    "       'Unknown']\n",
    "print_data = {}\n",
    "\n",
    "print('------ Data Contains----------')\n",
    "\n",
    "for s in category:\n",
    "    count= len(os.listdir(os.path.join('./drive/MyDrive/Automobiles/Train/',s )))\n",
    "    print('{} data for - {} category'.format(count,s))\n",
    "    print_data[s] = count\n",
    "    \n",
    "plt.figure(figsize=(23, 8))  \n",
    "sns.barplot(list(print_data.keys()), list(print_data.values()))"
   ]
  },
  {
   "cell_type": "code",
   "execution_count": null,
   "metadata": {
    "colab": {
     "base_uri": "https://localhost:8080/"
    },
    "id": "5wuh3qH1VLAa",
    "outputId": "352a2d20-3166-4e80-ab40-4c0d5c480012"
   },
   "outputs": [
    {
     "name": "stdout",
     "output_type": "stream",
     "text": [
      "(15, 240, 240, 3) (15, 9)\n"
     ]
    }
   ],
   "source": [
    "LabelEncode = preprocessing.LabelEncoder()\n",
    "LabelEncode.fit(training_auto_label[0])\n",
    "new_auto_label = LabelEncode.transform(training_auto_label[0])\n",
    "clearalllabels = np_utils.to_categorical(new_auto_label)\n",
    "\n",
    "print(training_auto_data.shape, clearalllabels.shape)"
   ]
  },
  {
   "cell_type": "code",
   "execution_count": null,
   "metadata": {
    "colab": {
     "base_uri": "https://localhost:8080/"
    },
    "id": "inG2vhYkV5bP",
    "outputId": "26c917c6-6856-49d3-e6ba-b1e4c650d5a1"
   },
   "outputs": [
    {
     "data": {
      "text/plain": [
       "array([[158, 155, 170],\n",
       "       [157, 157, 174],\n",
       "       [142, 155, 153],\n",
       "       [212, 210, 216],\n",
       "       [143, 143, 152],\n",
       "       [172, 181, 187],\n",
       "       [152, 161, 165],\n",
       "       [137, 139, 147],\n",
       "       [ 76,  85,  88],\n",
       "       [219, 221, 231],\n",
       "       [144, 149, 154],\n",
       "       [145, 144, 153],\n",
       "       [233, 239, 245],\n",
       "       [209, 215, 216],\n",
       "       [187, 194, 197],\n",
       "       [218, 230, 228],\n",
       "       [ 80,  82,  96],\n",
       "       [ 66,  70,  82],\n",
       "       [181, 180, 189],\n",
       "       [203, 207, 208],\n",
       "       [106, 122, 120],\n",
       "       [185, 188, 193],\n",
       "       [199, 205, 210],\n",
       "       [208, 213, 218],\n",
       "       [137, 147, 147],\n",
       "       [152, 147, 162],\n",
       "       [218, 223, 228],\n",
       "       [230, 238, 238],\n",
       "       [213, 215, 221],\n",
       "       [131, 147, 147],\n",
       "       [237, 232, 238],\n",
       "       [171, 172, 181],\n",
       "       [249, 251, 254],\n",
       "       [231, 227, 240],\n",
       "       [ 95, 110, 111],\n",
       "       [237, 239, 244],\n",
       "       [152, 155, 169],\n",
       "       [209, 213, 223],\n",
       "       [249, 250, 253],\n",
       "       [248, 254, 254],\n",
       "       [231, 241, 244],\n",
       "       [237, 243, 248],\n",
       "       [178, 188, 193],\n",
       "       [226, 235, 238],\n",
       "       [188, 199, 203],\n",
       "       [215, 224, 229],\n",
       "       [223, 227, 230],\n",
       "       [216, 226, 233],\n",
       "       [233, 236, 241],\n",
       "       [241, 244, 247],\n",
       "       [242, 246, 248],\n",
       "       [235, 240, 245],\n",
       "       [243, 251, 251],\n",
       "       [207, 217, 220],\n",
       "       [150, 155, 159],\n",
       "       [136, 132, 138],\n",
       "       [186, 193, 190],\n",
       "       [144, 153, 162],\n",
       "       [193, 197, 204],\n",
       "       [175, 174, 185],\n",
       "       [232, 235, 239],\n",
       "       [241, 245, 246],\n",
       "       [247, 254, 254],\n",
       "       [246, 251, 251],\n",
       "       [223, 231, 235],\n",
       "       [225, 236, 239],\n",
       "       [193, 196, 205],\n",
       "       [170, 172, 182],\n",
       "       [148, 147, 156],\n",
       "       [123, 131, 138],\n",
       "       [182, 189, 196],\n",
       "       [140, 145, 146],\n",
       "       [205, 209, 215],\n",
       "       [196, 208, 210],\n",
       "       [174, 193, 198],\n",
       "       [208, 217, 220],\n",
       "       [222, 221, 230],\n",
       "       [226, 234, 241],\n",
       "       [217, 225, 227],\n",
       "       [187, 193, 199],\n",
       "       [164, 163, 172],\n",
       "       [179, 188, 186],\n",
       "       [182, 193, 192],\n",
       "       [ 96, 108, 110],\n",
       "       [236, 238, 245],\n",
       "       [ 47,  61,  67],\n",
       "       [133, 136, 142],\n",
       "       [241, 246, 249],\n",
       "       [ 62,  69,  73],\n",
       "       [219, 227, 228],\n",
       "       [196, 213, 212],\n",
       "       [203, 204, 207],\n",
       "       [175, 173, 181],\n",
       "       [212, 222, 231],\n",
       "       [180, 188, 197],\n",
       "       [224, 232, 239],\n",
       "       [136, 140, 149],\n",
       "       [140, 148, 154],\n",
       "       [181, 188, 197],\n",
       "       [120, 124, 134],\n",
       "       [233, 240, 244],\n",
       "       [201, 205, 210],\n",
       "       [231, 236, 245],\n",
       "       [245, 249, 252],\n",
       "       [252, 255, 255],\n",
       "       [246, 250, 251],\n",
       "       [188, 197, 200],\n",
       "       [225, 230, 233],\n",
       "       [236, 232, 238],\n",
       "       [163, 166, 167],\n",
       "       [113, 120, 126],\n",
       "       [130, 133, 138],\n",
       "       [232, 241, 244],\n",
       "       [ 84,  87,  91],\n",
       "       [ 91,  95,  96],\n",
       "       [151, 154, 164],\n",
       "       [193, 195, 206],\n",
       "       [232, 240, 243],\n",
       "       [250, 253, 254],\n",
       "       [237, 244, 247],\n",
       "       [241, 244, 251],\n",
       "       [215, 225, 225],\n",
       "       [172, 176, 181],\n",
       "       [197, 208, 216],\n",
       "       [236, 235, 238],\n",
       "       [230, 236, 239],\n",
       "       [127, 134, 141],\n",
       "       [204, 209, 216],\n",
       "       [224, 224, 230],\n",
       "       [205, 214, 219],\n",
       "       [218, 217, 224],\n",
       "       [236, 242, 246],\n",
       "       [221, 226, 229],\n",
       "       [248, 251, 253],\n",
       "       [251, 255, 255],\n",
       "       [240, 244, 247],\n",
       "       [233, 237, 242],\n",
       "       [194, 201, 213],\n",
       "       [244, 250, 253],\n",
       "       [156, 153, 163],\n",
       "       [ 75,  74,  84],\n",
       "       [ 76,  86,  89],\n",
       "       [ 60,  74,  74],\n",
       "       [ 83,  89, 102],\n",
       "       [ 82,  89,  93],\n",
       "       [ 50,  62,  69],\n",
       "       [ 77,  92,  99],\n",
       "       [ 48,  61,  69],\n",
       "       [ 79,  87,  92],\n",
       "       [ 24,  40,  43],\n",
       "       [ 56,  68,  72],\n",
       "       [ 46,  57,  54],\n",
       "       [ 89, 105, 106],\n",
       "       [ 83,  92,  99],\n",
       "       [ 87, 100, 102],\n",
       "       [ 62,  72,  79],\n",
       "       [ 62,  67,  77],\n",
       "       [ 83,  92, 108],\n",
       "       [ 93, 107, 119],\n",
       "       [ 68,  86,  96],\n",
       "       [ 81,  95, 112],\n",
       "       [ 48,  58,  68],\n",
       "       [ 62,  75,  91],\n",
       "       [ 94, 103, 111],\n",
       "       [ 61,  63,  65],\n",
       "       [ 18,  22,  22],\n",
       "       [ 63,  73,  76],\n",
       "       [ 51,  68,  73],\n",
       "       [ 61,  76,  86],\n",
       "       [ 60,  74,  85],\n",
       "       [ 56,  72,  76],\n",
       "       [ 83,  87,  94],\n",
       "       [ 63,  78,  86],\n",
       "       [ 62,  72,  82],\n",
       "       [ 51,  71,  77],\n",
       "       [ 61,  64,  78],\n",
       "       [ 55,  65,  80],\n",
       "       [ 55,  66,  76],\n",
       "       [ 64,  75,  89],\n",
       "       [ 89,  95, 101],\n",
       "       [ 61,  70,  76],\n",
       "       [ 49,  59,  68],\n",
       "       [ 74,  91, 103],\n",
       "       [ 66,  75,  89],\n",
       "       [ 65,  81,  95],\n",
       "       [ 71,  87,  99],\n",
       "       [103, 113, 131],\n",
       "       [103, 111, 123],\n",
       "       [226, 236, 243],\n",
       "       [197, 202, 215],\n",
       "       [133, 147, 148],\n",
       "       [223, 221, 224],\n",
       "       [203, 205, 212],\n",
       "       [123, 121, 132],\n",
       "       [235, 236, 241],\n",
       "       [220, 226, 228],\n",
       "       [237, 242, 247],\n",
       "       [240, 243, 247],\n",
       "       [248, 253, 253],\n",
       "       [244, 249, 249],\n",
       "       [250, 254, 254],\n",
       "       [248, 251, 250],\n",
       "       [251, 254, 252],\n",
       "       [251, 254, 253],\n",
       "       [251, 253, 253],\n",
       "       [253, 255, 255],\n",
       "       [253, 255, 255],\n",
       "       [253, 255, 255],\n",
       "       [253, 255, 255],\n",
       "       [253, 255, 255],\n",
       "       [252, 255, 255],\n",
       "       [251, 255, 254],\n",
       "       [253, 255, 255],\n",
       "       [253, 255, 255],\n",
       "       [254, 255, 255],\n",
       "       [255, 255, 255],\n",
       "       [253, 255, 255],\n",
       "       [253, 255, 255],\n",
       "       [253, 255, 255],\n",
       "       [251, 255, 255],\n",
       "       [246, 250, 252],\n",
       "       [237, 241, 242],\n",
       "       [249, 252, 253],\n",
       "       [234, 238, 240],\n",
       "       [221, 224, 227],\n",
       "       [242, 246, 247],\n",
       "       [246, 249, 250],\n",
       "       [234, 241, 243],\n",
       "       [247, 250, 252],\n",
       "       [248, 252, 254],\n",
       "       [245, 249, 249],\n",
       "       [251, 255, 255],\n",
       "       [251, 254, 254],\n",
       "       [251, 253, 253],\n",
       "       [249, 254, 253],\n",
       "       [248, 252, 252],\n",
       "       [232, 236, 237],\n",
       "       [245, 249, 249],\n",
       "       [248, 250, 250],\n",
       "       [251, 250, 253]], dtype=uint8)"
      ]
     },
     "execution_count": 35,
     "metadata": {
      "tags": []
     },
     "output_type": "execute_result"
    }
   ],
   "source": [
    "training_auto_data[1][1]"
   ]
  },
  {
   "cell_type": "code",
   "execution_count": null,
   "metadata": {
    "colab": {
     "base_uri": "https://localhost:8080/",
     "height": 340
    },
    "id": "xCHU6RR0WN1l",
    "outputId": "b473e541-e613-4b89-a409-93916ffeb4b1"
   },
   "outputs": [
    {
     "ename": "ValueError",
     "evalue": "ignored",
     "output_type": "error",
     "traceback": [
      "\u001b[0;31m---------------------------------------------------------------------------\u001b[0m",
      "\u001b[0;31mValueError\u001b[0m                                Traceback (most recent call last)",
      "\u001b[0;32m<ipython-input-39-dae392283c6b>\u001b[0m in \u001b[0;36m<module>\u001b[0;34m()\u001b[0m\n\u001b[0;32m----> 1\u001b[0;31m \u001b[0mx_train\u001b[0m\u001b[0;34m,\u001b[0m\u001b[0mx_test\u001b[0m\u001b[0;34m,\u001b[0m\u001b[0my_train\u001b[0m\u001b[0;34m,\u001b[0m\u001b[0my_test\u001b[0m \u001b[0;34m=\u001b[0m \u001b[0mtrain_test_split\u001b[0m\u001b[0;34m(\u001b[0m\u001b[0mtraining_auto_data\u001b[0m\u001b[0;34m,\u001b[0m\u001b[0mclearalllabels\u001b[0m\u001b[0;34m,\u001b[0m\u001b[0mtest_size\u001b[0m\u001b[0;34m=\u001b[0m\u001b[0;36m0.2\u001b[0m\u001b[0;34m,\u001b[0m\u001b[0mrandom_state\u001b[0m\u001b[0;34m=\u001b[0m\u001b[0;36m1\u001b[0m\u001b[0;34m,\u001b[0m\u001b[0mstratify\u001b[0m\u001b[0;34m=\u001b[0m\u001b[0mclearalllabels\u001b[0m\u001b[0;34m)\u001b[0m\u001b[0;34m\u001b[0m\u001b[0;34m\u001b[0m\u001b[0m\n\u001b[0m\u001b[1;32m      2\u001b[0m \u001b[0;34m\u001b[0m\u001b[0m\n\u001b[1;32m      3\u001b[0m \u001b[0mprint\u001b[0m\u001b[0;34m(\u001b[0m\u001b[0mx_train\u001b[0m\u001b[0;34m.\u001b[0m\u001b[0mshape\u001b[0m\u001b[0;34m,\u001b[0m\u001b[0mx_test\u001b[0m\u001b[0;34m.\u001b[0m\u001b[0mshape\u001b[0m\u001b[0;34m,\u001b[0m\u001b[0my_train\u001b[0m\u001b[0;34m.\u001b[0m\u001b[0mshape\u001b[0m\u001b[0;34m,\u001b[0m\u001b[0my_test\u001b[0m\u001b[0;34m.\u001b[0m\u001b[0mshape\u001b[0m\u001b[0;34m)\u001b[0m\u001b[0;34m\u001b[0m\u001b[0;34m\u001b[0m\u001b[0m\n",
      "\u001b[0;32m/usr/local/lib/python3.6/dist-packages/sklearn/model_selection/_split.py\u001b[0m in \u001b[0;36mtrain_test_split\u001b[0;34m(*arrays, **options)\u001b[0m\n\u001b[1;32m   2141\u001b[0m                      random_state=random_state)\n\u001b[1;32m   2142\u001b[0m \u001b[0;34m\u001b[0m\u001b[0m\n\u001b[0;32m-> 2143\u001b[0;31m         \u001b[0mtrain\u001b[0m\u001b[0;34m,\u001b[0m \u001b[0mtest\u001b[0m \u001b[0;34m=\u001b[0m \u001b[0mnext\u001b[0m\u001b[0;34m(\u001b[0m\u001b[0mcv\u001b[0m\u001b[0;34m.\u001b[0m\u001b[0msplit\u001b[0m\u001b[0;34m(\u001b[0m\u001b[0mX\u001b[0m\u001b[0;34m=\u001b[0m\u001b[0marrays\u001b[0m\u001b[0;34m[\u001b[0m\u001b[0;36m0\u001b[0m\u001b[0;34m]\u001b[0m\u001b[0;34m,\u001b[0m \u001b[0my\u001b[0m\u001b[0;34m=\u001b[0m\u001b[0mstratify\u001b[0m\u001b[0;34m)\u001b[0m\u001b[0;34m)\u001b[0m\u001b[0;34m\u001b[0m\u001b[0;34m\u001b[0m\u001b[0m\n\u001b[0m\u001b[1;32m   2144\u001b[0m \u001b[0;34m\u001b[0m\u001b[0m\n\u001b[1;32m   2145\u001b[0m     return list(chain.from_iterable((_safe_indexing(a, train),\n",
      "\u001b[0;32m/usr/local/lib/python3.6/dist-packages/sklearn/model_selection/_split.py\u001b[0m in \u001b[0;36msplit\u001b[0;34m(self, X, y, groups)\u001b[0m\n\u001b[1;32m   1327\u001b[0m         \"\"\"\n\u001b[1;32m   1328\u001b[0m         \u001b[0mX\u001b[0m\u001b[0;34m,\u001b[0m \u001b[0my\u001b[0m\u001b[0;34m,\u001b[0m \u001b[0mgroups\u001b[0m \u001b[0;34m=\u001b[0m \u001b[0mindexable\u001b[0m\u001b[0;34m(\u001b[0m\u001b[0mX\u001b[0m\u001b[0;34m,\u001b[0m \u001b[0my\u001b[0m\u001b[0;34m,\u001b[0m \u001b[0mgroups\u001b[0m\u001b[0;34m)\u001b[0m\u001b[0;34m\u001b[0m\u001b[0;34m\u001b[0m\u001b[0m\n\u001b[0;32m-> 1329\u001b[0;31m         \u001b[0;32mfor\u001b[0m \u001b[0mtrain\u001b[0m\u001b[0;34m,\u001b[0m \u001b[0mtest\u001b[0m \u001b[0;32min\u001b[0m \u001b[0mself\u001b[0m\u001b[0;34m.\u001b[0m\u001b[0m_iter_indices\u001b[0m\u001b[0;34m(\u001b[0m\u001b[0mX\u001b[0m\u001b[0;34m,\u001b[0m \u001b[0my\u001b[0m\u001b[0;34m,\u001b[0m \u001b[0mgroups\u001b[0m\u001b[0;34m)\u001b[0m\u001b[0;34m:\u001b[0m\u001b[0;34m\u001b[0m\u001b[0;34m\u001b[0m\u001b[0m\n\u001b[0m\u001b[1;32m   1330\u001b[0m             \u001b[0;32myield\u001b[0m \u001b[0mtrain\u001b[0m\u001b[0;34m,\u001b[0m \u001b[0mtest\u001b[0m\u001b[0;34m\u001b[0m\u001b[0;34m\u001b[0m\u001b[0m\n\u001b[1;32m   1331\u001b[0m \u001b[0;34m\u001b[0m\u001b[0m\n",
      "\u001b[0;32m/usr/local/lib/python3.6/dist-packages/sklearn/model_selection/_split.py\u001b[0m in \u001b[0;36m_iter_indices\u001b[0;34m(self, X, y, groups)\u001b[0m\n\u001b[1;32m   1657\u001b[0m         \u001b[0mclass_counts\u001b[0m \u001b[0;34m=\u001b[0m \u001b[0mnp\u001b[0m\u001b[0;34m.\u001b[0m\u001b[0mbincount\u001b[0m\u001b[0;34m(\u001b[0m\u001b[0my_indices\u001b[0m\u001b[0;34m)\u001b[0m\u001b[0;34m\u001b[0m\u001b[0;34m\u001b[0m\u001b[0m\n\u001b[1;32m   1658\u001b[0m         \u001b[0;32mif\u001b[0m \u001b[0mnp\u001b[0m\u001b[0;34m.\u001b[0m\u001b[0mmin\u001b[0m\u001b[0;34m(\u001b[0m\u001b[0mclass_counts\u001b[0m\u001b[0;34m)\u001b[0m \u001b[0;34m<\u001b[0m \u001b[0;36m2\u001b[0m\u001b[0;34m:\u001b[0m\u001b[0;34m\u001b[0m\u001b[0;34m\u001b[0m\u001b[0m\n\u001b[0;32m-> 1659\u001b[0;31m             raise ValueError(\"The least populated class in y has only 1\"\n\u001b[0m\u001b[1;32m   1660\u001b[0m                              \u001b[0;34m\" member, which is too few. The minimum\"\u001b[0m\u001b[0;34m\u001b[0m\u001b[0;34m\u001b[0m\u001b[0m\n\u001b[1;32m   1661\u001b[0m                              \u001b[0;34m\" number of groups for any class cannot\"\u001b[0m\u001b[0;34m\u001b[0m\u001b[0;34m\u001b[0m\u001b[0m\n",
      "\u001b[0;31mValueError\u001b[0m: The least populated class in y has only 1 member, which is too few. The minimum number of groups for any class cannot be less than 2."
     ]
    }
   ],
   "source": [
    "x_train,x_test,y_train,y_test = train_test_split(training_auto_data,clearalllabels,test_size=0.2,random_state=1,stratify=clearalllabels)\n",
    "\n",
    "print(x_train.shape,x_test.shape,y_train.shape,y_test.shape)"
   ]
  },
  {
   "cell_type": "markdown",
   "metadata": {
    "id": "iY_Qx8Ne9c77"
   },
   "source": [
    "The above error is a constraint for train test split since the samples are less"
   ]
  },
  {
   "cell_type": "markdown",
   "metadata": {
    "id": "YbgdErKkW0Pi"
   },
   "source": [
    "Lets try some image rotations to get more training samples"
   ]
  },
  {
   "cell_type": "code",
   "execution_count": null,
   "metadata": {
    "colab": {
     "base_uri": "https://localhost:8080/"
    },
    "id": "YXWOrVFlWXM1",
    "outputId": "e70d61f5-c8d4-4457-8f30-d709084ce15a"
   },
   "outputs": [
    {
     "data": {
      "text/plain": [
       "(240, 240, 3)"
      ]
     },
     "execution_count": 40,
     "metadata": {
      "tags": []
     },
     "output_type": "execute_result"
    }
   ],
   "source": [
    "training_auto_data.shape[1:]  #Dimensions of the image"
   ]
  },
  {
   "cell_type": "code",
   "execution_count": null,
   "metadata": {
    "id": "_Jtcj-OeXZM-"
   },
   "outputs": [],
   "source": [
    "x_train = training_auto_data.astype('float32') / 255"
   ]
  },
  {
   "cell_type": "code",
   "execution_count": null,
   "metadata": {
    "colab": {
     "base_uri": "https://localhost:8080/",
     "height": 285
    },
    "id": "VS7WkVvLXzwn",
    "outputId": "e4c917d1-cc3a-4b64-ddad-94229198d725"
   },
   "outputs": [
    {
     "data": {
      "text/plain": [
       "<matplotlib.image.AxesImage at 0x7fdc955dc0f0>"
      ]
     },
     "execution_count": 42,
     "metadata": {
      "tags": []
     },
     "output_type": "execute_result"
    },
    {
     "data": {
      "image/png": "[encoded data removed]",
      "text/plain": [
       "<Figure size 432x288 with 1 Axes>"
      ]
     },
     "metadata": {
      "needs_background": "light",
      "tags": []
     },
     "output_type": "display_data"
    }
   ],
   "source": [
    "plt.imshow(x_train[0])"
   ]
  },
  {
   "cell_type": "code",
   "execution_count": null,
   "metadata": {
    "id": "t4Wh6x06ZXPS"
   },
   "outputs": [],
   "source": [
    "data_generator = ImageDataGenerator(rotation_range=20,\n",
    "                                    zoom_range=0.15,\n",
    "                                    width_shift_range=0.2,\n",
    "                                    height_shift_range=0.2,\n",
    "                                    horizontal_flip=False,\n",
    "                                    vertical_flip=True,\n",
    "    )"
   ]
  },
  {
   "cell_type": "code",
   "execution_count": null,
   "metadata": {
    "id": "dK0DXrKTZdm0"
   },
   "outputs": [],
   "source": [
    "data_generator.fit(x_train) "
   ]
  },
  {
   "cell_type": "code",
   "execution_count": null,
   "metadata": {
    "colab": {
     "base_uri": "https://localhost:8080/",
     "height": 88
    },
    "id": "dWfN1_55Zke1",
    "outputId": "e87681e5-b183-4130-ef7a-5b2825d22ba8"
   },
   "outputs": [
    {
     "data": {
      "image/png": "[encoded data removed]",
      "text/plain": [
       "<Figure size 432x288 with 5 Axes>"
      ]
     },
     "metadata": {
      "needs_background": "light",
      "tags": []
     },
     "output_type": "display_data"
    }
   ],
   "source": [
    "#Augmented Images\n",
    "from matplotlib import pyplot as plt\n",
    "gen = data_generator.flow(x_train[0:1], batch_size=1)\n",
    "for i in range(1, 6):\n",
    "    plt.subplot(1,5,i)\n",
    "    plt.axis(\"off\")\n",
    "    plt.imshow(gen.next().squeeze(), cmap='gray')\n",
    "    plt.plot()\n",
    "plt.show()"
   ]
  },
  {
   "cell_type": "code",
   "execution_count": null,
   "metadata": {
    "id": "SajNd065Zom6"
   },
   "outputs": [],
   "source": [
    "tf.keras.backend.clear_session()\n",
    "#initialising sequential model\n",
    "model2 = Sequential()\n",
    "#adding 1st convolution layer with 64 filter and imput shape 240 x240x3 with relu function\n",
    "model2.add(Conv2D(filters=64, kernel_size=(3, 3), input_shape=(240, 240, 3), activation='relu'))\n",
    "#normalising batch\n",
    "model2.add(BatchNormalization(axis=3))\n",
    "#adding 2nd convolution layer with 64 filters\n",
    "model2.add(Conv2D(filters=64, kernel_size=(3, 3), activation='relu'))\n",
    "#maxpooling\n",
    "model2.add(MaxPooling2D((2, 2)))\n",
    "#normalising batch\n",
    "model2.add(BatchNormalization(axis=3))\n",
    "model2.add(Dropout(0.1))\n",
    "#adding 3rd convolution layer with 32 filters\n",
    "model2.add(Conv2D(filters=32, kernel_size=(3, 3), activation='relu'))\n",
    "#normalising batch\n",
    "model2.add(BatchNormalization(axis=3))\n",
    "#adding 4th convolution layer with 32 filters\n",
    "model2.add(Conv2D(filters=32, kernel_size=(3, 3), activation='relu'))\n",
    "#maxpooling\n",
    "model2.add(MaxPooling2D((2, 2)))\n",
    "#normalising batch\n",
    "model2.add(BatchNormalization(axis=3))\n",
    "model2.add(Dropout(0.1))\n",
    "# Global Max pooling layer\n",
    "model2.add(GlobalMaxPool2D())\n",
    "\n",
    "#flattening layer\n",
    "model2.add(Flatten())\n",
    "#Dense layer\n",
    "#adding 1 st dense layer\n",
    "model2.add(Dense(100, activation='relu'))\n",
    "model2.add(BatchNormalization())\n",
    "model2.add(Dropout(0.5))\n",
    "#adding 2 nd dense layer\n",
    "model2.add(Dense(50, activation='relu'))\n",
    "model2.add(BatchNormalization())\n",
    "model2.add(Dropout(0.5))\n",
    "#adding dense layer with same output as no of cateogries, in our case 12 category with softmax function\n",
    "model2.add(Dense(9, activation='softmax'))"
   ]
  },
  {
   "cell_type": "code",
   "execution_count": null,
   "metadata": {
    "colab": {
     "base_uri": "https://localhost:8080/"
    },
    "id": "joS3KARvayvn",
    "outputId": "86e914e8-6d8d-4c53-cc24-3e6851c56939"
   },
   "outputs": [
    {
     "name": "stdout",
     "output_type": "stream",
     "text": [
      "Model: \"sequential\"\n",
      "_________________________________________________________________\n",
      "Layer (type)                 Output Shape              Param #   \n",
      "=================================================================\n",
      "conv2d (Conv2D)              (None, 238, 238, 64)      1792      \n",
      "_________________________________________________________________\n",
      "batch_normalization (BatchNo (None, 238, 238, 64)      256       \n",
      "_________________________________________________________________\n",
      "conv2d_1 (Conv2D)            (None, 236, 236, 64)      36928     \n",
      "_________________________________________________________________\n",
      "max_pooling2d (MaxPooling2D) (None, 118, 118, 64)      0         \n",
      "_________________________________________________________________\n",
      "batch_normalization_1 (Batch (None, 118, 118, 64)      256       \n",
      "_________________________________________________________________\n",
      "dropout (Dropout)            (None, 118, 118, 64)      0         \n",
      "_________________________________________________________________\n",
      "conv2d_2 (Conv2D)            (None, 116, 116, 32)      18464     \n",
      "_________________________________________________________________\n",
      "batch_normalization_2 (Batch (None, 116, 116, 32)      128       \n",
      "_________________________________________________________________\n",
      "conv2d_3 (Conv2D)            (None, 114, 114, 32)      9248      \n",
      "_________________________________________________________________\n",
      "max_pooling2d_1 (MaxPooling2 (None, 57, 57, 32)        0         \n",
      "_________________________________________________________________\n",
      "batch_normalization_3 (Batch (None, 57, 57, 32)        128       \n",
      "_________________________________________________________________\n",
      "dropout_1 (Dropout)          (None, 57, 57, 32)        0         \n",
      "_________________________________________________________________\n",
      "global_max_pooling2d (Global (None, 32)                0         \n",
      "_________________________________________________________________\n",
      "flatten (Flatten)            (None, 32)                0         \n",
      "_________________________________________________________________\n",
      "dense (Dense)                (None, 100)               3300      \n",
      "_________________________________________________________________\n",
      "batch_normalization_4 (Batch (None, 100)               400       \n",
      "_________________________________________________________________\n",
      "dropout_2 (Dropout)          (None, 100)               0         \n",
      "_________________________________________________________________\n",
      "dense_1 (Dense)              (None, 50)                5050      \n",
      "_________________________________________________________________\n",
      "batch_normalization_5 (Batch (None, 50)                200       \n",
      "_________________________________________________________________\n",
      "dropout_3 (Dropout)          (None, 50)                0         \n",
      "_________________________________________________________________\n",
      "dense_2 (Dense)              (None, 9)                 459       \n",
      "=================================================================\n",
      "Total params: 76,609\n",
      "Trainable params: 75,925\n",
      "Non-trainable params: 684\n",
      "_________________________________________________________________\n"
     ]
    }
   ],
   "source": [
    "model2.summary()"
   ]
  },
  {
   "cell_type": "code",
   "execution_count": null,
   "metadata": {
    "id": "ei1Kwl2KcFIp"
   },
   "outputs": [],
   "source": [
    "model2.compile(optimizer='adam', loss='categorical_crossentropy', metrics=['accuracy'])"
   ]
  },
  {
   "cell_type": "code",
   "execution_count": null,
   "metadata": {
    "id": "ZL1jPntxcL4s"
   },
   "outputs": [],
   "source": [
    "#Saving the best model using model checkpoint callback\n",
    "#model2_checkpoint=tf.keras.callbacks.ModelCheckpoint('automobiles.h5', \n",
    "#                                                    save_best_only=True, \n",
    "#                                                    monitor='val_accuracy', \n",
    "#                                                    mode='max',\n",
    "#                                                    verbose=1)"
   ]
  },
  {
   "cell_type": "code",
   "execution_count": null,
   "metadata": {
    "colab": {
     "base_uri": "https://localhost:8080/"
    },
    "id": "nb1ycy7MhmgC",
    "outputId": "5bf92c6a-0930-4710-d68b-34a2d70dd7ba"
   },
   "outputs": [
    {
     "data": {
      "text/plain": [
       "(15, 240, 240, 3)"
      ]
     },
     "execution_count": 91,
     "metadata": {
      "tags": []
     },
     "output_type": "execute_result"
    }
   ],
   "source": [
    "x_train.shape"
   ]
  },
  {
   "cell_type": "code",
   "execution_count": null,
   "metadata": {
    "colab": {
     "base_uri": "https://localhost:8080/"
    },
    "id": "lk53utSRcagl",
    "outputId": "98e76ff1-ea98-4a61-b993-863b32dcdfbd"
   },
   "outputs": [
    {
     "name": "stderr",
     "output_type": "stream",
     "text": [
      "/usr/local/lib/python3.6/dist-packages/tensorflow/python/keras/engine/training.py:1844: UserWarning: `Model.fit_generator` is deprecated and will be removed in a future version. Please use `Model.fit`, which supports generators.\n",
      "  warnings.warn('`Model.fit_generator` is deprecated and '\n"
     ]
    },
    {
     "name": "stdout",
     "output_type": "stream",
     "text": [
      "Epoch 1/200\n",
      "1/1 [==============================] - 9s 9s/step - loss: 3.4449 - accuracy: 0.0667\n",
      "Epoch 2/200\n",
      "1/1 [==============================] - 7s 7s/step - loss: 4.3574 - accuracy: 0.0000e+00\n",
      "Epoch 3/200\n",
      "1/1 [==============================] - 7s 7s/step - loss: 3.8668 - accuracy: 0.1333\n",
      "Epoch 4/200\n",
      "1/1 [==============================] - 7s 7s/step - loss: 2.9604 - accuracy: 0.1333\n",
      "Epoch 5/200\n",
      "1/1 [==============================] - 7s 7s/step - loss: 3.0076 - accuracy: 0.2667\n",
      "Epoch 6/200\n",
      "1/1 [==============================] - 7s 7s/step - loss: 4.0928 - accuracy: 0.0000e+00\n",
      "Epoch 7/200\n",
      "1/1 [==============================] - 7s 7s/step - loss: 3.1413 - accuracy: 0.0667\n",
      "Epoch 8/200\n",
      "1/1 [==============================] - 7s 7s/step - loss: 3.6306 - accuracy: 0.0667\n",
      "Epoch 9/200\n",
      "1/1 [==============================] - 7s 7s/step - loss: 3.2796 - accuracy: 0.1333\n",
      "Epoch 10/200\n",
      "1/1 [==============================] - 7s 7s/step - loss: 3.1186 - accuracy: 0.2000\n",
      "Epoch 11/200\n",
      "1/1 [==============================] - 7s 7s/step - loss: 3.3322 - accuracy: 0.0000e+00\n",
      "Epoch 12/200\n",
      "1/1 [==============================] - 7s 7s/step - loss: 3.2907 - accuracy: 0.0000e+00\n",
      "Epoch 13/200\n",
      "1/1 [==============================] - 7s 7s/step - loss: 2.6671 - accuracy: 0.1333\n",
      "Epoch 14/200\n",
      "1/1 [==============================] - 7s 7s/step - loss: 3.0075 - accuracy: 0.1333\n",
      "Epoch 15/200\n",
      "1/1 [==============================] - 7s 7s/step - loss: 2.8372 - accuracy: 0.2000\n",
      "Epoch 16/200\n",
      "1/1 [==============================] - 7s 7s/step - loss: 2.6825 - accuracy: 0.1333\n",
      "Epoch 17/200\n",
      "1/1 [==============================] - 7s 7s/step - loss: 3.1445 - accuracy: 0.1333\n",
      "Epoch 18/200\n",
      "1/1 [==============================] - 7s 7s/step - loss: 2.4528 - accuracy: 0.2000\n",
      "Epoch 19/200\n",
      "1/1 [==============================] - 7s 7s/step - loss: 2.1534 - accuracy: 0.4000\n",
      "Epoch 20/200\n",
      "1/1 [==============================] - 7s 7s/step - loss: 3.8320 - accuracy: 0.0667\n",
      "Epoch 21/200\n",
      "1/1 [==============================] - 7s 7s/step - loss: 2.3933 - accuracy: 0.2667\n",
      "Epoch 22/200\n",
      "1/1 [==============================] - 7s 7s/step - loss: 2.9751 - accuracy: 0.1333\n",
      "Epoch 23/200\n",
      "1/1 [==============================] - 7s 7s/step - loss: 2.5296 - accuracy: 0.3333\n",
      "Epoch 24/200\n",
      "1/1 [==============================] - 7s 7s/step - loss: 2.8825 - accuracy: 0.2667\n",
      "Epoch 25/200\n",
      "1/1 [==============================] - 7s 7s/step - loss: 2.6413 - accuracy: 0.3333\n",
      "Epoch 26/200\n",
      "1/1 [==============================] - 7s 7s/step - loss: 3.1312 - accuracy: 0.0667\n",
      "Epoch 27/200\n",
      "1/1 [==============================] - 7s 7s/step - loss: 2.4937 - accuracy: 0.1333\n",
      "Epoch 28/200\n",
      "1/1 [==============================] - 7s 7s/step - loss: 3.0704 - accuracy: 0.0667\n",
      "Epoch 29/200\n",
      "1/1 [==============================] - 7s 7s/step - loss: 3.2223 - accuracy: 0.0000e+00\n",
      "Epoch 30/200\n",
      "1/1 [==============================] - 7s 7s/step - loss: 3.3040 - accuracy: 0.1333\n",
      "Epoch 31/200\n",
      "1/1 [==============================] - 7s 7s/step - loss: 2.9633 - accuracy: 0.1333\n",
      "Epoch 32/200\n",
      "1/1 [==============================] - 7s 7s/step - loss: 3.0375 - accuracy: 0.0667\n",
      "Epoch 33/200\n",
      "1/1 [==============================] - 7s 7s/step - loss: 2.8924 - accuracy: 0.1333\n",
      "Epoch 34/200\n",
      "1/1 [==============================] - 7s 7s/step - loss: 2.1191 - accuracy: 0.2667\n",
      "Epoch 35/200\n",
      "1/1 [==============================] - 7s 7s/step - loss: 2.4097 - accuracy: 0.3333\n",
      "Epoch 36/200\n",
      "1/1 [==============================] - 7s 7s/step - loss: 3.3000 - accuracy: 0.1333\n",
      "Epoch 37/200\n",
      "1/1 [==============================] - 7s 7s/step - loss: 2.4582 - accuracy: 0.0667\n",
      "Epoch 38/200\n",
      "1/1 [==============================] - 7s 7s/step - loss: 2.6258 - accuracy: 0.3333\n",
      "Epoch 39/200\n",
      "1/1 [==============================] - 7s 7s/step - loss: 2.2195 - accuracy: 0.0667\n",
      "Epoch 40/200\n",
      "1/1 [==============================] - 7s 7s/step - loss: 2.8969 - accuracy: 0.2000\n",
      "Epoch 41/200\n",
      "1/1 [==============================] - 7s 7s/step - loss: 3.4040 - accuracy: 0.0000e+00\n",
      "Epoch 42/200\n",
      "1/1 [==============================] - 7s 7s/step - loss: 1.8828 - accuracy: 0.2000\n",
      "Epoch 43/200\n",
      "1/1 [==============================] - 7s 7s/step - loss: 2.2985 - accuracy: 0.2000\n",
      "Epoch 44/200\n",
      "1/1 [==============================] - 7s 7s/step - loss: 2.2569 - accuracy: 0.2667\n",
      "Epoch 45/200\n",
      "1/1 [==============================] - 7s 7s/step - loss: 2.3821 - accuracy: 0.0667\n",
      "Epoch 46/200\n",
      "1/1 [==============================] - 7s 7s/step - loss: 2.3228 - accuracy: 0.0667\n",
      "Epoch 47/200\n",
      "1/1 [==============================] - 7s 7s/step - loss: 2.7689 - accuracy: 0.1333\n",
      "Epoch 48/200\n",
      "1/1 [==============================] - 7s 7s/step - loss: 1.8635 - accuracy: 0.4000\n",
      "Epoch 49/200\n",
      "1/1 [==============================] - 7s 7s/step - loss: 2.4748 - accuracy: 0.2667\n",
      "Epoch 50/200\n",
      "1/1 [==============================] - 7s 7s/step - loss: 2.5908 - accuracy: 0.2667\n",
      "Epoch 51/200\n",
      "1/1 [==============================] - 7s 7s/step - loss: 1.9668 - accuracy: 0.3333\n",
      "Epoch 52/200\n",
      "1/1 [==============================] - 7s 7s/step - loss: 3.2642 - accuracy: 0.0667\n",
      "Epoch 53/200\n",
      "1/1 [==============================] - 7s 7s/step - loss: 2.6164 - accuracy: 0.1333\n",
      "Epoch 54/200\n",
      "1/1 [==============================] - 7s 7s/step - loss: 2.4291 - accuracy: 0.2667\n",
      "Epoch 55/200\n",
      "1/1 [==============================] - 7s 7s/step - loss: 2.1021 - accuracy: 0.3333\n",
      "Epoch 56/200\n",
      "1/1 [==============================] - 7s 7s/step - loss: 1.9538 - accuracy: 0.2667\n",
      "Epoch 57/200\n",
      "1/1 [==============================] - 7s 7s/step - loss: 2.0332 - accuracy: 0.2667\n",
      "Epoch 58/200\n",
      "1/1 [==============================] - 7s 7s/step - loss: 2.2702 - accuracy: 0.1333\n",
      "Epoch 59/200\n",
      "1/1 [==============================] - 7s 7s/step - loss: 1.7519 - accuracy: 0.4000\n",
      "Epoch 60/200\n",
      "1/1 [==============================] - 7s 7s/step - loss: 2.0315 - accuracy: 0.3333\n",
      "Epoch 61/200\n",
      "1/1 [==============================] - 7s 7s/step - loss: 1.9114 - accuracy: 0.2667\n",
      "Epoch 62/200\n",
      "1/1 [==============================] - 7s 7s/step - loss: 1.8149 - accuracy: 0.2667\n",
      "Epoch 63/200\n",
      "1/1 [==============================] - 7s 7s/step - loss: 2.2286 - accuracy: 0.1333\n",
      "Epoch 64/200\n",
      "1/1 [==============================] - 7s 7s/step - loss: 2.2676 - accuracy: 0.3333\n",
      "Epoch 65/200\n",
      "1/1 [==============================] - 7s 7s/step - loss: 2.2513 - accuracy: 0.2000\n",
      "Epoch 66/200\n",
      "1/1 [==============================] - 7s 7s/step - loss: 2.1640 - accuracy: 0.2000\n",
      "Epoch 67/200\n",
      "1/1 [==============================] - 7s 7s/step - loss: 1.8544 - accuracy: 0.4000\n",
      "Epoch 68/200\n",
      "1/1 [==============================] - 7s 7s/step - loss: 1.7225 - accuracy: 0.4667\n",
      "Epoch 69/200\n",
      "1/1 [==============================] - 7s 7s/step - loss: 1.7900 - accuracy: 0.3333\n",
      "Epoch 70/200\n",
      "1/1 [==============================] - 7s 7s/step - loss: 2.1693 - accuracy: 0.2667\n",
      "Epoch 71/200\n",
      "1/1 [==============================] - 7s 7s/step - loss: 2.5878 - accuracy: 0.2000\n",
      "Epoch 72/200\n",
      "1/1 [==============================] - 7s 7s/step - loss: 2.6473 - accuracy: 0.2000\n",
      "Epoch 73/200\n",
      "1/1 [==============================] - 7s 7s/step - loss: 2.0528 - accuracy: 0.2667\n",
      "Epoch 74/200\n",
      "1/1 [==============================] - 7s 7s/step - loss: 1.8609 - accuracy: 0.4000\n",
      "Epoch 75/200\n",
      "1/1 [==============================] - 7s 7s/step - loss: 1.7201 - accuracy: 0.5333\n",
      "Epoch 76/200\n",
      "1/1 [==============================] - 7s 7s/step - loss: 1.6708 - accuracy: 0.5333\n",
      "Epoch 77/200\n",
      "1/1 [==============================] - 7s 7s/step - loss: 2.0487 - accuracy: 0.2667\n",
      "Epoch 78/200\n",
      "1/1 [==============================] - 7s 7s/step - loss: 1.8329 - accuracy: 0.4667\n",
      "Epoch 79/200\n",
      "1/1 [==============================] - 7s 7s/step - loss: 2.1369 - accuracy: 0.2000\n",
      "Epoch 80/200\n",
      "1/1 [==============================] - 7s 7s/step - loss: 1.7988 - accuracy: 0.2667\n",
      "Epoch 81/200\n",
      "1/1 [==============================] - 7s 7s/step - loss: 2.5571 - accuracy: 0.2000\n",
      "Epoch 82/200\n",
      "1/1 [==============================] - 7s 7s/step - loss: 2.2870 - accuracy: 0.3333\n",
      "Epoch 83/200\n",
      "1/1 [==============================] - 7s 7s/step - loss: 2.1728 - accuracy: 0.2667\n",
      "Epoch 84/200\n",
      "1/1 [==============================] - 7s 7s/step - loss: 1.6081 - accuracy: 0.4000\n",
      "Epoch 85/200\n",
      "1/1 [==============================] - 7s 7s/step - loss: 1.3615 - accuracy: 0.4667\n",
      "Epoch 86/200\n",
      "1/1 [==============================] - 7s 7s/step - loss: 2.4317 - accuracy: 0.2667\n",
      "Epoch 87/200\n",
      "1/1 [==============================] - 7s 7s/step - loss: 1.4226 - accuracy: 0.6000\n",
      "Epoch 88/200\n",
      "1/1 [==============================] - 7s 7s/step - loss: 1.6644 - accuracy: 0.4000\n",
      "Epoch 89/200\n",
      "1/1 [==============================] - 7s 7s/step - loss: 1.5437 - accuracy: 0.4000\n",
      "Epoch 90/200\n",
      "1/1 [==============================] - 7s 7s/step - loss: 1.9787 - accuracy: 0.2667\n",
      "Epoch 91/200\n",
      "1/1 [==============================] - 7s 7s/step - loss: 1.6043 - accuracy: 0.4667\n",
      "Epoch 92/200\n",
      "1/1 [==============================] - 7s 7s/step - loss: 2.1818 - accuracy: 0.2000\n",
      "Epoch 93/200\n",
      "1/1 [==============================] - 7s 7s/step - loss: 2.0325 - accuracy: 0.5333\n",
      "Epoch 94/200\n",
      "1/1 [==============================] - 7s 7s/step - loss: 1.3950 - accuracy: 0.7333\n",
      "Epoch 95/200\n",
      "1/1 [==============================] - 7s 7s/step - loss: 1.8795 - accuracy: 0.5333\n",
      "Epoch 96/200\n",
      "1/1 [==============================] - 7s 7s/step - loss: 1.1766 - accuracy: 0.7333\n",
      "Epoch 97/200\n",
      "1/1 [==============================] - 7s 7s/step - loss: 1.1505 - accuracy: 0.6667\n",
      "Epoch 98/200\n",
      "1/1 [==============================] - 7s 7s/step - loss: 1.4788 - accuracy: 0.5333\n",
      "Epoch 99/200\n",
      "1/1 [==============================] - 7s 7s/step - loss: 1.8347 - accuracy: 0.3333\n",
      "Epoch 100/200\n",
      "1/1 [==============================] - 7s 7s/step - loss: 1.3706 - accuracy: 0.4667\n",
      "Epoch 101/200\n",
      "1/1 [==============================] - 7s 7s/step - loss: 2.0189 - accuracy: 0.4667\n",
      "Epoch 102/200\n",
      "1/1 [==============================] - 7s 7s/step - loss: 1.4532 - accuracy: 0.4667\n",
      "Epoch 103/200\n",
      "1/1 [==============================] - 7s 7s/step - loss: 1.5297 - accuracy: 0.3333\n",
      "Epoch 104/200\n",
      "1/1 [==============================] - 7s 7s/step - loss: 1.3937 - accuracy: 0.5333\n",
      "Epoch 105/200\n",
      "1/1 [==============================] - 7s 7s/step - loss: 1.2827 - accuracy: 0.4667\n",
      "Epoch 106/200\n",
      "1/1 [==============================] - 7s 7s/step - loss: 1.4004 - accuracy: 0.4000\n",
      "Epoch 107/200\n",
      "1/1 [==============================] - 7s 7s/step - loss: 1.0489 - accuracy: 0.6000\n",
      "Epoch 108/200\n",
      "1/1 [==============================] - 7s 7s/step - loss: 1.1012 - accuracy: 0.5333\n",
      "Epoch 109/200\n",
      "1/1 [==============================] - 7s 7s/step - loss: 1.1436 - accuracy: 0.6667\n",
      "Epoch 110/200\n",
      "1/1 [==============================] - 7s 7s/step - loss: 1.1772 - accuracy: 0.6000\n",
      "Epoch 111/200\n",
      "1/1 [==============================] - 7s 7s/step - loss: 1.3173 - accuracy: 0.6000\n",
      "Epoch 112/200\n",
      "1/1 [==============================] - 7s 7s/step - loss: 1.2468 - accuracy: 0.4000\n",
      "Epoch 113/200\n",
      "1/1 [==============================] - 7s 7s/step - loss: 1.1148 - accuracy: 0.4667\n",
      "Epoch 114/200\n",
      "1/1 [==============================] - 7s 7s/step - loss: 1.2920 - accuracy: 0.5333\n",
      "Epoch 115/200\n",
      "1/1 [==============================] - 7s 7s/step - loss: 1.3924 - accuracy: 0.5333\n",
      "Epoch 116/200\n",
      "1/1 [==============================] - 7s 7s/step - loss: 1.4003 - accuracy: 0.4000\n",
      "Epoch 117/200\n",
      "1/1 [==============================] - 7s 7s/step - loss: 1.3885 - accuracy: 0.5333\n",
      "Epoch 118/200\n",
      "1/1 [==============================] - 7s 7s/step - loss: 1.3028 - accuracy: 0.6000\n",
      "Epoch 119/200\n",
      "1/1 [==============================] - 7s 7s/step - loss: 1.5143 - accuracy: 0.2667\n",
      "Epoch 120/200\n",
      "1/1 [==============================] - 7s 7s/step - loss: 1.3078 - accuracy: 0.6667\n",
      "Epoch 121/200\n",
      "1/1 [==============================] - 7s 7s/step - loss: 1.5068 - accuracy: 0.5333\n",
      "Epoch 122/200\n",
      "1/1 [==============================] - 7s 7s/step - loss: 0.8647 - accuracy: 0.7333\n",
      "Epoch 123/200\n",
      "1/1 [==============================] - 7s 7s/step - loss: 1.3812 - accuracy: 0.5333\n",
      "Epoch 124/200\n",
      "1/1 [==============================] - 7s 7s/step - loss: 1.5201 - accuracy: 0.4000\n",
      "Epoch 125/200\n",
      "1/1 [==============================] - 7s 7s/step - loss: 1.1091 - accuracy: 0.6667\n",
      "Epoch 126/200\n",
      "1/1 [==============================] - 7s 7s/step - loss: 1.0027 - accuracy: 0.6667\n",
      "Epoch 127/200\n",
      "1/1 [==============================] - 7s 7s/step - loss: 1.0835 - accuracy: 0.6000\n",
      "Epoch 128/200\n",
      "1/1 [==============================] - 7s 7s/step - loss: 1.4220 - accuracy: 0.4667\n",
      "Epoch 129/200\n",
      "1/1 [==============================] - 7s 7s/step - loss: 1.6041 - accuracy: 0.5333\n",
      "Epoch 130/200\n",
      "1/1 [==============================] - 7s 7s/step - loss: 1.2014 - accuracy: 0.4667\n",
      "Epoch 131/200\n",
      "1/1 [==============================] - 7s 7s/step - loss: 1.3201 - accuracy: 0.4667\n",
      "Epoch 132/200\n",
      "1/1 [==============================] - 7s 7s/step - loss: 1.6338 - accuracy: 0.4667\n",
      "Epoch 133/200\n",
      "1/1 [==============================] - 7s 7s/step - loss: 1.2457 - accuracy: 0.4667\n",
      "Epoch 134/200\n",
      "1/1 [==============================] - 7s 7s/step - loss: 1.6425 - accuracy: 0.3333\n",
      "Epoch 135/200\n",
      "1/1 [==============================] - 7s 7s/step - loss: 1.0648 - accuracy: 0.6000\n",
      "Epoch 136/200\n",
      "1/1 [==============================] - 7s 7s/step - loss: 1.0324 - accuracy: 0.7333\n",
      "Epoch 137/200\n",
      "1/1 [==============================] - 7s 7s/step - loss: 1.4875 - accuracy: 0.5333\n",
      "Epoch 138/200\n",
      "1/1 [==============================] - 7s 7s/step - loss: 1.0220 - accuracy: 0.6667\n",
      "Epoch 139/200\n",
      "1/1 [==============================] - 7s 7s/step - loss: 1.3334 - accuracy: 0.6000\n",
      "Epoch 140/200\n",
      "1/1 [==============================] - 7s 7s/step - loss: 1.4260 - accuracy: 0.6000\n",
      "Epoch 141/200\n",
      "1/1 [==============================] - 7s 7s/step - loss: 0.9403 - accuracy: 0.7333\n",
      "Epoch 142/200\n",
      "1/1 [==============================] - 7s 7s/step - loss: 0.8730 - accuracy: 0.8000\n",
      "Epoch 143/200\n",
      "1/1 [==============================] - 7s 7s/step - loss: 1.3839 - accuracy: 0.4667\n",
      "Epoch 144/200\n",
      "1/1 [==============================] - 7s 7s/step - loss: 0.7755 - accuracy: 0.7333\n",
      "Epoch 145/200\n",
      "1/1 [==============================] - 7s 7s/step - loss: 1.2961 - accuracy: 0.6000\n",
      "Epoch 146/200\n",
      "1/1 [==============================] - 7s 7s/step - loss: 1.0603 - accuracy: 0.6667\n",
      "Epoch 147/200\n",
      "1/1 [==============================] - 7s 7s/step - loss: 0.8418 - accuracy: 0.7333\n",
      "Epoch 148/200\n",
      "1/1 [==============================] - 7s 7s/step - loss: 1.2101 - accuracy: 0.5333\n",
      "Epoch 149/200\n",
      "1/1 [==============================] - 7s 7s/step - loss: 1.0499 - accuracy: 0.6000\n",
      "Epoch 150/200\n",
      "1/1 [==============================] - 7s 7s/step - loss: 0.9953 - accuracy: 0.7333\n",
      "Epoch 151/200\n",
      "1/1 [==============================] - 7s 7s/step - loss: 0.9815 - accuracy: 0.6667\n",
      "Epoch 152/200\n",
      "1/1 [==============================] - 7s 7s/step - loss: 1.2557 - accuracy: 0.5333\n",
      "Epoch 153/200\n",
      "1/1 [==============================] - 7s 7s/step - loss: 1.3292 - accuracy: 0.5333\n",
      "Epoch 154/200\n",
      "1/1 [==============================] - 7s 7s/step - loss: 0.9344 - accuracy: 0.6667\n",
      "Epoch 155/200\n",
      "1/1 [==============================] - 7s 7s/step - loss: 0.7600 - accuracy: 0.8000\n",
      "Epoch 156/200\n",
      "1/1 [==============================] - 7s 7s/step - loss: 1.0439 - accuracy: 0.7333\n",
      "Epoch 157/200\n",
      "1/1 [==============================] - 7s 7s/step - loss: 0.9999 - accuracy: 0.7333\n",
      "Epoch 158/200\n",
      "1/1 [==============================] - 7s 7s/step - loss: 1.0041 - accuracy: 0.7333\n",
      "Epoch 159/200\n",
      "1/1 [==============================] - 7s 7s/step - loss: 0.7604 - accuracy: 0.7333\n",
      "Epoch 160/200\n",
      "1/1 [==============================] - 7s 7s/step - loss: 1.2101 - accuracy: 0.5333\n",
      "Epoch 161/200\n",
      "1/1 [==============================] - 7s 7s/step - loss: 1.1047 - accuracy: 0.6000\n",
      "Epoch 162/200\n",
      "1/1 [==============================] - 7s 7s/step - loss: 0.9734 - accuracy: 0.6667\n",
      "Epoch 163/200\n",
      "1/1 [==============================] - 7s 7s/step - loss: 0.7027 - accuracy: 0.8000\n",
      "Epoch 164/200\n",
      "1/1 [==============================] - 7s 7s/step - loss: 1.3040 - accuracy: 0.6000\n",
      "Epoch 165/200\n",
      "1/1 [==============================] - 7s 7s/step - loss: 0.9432 - accuracy: 0.7333\n",
      "Epoch 166/200\n",
      "1/1 [==============================] - 7s 7s/step - loss: 0.8042 - accuracy: 0.7333\n",
      "Epoch 167/200\n",
      "1/1 [==============================] - 7s 7s/step - loss: 1.0748 - accuracy: 0.6667\n",
      "Epoch 168/200\n",
      "1/1 [==============================] - 7s 7s/step - loss: 1.1440 - accuracy: 0.6000\n",
      "Epoch 169/200\n",
      "1/1 [==============================] - 7s 7s/step - loss: 0.7230 - accuracy: 0.8667\n",
      "Epoch 170/200\n",
      "1/1 [==============================] - 7s 7s/step - loss: 0.8177 - accuracy: 0.8667\n",
      "Epoch 171/200\n",
      "1/1 [==============================] - 7s 7s/step - loss: 0.9176 - accuracy: 0.6667\n",
      "Epoch 172/200\n",
      "1/1 [==============================] - 7s 7s/step - loss: 0.6079 - accuracy: 0.8667\n",
      "Epoch 173/200\n",
      "1/1 [==============================] - 7s 7s/step - loss: 0.7503 - accuracy: 0.7333\n",
      "Epoch 174/200\n",
      "1/1 [==============================] - 7s 7s/step - loss: 0.5606 - accuracy: 0.8000\n",
      "Epoch 175/200\n",
      "1/1 [==============================] - 7s 7s/step - loss: 0.9599 - accuracy: 0.7333\n",
      "Epoch 176/200\n",
      "1/1 [==============================] - 7s 7s/step - loss: 0.9540 - accuracy: 0.7333\n",
      "Epoch 177/200\n",
      "1/1 [==============================] - 7s 7s/step - loss: 0.8747 - accuracy: 0.6000\n",
      "Epoch 178/200\n",
      "1/1 [==============================] - 7s 7s/step - loss: 0.5675 - accuracy: 0.8000\n",
      "Epoch 179/200\n",
      "1/1 [==============================] - 7s 7s/step - loss: 1.3577 - accuracy: 0.6667\n",
      "Epoch 180/200\n",
      "1/1 [==============================] - 7s 7s/step - loss: 0.8368 - accuracy: 0.7333\n",
      "Epoch 181/200\n",
      "1/1 [==============================] - 7s 7s/step - loss: 0.8598 - accuracy: 0.7333\n",
      "Epoch 182/200\n",
      "1/1 [==============================] - 7s 7s/step - loss: 0.4368 - accuracy: 0.8000\n",
      "Epoch 183/200\n",
      "1/1 [==============================] - 7s 7s/step - loss: 0.9042 - accuracy: 0.7333\n",
      "Epoch 184/200\n",
      "1/1 [==============================] - 7s 7s/step - loss: 0.7160 - accuracy: 0.7333\n",
      "Epoch 185/200\n",
      "1/1 [==============================] - 7s 7s/step - loss: 0.4493 - accuracy: 0.8667\n",
      "Epoch 186/200\n",
      "1/1 [==============================] - 7s 7s/step - loss: 0.6411 - accuracy: 0.8667\n",
      "Epoch 187/200\n",
      "1/1 [==============================] - 7s 7s/step - loss: 0.5745 - accuracy: 0.7333\n",
      "Epoch 188/200\n",
      "1/1 [==============================] - 7s 7s/step - loss: 0.5493 - accuracy: 0.8667\n",
      "Epoch 189/200\n",
      "1/1 [==============================] - 7s 7s/step - loss: 0.9864 - accuracy: 0.7333\n",
      "Epoch 190/200\n",
      "1/1 [==============================] - 7s 7s/step - loss: 0.9447 - accuracy: 0.7333\n",
      "Epoch 191/200\n",
      "1/1 [==============================] - 7s 7s/step - loss: 0.7969 - accuracy: 0.7333\n",
      "Epoch 192/200\n",
      "1/1 [==============================] - 7s 7s/step - loss: 0.4354 - accuracy: 0.8667\n",
      "Epoch 193/200\n",
      "1/1 [==============================] - 7s 7s/step - loss: 1.0639 - accuracy: 0.6000\n",
      "Epoch 194/200\n",
      "1/1 [==============================] - 7s 7s/step - loss: 0.4447 - accuracy: 0.8667\n",
      "Epoch 195/200\n",
      "1/1 [==============================] - 7s 7s/step - loss: 0.7622 - accuracy: 0.8667\n",
      "Epoch 196/200\n",
      "1/1 [==============================] - 7s 7s/step - loss: 0.9121 - accuracy: 0.7333\n",
      "Epoch 197/200\n",
      "1/1 [==============================] - 7s 7s/step - loss: 0.7591 - accuracy: 0.6667\n",
      "Epoch 198/200\n",
      "1/1 [==============================] - 7s 7s/step - loss: 0.6082 - accuracy: 0.8000\n",
      "Epoch 199/200\n",
      "1/1 [==============================] - 7s 7s/step - loss: 0.8724 - accuracy: 0.6667\n",
      "Epoch 200/200\n",
      "1/1 [==============================] - 7s 7s/step - loss: 0.7548 - accuracy: 0.7333\n"
     ]
    }
   ],
   "source": [
    "model_history=model2.fit_generator(data_generator.flow(x_train,clearalllabels,batch_size=16),epochs=200)\n",
    "      #    callbacks=model_checkpoint)\n",
    "          #validation_data=(x_test,y_test),callbacks=model_checkpoint)"
   ]
  },
  {
   "cell_type": "code",
   "execution_count": null,
   "metadata": {
    "colab": {
     "base_uri": "https://localhost:8080/"
    },
    "id": "qHDqHB_Jcvvf",
    "outputId": "95431e04-d1bb-4954-d678-b7026048b908"
   },
   "outputs": [
    {
     "name": "stdout",
     "output_type": "stream",
     "text": [
      "1/1 [==============================] - 2s 2s/step - loss: 2.5982 - accuracy: 0.4000\n",
      "Train score: 2.5981931686401367    Train accuracy: 0.4000000059604645\n"
     ]
    }
   ],
   "source": [
    "#Final score and accuracy of the model\n",
    "score1, acc1 = model2.evaluate(x_train,clearalllabels)\n",
    "print('Train score:', score1,'   Train accuracy:',acc1)"
   ]
  },
  {
   "cell_type": "markdown",
   "metadata": {
    "id": "RNwWVoseq61L"
   },
   "source": [
    "Training accuracy is 40% only since the training data in each class is very very less. Test and prod accuracy would still be worser with the given data"
   ]
  }
 ],
 "metadata": {
  "colab": {
   "collapsed_sections": [],
   "name": "CNN Project1 Seedling Classification v1.ipynb",
   "provenance": []
  },
  "kernelspec": {
   "display_name": "Python 3",
   "language": "python",
   "name": "python3"
  },
  "language_info": {
   "codemirror_mode": {
    "name": "ipython",
    "version": 3
   },
   "file_extension": ".py",
   "mimetype": "text/x-python",
   "name": "python",
   "nbconvert_exporter": "python",
   "pygments_lexer": "ipython3",
   "version": "3.7.4"
  }
 },
 "nbformat": 4,
 "nbformat_minor": 1
}
